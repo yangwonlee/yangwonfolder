{
 "cells": [
  {
   "cell_type": "code",
   "execution_count": 1,
   "metadata": {},
   "outputs": [],
   "source": [
    "# 내장함수. print len str등\n",
    "\n",
    "# abs\n",
    "\n"
   ]
  },
  {
   "cell_type": "code",
   "execution_count": 16,
   "metadata": {},
   "outputs": [
    {
     "data": {
      "text/plain": [
       "1.2"
      ]
     },
     "execution_count": 16,
     "metadata": {},
     "output_type": "execute_result"
    }
   ],
   "source": [
    "#abs 함수 abs(x)는 어떤 숫자를 입력받았을 때 그 숫자의 절댓값을 리턴하는 함수이다.\n",
    "\n",
    "abs(3)\n",
    "\n",
    "abs(-3)\n",
    "\n",
    "abs(-1.2)\n"
   ]
  },
  {
   "cell_type": "code",
   "execution_count": 5,
   "metadata": {},
   "outputs": [
    {
     "data": {
      "text/plain": [
       "'가'"
      ]
     },
     "execution_count": 5,
     "metadata": {},
     "output_type": "execute_result"
    }
   ],
   "source": [
    "# chr 함수\n",
    "# chr(i)는 유니코드 숫자 값을 입력받아 그 코드에 해당하는 문자를 리턴하는 함수이다.\n",
    "\n",
    "# 유니코드는 전 세계의 모든 문자를 컴퓨터에서 일관되게 표현하고 다룰 수 있도록 설계된 산업 표준 코드이다\n",
    "\n",
    "chr(97)\n",
    "'a'\n",
    "chr(44032)\n",
    "'가'"
   ]
  },
  {
   "cell_type": "code",
   "execution_count": 17,
   "metadata": {},
   "outputs": [
    {
     "data": {
      "text/plain": [
       "['clear', 'copy', 'get', 'has_key', 'items', 'keys', Ellipsis]"
      ]
     },
     "execution_count": 17,
     "metadata": {},
     "output_type": "execute_result"
    }
   ],
   "source": [
    "# dir은 객체가 지닌 변수나 함수를 보여 주는 함수이다. 다음 예는 리스트와 딕셔너리가 지닌 함수(메서드)를 보여 주는 예이다. 우리가 02장에서 살펴본 함수들을 구경할 수 있다.\n",
    "\n",
    "dir([1, 2, 3])\n",
    "['append', 'count', 'extend', 'index', 'insert', 'pop',...]\n",
    "dir({'1':'a'})\n",
    "['clear', 'copy', 'get', 'has_key', 'items', 'keys',...]"
   ]
  },
  {
   "cell_type": "code",
   "execution_count": 2,
   "metadata": {},
   "outputs": [
    {
     "name": "stdout",
     "output_type": "stream",
     "text": [
      "body 0\n",
      "foo 1\n",
      "0 body\n",
      "1 foo\n",
      "2 bar\n"
     ]
    }
   ],
   "source": [
    "# enumerate # 중요.\n",
    "i = 0\n",
    "for name in ['body', 'foo']:\n",
    "    print(name, i)\n",
    "    i += 1\n",
    "\n",
    "for i, name in enumerate(['body', 'foo', 'bar']):\n",
    "    print(i, name)"
   ]
  },
  {
   "cell_type": "code",
   "execution_count": 10,
   "metadata": {},
   "outputs": [
    {
     "data": {
      "text/plain": [
       "(1, 1)"
      ]
     },
     "execution_count": 10,
     "metadata": {},
     "output_type": "execute_result"
    }
   ],
   "source": [
    "# eval (이발)\n",
    "eval('1+2')\n",
    "eval(\"'hi'+ 'a'\")\n",
    "\n",
    "eval('divmod(4,3)') # 문자열로 구성된 표현식 그대로 계산해줌"
   ]
  },
  {
   "cell_type": "code",
   "execution_count": 14,
   "metadata": {},
   "outputs": [
    {
     "name": "stdout",
     "output_type": "stream",
     "text": [
      "[2, 4, 6, 8]\n"
     ]
    },
    {
     "data": {
      "text/plain": [
       "[2, 4, 6, 8]"
      ]
     },
     "execution_count": 14,
     "metadata": {},
     "output_type": "execute_result"
    }
   ],
   "source": [
    "#filter. 걸러준다. 자바함수에선 이미 다 만들어 졌기 떄문에 편의기능이 없음. 일단 스킵. 자바할때.\n",
    "# 헥스 안씀. 아이디 인풋 인트 다 했음.\n",
    "# 랭쓰 중요\n",
    "#맵 중요. 리스트도. 맵 안했음 중요. 이너멀레이트보다 더 중요. 딕셔너리랑 비슷함.\n",
    "def two_times(numberList):\n",
    "    result = []\n",
    "    for number in numberList:\n",
    "        result.append(number*2)\n",
    "    return result\n",
    "\n",
    "result = two_times([1, 2, 3, 4])    # 2 4 6 8\n",
    "print(result)\n",
    "\n",
    "def two_times(x):\n",
    "    return x*2\n",
    "# mpa 함수는 인수로 받은 원소 개수만큼 two_times 함수를 통해 새로운 값으로 변경\n",
    "list(map(two_times, [1, 2, 3, 4]))"
   ]
  },
  {
   "cell_type": "code",
   "execution_count": 15,
   "metadata": {},
   "outputs": [],
   "source": [
    "# 람다 안씀. 맥스 민 잘안씀. 악토는 팔진수 오픈도 배웠고. 바이너리도 나중에. 책하나 더 받으면.\n",
    "# 오알디함수. chr함수와 반대로 동작하는 것. pow는 거듭제곱. 라운드는 반올림. 다들 엑셀에서 쓰이는 함수와 비슷.\n",
    "# zip은 안씀. "
   ]
  },
  {
   "cell_type": "code",
   "execution_count": null,
   "metadata": {},
   "outputs": [],
   "source": []
  }
 ],
 "metadata": {
  "kernelspec": {
   "display_name": "Python 3",
   "language": "python",
   "name": "python3"
  },
  "language_info": {
   "codemirror_mode": {
    "name": "ipython",
    "version": 3
   },
   "file_extension": ".py",
   "mimetype": "text/x-python",
   "name": "python",
   "nbconvert_exporter": "python",
   "pygments_lexer": "ipython3",
   "version": "3.11.9"
  }
 },
 "nbformat": 4,
 "nbformat_minor": 2
}
