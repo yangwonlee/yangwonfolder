{
 "cells": [
  {
   "cell_type": "code",
   "execution_count": 2,
   "metadata": {},
   "outputs": [
    {
     "name": "stdout",
     "output_type": "stream",
     "text": [
      "516\n",
      "<class 'builtin_function_or_method'>\n",
      "['__abs__', '__add__', '__bool__', '__class__', '__delattr__', '__dir__', '__divmod__', '__doc__', '__eq__', '__floordiv__', '__format__', '__ge__', '__getattribute__', '__getstate__', '__gt__', '__hash__', '__init__', '__init_subclass__', '__le__', '__lt__', '__mod__', '__mul__', '__ne__', '__neg__', '__new__', '__pos__', '__radd__', '__rdivmod__', '__reduce__', '__reduce_ex__', '__repr__', '__rfloordiv__', '__rmod__', '__rmul__', '__rsub__', '__rtruediv__', '__setattr__', '__sizeof__', '__str__', '__sub__', '__subclasshook__', '__truediv__', 'days', 'max', 'microseconds', 'min', 'resolution', 'seconds', 'total_seconds']\n"
     ]
    }
   ],
   "source": [
    "# 표준 라이브러리. time 이 중요. 6월달에 나눠주는 책에 좀 중요한게 있음. 시간이 중요한데, 프로그램을 짤 때 시간에\n",
    "#의존해서 개발하는게 많음. 어떤 시간일때 뭘하라 등. \n",
    "# 데이트타임.데이트는, 2021.12.14일날 사귀었을때 2023. 5.14일은 며칠째 사귄날이고 무슨요일이냐? 할때 구하기 쉬움.\n",
    "\n",
    "import datetime\n",
    "day1 = datetime.date(2021, 12, 14)\n",
    "day2 = datetime.date(2023, 5, 14)\n",
    "\n",
    "diff = day2 - day1\n",
    "print(diff.days)\n",
    "print(type(diff.total_seconds))\n",
    "\n",
    "print(dir(diff))"
   ]
  },
  {
   "cell_type": "code",
   "execution_count": 4,
   "metadata": {},
   "outputs": [
    {
     "name": "stdout",
     "output_type": "stream",
     "text": [
      "477\n",
      "weekday3 1\n",
      "weekday4 0\n",
      "weekday5 6\n",
      "['__add__', '__class__', '__delattr__', '__dir__', '__doc__', '__eq__', '__format__', '__ge__', '__getattribute__', '__getstate__', '__gt__', '__hash__', '__init__', '__init_subclass__', '__le__', '__lt__', '__ne__', '__new__', '__radd__', '__reduce__', '__reduce_ex__', '__repr__', '__rsub__', '__setattr__', '__sizeof__', '__str__', '__sub__', '__subclasshook__', 'ctime', 'day', 'fromisocalendar', 'fromisoformat', 'fromordinal', 'fromtimestamp', 'isocalendar', 'isoformat', 'isoweekday', 'max', 'min', 'month', 'replace', 'resolution', 'strftime', 'timetuple', 'today', 'toordinal', 'weekday', 'year']\n",
      "['__abs__', '__add__', '__bool__', '__class__', '__delattr__', '__dir__', '__divmod__', '__doc__', '__eq__', '__floordiv__', '__format__', '__ge__', '__getattribute__', '__getstate__', '__gt__', '__hash__', '__init__', '__init_subclass__', '__le__', '__lt__', '__mod__', '__mul__', '__ne__', '__neg__', '__new__', '__pos__', '__radd__', '__rdivmod__', '__reduce__', '__reduce_ex__', '__repr__', '__rfloordiv__', '__rmod__', '__rmul__', '__rsub__', '__rtruediv__', '__setattr__', '__sizeof__', '__str__', '__sub__', '__subclasshook__', '__truediv__', 'days', 'max', 'microseconds', 'min', 'resolution', 'seconds', 'total_seconds']\n"
     ]
    }
   ],
   "source": [
    "import datetime\n",
    "day1 = datetime.date(2021, 12, 14)\n",
    "day2 = datetime.date(2023, 4, 5)\n",
    "\n",
    "day3 = datetime.date(2024, 5, 21)\n",
    "day4 = datetime.date(2024, 5, 20)\n",
    "day5 = datetime.date(2024, 5, 19)\n",
    "\n",
    "\n",
    "\n",
    "diff = day2 - day1\n",
    "print(diff.days)\n",
    "# print(type(diff.total_seconds))   # 0~6 -> 0 MONDAY 1 튜스데이 등등 중국어같이.\n",
    "\n",
    "print('weekday3', day3.weekday())\n",
    "print('weekday4', day4.weekday())\n",
    "print('weekday5', day5.weekday())\n",
    "\n",
    "\n",
    "print(dir(day1))\n",
    "print(dir(diff))"
   ]
  },
  {
   "cell_type": "code",
   "execution_count": 7,
   "metadata": {},
   "outputs": [
    {
     "name": "stdout",
     "output_type": "stream",
     "text": [
      "1716259748.1090462\n",
      "time.struct_time(tm_year=2024, tm_mon=5, tm_mday=21, tm_hour=11, tm_min=49, tm_sec=8, tm_wday=1, tm_yday=142, tm_isdst=0)\n",
      "Tue May 21 11:49:08 2024\n"
     ]
    }
   ],
   "source": [
    "import time\n",
    "print(time.time()) # 현재시간 - 1970. 1.1 .0시 0분 0초. 세계 표준시각 제정당초 \n",
    "print(time.localtime(time.time()))  \n",
    "print(time.asctime(time.localtime(time.time())))    # 알기 쉽게.\n",
    "# 한글화 시키는것은 챗gpt에게 물어보자."
   ]
  },
  {
   "cell_type": "code",
   "execution_count": null,
   "metadata": {},
   "outputs": [],
   "source": [
    "# 매스 이터레이트 안쓰고 오에스, 제이슨 잘쓰고 유알라이브러리 웹브라우자 잘씀. 특히 마지막 두개는 크롤링할때 잘씀. 다음달에\n",
    "# 파이썬 프로젝트할때 잘 씀. pip는 자주 씀. 왜? 많이 쓰여서. 명령어. 핍이라고도 읽음.\n",
    "#ㅃ 핍은 파이썬 모듈이나 패키지를 쉽게 설지할 수 있게 도와주는 도구. "
   ]
  }
 ],
 "metadata": {
  "kernelspec": {
   "display_name": "Python 3",
   "language": "python",
   "name": "python3"
  },
  "language_info": {
   "codemirror_mode": {
    "name": "ipython",
    "version": 3
   },
   "file_extension": ".py",
   "mimetype": "text/x-python",
   "name": "python",
   "nbconvert_exporter": "python",
   "pygments_lexer": "ipython3",
   "version": "3.11.9"
  }
 },
 "nbformat": 4,
 "nbformat_minor": 2
}
