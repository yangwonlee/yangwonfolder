{
 "cells": [
  {
   "cell_type": "code",
   "execution_count": 1,
   "metadata": {},
   "outputs": [
    {
     "name": "stdout",
     "output_type": "stream",
     "text": [
      "Richard Knight\n"
     ]
    }
   ],
   "source": [
    "# 외부 라이브러리 Faker 사용해보기.\n",
    "# 사전작업 -> pip install Faker # 외부 라이브러리 Faker 설치.\n",
    "# 뷰- 터미널 누르고 밑에 터미널에 pip -V를 눌러 버젼 확인. 그 이후 pip install 엔터하면 설치.\n",
    "from faker import Faker\n",
    "\n",
    "# pip uninstall Faker 하면 지울 수 있음.\n",
    "\n",
    "fake = Faker()\n",
    "print(fake.name())"
   ]
  },
  {
   "cell_type": "code",
   "execution_count": 6,
   "metadata": {},
   "outputs": [
    {
     "name": "stdout",
     "output_type": "stream",
     "text": [
      "이수민\n",
      "경상북도 당진시 영동대거리 (도윤강읍)\n"
     ]
    }
   ],
   "source": [
    "fake = Faker('ko-KR')\n",
    "print(fake.name())\n",
    "print(fake.address())"
   ]
  },
  {
   "cell_type": "code",
   "execution_count": null,
   "metadata": {},
   "outputs": [],
   "source": [
    "#sympy는 이미 다운 되어있음.\n",
    "\n",
    "# //끝"
   ]
  }
 ],
 "metadata": {
  "kernelspec": {
   "display_name": "Python 3",
   "language": "python",
   "name": "python3"
  },
  "language_info": {
   "codemirror_mode": {
    "name": "ipython",
    "version": 3
   },
   "file_extension": ".py",
   "mimetype": "text/x-python",
   "name": "python",
   "nbconvert_exporter": "python",
   "pygments_lexer": "ipython3",
   "version": "3.11.9"
  }
 },
 "nbformat": 4,
 "nbformat_minor": 2
}
