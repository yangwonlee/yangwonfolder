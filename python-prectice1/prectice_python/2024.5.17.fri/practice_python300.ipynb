{
 "cells": [
  {
   "cell_type": "code",
   "execution_count": 5,
   "metadata": {},
   "outputs": [
    {
     "ename": "SyntaxError",
     "evalue": "invalid syntax. Perhaps you forgot a comma? (3873820013.py, line 2)",
     "output_type": "error",
     "traceback": [
      "\u001b[1;36m  Cell \u001b[1;32mIn[5], line 2\u001b[1;36m\u001b[0m\n\u001b[1;33m    print((\"first\"), print(\"second\") end = \";\")\u001b[0m\n\u001b[1;37m                     ^\u001b[0m\n\u001b[1;31mSyntaxError\u001b[0m\u001b[1;31m:\u001b[0m invalid syntax. Perhaps you forgot a comma?\n"
     ]
    }
   ],
   "source": [
    "# 300제 파이썬. 문제 9 print 줄바꿈.\n",
    "print((\"first\"), print(\"second\") end = \";\") # 틀린 이유: 감도 못잡았음.\n"
   ]
  },
  {
   "cell_type": "code",
   "execution_count": 6,
   "metadata": {},
   "outputs": [
    {
     "name": "stdout",
     "output_type": "stream",
     "text": [
      "firstsecond\n"
     ]
    }
   ],
   "source": [
    "# 문제 9 정답.\n",
    "print(\"first\", end=\"\"); print(\"second\") # 세미콜론 (;)은 한줄에 여러 개의 명령을 작성하기 위해 사용."
   ]
  },
  {
   "cell_type": "code",
   "execution_count": 8,
   "metadata": {},
   "outputs": [
    {
     "name": "stdout",
     "output_type": "stream",
     "text": [
      "1.6666666666666667\n"
     ]
    }
   ],
   "source": [
    "# 300제 파이썬. 문제 10. 연산 결과 출력\n",
    "print(5/3)\n",
    "    # 정답."
   ]
  },
  {
   "cell_type": "code",
   "execution_count": 11,
   "metadata": {},
   "outputs": [
    {
     "name": "stdout",
     "output_type": "stream",
     "text": [
      "Hello world\n"
     ]
    }
   ],
   "source": [
    "# 1번부터 다시 시작하기. 1. 프린트 기초.\n",
    "print('Hello world')\n",
    "# 정답 "
   ]
  },
  {
   "cell_type": "code",
   "execution_count": 10,
   "metadata": {},
   "outputs": [
    {
     "name": "stdout",
     "output_type": "stream",
     "text": [
      "Mary's cosmetic\n"
     ]
    }
   ],
   "source": [
    "# 300제 파이썬 문제 2. 프린트 기초\n",
    "print(\"Mary's cosmetic\")\n",
    "# 정답"
   ]
  },
  {
   "cell_type": "code",
   "execution_count": 13,
   "metadata": {},
   "outputs": [
    {
     "name": "stdout",
     "output_type": "stream",
     "text": [
      "신씨고 소리질렀다.\"도둑이야\"\n"
     ]
    }
   ],
   "source": [
    "# 300제 문제 3번. 프린트 기초.\n",
    "print('신씨고 소리질렀다.\"도둑이야\"')\n",
    "# 정답"
   ]
  },
  {
   "cell_type": "code",
   "execution_count": 1,
   "metadata": {},
   "outputs": [
    {
     "name": "stdout",
     "output_type": "stream",
     "text": [
      "c:\\Windows\n"
     ]
    }
   ],
   "source": [
    "# 300제 문제 4번. 프린트 기초.\n",
    "print(\"c:\\Windows\")\n",
    "# 정답"
   ]
  },
  {
   "cell_type": "code",
   "execution_count": 2,
   "metadata": {},
   "outputs": [
    {
     "name": "stdout",
     "output_type": "stream",
     "text": [
      "안녕하세요.\n",
      "만나서\t\t반갑습니다.\n"
     ]
    }
   ],
   "source": [
    "# 300제 문제 5번. 프린트 탭과 줄바꿈.\n",
    "print(\"안녕하세요.\\n만나서\\t\\t반갑습니다.\") # 네. 줄바꿈, 탭입니다\n",
    "\n",
    "# 정답"
   ]
  },
  {
   "cell_type": "code",
   "execution_count": 3,
   "metadata": {},
   "outputs": [
    {
     "name": "stdout",
     "output_type": "stream",
     "text": [
      "오늘은 일요일\n"
     ]
    }
   ],
   "source": [
    "# 문제 6\n",
    "print(\"오늘은\",\"일요일\") # 붙여서 이어서 나올듯. 틀림. 답은 오늘은 다음에 공백임. 쉼표는 구분해주는 것"
   ]
  },
  {
   "cell_type": "code",
   "execution_count": 7,
   "metadata": {},
   "outputs": [
    {
     "name": "stdout",
     "output_type": "stream",
     "text": [
      "naver;kakao;sk;samsung\n"
     ]
    }
   ],
   "source": [
    "# 문제 7 \n",
    "print(\"naver\",\"kakao\",\"sk\",\"samsung\",sep=\";\")\n",
    "# 정답. 다시금 말하지만 sep인자로 \";\"를 입력하면 출력되는 값들 사이에 한칸의 공백대신 세미콜론이 출력. 빈칸 만들려면\" \"\n",
    " "
   ]
  },
  {
   "cell_type": "code",
   "execution_count": 17,
   "metadata": {},
   "outputs": [
    {
     "ename": "SyntaxError",
     "evalue": "invalid syntax. Perhaps you forgot a comma? (1546302967.py, line 2)",
     "output_type": "error",
     "traceback": [
      "\u001b[1;36m  Cell \u001b[1;32mIn[17], line 2\u001b[1;36m\u001b[0m\n\u001b[1;33m    print(\"naver\",\"kakao\",\"sk\",\"samsung\" sep=\"/\")\u001b[0m\n\u001b[1;37m                               ^\u001b[0m\n\u001b[1;31mSyntaxError\u001b[0m\u001b[1;31m:\u001b[0m invalid syntax. Perhaps you forgot a comma?\n"
     ]
    }
   ],
   "source": [
    "# 문제 8.\n",
    "print(\"naver\",\"kakao\",\"sk\",\"samsung\" sep=\"/\") # 오답"
   ]
  },
  {
   "cell_type": "code",
   "execution_count": 18,
   "metadata": {},
   "outputs": [
    {
     "name": "stdout",
     "output_type": "stream",
     "text": [
      "naver/kakao/samsung\n"
     ]
    }
   ],
   "source": [
    "# 문제 8 정답.\n",
    "print(\"naver\", \"kakao\", \"sk\", \"samsung\", sep=\"/\") # 셉 앞에 콤마가 빠짐."
   ]
  },
  {
   "cell_type": "code",
   "execution_count": 21,
   "metadata": {},
   "outputs": [
    {
     "ename": "SyntaxError",
     "evalue": "positional argument follows keyword argument (397880622.py, line 2)",
     "output_type": "error",
     "traceback": [
      "\u001b[1;36m  Cell \u001b[1;32mIn[21], line 2\u001b[1;36m\u001b[0m\n\u001b[1;33m    print(\"first\", end=\";\", print(\"second\"))\u001b[0m\n\u001b[1;37m                                           ^\u001b[0m\n\u001b[1;31mSyntaxError\u001b[0m\u001b[1;31m:\u001b[0m positional argument follows keyword argument\n"
     ]
    }
   ],
   "source": [
    "# 문제 9\n",
    "print(\"first\", end=\";\", print(\"second\"))    #오답"
   ]
  },
  {
   "cell_type": "code",
   "execution_count": 24,
   "metadata": {},
   "outputs": [
    {
     "name": "stdout",
     "output_type": "stream",
     "text": [
      "first\n",
      "second\n"
     ]
    }
   ],
   "source": [
    "# 문제9 정답\n",
    "print(\"first\"); print(\"second\")\n",
    "# 세미콜론이 빠지면 오류가 남.\n",
    "# end=\"\"가 빠지면 줄바꿈처리가 됨.\n",
    "# first\n",
    "# second 로. 즉 end=\"\"는 줄바꿈을 막아주는 것. 끝에 띄어쓰기를 하지 말라는 뜻 같다.\n",
    "# 다시 또 봐야함. 9번 특히 다시 계속 풀어보자. 엔드랑 셒이 헷갈림."
   ]
  },
  {
   "cell_type": "code",
   "execution_count": 26,
   "metadata": {},
   "outputs": [
    {
     "name": "stdout",
     "output_type": "stream",
     "text": [
      "1.6666666666666667\n"
     ]
    }
   ],
   "source": [
    "# 문제 10.\n",
    "print(5/3)  #정답"
   ]
  },
  {
   "cell_type": "code",
   "execution_count": 35,
   "metadata": {},
   "outputs": [
    {
     "ename": "SyntaxError",
     "evalue": "invalid syntax (3074896837.py, line 2)",
     "output_type": "error",
     "traceback": [
      "\u001b[1;36m  Cell \u001b[1;32mIn[35], line 2\u001b[1;36m\u001b[0m\n\u001b[1;33m    삼성전자= (\"주식\":50,000, \"개수\": 10)\u001b[0m\n\u001b[1;37m               ^\u001b[0m\n\u001b[1;31mSyntaxError\u001b[0m\u001b[1;31m:\u001b[0m invalid syntax\n"
     ]
    }
   ],
   "source": [
    "# 문제 11. 변수사용하기.\n",
    "삼성전자= (\"주식\":50,000, \"개수\": 10)\n",
    "print(삼성전자) # 오답."
   ]
  },
  {
   "cell_type": "code",
   "execution_count": 39,
   "metadata": {},
   "outputs": [
    {
     "name": "stdout",
     "output_type": "stream",
     "text": [
      "500000\n"
     ]
    }
   ],
   "source": [
    "#11번 답\n",
    "삼성전자 = 50000\n",
    "총평가금액= 삼성전자 * 10\n",
    "print(총평가금액)   # 띄어쓰기 하지 말고. 바인딩의 뜻은 어떤 코드에서 함수를 호출할 때 \n",
    "#그 해당 함수가 위치한 메모리 주소로 연결해주는 것을 의미. 50000원을 바인딩하라는건 삼전에 50000을 넣으라는 뜻.\n",
    "#바인딩의 뜻도 정확히 몰랐고. 어떻게 하라는지도 몰랐음. 계속 풀어보자."
   ]
  },
  {
   "cell_type": "code",
   "execution_count": 40,
   "metadata": {},
   "outputs": [],
   "source": [
    "# 12번 변수사용하기.\n",
    "시가총액 = 298\n",
    "현재가 = 50000\n",
    "PER = 15.79"
   ]
  },
  {
   "cell_type": "code",
   "execution_count": 41,
   "metadata": {},
   "outputs": [
    {
     "name": "stdout",
     "output_type": "stream",
     "text": [
      "298000000000000 <class 'int'>\n",
      "50000 <class 'int'>\n",
      "15.79 <class 'float'>\n"
     ]
    }
   ],
   "source": [
    "# 12번 답.\n",
    "시가총액 = 298000000000000\n",
    "현재가 = 50000\n",
    "PER = 15.79\n",
    "print(시가총액, type(시가총액))\n",
    "print(현재가, type(현재가))\n",
    "print(PER, type(PER))       # 298조 라니까 0을 끝까지 붙였어야 했고, 뒤에 타입은 왜붙였는지 모르겠다."
   ]
  },
  {
   "cell_type": "code",
   "execution_count": 49,
   "metadata": {},
   "outputs": [
    {
     "name": "stdout",
     "output_type": "stream",
     "text": [
      "hello! python\n"
     ]
    }
   ],
   "source": [
    "# 문제 13. 문자열 출력\n",
    "s = \"hello!\"\n",
    "t = \"python\"\n",
    "\n",
    "print(s , t)\n",
    "\n",
    "# 오답 hello를 건드리지 말았어야 함. 또한 쉼표는 띄어쓰기를 담당하는 것이니, +를 통해서 느낌표를 더했어야 했음.\n",
    "# 추가적으로 느낌표에도 \"\"가 가능."
   ]
  },
  {
   "cell_type": "code",
   "execution_count": 50,
   "metadata": {},
   "outputs": [
    {
     "name": "stdout",
     "output_type": "stream",
     "text": [
      "hello! python\n"
     ]
    }
   ],
   "source": [
    "# 문제 13 답. \n",
    "s = \"hello\"\n",
    "t = \"python\"\n",
    "print(s+\"!\", t)"
   ]
  },
  {
   "cell_type": "code",
   "execution_count": 51,
   "metadata": {},
   "outputs": [
    {
     "data": {
      "text/plain": [
       "8"
      ]
     },
     "execution_count": 51,
     "metadata": {},
     "output_type": "execute_result"
    }
   ],
   "source": [
    "# 문제 14. 파이썬을 이용한 값 계산\n",
    "2 + 2 * 3 # 의 결과는 8 정답."
   ]
  },
  {
   "cell_type": "code",
   "execution_count": 54,
   "metadata": {},
   "outputs": [
    {
     "name": "stdout",
     "output_type": "stream",
     "text": [
      "<class 'int'>\n"
     ]
    }
   ],
   "source": [
    "# 문제 15.\n",
    "a = 128\n",
    "print (type(a))"
   ]
  },
  {
   "cell_type": "code",
   "execution_count": 55,
   "metadata": {},
   "outputs": [
    {
     "name": "stdout",
     "output_type": "stream",
     "text": [
      "<class 'str'>\n"
     ]
    }
   ],
   "source": [
    "a = \"132\"\n",
    "print (type(a)) # 문자열 타입. str"
   ]
  },
  {
   "cell_type": "code",
   "execution_count": 3,
   "metadata": {},
   "outputs": [
    {
     "name": "stdout",
     "output_type": "stream",
     "text": [
      "720\n"
     ]
    }
   ],
   "source": [
    "# 문제 16. 문자열을 정수로 변환.\n",
    "# 문자열 '720'을 정수형으로 변환해보시오\n",
    "num_str = int(\"720\")\n",
    "print(num_str)      # 답은 맞았지만 풀이는 틀림"
   ]
  },
  {
   "cell_type": "code",
   "execution_count": 5,
   "metadata": {},
   "outputs": [
    {
     "name": "stdout",
     "output_type": "stream",
     "text": [
      "721 <class 'int'>\n"
     ]
    }
   ],
   "source": [
    "# 문제 16. 답\n",
    "num_str = \"720\"\n",
    "num_int = int(num_str)\n",
    "print(num_int+1, type(num_int)) \n",
    "# 오답노트: 형을 변화시켜야 하니 type가 나오는게 맞음. 또 문자열 720이랬으니 먼저 정하는게맞고."
   ]
  },
  {
   "cell_type": "code",
   "execution_count": 15,
   "metadata": {},
   "outputs": [
    {
     "name": "stdout",
     "output_type": "stream",
     "text": [
      "<class 'type'>\n"
     ]
    }
   ],
   "source": [
    "# 문제 17. 정수를 문자열 100으로 변환\n",
    "num = 100\n",
    "str(100)\n",
    "print(type(str))\n",
    "#오답"
   ]
  },
  {
   "cell_type": "code",
   "execution_count": 18,
   "metadata": {},
   "outputs": [
    {
     "name": "stdout",
     "output_type": "stream",
     "text": [
      "100 <class 'str'>\n"
     ]
    }
   ],
   "source": [
    "# 문제 17 답.\n",
    "num = 100\n",
    "result = str(num)\n",
    "print(result, type(result))\n",
    "# 오답노트. result값이 처음 등장. result는? 호출자에게 값을 반환한다는 뜻."
   ]
  },
  {
   "cell_type": "code",
   "execution_count": 21,
   "metadata": {},
   "outputs": [
    {
     "name": "stdout",
     "output_type": "stream",
     "text": [
      "<class 'float'>\n"
     ]
    }
   ],
   "source": [
    "# 문제 18. 문자열을 실수로 변환\n",
    "# 문자열 \"15.79\"를 실수 타입으로 변환하시오\n",
    "a = \"15.79\"\n",
    "result = float(a)\n",
    "print(type(float (a)))"
   ]
  },
  {
   "cell_type": "code",
   "execution_count": 23,
   "metadata": {},
   "outputs": [
    {
     "name": "stdout",
     "output_type": "stream",
     "text": [
      "15.79 <class 'float'>\n"
     ]
    }
   ],
   "source": [
    "# 문제 18. 답\n",
    "data = \"15.79\"\n",
    "data = float(data)\n",
    "print(data, type(data))\n",
    "# 오답노트. data의 뜻은? 저장되는 데이터 종류에는 여러 타입이 있는데 이를 자료형타입이라 함. 정수형실수형문자열리스트등.\n",
    "# 그중 data는? 수치화 시킬 수 있는 모든 것. 데이터를 프린트하고, 데이터의 타입을 치시오. 라는 뜻. \n",
    "# 이는 a로바꿔도됨. 그냥 함수이름이 데이터인것임."
   ]
  },
  {
   "cell_type": "code",
   "execution_count": 33,
   "metadata": {},
   "outputs": [
    {
     "name": "stdout",
     "output_type": "stream",
     "text": [
      "2020 <class 'int'>\n",
      "2019\n",
      "2018\n",
      "2017\n"
     ]
    }
   ],
   "source": [
    "# 문제 19. 문자열을 정수로 변환\n",
    "year = \"2020\"\n",
    "year = int(year)\n",
    "print(year, type(year)) # 아직 형 변환을 자유자재로 못함. 아직도 위에걸 보고 해야함. 잘한다 병신년아\n",
    "\n",
    "print(year -1)\n",
    "print(year -2)\n",
    "print(year -3)"
   ]
  },
  {
   "cell_type": "code",
   "execution_count": 34,
   "metadata": {},
   "outputs": [
    {
     "name": "stdout",
     "output_type": "stream",
     "text": [
      "2017\n",
      "2018\n",
      "2019\n"
     ]
    }
   ],
   "source": [
    "#문제 19 답\n",
    "year = \"2020\"\n",
    "print(int(year)-3)  # 대충 답이 비슷한데?? 부분 정답 처리해줄게. 50점\n",
    "print(int(year)-2)\n",
    "print(int(year)-1)"
   ]
  },
  {
   "cell_type": "code",
   "execution_count": 35,
   "metadata": {},
   "outputs": [
    {
     "data": {
      "text/plain": [
       "1749024"
      ]
     },
     "execution_count": 35,
     "metadata": {},
     "output_type": "execute_result"
    }
   ],
   "source": [
    "# 문제 20. 파이썬 계산\n",
    "ac = 48584\n",
    "ac * 36"
   ]
  },
  {
   "cell_type": "code",
   "execution_count": 1,
   "metadata": {},
   "outputs": [
    {
     "name": "stdout",
     "output_type": "stream",
     "text": [
      "1749024\n"
     ]
    }
   ],
   "source": [
    "# 문제 20 답\n",
    "월 = 48584\n",
    "총금액 = 월* 36\n",
    "print(총금액)       # 프린트를 하지 않아도 되지 않았을까?? 총금액등 함수이름을 적진 않았지만 괜찮은듯?? 50점."
   ]
  },
  {
   "cell_type": "code",
   "execution_count": 6,
   "metadata": {},
   "outputs": [
    {
     "name": "stdout",
     "output_type": "stream",
     "text": [
      "p\n",
      "t\n"
     ]
    }
   ],
   "source": [
    "# 문제 21. 문자열 인덱싱\n",
    "# letters가 바인딩하는 문자열에서 첫번째와 세번째 문자를 출력하시오\n",
    "letters = 'python'\n",
    "print(letters[0])\n",
    "print(letters[2])"
   ]
  },
  {
   "cell_type": "code",
   "execution_count": 7,
   "metadata": {},
   "outputs": [
    {
     "name": "stdout",
     "output_type": "stream",
     "text": [
      "p t\n"
     ]
    }
   ],
   "source": [
    "# 문제 21 정답\n",
    "lang = 'python'\n",
    "print(lang[0], lang[2]) #맞은듯"
   ]
  },
  {
   "cell_type": "code",
   "execution_count": 10,
   "metadata": {},
   "outputs": [
    {
     "data": {
      "text/plain": [
       "'2210'"
      ]
     },
     "execution_count": 10,
     "metadata": {},
     "output_type": "execute_result"
    }
   ],
   "source": [
    "# 문제 22. 문자열 슬라이싱\n",
    "# 자동차 번호가 다음과 같을 때 뒤에 4자리만 출력하세요\n",
    "license_plate = \"24가 2210\"\n",
    "\n",
    "license_plate [4:]"
   ]
  },
  {
   "cell_type": "code",
   "execution_count": 11,
   "metadata": {},
   "outputs": [
    {
     "name": "stdout",
     "output_type": "stream",
     "text": [
      "2210\n"
     ]
    }
   ],
   "source": [
    "# 문제 22. 답\n",
    "license_plate = \"24가 2210\"\n",
    "print(license_plate[-4:])   # 프린트를 입력하지 않았음. "
   ]
  },
  {
   "cell_type": "code",
   "execution_count": 25,
   "metadata": {},
   "outputs": [
    {
     "name": "stdout",
     "output_type": "stream",
     "text": [
      "홀홀홀\n"
     ]
    }
   ],
   "source": [
    "# 문제 23. 문자열 인덱싱\n",
    "# 아래의 문자열에서 '홀'만 출력하세요\n",
    "string =\"홀짝홀짝홀짝\"\n",
    "print(string[0],string[2],string[4], sep =\"\")"
   ]
  },
  {
   "cell_type": "code",
   "execution_count": 26,
   "metadata": {},
   "outputs": [
    {
     "name": "stdout",
     "output_type": "stream",
     "text": [
      "홀홀홀\n"
     ]
    }
   ],
   "source": [
    "# 문제 23. 정답\n",
    "string = \"홀짝홀짝홀짝\"\n",
    "print(string[::2])  # 슬라이싱 할 때 '시작인덱스:끝인덱스:오프셋'을 지정할 수 있음.\n",
    "# 더 신식인듯."
   ]
  },
  {
   "cell_type": "code",
   "execution_count": null,
   "metadata": {},
   "outputs": [],
   "source": [
    "# 문제 24. 문자열 슬라이싱\n",
    "# 문자열을 거꾸로 뒤집어 출력하세요.\n",
    "string = \"PYTHON\""
   ]
  }
 ],
 "metadata": {
  "kernelspec": {
   "display_name": "Python 3",
   "language": "python",
   "name": "python3"
  },
  "language_info": {
   "codemirror_mode": {
    "name": "ipython",
    "version": 3
   },
   "file_extension": ".py",
   "mimetype": "text/x-python",
   "name": "python",
   "nbconvert_exporter": "python",
   "pygments_lexer": "ipython3",
   "version": "3.11.9"
  }
 },
 "nbformat": 4,
 "nbformat_minor": 2
}
