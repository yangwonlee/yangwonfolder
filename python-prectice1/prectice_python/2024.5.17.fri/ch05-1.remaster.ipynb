{
 "cells": [
  {
   "cell_type": "code",
   "execution_count": 1,
   "metadata": {},
   "outputs": [],
   "source": [
    "# 파이썬은 크롤링을 주로 함. 데이터를 긁는다는 것. 주로 웹페이지를 긁음.\n",
    "#5-7까지 하면 380페이지중 300페이지까지 한 셈. 50퍼센트정도가 쓰임. 머신러닝 딥러닝도. ai할때도.\n",
    "# ai를 배우기 위해선 텐서플로우와 파이토치가 필요. 이들은 파이썬으로 이뤄짐.\n",
    "# 근데 이걸하려면 웹개발, 수학지식, 미적분등을 알아야 함.\n",
    "# 크롤링 웹개발 머신러닝을 주로한다고. 파이썬으론. \n",
    "# 현역에선 파이썬 웹 프레임워크는 인기가 없음. 사장되고 죽어감. 이 파이썬보단 자바가 더 인기가 많음. 무신사도 파이썬으로.\n",
    "# 아무래도 크롤링은 아이디어가 나왔을때 유용함. ex술 정보. 술을 제공해주는 사이트. 이걸 크롤링해서 자기사이트로 사용.\n"
   ]
  },
  {
   "cell_type": "code",
   "execution_count": 2,
   "metadata": {},
   "outputs": [],
   "source": [
    "# 파이썬 날개달기. 5-1 클래스. c언어 제외하고 이름만 좀 다를뿐 다 다룰 수 있음.\n",
    "# 단번에 이해는 어렵고 흐름을 익혀라. 프로젝트할때 차차 이해하시고.\n"
   ]
  },
  {
   "cell_type": "code",
   "execution_count": 12,
   "metadata": {},
   "outputs": [
    {
     "ename": "IndentationError",
     "evalue": "unexpected indent (239002868.py, line 29)",
     "output_type": "error",
     "traceback": [
      "\u001b[1;36m  Cell \u001b[1;32mIn[12], line 29\u001b[1;36m\u001b[0m\n\u001b[1;33m    self.result = 0     #result 변수를 0으로 초기화. 반드시 셀프가 있어야 함. 없으면 에러. 이는 규칙. 인덴테이션 두번.\u001b[0m\n\u001b[1;37m    ^\u001b[0m\n\u001b[1;31mIndentationError\u001b[0m\u001b[1;31m:\u001b[0m unexpected indent\n"
     ]
    }
   ],
   "source": [
    "# 클래스 학습\n",
    "# calculator1.py\n",
    "result = 0  # 초기 값 고정. 0으로\n",
    "\n",
    "def add(num):\n",
    "    global result\n",
    "    result += num   # 결괏값(result)에 입력값(num 더하기)\n",
    "    return result   # 결괏값 리턴\n",
    "\n",
    "# 두대의 계산기를 만든다면? calculator2.py\n",
    "\n",
    "result1 = 0\n",
    "result2 = 0\n",
    "\n",
    "def add2(num): # 계산기2\n",
    "    global result2\n",
    "    result2 += num\n",
    "    return result2\n",
    "\n",
    "print(add(3))   # 0 + 3->3\n",
    "print(add(4))   # 3 + 4 -> 7. 초기 결과값 0이니까\n",
    "print(add2(3))  # 0 + 3 ->3\n",
    "print(add2(7))  # 3 + 7 -> 10\n",
    "\n",
    "# calculator3.py\n",
    "# calculator 클래스 생성\n",
    "class Calculator:       # 계산기는 대문자시작이 암묵적인 룰. 그리고 :도\n",
    "    def__init__(self):  #(언더바 두개) 생성자(변수를 초기화해주는 것)와 비슷한 역할. \n",
    "        self.result = 0     #result 변수를 0으로 초기화. 반드시 셀프가 있어야 함. 없으면 에러. 이는 규칙. 인덴테이션 두번.\n",
    "    \n",
    "    def add(self, num):     # add 일반함수. 이것들은 class라는 작업지시서. 붕어빵 틀과 같음.\n",
    "        self.result = self.result + num\n",
    "        return self.result\n",
    "    \n",
    "    #칼큘레이터는 부모. 자식은 이닛이랑 에드. 부모안에 자식 이닛이랑 에드가 있음. 에드라는 가이드. 초기생성 가이드.\n",
    "\n",
    "cal1 = Calaulator()    # 객체 생성(실제 붕어빵)\n",
    "cal2 = Calculator() #별도의 공통된 함수를 만들어 그것에 관한 객체를 만들어서, 객체 칼1이라는 변수에 함수를 담음.\n",
    "#이러면 물량만 표준가이드에 맞게 클래스를 이용가능.\n",
    "\n",
    "cal1.add(3)       # .은 함수를 부르는 기준. 함수는 무조건 .붙인다 몇트째 적냐\n",
    "# class Calculator 안에 있는 add함수를 호출\n",
    "print(a)"
   ]
  },
  {
   "cell_type": "code",
   "execution_count": null,
   "metadata": {},
   "outputs": [],
   "source": []
  }
 ],
 "metadata": {
  "kernelspec": {
   "display_name": "Python 3",
   "language": "python",
   "name": "python3"
  },
  "language_info": {
   "codemirror_mode": {
    "name": "ipython",
    "version": 3
   },
   "file_extension": ".py",
   "mimetype": "text/x-python",
   "name": "python",
   "nbconvert_exporter": "python",
   "pygments_lexer": "ipython3",
   "version": "3.11.9"
  }
 },
 "nbformat": 4,
 "nbformat_minor": 2
}
