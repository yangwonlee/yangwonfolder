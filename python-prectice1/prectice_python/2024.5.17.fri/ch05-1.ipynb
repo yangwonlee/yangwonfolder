{
 "cells": [
  {
   "cell_type": "code",
   "execution_count": 4,
   "metadata": {},
   "outputs": [
    {
     "name": "stdout",
     "output_type": "stream",
     "text": [
      "3\n",
      "7\n",
      "3\n",
      "10\n"
     ]
    },
    {
     "ename": "NameError",
     "evalue": "name 'Calaulator' is not defined",
     "output_type": "error",
     "traceback": [
      "\u001b[1;31m---------------------------------------------------------------------------\u001b[0m",
      "\u001b[1;31mNameError\u001b[0m                                 Traceback (most recent call last)",
      "Cell \u001b[1;32mIn[4], line 41\u001b[0m\n\u001b[0;32m     37\u001b[0m         \u001b[38;5;28;01mreturn\u001b[39;00m \u001b[38;5;28mself\u001b[39m\u001b[38;5;241m.\u001b[39mresult\n\u001b[0;32m     39\u001b[0m     \u001b[38;5;66;03m#칼큘레이터는 부모. 자식은 이닛이랑 에드. 부모안에 자식 이닛이랑 에드가 있음. 에드라는 가이드. 초기생성 가이드.\u001b[39;00m\n\u001b[1;32m---> 41\u001b[0m cal1 \u001b[38;5;241m=\u001b[39m \u001b[43mCalaulator\u001b[49m()    \u001b[38;5;66;03m# 객체 생성(실제 붕어빵)\u001b[39;00m\n\u001b[0;32m     42\u001b[0m cal2 \u001b[38;5;241m=\u001b[39m Calculator() \u001b[38;5;66;03m#별도의 공통된 함수를 만들어 그것에 관한 객체를 만들어서, 객체 칼1이라는 변수에 함수를 담음.\u001b[39;00m\n\u001b[0;32m     43\u001b[0m \u001b[38;5;66;03m#이러면 물량만 표준가이드에 맞게 클래스를 이용가능.\u001b[39;00m\n",
      "\u001b[1;31mNameError\u001b[0m: name 'Calaulator' is not defined"
     ]
    }
   ],
   "source": [
    "# 클래스 학습\n",
    "# calculator1.py\n",
    "result = 0  # 초기 값 고정. 0으로\n",
    "\n",
    "def add(num):\n",
    "    global result\n",
    "    result += num   # 결괏값(result)에 입력값(num 더하기)\n",
    "    return result   # 결괏값 리턴\n",
    "\n",
    "# 두대의 계산기를 만든다면? calculator2.py\n",
    "\n",
    "result1 = 0\n",
    "result2 = 0\n",
    "\n",
    "def add2(num): # 계산기2\n",
    "    global result2\n",
    "    result2 += num\n",
    "    return result2\n",
    "\n",
    "print(add(3))   # 0 + 3->3\n",
    "print(add(4))   # 3 + 4 -> 7. 초기 결과값 0이니까\n",
    "print(add2(3))  # 0 + 3 ->3\n",
    "print(add2(7))  # 3 + 7 -> 10\n",
    "\n",
    "# calculator3.py\n",
    "# calculator 클래스 생성\n",
    "class Calculator:       # 계산기는 대문자시작이 암묵적인 룰. 그리고 :도\n",
    "    def __init__(self):  #(언더바 두개) 생성자(변수를 초기화해주는 것)와 비슷한 역할. \n",
    "        self.result = 0     #result 변수를 0으로 초기화. 반드시 셀프가 있어야 함. 없으면 에러. 이는 규칙. 인덴테이션 두번.\n",
    "    \n",
    "    def add(self, num):     # add 일반함수. 이것들은 class라는 작업지시서. 붕어빵 틀과 같음.\n",
    "        self.result = self.result + num\n",
    "        return self.result\n",
    "    \n",
    "    def sub(self, num):\n",
    "        self.result = self.result - num\n",
    "        return self.result\n",
    "\n",
    "    #칼큘레이터는 부모. 자식은 이닛이랑 에드. 부모안에 자식 이닛이랑 에드가 있음. 에드라는 가이드. 초기생성 가이드.\n",
    "\n",
    "cal1 = Calaulator()    # 객체 생성(실제 붕어빵)\n",
    "cal2 = Calculator() #별도의 공통된 함수를 만들어 그것에 관한 객체를 만들어서, 객체 칼1이라는 변수에 함수를 담음.\n",
    "#이러면 물량만 표준가이드에 맞게 클래스를 이용가능.\n",
    "\n",
    "a = cal1.add(3)       # .은 함수를 부르는 기준. 함수는 무조건 .붙인다 몇트째 적냐\n",
    "# class Calculator 안에 있는 add함수를 호출\n",
    "print(a)\n",
    "a = cal1.add(4) # 3 + 4 -> 7\n",
    "print(a)\n",
    "a = cal2.add(3)\n",
    "\n",
    "# 한단계 상위로 해서 그룹화 시킨게 클래스. 구조화를 시켰기 때문에 함수 더 만들지 않고 여기 붕어빵 틀에다가만 하면되서 쉬움\n",
    "\n",
    "# 프로그램을 지을땐 집짓는것과 비슷. 땅 치수부터 재고 어떤 몇 세대 기준 몇평과 몇세대 기준을 정하고 거기 안에 철근골격\n",
    "# 뼈대를 만드는것 처럼, calulator의 뼈대를 만드는 것. 큰 방을 만드는 것."
   ]
  },
  {
   "cell_type": "code",
   "execution_count": 5,
   "metadata": {},
   "outputs": [],
   "source": [
    "# 클래스와 객체와 인스턴스.\n",
    "# a는 쿠키다. 객체랑 인스턴스랑 95퍼센트 비슷. 책에 설명된건 그냥 말장난같음. 디테일하게 구분할 필요 없음."
   ]
  },
  {
   "cell_type": "code",
   "execution_count": 6,
   "metadata": {},
   "outputs": [
    {
     "name": "stdout",
     "output_type": "stream",
     "text": [
      "<class '__main__.FourCal'>\n"
     ]
    }
   ],
   "source": [
    "# 사칙연산 클래스 만들기.\n",
    "\n",
    "class FourCal():\n",
    "    pass\n",
    "\n",
    "a = FourCal()   # 이걸 실행하려면 위에 두 문장이 필요하다. 라는 뜻\n",
    "print(type(a))  # 자료형 이름이 클래스. 중요개념중 하나.\n",
    "\n",
    "\n",
    "# a.setdata(4, 2)\n",
    "# a.add()\n",
    "# a.mul()\n",
    "# a.sub()\n",
    "# a.div()     # 여기까지만 하면 오류. 셋데이터라는 def로 만드는 값이 없기 때문에 에러."
   ]
  },
  {
   "cell_type": "code",
   "execution_count": 26,
   "metadata": {},
   "outputs": [
    {
     "ename": "TypeError",
     "evalue": "FourCal.__init__() missing 2 required positional arguments: 'first' and 'second'",
     "output_type": "error",
     "traceback": [
      "\u001b[1;31m---------------------------------------------------------------------------\u001b[0m",
      "\u001b[1;31mTypeError\u001b[0m                                 Traceback (most recent call last)",
      "Cell \u001b[1;32mIn[26], line 30\u001b[0m\n\u001b[0;32m     24\u001b[0m         result \u001b[38;5;241m=\u001b[39m \u001b[38;5;28mself\u001b[39m\u001b[38;5;241m.\u001b[39mfirst \u001b[38;5;241m/\u001b[39m \u001b[38;5;28mself\u001b[39m\u001b[38;5;241m.\u001b[39msecond       \u001b[38;5;66;03m# self는 a를 뜻함.\u001b[39;00m\n\u001b[0;32m     25\u001b[0m         \u001b[38;5;28;01mreturn\u001b[39;00m result\n\u001b[1;32m---> 30\u001b[0m a \u001b[38;5;241m=\u001b[39m \u001b[43mFourCal\u001b[49m\u001b[43m(\u001b[49m\u001b[43m)\u001b[49m   \u001b[38;5;66;03m# 이걸 실행하려면 위에 두 문장이 필요하다. 라는 뜻\u001b[39;00m\n\u001b[0;32m     31\u001b[0m \u001b[38;5;28mprint\u001b[39m(\u001b[38;5;28mtype\u001b[39m(a))  \u001b[38;5;66;03m# 자료형 이름이 클래스. 중요개념중 하나. 물론 이쪽이 더 많이 쓰임\u001b[39;00m\n\u001b[0;32m     34\u001b[0m a\u001b[38;5;241m.\u001b[39msetdata(\u001b[38;5;241m4\u001b[39m, \u001b[38;5;241m2\u001b[39m)\n",
      "\u001b[1;31mTypeError\u001b[0m: FourCal.__init__() missing 2 required positional arguments: 'first' and 'second'"
     ]
    }
   ],
   "source": [
    "class FourCal():\n",
    "\n",
    "    def __init__(self, first, second):      # 메소드들의 생성순서는, 즉 위치는 상관없음. \n",
    "        self.first = first                   # 하지만 룰로 맨 위에 두는 케이스가 많음.\n",
    "        self.second = second\n",
    "\n",
    "    def setdata(self, first, second):\n",
    "        self.first = first  # 자바스크립트의 this.함수와 비슷. 셀프가 없으면 에러가 남. 뭘 쳐야할 지 몰라서.\n",
    "        self.second = second    # 저장한다는 뜻.\n",
    "\n",
    "    def add(self):\n",
    "        result = self.first + self.second       # self는 a를 뜻함.\n",
    "        return result\n",
    "    \n",
    "    def sub(self):\n",
    "        result = self.first - self.second       # self는 a를 뜻함.\n",
    "        return result\n",
    "\n",
    "    def mul(self):\n",
    "        result = self.first * self.second       # self는 a를 뜻함.\n",
    "        return result\n",
    "\n",
    "    def div(self):\n",
    "        result = self.first / self.second       # self는 a를 뜻함.\n",
    "        return result\n",
    "\n",
    "\n",
    "\n",
    "\n",
    "a = FourCal()   # 이걸 실행하려면 위에 두 문장이 필요하다. 라는 뜻\n",
    "print(type(a))  # 자료형 이름이 클래스. 중요개념중 하나. 물론 이쪽이 더 많이 쓰임\n",
    "\n",
    "\n",
    "a.setdata(4, 2)\n",
    "\n",
    "a.setdata(4,2)\n",
    "print(a.first)\n",
    "print(a.second)\n",
    "\n",
    "\n",
    "FourCal.setdata(a, 4, 2)    # 값은 똑같이 나옴\n",
    "\n",
    "b = FourCal()   # 서로 독립적인 객체.\n",
    "b.setdata(3, 7)\n",
    "print(b.first)  # 3\n",
    "print('a.first',a.first)    # 객체변수에 상관없이 독립적인 값을 유지한다.\n",
    "# 셋 데이터. 이렇게도 가능은 하지만 잘 안쓰임\n",
    "# a는 self 4는 first, 2는 second. 셀프는파이썬만이 가진 독특한 특징. 관레적으로 생성.\n",
    "# 메서드. 클래스 안의 함수는 메서드라고 특별히 이름을 지음.\n",
    "# 클래스 밖의 함수는 걍 함수.\n",
    "\n",
    "print(a.add())      # 클래스 내의 메소드기 때문에 위에 부모값에 4,2가 있어서 그것으로 계산이 됨. 일반 함수면 에러.\n",
    "print(a.mul())\n",
    "print(a.sub())\n",
    "print(a.div())     # 여기까지만 하면 오류. 셋데이터라는 def로 만드는 값이 없기 때문에 에러.\n",
    "# 프린트로 감싸지 않으면 마지막 코딩라인인 디바이드만 계산이 됨. 그러니 프린트로 꼭 감싸주자. 이건 좀 이해간다.\n",
    "\n",
    "# 여기까지 하면 90% 클래스 진도 끝."
   ]
  },
  {
   "cell_type": "code",
   "execution_count": 19,
   "metadata": {},
   "outputs": [
    {
     "ename": "SyntaxError",
     "evalue": "incomplete input (2386505090.py, line 6)",
     "output_type": "error",
     "traceback": [
      "\u001b[1;36m  Cell \u001b[1;32mIn[19], line 6\u001b[1;36m\u001b[0m\n\u001b[1;33m    \u001b[0m\n\u001b[1;37m    ^\u001b[0m\n\u001b[1;31mSyntaxError\u001b[0m\u001b[1;31m:\u001b[0m incomplete input\n"
     ]
    }
   ],
   "source": [
    "# 생성자. 자바스크립트에서는 constructor.\n",
    "class Calculator:\n",
    "    def __itit__(self):        # 이게 생성자. 항상 def뒤에 띄어쓰기 하고 언더바 두개 하고 함수치고 언더바 두개.\n",
    "\n",
    "#\n",
    "\n"
   ]
  },
  {
   "cell_type": "code",
   "execution_count": 25,
   "metadata": {},
   "outputs": [
    {
     "data": {
      "text/plain": [
       "6"
      ]
     },
     "execution_count": 25,
     "metadata": {},
     "output_type": "execute_result"
    }
   ],
   "source": [
    "a = FourCal(2, 4)\n",
    "a.add()\n",
    "# 이러면 에러가 남. 왜냐면 두 라인 사이에 a(setdata)를 빼먹었기 때문. 생성자는 셋데이터를 안써도 되게끔 하는 용도.\n",
    "\n",
    "# 셋 데이터 안하고는 self.first를 불러올 수가 없음. 그래서 없기 때문에 실행 불가. 없어도 되게 하는 방법이 상기하였듯\n",
    "# 값을 초기화해주는 생성자.__init__ 3트\n",
    "\n",
    "# 위에서 init을 하고 실행을 했고, 그 후에 여기를 실행을 시키면 이리 된다. class에 값을 매겨줬으니까. 된다고\n"
   ]
  },
  {
   "cell_type": "code",
   "execution_count": null,
   "metadata": {},
   "outputs": [],
   "source": []
  }
 ],
 "metadata": {
  "kernelspec": {
   "display_name": "Python 3",
   "language": "python",
   "name": "python3"
  },
  "language_info": {
   "codemirror_mode": {
    "name": "ipython",
    "version": 3
   },
   "file_extension": ".py",
   "mimetype": "text/x-python",
   "name": "python",
   "nbconvert_exporter": "python",
   "pygments_lexer": "ipython3",
   "version": "3.11.9"
  }
 },
 "nbformat": 4,
 "nbformat_minor": 2
}
