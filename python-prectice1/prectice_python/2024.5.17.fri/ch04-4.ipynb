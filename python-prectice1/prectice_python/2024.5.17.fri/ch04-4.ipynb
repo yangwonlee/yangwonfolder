{
 "cells": [
  {
   "cell_type": "code",
   "execution_count": 2,
   "metadata": {},
   "outputs": [
    {
     "name": "stdout",
     "output_type": "stream",
     "text": [
      "life if too short\n",
      "lifeistoo short\n",
      "lifeistoo short\n"
     ]
    }
   ],
   "source": [
    "# 사용자 입출력\n",
    "print(\"life\", \"if\", \"too short\")    # 1번\n",
    "print(\"life\"+\"is\"+\"too short\")  #2번\n",
    "print(\"life\"\"is\"\"too short\")    #3번\n"
   ]
  },
  {
   "cell_type": "code",
   "execution_count": 4,
   "metadata": {},
   "outputs": [
    {
     "ename": "SyntaxError",
     "evalue": "invalid syntax. Perhaps you forgot a comma? (3007889080.py, line 4)",
     "output_type": "error",
     "traceback": [
      "\u001b[1;36m  Cell \u001b[1;32mIn[4], line 4\u001b[1;36m\u001b[0m\n\u001b[1;33m    print(\"life\", \"is\", \"too short\" sep :)\u001b[0m\n\u001b[1;37m                        ^\u001b[0m\n\u001b[1;31mSyntaxError\u001b[0m\u001b[1;31m:\u001b[0m invalid syntax. Perhaps you forgot a comma?\n"
     ]
    }
   ],
   "source": [
    "# 문자열 띄어쓰기는 쉼표로 한다.\n",
    "# sep 매개변수의 값 변경하여 다른 문자를 넣을 수 있다.\n",
    "print(\"life\", \"is\", \"too short\")\n",
    "print(\"life\", \"is\", \"too short\" sep :)"
   ]
  },
  {
   "cell_type": "code",
   "execution_count": null,
   "metadata": {},
   "outputs": [],
   "source": [
    "# 프로그램의 입출력\n",
    "# 파이썬 프로그램을 사용할 때 인수를 받는 것."
   ]
  }
 ],
 "metadata": {
  "kernelspec": {
   "display_name": "Python 3",
   "language": "python",
   "name": "python3"
  },
  "language_info": {
   "codemirror_mode": {
    "name": "ipython",
    "version": 3
   },
   "file_extension": ".py",
   "mimetype": "text/x-python",
   "name": "python",
   "nbconvert_exporter": "python",
   "pygments_lexer": "ipython3",
   "version": "3.11.9"
  }
 },
 "nbformat": 4,
 "nbformat_minor": 2
}
