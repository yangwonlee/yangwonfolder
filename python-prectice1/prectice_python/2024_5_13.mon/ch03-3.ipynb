{
 "cells": [
  {
   "cell_type": "code",
   "execution_count": 1,
   "metadata": {},
   "outputs": [
    {
     "ename": "IndentationError",
     "evalue": "unexpected indent (3646213242.py, line 7)",
     "output_type": "error",
     "traceback": [
      "\u001b[1;36m  Cell \u001b[1;32mIn[1], line 7\u001b[1;36m\u001b[0m\n\u001b[1;33m    ...\u001b[0m\n\u001b[1;37m    ^\u001b[0m\n\u001b[1;31mIndentationError\u001b[0m\u001b[1;31m:\u001b[0m unexpected indent\n"
     ]
    }
   ],
   "source": [
    "# for문 학습\n",
    "\n",
    "# for문의 기본 구조\n",
    "# for 변수 in 리스트(또는 튜플, 문자열):\n",
    "#   수행할_ 문장1\n",
    "#   수행할_ 문장2\n",
    "    ...\n"
   ]
  },
  {
   "cell_type": "code",
   "execution_count": null,
   "metadata": {},
   "outputs": [],
   "source": [
    "# 전형적인 for 문\n",
    "test_list = ['one', 'two', 'three']\n",
    "for i in test_list:\n",
    "    print(i) # 리스트의 마지막 요소까지 반복한다는 뜻."
   ]
  },
  {
   "cell_type": "code",
   "execution_count": null,
   "metadata": {},
   "outputs": [],
   "source": [
    "a = [(1,2),(3,4),(5,6)]\n",
    "for (x, y) in a:\n",
    "    print(x + y)    # 첫째랑 마지막이랑 더한 값들."
   ]
  },
  {
   "cell_type": "code",
   "execution_count": null,
   "metadata": {},
   "outputs": [],
   "source": [
    "# 포문을 왜 쓰냐면 회원에 가입된 수만큼 가져와서 카톡으로 메신저를 보낼때. 이때 가입된 회원수들이 이것과 같겠지.\n"
   ]
  },
  {
   "cell_type": "code",
   "execution_count": 3,
   "metadata": {},
   "outputs": [
    {
     "name": "stdout",
     "output_type": "stream",
     "text": [
      "1번 학생은 합격입니다.\n",
      "2번 학생은 불합격입니다.\n",
      "3번 학생은 합격입니다.\n",
      "4번 학생은 불합격입니다.\n",
      "5번 학생은 합격입니다.\n"
     ]
    }
   ],
   "source": [
    "marks = [90, 25, 67 ,45, 80] # 점수를 차례로 검사해서 합불합을 통보해주는 프로그램 작성 ㄱ\n",
    "\n",
    "number = 0 # 학생에게 붙여준 번호\n",
    "for mark in marks: # 90, 25, 67, 45 ,80을 순서대로 mark에 대입.\n",
    "    number = number + 1     # 포문 안에 이프문을 중첩함.\n",
    "    if mark>= 60:\n",
    "        print(\"%d번 학생은 합격입니다.\" % number)\n",
    "    else:\n",
    "        print(\"%d번 학생은 불합격입니다.\" % number)"
   ]
  },
  {
   "cell_type": "code",
   "execution_count": 4,
   "metadata": {},
   "outputs": [
    {
     "name": "stdout",
     "output_type": "stream",
     "text": [
      "1번 학생 축하합니다. 합격입니다.\n",
      "3번 학생 축하합니다. 합격입니다.\n",
      "5번 학생 축하합니다. 합격입니다.\n"
     ]
    }
   ],
   "source": [
    "# 포문과 컨티뉴문. 역시 중복 가능.\n",
    "marks = [90, 25, 67, 45, 80]\n",
    "\n",
    "number= 0\n",
    "for mark in marks:\n",
    "    number = number + 1\n",
    "    if mark < 60:\n",
    "        continue\n",
    "    print(\"%d번 학생 축하합니다. 합격입니다.\" %number)"
   ]
  },
  {
   "cell_type": "code",
   "execution_count": 5,
   "metadata": {},
   "outputs": [
    {
     "name": "stdout",
     "output_type": "stream",
     "text": [
      "1번 학생 축하합니다. 합격입니다.\n"
     ]
    }
   ],
   "source": [
    "# 포문과 브레이크문. 역시 중복 가능.\n",
    "marks = [90, 25, 67, 45, 80]\n",
    "\n",
    "number= 0\n",
    "for mark in marks:\n",
    "    number = number + 1\n",
    "    if mark < 60:\n",
    "        break\n",
    "    print(\"%d번 학생 축하합니다. 합격입니다.\" %number)"
   ]
  },
  {
   "cell_type": "code",
   "execution_count": 6,
   "metadata": {},
   "outputs": [
    {
     "name": "stdout",
     "output_type": "stream",
     "text": [
      "range(0, 10)\n",
      "range(1, 11)\n"
     ]
    }
   ],
   "source": [
    "# for문과 함께 자주 사용하는 range 함수. 숫자 리스트를 자동으로 만들어주는 함수\n",
    "a = range(10) # 0부터 10 미만의 숫자를 포함하는 함수.\n",
    "print(a)\n",
    "a = range(1,11) # 1~10\n",
    "print(a)"
   ]
  },
  {
   "cell_type": "code",
   "execution_count": 7,
   "metadata": {},
   "outputs": [
    {
     "data": {
      "text/plain": [
       "55"
      ]
     },
     "execution_count": 7,
     "metadata": {},
     "output_type": "execute_result"
    }
   ],
   "source": [
    "add = 0\n",
    "for i in range(1,11):       # 1~10\n",
    "    add = add + i           # 1~10까지 더한 값\n",
    "add # 10팩토리얼"
   ]
  },
  {
   "cell_type": "code",
   "execution_count": 10,
   "metadata": {},
   "outputs": [
    {
     "name": "stdout",
     "output_type": "stream",
     "text": [
      "1번 학생 축하합니다. 합격입니다.\n",
      "3번 학생 축하합니다. 합격입니다.\n",
      "5번 학생 축하합니다. 합격입니다.\n"
     ]
    }
   ],
   "source": [
    "# range 함수와 리스트 자료형 같이 사용하기\n",
    "marks = [90, 25, 67, 45, 80]\n",
    "for number in range(len(marks)): # 0~4 # 쇼핑몰에 장바구니에 회원수마다 물품수가 리스트로 나오고 물품은 가격과 상품명\n",
    "    if marks[number] < 60:              #등 딕셔너리값으로 들어감.\n",
    "        continue\n",
    "    print(\"%d번 학생 축하합니다. 합격입니다.\"%(number+1))"
   ]
  },
  {
   "cell_type": "code",
   "execution_count": 12,
   "metadata": {},
   "outputs": [
    {
     "name": "stdout",
     "output_type": "stream",
     "text": [
      "1\n",
      "3\n",
      "5\n",
      "7\n",
      "9\n"
     ]
    }
   ],
   "source": [
    "# 인수 3개가 있는 range 함수 사용하기.\n",
    "for a in range(1,10,2): # 증가가 2인 9까지의 리스트. (1, 10, 1)이랑 동일\n",
    "    print (a)"
   ]
  },
  {
   "cell_type": "code",
   "execution_count": 16,
   "metadata": {},
   "outputs": [
    {
     "name": "stdout",
     "output_type": "stream",
     "text": [
      "2단: 2 4 6 8 10 12 14 16 18 \n",
      "3단: 3 6 9 12 15 18 21 24 27 \n",
      "4단: 4 8 12 16 20 24 28 32 36 \n",
      "5단: 5 10 15 20 25 30 35 40 45 \n",
      "6단: 6 12 18 24 30 36 42 48 54 \n",
      "7단: 7 14 21 28 35 42 49 56 63 \n",
      "8단: 8 16 24 32 40 48 56 64 72 \n",
      "9단: 9 18 27 36 45 54 63 72 81 \n"
     ]
    }
   ],
   "source": [
    "#for와 range를 이용한 구구단.\n",
    "for i in range(2,10):       # 1번 for문\n",
    "    print(i, \"단:\", sep = \"\", end = \" \")\n",
    "    for j in range(1,10):    # 2번 for문\n",
    "        print(i*j, end= \" \")\n",
    "    print('')"
   ]
  },
  {
   "cell_type": "code",
   "execution_count": 17,
   "metadata": {},
   "outputs": [],
   "source": [
    "# // 여기까지 온거면 이 책의 40퍼센트."
   ]
  },
  {
   "cell_type": "code",
   "execution_count": 18,
   "metadata": {},
   "outputs": [
    {
     "name": "stdout",
     "output_type": "stream",
     "text": [
      "[3, 6, 9, 12]\n"
     ]
    }
   ],
   "source": [
    "# 리스트 컴프리헨션 사용하기(list comprehension): 리스트 안에 포문을 포함하는 이걸 사용하면 좀 더 편리하고 직관적.\n",
    "# 구문\n",
    "# [표현식 for 항목1 in 반복_가능-객체1 if 조건문 1\n",
    "#         for 항목 2 in 반복_가능_객체 2 if 조건문2\n",
    "#       ... \n",
    "#       for 항목 n in 반복_가능_객체n if 조건문n]   # 포문이 많으면 많을 수록 n*n으로 값이 많이 들어감.\n",
    "a = [1,2,3,4]\n",
    "result = [num * 3 for num in a]\n",
    "print(result)"
   ]
  },
  {
   "cell_type": "code",
   "execution_count": 19,
   "metadata": {},
   "outputs": [
    {
     "name": "stdout",
     "output_type": "stream",
     "text": [
      "[6, 12]\n"
     ]
    }
   ],
   "source": [
    "# 리스트 컴프리헨션 사용하기2\n",
    "# 이프문이 추가된 리스트. 짝수에만 3을 곱하여 담고 싶다면 이프문 사용.\n",
    "a = [1,2,3,4]\n",
    "result = [num * 3 for num in a if num % 2 == 0] #보통 이 케이스를 많이 씀. 셋쨰는 잘 안씀.\n",
    "print(result)"
   ]
  },
  {
   "cell_type": "code",
   "execution_count": 22,
   "metadata": {},
   "outputs": [
    {
     "name": "stdout",
     "output_type": "stream",
     "text": [
      "[2, 4, 6, 8, 10, 12, 14, 16, 18, 3, 6, 9, 12, 15, 18, 21, 24, 27, 4, 8, 12, 16, 20, 24, 28, 32, 36, 5, 10, 15, 20, 25, 30, 35, 40, 45, 6, 12, 18, 24, 30, 36, 42, 48, 54, 7, 14, 21, 28, 35, 42, 49, 56, 63, 8, 16, 24, 32, 40, 48, 56, 64, 72, 9, 18, 27, 36, 45, 54, 63, 72, 81]\n"
     ]
    }
   ],
   "source": [
    "# 리스트 컴프리헨션 사용하기3\n",
    "result = [x*y for x in range(2,10)\n",
    "              for y in range(1,10)]\n",
    "print(result)"
   ]
  },
  {
   "cell_type": "code",
   "execution_count": 26,
   "metadata": {},
   "outputs": [
    {
     "name": "stdout",
     "output_type": "stream",
     "text": [
      "79.0\n"
     ]
    }
   ],
   "source": [
    "# 되새김 문제\n",
    "# a 학급에 총 10명의 학생이 있다. 이 학생의 중간고사 점수는 다음과 같다.\n",
    "# [70, 60, 55, 75, 95, 90, 80, 80, 85, 100]\n",
    "#포문을 사용하여 a학급의 평균점수를 구해보자.\n",
    "# 힌트 점수의 합계 / 점수개수 = 평균점수\n",
    "# 점수 개수= len \n",
    "list1 = [70, 60, 55, 75, 95, 90, 80, 80, 85, 100]\n",
    "count = len(list1) # 10 -> 점수 개수 10\n",
    "sum = 0\n",
    "\n",
    "for b in list1:\n",
    "    sum += b # 점수의 합계\n",
    "\n",
    "print(sum/ count)"
   ]
  },
  {
   "cell_type": "markdown",
   "metadata": {},
   "source": [
    "#문제 2\n",
    "# 다음 소스 코드는 리스트의 요소 중에서 홀수만 골라 2를 곱한 값을 result 리스트에\n",
    "\n",
    "numbers = [1,2,3,4,5]\n",
    "result = []\n",
    "for n in numbers:\n",
    "    if n % 2 == 1:\n",
    "        result.append(n * 2)\n",
    "\n",
    "# 위의 코드를 리스트 컴프리헨션을 사용하여 작성해 보시오.\n",
    "\n",
    "result = [n * 2 for n in numbers if n % 2 == 1]\n",
    "print(result)"
   ]
  },
  {
   "cell_type": "markdown",
   "metadata": {},
   "source": []
  }
 ],
 "metadata": {
  "kernelspec": {
   "display_name": "base",
   "language": "python",
   "name": "python3"
  },
  "language_info": {
   "codemirror_mode": {
    "name": "ipython",
    "version": 3
   },
   "file_extension": ".py",
   "mimetype": "text/x-python",
   "name": "python",
   "nbconvert_exporter": "python",
   "pygments_lexer": "ipython3",
   "version": "3.11.7"
  }
 },
 "nbformat": 4,
 "nbformat_minor": 2
}
