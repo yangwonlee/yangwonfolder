{
 "cells": [
  {
   "cell_type": "code",
   "execution_count": 9,
   "metadata": {},
   "outputs": [
    {
     "name": "stdout",
     "output_type": "stream",
     "text": [
      "d:\\240507-edu1\\python-data-analysis1\\20240626\n",
      "<_csv.reader object at 0x00000280EBC41180>\n",
      "['국어', '영어', '수학']\n",
      "<class 'list'>\n",
      "['90', '80', '100']\n",
      "<class 'list'>\n",
      "['국어', '영어', '수학']\n",
      "['90', '80', '100']\n",
      "a_list -> [['국어', '영어', '수학'], ['90', '80', '100']]\n"
     ]
    }
   ],
   "source": [
    "import csv, os\n",
    "\n",
    "print(os.getcwd())\n",
    "# a.csv파일이 있는 폴더로 이동\n",
    "os.chdir(r'd:\\240507-edu1\\python-data-analysis1\\20240626')\n",
    "\n",
    "f = open('a.csv', 'r', encoding='utf-8') # 읽기 모드로 a.csv파일을 open\n",
    "new = csv.reader(f)    # csv.reader로 csv파일 내용을 읽어 new변수에 담기\n",
    "# new -> [['국어', '영어', '수학'],['90', '80', '100']]\n",
    "print(new)\n",
    "for i in new:\n",
    "    print(i)\n",
    "    print(type(i))\n",
    "\n",
    "# 다시 csv데이터 커서 위치를 처음 위치로 되돌려놓기\n",
    "f.seek(0)\n",
    "\n",
    "a_list = []\n",
    "for i in new:\n",
    "    print(i)\n",
    "    a_list.append(i)\n",
    "print('a_list ->', a_list)\n"
   ]
  },
  {
   "cell_type": "code",
   "execution_count": 10,
   "metadata": {},
   "outputs": [],
   "source": [
    "def opencsv(filename):\n",
    "    f = open(filename, 'r', encoding='utf-8') # 읽기 모드로 a.csv파일을 open\n",
    "    reader = csv.reader(f)    # csv.reader로 csv파일 내용을 읽어 new변수에 담기\n",
    "    output = []\n",
    "    for i in reader:\n",
    "        output.append(i)\n",
    "    return output"
   ]
  },
  {
   "cell_type": "code",
   "execution_count": 11,
   "metadata": {},
   "outputs": [
    {
     "data": {
      "text/plain": [
       "[['국어', '영어', '수학'], ['90', '80', '100']]"
      ]
     },
     "execution_count": 11,
     "metadata": {},
     "output_type": "execute_result"
    }
   ],
   "source": [
    "opencsv('a.csv')"
   ]
  },
  {
   "cell_type": "code",
   "execution_count": 14,
   "metadata": {},
   "outputs": [],
   "source": [
    "a = [\n",
    "        ['구', '전체', '내국인', '외국인'],\n",
    "        ['관악구', '519864', '502089', '17775'],\n",
    "        ['강남구', '547602', '231315', '8721'],\n",
    "        ['송파구', '652851', '678244', '5121'],\n",
    "        ['강동구', '428585', '452253', '8844']\n",
    "    ]\n",
    "f = open('abc.csv', 'w', encoding='utf-8', newline= '')\n",
    "csv_object = csv.writer(f, delimiter=',')\n",
    "csv_object.writerows(a)\n",
    "f.close()"
   ]
  },
  {
   "cell_type": "code",
   "execution_count": 17,
   "metadata": {},
   "outputs": [],
   "source": [
    "def writecsv(fliename, the_list):\n",
    "    with open(fliename, 'w', newline = '', encoding='utf-8') as f:\n",
    "        csv_object = csv.writer(f, delimiter=',')\n",
    "        csv_object.writerows(the_list)"
   ]
  },
  {
   "cell_type": "code",
   "execution_count": 19,
   "metadata": {},
   "outputs": [],
   "source": [
    "writecsv('abc.csv', a)"
   ]
  },
  {
   "cell_type": "code",
   "execution_count": 20,
   "metadata": {},
   "outputs": [
    {
     "name": "stdout",
     "output_type": "stream",
     "text": [
      "['구 ', ' 계   ', ' 한국인  ', ' 등록외국인  ', ' 고령자  ']\n",
      "['종로구', ' 152,212 ', ' 141,060 ', ' 11,152 ', ' 28,265 ']\n",
      "['중구', ' 131,390 ', ' 120,963 ', ' 10,427 ', ' 25,353 ']\n",
      "['용산구', ' 232,482 ', ' 217,756 ', ' 14,726 ', ' 39,478 ']\n",
      "['성동구', ' 287,240 ', ' 280,240 ', ' 7,000 ', ' 48,238 ']\n"
     ]
    }
   ],
   "source": [
    "import os\n",
    "import usecsv\n",
    "\n",
    "total = usecsv.opencsv(r'D:\\240507-edu1\\python-data-analysis1\\20240626\\popSeoul2023.csv')\n",
    "for i in total[:5]:\n",
    "    print(i)"
   ]
  },
  {
   "cell_type": "code",
   "execution_count": 21,
   "metadata": {},
   "outputs": [
    {
     "name": "stdout",
     "output_type": "stream",
     "text": [
      "123.0\n",
      "123\n"
     ]
    }
   ],
   "source": [
    "i = '123'\n",
    "print(float(i))\n",
    "print(int(i))"
   ]
  },
  {
   "cell_type": "code",
   "execution_count": 11,
   "metadata": {},
   "outputs": [
    {
     "ename": "ValueError",
     "evalue": "could not convert string to float: '152,212'",
     "output_type": "error",
     "traceback": [
      "\u001b[1;31m---------------------------------------------------------------------------\u001b[0m",
      "\u001b[1;31mValueError\u001b[0m                                Traceback (most recent call last)",
      "Cell \u001b[1;32mIn[11], line 1\u001b[0m\n\u001b[1;32m----> 1\u001b[0m \u001b[38;5;28;43mfloat\u001b[39;49m\u001b[43m(\u001b[49m\u001b[38;5;124;43m'\u001b[39;49m\u001b[38;5;124;43m152,212\u001b[39;49m\u001b[38;5;124;43m'\u001b[39;49m\u001b[43m)\u001b[49m\n",
      "\u001b[1;31mValueError\u001b[0m: could not convert string to float: '152,212'"
     ]
    }
   ],
   "source": [
    "float('152,212')"
   ]
  },
  {
   "cell_type": "code",
   "execution_count": 23,
   "metadata": {},
   "outputs": [
    {
     "data": {
      "text/plain": [
       "152212.0"
      ]
     },
     "execution_count": 23,
     "metadata": {},
     "output_type": "execute_result"
    }
   ],
   "source": [
    "float(' 152,212 '.replace(',', ''))"
   ]
  },
  {
   "cell_type": "code",
   "execution_count": 9,
   "metadata": {},
   "outputs": [
    {
     "name": "stdout",
     "output_type": "stream",
     "text": [
      "['종로구', ' 152,212 ', ' 141,060 ', ' 11,152 ', ' 28,265 ']\n",
      "['종로구', 152212.0, 141060.0, 11152.0, 28265.0]\n"
     ]
    }
   ],
   "source": [
    "import re\n",
    "\n",
    "i = total[1]  # ['종로구',\" 152,212 \",\" 141,060 \",\" 11,152 \",\" 28,265 \"]\n",
    "print(i)\n",
    "\n",
    "k = []\n",
    "for j in i:\n",
    "    if re.search(r'\\d', j):\n",
    "        k.append(float(j.replace(',', '')))\n",
    "    else:\n",
    "        k.append(j)\n",
    "\n",
    "print(k)"
   ]
  },
  {
   "cell_type": "code",
   "execution_count": 10,
   "metadata": {},
   "outputs": [
    {
     "ename": "ValueError",
     "evalue": "could not convert string to float: '123강남'",
     "output_type": "error",
     "traceback": [
      "\u001b[1;31m---------------------------------------------------------------------------\u001b[0m",
      "\u001b[1;31mValueError\u001b[0m                                Traceback (most recent call last)",
      "Cell \u001b[1;32mIn[10], line 6\u001b[0m\n\u001b[0;32m      4\u001b[0m \u001b[38;5;28;01mfor\u001b[39;00m j \u001b[38;5;129;01min\u001b[39;00m p:\n\u001b[0;32m      5\u001b[0m     \u001b[38;5;28;01mif\u001b[39;00m re\u001b[38;5;241m.\u001b[39msearch(\u001b[38;5;124mr\u001b[39m\u001b[38;5;124m'\u001b[39m\u001b[38;5;124m\\\u001b[39m\u001b[38;5;124md\u001b[39m\u001b[38;5;124m'\u001b[39m, j):\n\u001b[1;32m----> 6\u001b[0m         k\u001b[38;5;241m.\u001b[39mappend(\u001b[38;5;28;43mfloat\u001b[39;49m\u001b[43m(\u001b[49m\u001b[43mj\u001b[49m\u001b[38;5;241;43m.\u001b[39;49m\u001b[43mreplace\u001b[49m\u001b[43m(\u001b[49m\u001b[38;5;124;43m'\u001b[39;49m\u001b[38;5;124;43m,\u001b[39;49m\u001b[38;5;124;43m'\u001b[39;49m\u001b[43m,\u001b[49m\u001b[43m \u001b[49m\u001b[38;5;124;43m'\u001b[39;49m\u001b[38;5;124;43m'\u001b[39;49m\u001b[43m)\u001b[49m\u001b[43m)\u001b[49m)\n\u001b[0;32m      7\u001b[0m     \u001b[38;5;28;01melse\u001b[39;00m:\n\u001b[0;32m      8\u001b[0m         k\u001b[38;5;241m.\u001b[39mappend(j)\n",
      "\u001b[1;31mValueError\u001b[0m: could not convert string to float: '123강남'"
     ]
    }
   ],
   "source": [
    "p = ['123강남', '151,767','11,093','27,394']\n",
    "\n",
    "k = []\n",
    "for j in p:\n",
    "    if re.search(r'\\d', j):\n",
    "        k.append(float(j.replace(',', '')))\n",
    "    else:\n",
    "        k.append(j)\n",
    "\n",
    "print(k)"
   ]
  },
  {
   "cell_type": "code",
   "execution_count": 36,
   "metadata": {},
   "outputs": [
    {
     "name": "stdout",
     "output_type": "stream",
     "text": [
      "['123!!', 151767.0, 11093.0, 27394.0]\n"
     ]
    }
   ],
   "source": [
    "p = ['123!!', '151,767','11,093','27,394']\n",
    "\n",
    "k = []\n",
    "for j in p:\n",
    "    if re.search(r'[a-z가-힣!]', j):\n",
    "        k.append(j)\n",
    "    else:\n",
    "        k.append(float(j.replace(',', '')))\n",
    "\n",
    "print(k)"
   ]
  },
  {
   "cell_type": "code",
   "execution_count": 37,
   "metadata": {},
   "outputs": [
    {
     "name": "stdout",
     "output_type": "stream",
     "text": [
      "['123!!', 151767.0, 11093.0, 27394.0]\n"
     ]
    }
   ],
   "source": [
    "for j in p:\n",
    "    if re.search(r'[a-z가-힣!]', j):\n",
    "        p[p.index(j)] = j\n",
    "    else:\n",
    "        p[p.index(j)] = float(j.replace(',', ''))\n",
    "\n",
    "print(p)"
   ]
  },
  {
   "cell_type": "code",
   "execution_count": 12,
   "metadata": {},
   "outputs": [
    {
     "name": "stdout",
     "output_type": "stream",
     "text": [
      "['123!!', 151767.0, 11093.0, 27394.0, '', '!!!$%#$']\n"
     ]
    }
   ],
   "source": [
    "i = ['123!!', '151,767','11,093','27,394', '', '!!!$%#$']\n",
    "\n",
    "for j in i:\n",
    "    if re.search(r'[a-z가-힣!]', j):\n",
    "        i[i.index(j)] = j\n",
    "    else:\n",
    "        try:\n",
    "            i[i.index(j)] = float(j.replace(',', ''))\n",
    "        except:\n",
    "            pass\n",
    "\n",
    "for j in i:     # 위 코드와 본 코드는 동일.\n",
    "        try:\n",
    "            i[i.index(j)] = float(j.replace(',', ''))\n",
    "        except:\n",
    "            pass        \n",
    "\n",
    "print(i)"
   ]
  },
  {
   "cell_type": "code",
   "execution_count": 1,
   "metadata": {},
   "outputs": [
    {
     "name": "stdout",
     "output_type": "stream",
     "text": [
      "[['구 ', ' 계   ', ' 한국인  ', ' 등록외국인  ', ' 고령자  '], ['종로구', ' 152,212 ', ' 141,060 ', ' 11,152 ', ' 28,265 '], ['중구', ' 131,390 ', ' 120,963 ', ' 10,427 ', ' 25,353 '], ['용산구', ' 232,482 ', ' 217,756 ', ' 14,726 ', ' 39,478 '], ['성동구', ' 287,240 ', ' 280,240 ', ' 7,000 ', ' 48,238 '], ['광진구', ' 350,925 ', ' 336,801 ', ' 14,124 ', ' 54,854 '], ['동대문구', ' 354,884 ', ' 337,574 ', ' 17,310 ', ' 65,154 '], ['중랑구', ' 389,928 ', ' 385,003 ', ' 4,925 ', ' 76,116 '], ['성북구', ' 441,855 ', ' 430,100 ', ' 11,755 ', ' 78,427 '], ['강북구', ' 296,934 ', ' 292,762 ', ' 4,172 ', ' 67,056 '], ['도봉구', ' 312,858 ', ' 310,509 ', ' 2,349 ', ' 68,114 '], ['노원구', ' 506,989 ', ' 502,515 ', ' 4,474 ', ' 93,279 '], ['은평구', ' 468,766 ', ' 464,871 ', ' 3,895 ', ' 90,556 '], ['서대문구', ' 321,966 ', ' 308,437 ', ' 13,529 ', ' 56,785 '], ['마포구', ' 376,542 ', ' 365,570 ', ' 10,972 ', ' 56,582 '], ['양천구', ' 442,345 ', ' 439,219 ', ' 3,126 ', ' 73,522 '], ['강서구', ' 573,711 ', ' 568,287 ', ' 5,424 ', ' 98,659 '], ['구로구', ' 417,983 ', ' 395,183 ', ' 22,800 ', ' 77,259 '], ['금천구', ' 242,467 ', ' 229,307 ', ' 13,160 ', ' 43,772 '], ['영등포구', ' 398,999 ', ' 376,614 ', ' 22,385 ', ' 66,014 '], ['동작구', ' 390,377 ', ' 380,201 ', ' 10,176 ', ' 68,766 '], ['관악구', ' 502,628 ', ' 487,815 ', ' 14,813 ', ' 83,420 '], ['서초구', ' 408,979 ', ' 404,831 ', ' 4,148 ', ' 63,328 '], ['강남구', ' 537,817 ', ' 532,798 ', ' 5,019 ', ' 83,097 '], ['송파구', ' 663,704 ', ' 658,006 ', ' 5,698 ', ' 105,161 '], ['강동구', ' 464,027 ', ' 459,982 ', ' 4,045 ', ' 79,706 ']]\n"
     ]
    },
    {
     "data": {
      "text/plain": [
       "[['구 ', ' 계   ', ' 한국인  ', ' 등록외국인  ', ' 고령자  '],\n",
       " ['종로구', 152212.0, 141060.0, 11152.0, 28265.0],\n",
       " ['중구', 131390.0, 120963.0, 10427.0, 25353.0],\n",
       " ['용산구', 232482.0, 217756.0, 14726.0, 39478.0],\n",
       " ['성동구', 287240.0, 280240.0, 7000.0, 48238.0],\n",
       " ['광진구', 350925.0, 336801.0, 14124.0, 54854.0],\n",
       " ['동대문구', 354884.0, 337574.0, 17310.0, 65154.0],\n",
       " ['중랑구', 389928.0, 385003.0, 4925.0, 76116.0],\n",
       " ['성북구', 441855.0, 430100.0, 11755.0, 78427.0],\n",
       " ['강북구', 296934.0, 292762.0, 4172.0, 67056.0],\n",
       " ['도봉구', 312858.0, 310509.0, 2349.0, 68114.0],\n",
       " ['노원구', 506989.0, 502515.0, 4474.0, 93279.0],\n",
       " ['은평구', 468766.0, 464871.0, 3895.0, 90556.0],\n",
       " ['서대문구', 321966.0, 308437.0, 13529.0, 56785.0],\n",
       " ['마포구', 376542.0, 365570.0, 10972.0, 56582.0],\n",
       " ['양천구', 442345.0, 439219.0, 3126.0, 73522.0],\n",
       " ['강서구', 573711.0, 568287.0, 5424.0, 98659.0],\n",
       " ['구로구', 417983.0, 395183.0, 22800.0, 77259.0],\n",
       " ['금천구', 242467.0, 229307.0, 13160.0, 43772.0],\n",
       " ['영등포구', 398999.0, 376614.0, 22385.0, 66014.0],\n",
       " ['동작구', 390377.0, 380201.0, 10176.0, 68766.0],\n",
       " ['관악구', 502628.0, 487815.0, 14813.0, 83420.0],\n",
       " ['서초구', 408979.0, 404831.0, 4148.0, 63328.0],\n",
       " ['강남구', 537817.0, 532798.0, 5019.0, 83097.0],\n",
       " ['송파구', 663704.0, 658006.0, 5698.0, 105161.0],\n",
       " ['강동구', 464027.0, 459982.0, 4045.0, 79706.0]]"
      ]
     },
     "execution_count": 1,
     "metadata": {},
     "output_type": "execute_result"
    }
   ],
   "source": [
    "import usecsv\n",
    "\n",
    "total = usecsv.opencsv(r'D:\\python-prectice1\\prectice_python\\2024_06_26_wed\\popSeoul2023.csv')\n",
    "print(total)\n",
    "usecsv.switch(total)"
   ]
  },
  {
   "cell_type": "code",
   "execution_count": 3,
   "metadata": {},
   "outputs": [
    {
     "ename": "SyntaxError",
     "evalue": "(unicode error) 'unicodeescape' codec can't decode bytes in position 2-3: truncated \\uXXXX escape (1243154318.py, line 2)",
     "output_type": "error",
     "traceback": [
      "\u001b[1;36m  Cell \u001b[1;32mIn[3], line 2\u001b[1;36m\u001b[0m\n\u001b[1;33m    os.chdir('C:\\users\\python')\u001b[0m\n\u001b[1;37m                              ^\u001b[0m\n\u001b[1;31mSyntaxError\u001b[0m\u001b[1;31m:\u001b[0m (unicode error) 'unicodeescape' codec can't decode bytes in position 2-3: truncated \\uXXXX escape\n"
     ]
    }
   ],
   "source": [
    "import os\n",
    "os.chdir('C:\\users\\python')"
   ]
  },
  {
   "cell_type": "code",
   "execution_count": 5,
   "metadata": {},
   "outputs": [
    {
     "ename": "TypeError",
     "evalue": "chdir() missing required argument 'path' (pos 1)",
     "output_type": "error",
     "traceback": [
      "\u001b[1;31m---------------------------------------------------------------------------\u001b[0m",
      "\u001b[1;31mTypeError\u001b[0m                                 Traceback (most recent call last)",
      "Cell \u001b[1;32mIn[5], line 2\u001b[0m\n\u001b[0;32m      1\u001b[0m \u001b[38;5;28;01mimport\u001b[39;00m \u001b[38;5;21;01mos\u001b[39;00m\n\u001b[1;32m----> 2\u001b[0m \u001b[43mos\u001b[49m\u001b[38;5;241;43m.\u001b[39;49m\u001b[43mchdir\u001b[49m\u001b[43m(\u001b[49m\u001b[43mtotal\u001b[49m\u001b[43m \u001b[49m\u001b[38;5;241;43m=\u001b[39;49m\u001b[43m \u001b[49m\u001b[43musecsv\u001b[49m\u001b[38;5;241;43m.\u001b[39;49m\u001b[43mopencsv\u001b[49m\u001b[43m(\u001b[49m\u001b[38;5;124;43mr\u001b[39;49m\u001b[38;5;124;43m'\u001b[39;49m\u001b[38;5;124;43mD:\u001b[39;49m\u001b[38;5;124;43m\\\u001b[39;49m\u001b[38;5;124;43mpython-prectice1\u001b[39;49m\u001b[38;5;124;43m\\\u001b[39;49m\u001b[38;5;124;43mprectice_python\u001b[39;49m\u001b[38;5;124;43m\\\u001b[39;49m\u001b[38;5;124;43m2024_06_26_wed\u001b[39;49m\u001b[38;5;124;43m\\\u001b[39;49m\u001b[38;5;124;43mpopSeoul2023.csv\u001b[39;49m\u001b[38;5;124;43m'\u001b[39;49m\u001b[43m)\u001b[49m\u001b[43m)\u001b[49m\n",
      "\u001b[1;31mTypeError\u001b[0m: chdir() missing required argument 'path' (pos 1)"
     ]
    }
   ],
   "source": [
    "import os\n",
    "os.chdir(total = usecsv.opencsv(r'D:\\python-prectice1\\prectice_python\\2024_06_26_wed\\popSeoul2023.csv'))\n"
   ]
  },
  {
   "cell_type": "code",
   "execution_count": null,
   "metadata": {},
   "outputs": [],
   "source": []
  }
 ],
 "metadata": {
  "kernelspec": {
   "display_name": "base",
   "language": "python",
   "name": "python3"
  },
  "language_info": {
   "codemirror_mode": {
    "name": "ipython",
    "version": 3
   },
   "file_extension": ".py",
   "mimetype": "text/x-python",
   "name": "python",
   "nbconvert_exporter": "python",
   "pygments_lexer": "ipython3",
   "version": "3.11.9"
  }
 },
 "nbformat": 4,
 "nbformat_minor": 2
}
