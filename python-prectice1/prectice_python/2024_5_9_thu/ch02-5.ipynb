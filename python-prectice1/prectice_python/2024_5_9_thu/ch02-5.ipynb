{
 "cells": [
  {
   "cell_type": "code",
   "execution_count": 1,
   "metadata": {},
   "outputs": [],
   "source": [
    "# 딕셔너리 자료형\n",
    "\n",
    "# 딕셔너리 자료형은 순서에 구애를 받지 않음. 리스트형과 양대산맥. 정렬화와 색인이 되어 있어서 확인이 편함.\n",
    "# \"키\"만 알면 다 가능.\n",
    "#\"이름\",\"baseball\"<- 키. # 사전을 찾을때 b부터 찾겠지. 베이스볼을 찾고 나서 그에 대한 값은 야구다. 밸류가 야구.\n",
    "# 즉 단어가 있는 곳만 펼쳐 보는 것."
   ]
  },
  {
   "cell_type": "code",
   "execution_count": 3,
   "metadata": {},
   "outputs": [
    {
     "data": {
      "text/plain": [
       "{'name': 'pey', 'phone': '010-8529-2611', 'birth': '1118'}"
      ]
     },
     "execution_count": 3,
     "metadata": {},
     "output_type": "execute_result"
    }
   ],
   "source": [
    "# 딕셔너리의 기본 모습\n",
    "#{} 중괄호, 콤마. \n",
    "dic = {'name':'pey', 'phone' : '010-8529-2611', 'birth': '1118'}\n",
    "dic"
   ]
  },
  {
   "cell_type": "code",
   "execution_count": 4,
   "metadata": {},
   "outputs": [
    {
     "data": {
      "text/plain": [
       "{'phone': '010-8529-2611', 'name': 'pey', 'birth': '1118'}"
      ]
     },
     "execution_count": 4,
     "metadata": {},
     "output_type": "execute_result"
    }
   ],
   "source": [
    "dic = {'phone' : '010-8529-2611' , 'name':'pey', 'birth': '1118'}\n",
    "dic # 회원가입 받을때 개인정보등을 받을때 유용. 성별 이름 주소 번호등등을 키로 분간하는 것. 키+밸류로"
   ]
  },
  {
   "cell_type": "code",
   "execution_count": 5,
   "metadata": {},
   "outputs": [
    {
     "data": {
      "text/plain": [
       "{1: 'hi'}"
      ]
     },
     "execution_count": 5,
     "metadata": {},
     "output_type": "execute_result"
    }
   ],
   "source": [
    "a = {1:'hi'} # 정숫값과 문자열 다 가능. 그러나 왼쪽에 문자열을 주로 넣음. 오른쪽에 넣어도 상관은 없지만 빅데이터상.\n",
    "a"
   ]
  },
  {
   "cell_type": "code",
   "execution_count": 6,
   "metadata": {},
   "outputs": [
    {
     "data": {
      "text/plain": [
       "{'a': [1, 2, 3], 'b': (1, 2, 3)}"
      ]
     },
     "execution_count": 6,
     "metadata": {},
     "output_type": "execute_result"
    }
   ],
   "source": [
    "#  딕셔너리 안에 리스트, 튜플 추가하기\n",
    "a = {'a' : [1,2,3], 'b' : (1,2,3)} # 딕셔너리 안에 튜플과 리스트도 삽입 가능.\n",
    "a                                  # 콤마 기준으로 뒤로 무한정으로도 추가 가능"
   ]
  },
  {
   "cell_type": "code",
   "execution_count": 8,
   "metadata": {},
   "outputs": [
    {
     "name": "stdout",
     "output_type": "stream",
     "text": [
      "<class 'dict'>\n"
     ]
    },
    {
     "data": {
      "text/plain": [
       "{1: 'a', 2: 'b'}"
      ]
     },
     "execution_count": 8,
     "metadata": {},
     "output_type": "execute_result"
    }
   ],
   "source": [
    "# 딕셔너리 쌍 추가,삭제 하기\n",
    "a = {1:'a'}\n",
    "a[2] = 'b'                   # 딕셔너리 자료형 안에 2라는 key에 b라는 문자를 추가.\n",
    "print(type(a))               # dict: 자료형의 타입.\n",
    "a                            # 2라는 키에 문자를 추가하겠다는 뜻"
   ]
  },
  {
   "cell_type": "code",
   "execution_count": 9,
   "metadata": {},
   "outputs": [
    {
     "data": {
      "text/plain": [
       "{1: 'a', 2: 'b', 3: [1, 2, 3]}"
      ]
     },
     "execution_count": 9,
     "metadata": {},
     "output_type": "execute_result"
    }
   ],
   "source": [
    "a[3] = [1, 2, 3]\n",
    "a"
   ]
  },
  {
   "cell_type": "code",
   "execution_count": 10,
   "metadata": {},
   "outputs": [
    {
     "data": {
      "text/plain": [
       "{2: 'b', 3: [1, 2, 3]}"
      ]
     },
     "execution_count": 10,
     "metadata": {},
     "output_type": "execute_result"
    }
   ],
   "source": [
    "# 딕셔너리 요소 삭제하기\n",
    "# 인덱스가 아님. \n",
    "del a[1]\n",
    "a               # 첫번째 인덱스인 1의 키를 삭제함. "
   ]
  },
  {
   "cell_type": "code",
   "execution_count": 12,
   "metadata": {},
   "outputs": [
    {
     "name": "stdout",
     "output_type": "stream",
     "text": [
      "10\n",
      "99\n"
     ]
    }
   ],
   "source": [
    "# 딕셔너리에서 키를 사용해 밸류 열기(문자열 키) 열쇠만 생각하면 값을 가져온다는 뜻. 인덱스보다는. 키가 \n",
    "grade = {'pey': 10, 'julliet': 99}\n",
    "print(grade['pey'])\n",
    "print(grade['julliet'])"
   ]
  },
  {
   "cell_type": "code",
   "execution_count": 13,
   "metadata": {},
   "outputs": [
    {
     "name": "stdout",
     "output_type": "stream",
     "text": [
      "a\n",
      "b\n"
     ]
    }
   ],
   "source": [
    "# 딕셔너리에서 키를 사용해 밸류 얻기(숫자 키)\n",
    "a = {1:'a', 2: 'b'}\n",
    "print(a[1])\n",
    "print(a[2])"
   ]
  },
  {
   "cell_type": "code",
   "execution_count": 14,
   "metadata": {},
   "outputs": [
    {
     "name": "stdout",
     "output_type": "stream",
     "text": [
      "1\n",
      "2\n"
     ]
    }
   ],
   "source": [
    "a = {'a':1, 'b': 2}\n",
    "print(a['a'])               # 역으로 이런상황에서도 키를 사용해서 얻었다. a 변수에 a가 뭐냐는 뜻\n",
    "print(a['b'])"
   ]
  },
  {
   "cell_type": "code",
   "execution_count": 15,
   "metadata": {},
   "outputs": [
    {
     "data": {
      "text/plain": [
       "{1: 'b'}"
      ]
     },
     "execution_count": 15,
     "metadata": {},
     "output_type": "execute_result"
    }
   ],
   "source": [
    "# 딕셔너리 만들때 주의할 사항\n",
    "# 1. 키는 무조건 하나. 중복이 될 경우 앞선 것은 묻혀짐. 2번보다 1번이 훨씬 중요.\n",
    "a={1:'a', 1:'b'}\n",
    "a                      "
   ]
  },
  {
   "cell_type": "code",
   "execution_count": 20,
   "metadata": {},
   "outputs": [
    {
     "data": {
      "text/plain": [
       "{(1, 2): 'hi'}"
      ]
     },
     "execution_count": 20,
     "metadata": {},
     "output_type": "execute_result"
    }
   ],
   "source": [
    "# 딕셔너리 만들 때 주의할 사항\n",
    "# 2. 키로 리스트는 쓸 수가 없지만 튜플은 키로 사용이 가능. 그러나 잘 쓰이는 경우는 아님.\n",
    "a = {(1,2) : 'hi'}\n",
    "a"
   ]
  },
  {
   "cell_type": "code",
   "execution_count": 21,
   "metadata": {},
   "outputs": [],
   "source": [
    "# 딕셔너리 관련 함수\n",
    "# 리스트나 튜플에는 없음"
   ]
  },
  {
   "cell_type": "code",
   "execution_count": 22,
   "metadata": {},
   "outputs": [
    {
     "data": {
      "text/plain": [
       "['name', 'phone', 'birth']"
      ]
     },
     "execution_count": 22,
     "metadata": {},
     "output_type": "execute_result"
    }
   ],
   "source": [
    "# key 리스트 만들기- keys(키즈)\n",
    "a = {'name' : 'pey', 'phone' : '01085292611', 'birth' : '1118'}\n",
    "list(a.keys())  #list(a.keys())를 사용하면 리턴값으로 리스트가 나온다. 3.0 이후에는."
   ]
  },
  {
   "cell_type": "code",
   "execution_count": 23,
   "metadata": {},
   "outputs": [],
   "source": [
    "# 키즈가 있다면 밸류즈도 있겠지?\n",
    "# 라이트한 함수만 제공 가능. 어펜드 인설트 팝 리무브 소트함수는 수행 불가. 이런 단점이 있음. 일단은 스킵"
   ]
  },
  {
   "cell_type": "code",
   "execution_count": 24,
   "metadata": {},
   "outputs": [
    {
     "data": {
      "text/plain": [
       "['pey', '01085292611', '1118']"
      ]
     },
     "execution_count": 24,
     "metadata": {},
     "output_type": "execute_result"
    }
   ],
   "source": [
    "# 딕셔너리 관련 함수\n",
    "# 밸류 리스트 만들기 - values\n",
    "list(a.values())"
   ]
  },
  {
   "cell_type": "code",
   "execution_count": 26,
   "metadata": {},
   "outputs": [
    {
     "data": {
      "text/plain": [
       "dict_items([('name', 'pey'), ('phone', '01085292611'), ('birth', '1118')])"
      ]
     },
     "execution_count": 26,
     "metadata": {},
     "output_type": "execute_result"
    }
   ],
   "source": [
    "# 키, 밸류 쌍얻기 = items\n",
    "a.items() # 원소는 튜플이고 전체 리턴값은 리스트."
   ]
  },
  {
   "cell_type": "code",
   "execution_count": 27,
   "metadata": {},
   "outputs": [
    {
     "data": {
      "text/plain": [
       "{}"
      ]
     },
     "execution_count": 27,
     "metadata": {},
     "output_type": "execute_result"
    }
   ],
   "source": [
    "# 키:밸류 쌍 모두 지우기 - clear. 다 지우는 것.\n",
    "a.clear()\n",
    "a"
   ]
  },
  {
   "cell_type": "code",
   "execution_count": 32,
   "metadata": {},
   "outputs": [
    {
     "ename": "NameError",
     "evalue": "name 'name' is not defined",
     "output_type": "error",
     "traceback": [
      "\u001b[1;31m---------------------------------------------------------------------------\u001b[0m",
      "\u001b[1;31mNameError\u001b[0m                                 Traceback (most recent call last)",
      "Cell \u001b[1;32mIn[32], line 5\u001b[0m\n\u001b[0;32m      3\u001b[0m a\u001b[38;5;241m.\u001b[39mget(\u001b[38;5;124m'\u001b[39m\u001b[38;5;124mname\u001b[39m\u001b[38;5;124m'\u001b[39m)               \u001b[38;5;66;03m#겟을 대신해서 사용할 수 있는 기능이 많긴 함.\u001b[39;00m\n\u001b[0;32m      4\u001b[0m                             \u001b[38;5;66;03m# a.get('name') a['name']은 같음\u001b[39;00m\n\u001b[1;32m----> 5\u001b[0m a\u001b[38;5;241m.\u001b[39mget [(\u001b[38;5;124m'\u001b[39m\u001b[38;5;124mphone\u001b[39m\u001b[38;5;124m'\u001b[39m),(name)]\n",
      "\u001b[1;31mNameError\u001b[0m: name 'name' is not defined"
     ]
    }
   ],
   "source": [
    "# 키로 벨류 얻기 - get\n",
    "a = {'name' : 'pey', 'phone' : '01085292611', 'birth' : '1118'}\n",
    "a.get('name')               #겟을 대신해서 사용할 수 있는 기능이 많긴 함.\n",
    "                            # a.get('name') a['name']은 같음\n",
    "a.get ('phone'),(name)"
   ]
  },
  {
   "cell_type": "code",
   "execution_count": 34,
   "metadata": {},
   "outputs": [
    {
     "ename": "SyntaxError",
     "evalue": "invalid syntax (857881541.py, line 2)",
     "output_type": "error",
     "traceback": [
      "\u001b[1;36m  Cell \u001b[1;32mIn[34], line 2\u001b[1;36m\u001b[0m\n\u001b[1;33m    print(a.get('abcd'))        a의 리턴값은 none. 없다는 뜻\u001b[0m\n\u001b[1;37m                                ^\u001b[0m\n\u001b[1;31mSyntaxError\u001b[0m\u001b[1;31m:\u001b[0m invalid syntax\n"
     ]
    }
   ],
   "source": [
    "# 딕셔너리 값 가져오는 겟과 []의 차이점.\n",
    "print(a.get('abcd'))        # a의 리턴값은 none. 없다는 뜻.\n",
    "print(a['abcd'])            # #이것은 에러가 뜸. 그래서 get을 사용하는것이 나음. 에러처리를 한다면 후자도 괜찮겠지."
   ]
  },
  {
   "cell_type": "code",
   "execution_count": 36,
   "metadata": {},
   "outputs": [
    {
     "name": "stdout",
     "output_type": "stream",
     "text": [
      "foo\n"
     ]
    }
   ],
   "source": [
    "print(a.get('abcd','foo')) # foo. abcd라는 키가 없는경우 foo가 출력."
   ]
  },
  {
   "cell_type": "code",
   "execution_count": 39,
   "metadata": {},
   "outputs": [
    {
     "name": "stdout",
     "output_type": "stream",
     "text": [
      "True\n",
      "False\n"
     ]
    }
   ],
   "source": [
    "# 해당 키가 딕셔너리 안에 있는지 조사하기 - in\n",
    "a = {'name' : 'pey', 'phone' : '01085292611', 'birth' : '1118'}\n",
    "print('name' in a) # 인 앞뒤로 무조건 띄워주어야 문법오류가 나지 않음. 네임이라는 키워드가 있기 때문에 있다는 true가 나옴\n",
    "print('email' in a) # 없으니 폴스"
   ]
  },
  {
   "cell_type": "code",
   "execution_count": 49,
   "metadata": {},
   "outputs": [
    {
     "data": {
      "text/plain": [
       "{'name': 'jason', 'phone': '01085292611', 'birth': '1118'}"
      ]
     },
     "execution_count": 49,
     "metadata": {},
     "output_type": "execute_result"
    }
   ],
   "source": [
    "# 딕셔너리 값 수정. *책에는 나와있지 않음. 딕셔너리 안에 있으면 수정. 없으면 추가가 됨.\n",
    "a = {'name' : 'pey', 'phone' : '01085292611', 'birth' : '1118'}\n",
    "a['name'] = 'jason' # a= [name] = 'jason 이 아님. a에 =을 붙여주면 안됨. 자주 틀리는 오류\n",
    "a"
   ]
  },
  {
   "cell_type": "code",
   "execution_count": 55,
   "metadata": {},
   "outputs": [
    {
     "data": {
      "text/plain": [
       "{}"
      ]
     },
     "execution_count": 55,
     "metadata": {},
     "output_type": "execute_result"
    }
   ],
   "source": [
    "# 문제 1\n",
    "# temp이름의 비어있는 딕셔너리를 만들라. 리스트와 똑같이.\n",
    "temp={}\n",
    "temp\n",
    "\n",
    "temp = dict() # 이 방법도 가능.\n",
    "temp"
   ]
  },
  {
   "cell_type": "code",
   "execution_count": 58,
   "metadata": {},
   "outputs": [
    {
     "data": {
      "text/plain": [
       "{'메로나': 1000, '폴라포': 1200, '빵빠레': 1800}"
      ]
     },
     "execution_count": 58,
     "metadata": {},
     "output_type": "execute_result"
    }
   ],
   "source": [
    "# 문제2\n",
    "# 딕셔너리로 표현ㄱ\n",
    "a = {'메로나' : '1000', '폴라포' : '1200', '빵빠레' : '1800'}\n",
    "a\n",
    "\n",
    "# 다른 답\n",
    "a = a = {\"메로나\" : 1000, \"폴라포\" : 1200, \"빵빠레\" : 1800}\n",
    "a"
   ]
  },
  {
   "cell_type": "code",
   "execution_count": 70,
   "metadata": {},
   "outputs": [
    {
     "data": {
      "text/plain": [
       "{'메로나': '1000', '폴라포': '1200', '빵빠레': '1800', '죠스바': 1200, '월드콘': 1500}"
      ]
     },
     "execution_count": 70,
     "metadata": {},
     "output_type": "execute_result"
    }
   ],
   "source": [
    "문제 3\n",
    "a = {'메로나' : '1000', '폴라포' : '1200', '빵빠레' : '1800'}\n",
    "a['죠스바'] = 1200\n",
    "a['월드콘'] = 1500\n",
    "a\n"
   ]
  },
  {
   "cell_type": "code",
   "execution_count": 76,
   "metadata": {},
   "outputs": [
    {
     "name": "stdout",
     "output_type": "stream",
     "text": [
      "{'메로나': '1000', '폴라포': '1200', '빵빠레': '1800', '죠스바': 1200, '월드콘': 1800}\n"
     ]
    }
   ],
   "source": [
    "# 문제 4\n",
    "a={'메로나': '1000', '폴라포': '1200', '빵빠레': '1800', '죠스바': 1200, '월드콘': 1500}\n",
    "a['월드콘'] = 1600\n",
    "a\n",
    "\n",
    "# 다른 답.\n",
    "a['월드콘'] = a['월드콘']+ 100\n",
    "a\n",
    "\n",
    "# 다른 답\n",
    "a['월드콘'] += 100\n",
    "print(a)"
   ]
  },
  {
   "cell_type": "code",
   "execution_count": 88,
   "metadata": {},
   "outputs": [
    {
     "data": {
      "text/plain": [
       "{'메로나': [300, 20], '비비빅': [400, 3], '죠스바': [250, 100]}"
      ]
     },
     "execution_count": 88,
     "metadata": {},
     "output_type": "execute_result"
    }
   ],
   "source": [
    "# 문제 5\n",
    "# 아이스크림 이름을 키값, (가격 재고) 리스트를 딕셔너리의 값으로. 딕셔너리 이름은 inventory.\n",
    "inventory = {\"메로나\" : [300 , 20], \"비비빅\" : [400 , 3], \"죠스바\" : [250,100]}\n",
    "inventory\n",
    "\n",
    "# 정답\n",
    "inventory = {\n",
    "    \"메로나\" : [300 , 20], \n",
    "    \"비비빅\" : [400 , 3], \n",
    "    \"죠스바\" : [250,100],  # 개발할떈 세로로 이렇게 넣는것이 눈에 보기 편함. 또 뒤에 콤마를 허용해줌. 딕셔너리는.\n",
    "}\n",
    "inventory "
   ]
  },
  {
   "cell_type": "code",
   "execution_count": 90,
   "metadata": {},
   "outputs": [
    {
     "data": {
      "text/plain": [
       "{'a': {'b': '중첩 딕셔너리 테스트'}, 'b': '테스트'}"
      ]
     },
     "execution_count": 90,
     "metadata": {},
     "output_type": "execute_result"
    }
   ],
   "source": [
    "# 중첩 딕셔너리\n",
    "a = {\"a\" : { \"b\" : \"중첩 딕셔너리 테스트\"},\n",
    "\"b\" : \"테스트\"\n",
    "}\n",
    "a               # 결과도 이쁘게 세로로 나올 수 있게 하는 코드가 있음. 나중에."
   ]
  },
  {
   "cell_type": "code",
   "execution_count": 98,
   "metadata": {},
   "outputs": [
    {
     "name": "stdout",
     "output_type": "stream",
     "text": [
      "[300, 20]\n",
      "300\n",
      "300\n"
     ]
    }
   ],
   "source": [
    "# 문제 6\n",
    "# 위 inventory 딕셔너리에서 메로나의 가격을 화면에 출력하라.\n",
    "inventory = {\n",
    "    \"메로나\" : [300 , 20], \n",
    "    \"비비빅\" : [400 , 3], \n",
    "    \"죠스바\" : [250,100],\n",
    "}\n",
    "print(inventory.get('메로나'))\n",
    "\n",
    "# 답.  # 오답노트: 가격과 수량을 가져와버렸다. 가격만 가져왔어야 했기에 뒤에 인덱션 0을 불러왔어야 했다.\n",
    "print(inventory[\"메로나\"][0])\n",
    "print(inventory.get(\"메로나\")[0]) # 만일 메로나가 없더라면 -,0,none 등으로 표현 가능."
   ]
  },
  {
   "cell_type": "code",
   "execution_count": 103,
   "metadata": {},
   "outputs": [
    {
     "name": "stdout",
     "output_type": "stream",
     "text": [
      "300원\n",
      "300\n",
      "300 원\n"
     ]
    }
   ],
   "source": [
    " # 위 inventory 메로나 가격 표시를 아래처럼 출력하시오\n",
    " # ex) 300원\n",
    "merona_price = inventory[\"메로나\"][0]\n",
    "#print(merona_price + \"원\")  # 앞에는 숫자고 뒤에는 문자라서 합칠 수 없음. 원을 숫자로 바꿔줘야 함. str을 붙여서\n",
    "print(str(merona_price) + \"원\") # str은 매번 넣어줘야 해서 불편. sep을 주로 사용.\n",
    "print(merona_price)\n",
    "print(merona_price,\"원\", sep = '') # sep -> seperate(구분자. 콤마를 기준으로 띄워짐), end -> endline(끝라인)"
   ]
  },
  {
   "cell_type": "code",
   "execution_count": 106,
   "metadata": {},
   "outputs": [
    {
     "name": "stdout",
     "output_type": "stream",
     "text": [
      "hello\n",
      "world\n",
      "hello world"
     ]
    }
   ],
   "source": [
    "print('hello')\n",
    "print('world')\n",
    "\n",
    "print('hello', end=' ') # -> 엔드라인을 띄워서 띄어쓰기가 가능.\n",
    "print('world', end='') #-> 엔드라인을 붙임."
   ]
  },
  {
   "cell_type": "code",
   "execution_count": 108,
   "metadata": {},
   "outputs": [
    {
     "name": "stdout",
     "output_type": "stream",
     "text": [
      "hello world"
     ]
    }
   ],
   "source": [
    "print('hello', end= ' ', sep = '')\n",
    "print('world', end= '', sep= '') # 전술한 것과 동일. 셒 함수까지 사용한 결과."
   ]
  },
  {
   "cell_type": "code",
   "execution_count": 114,
   "metadata": {},
   "outputs": [
    {
     "name": "stdout",
     "output_type": "stream",
     "text": [
      "4000원\n",
      "4000원\n"
     ]
    }
   ],
   "source": [
    "# 문제 8\n",
    "# 아래 ice_price 딕셔너리에서 판매 금액의 총합을 출력하시오 (ex)4000원)\n",
    "# ice_price = {\"메로나\" : 1000, \"폴라포\" : 1200 \"빵빠레\" : 1800}\n",
    "ice_price = {\"메로나\" : 1000, \"폴라포\" : 1200, \"빵빠레\" : 1800}\n",
    "print(4000,\"원\", sep = '') # 오답노트: 그냥 내가 계산해버림. 각각의 밸류들을 더해줬어야 함. +와 []기호로.\n",
    "\n",
    "\n",
    "# 정답\n",
    "ice_price = {\"메로나\" : 1000, \"폴라포\" : 1200, \"빵빠레\" : 1800}\n",
    "\n",
    "# 예시 1\n",
    "ice_price_total= ice_price[\"메로나\"] + ice_price[\"폴라포\"] + ice_price[\"빵빠레\"]\n",
    "\n",
    "# 예시2\n",
    "ice_price_value_list = list(ice_price.values())\n",
    "ice_price_total = ice_price_value_list[0] + ice_price_value_list[1] + ice_price_value_list[2]\n",
    "\n",
    "# 예시\n",
    "ice_price_total = sum(ice_price_value_list) # ice_price_value_list -> [1000,1200,1800]\n",
    "print(ice_price_total, \"원\", sep = '') # sum이라는 함수 예습. 입력 데이터의 합을 리턴하는 함수. 개편안\n",
    "# 리턴이란? 함수를 실행시켰을때 어떤 값을 돌려받는다는 의미. 즉 출력 또는 결과"
   ]
  },
  {
   "cell_type": "code",
   "execution_count": 122,
   "metadata": {},
   "outputs": [
    {
     "ename": "TypeError",
     "evalue": "unhashable type: 'list'",
     "output_type": "error",
     "traceback": [
      "\u001b[1;31m---------------------------------------------------------------------------\u001b[0m",
      "\u001b[1;31mTypeError\u001b[0m                                 Traceback (most recent call last)",
      "Cell \u001b[1;32mIn[122], line 5\u001b[0m\n\u001b[0;32m      3\u001b[0m a \u001b[38;5;241m=\u001b[39m [\u001b[38;5;241m1\u001b[39m,\u001b[38;5;241m2\u001b[39m,\u001b[38;5;241m3\u001b[39m,] \u001b[38;5;241m*\u001b[39m\u001b[38;5;241m3\u001b[39m\n\u001b[0;32m      4\u001b[0m b \u001b[38;5;241m=\u001b[39m [\u001b[38;5;241m1\u001b[39m,\u001b[38;5;241m2\u001b[39m,\u001b[38;5;241m3\u001b[39m] \u001b[38;5;241m+\u001b[39m [\u001b[38;5;241m1\u001b[39m,\u001b[38;5;241m2\u001b[39m,\u001b[38;5;241m3\u001b[39m,]\n\u001b[1;32m----> 5\u001b[0m c \u001b[38;5;241m=\u001b[39m {a\u001b[38;5;241m+\u001b[39mb}\n",
      "\u001b[1;31mTypeError\u001b[0m: unhashable type: 'list'"
     ]
    }
   ],
   "source": [
    "# 딕셔너리 update() 메소드\n",
    "# 리스트나 튜플에서 더하기 곱하기를 배웠을 것이다.\n",
    "a = [1,2,3,] *3\n",
    "b = [1,2,3] + [1,2,3,]\n",
    "c = {[a]+[b]}\n",
    "\n"
   ]
  },
  {
   "cell_type": "code",
   "execution_count": 127,
   "metadata": {},
   "outputs": [
    {
     "data": {
      "text/plain": [
       "{'탱크보이': 1300, '폴라포': 1000, '빵빠레': 1800, '팥빙수': 2500, '아맛나': 1000}"
      ]
     },
     "execution_count": 127,
     "metadata": {},
     "output_type": "execute_result"
    }
   ],
   "source": [
    "icecream = {\"탱크보이\" : 1200, \"폴라포\" : 1000, \"빵빠레\": 1800}\n",
    "new_product = {\"팥빙수\" : 2500, \"아맛나\" : 1000}\n",
    "\n",
    "icecream.update(new_product) # .업데이트를 통해 더하기가 가능.\n",
    "icecream\n",
    "\n",
    "# 탱크보이가 추가가 된다면 어떻게 될까. 탱크보이 1300원을 추가로 더하면?? 옛날것이 사라지고 이후것이 업뎃됨.\n",
    "# 있으면 수정 없으면 추가\n",
    "\n",
    "icecream = {\"탱크보이\" : 1200, \"폴라포\" : 1000, \"빵빠레\": 1800}\n",
    "new_product = {\"팥빙수\" : 2500, \"아맛나\" : 1000, \"탱크보이\" : 1300}\n",
    "\n",
    "icecream.update(new_product) # .업데이트를 통해 더하기가 가능.\n",
    "icecream"
   ]
  },
  {
   "cell_type": "code",
   "execution_count": 125,
   "metadata": {},
   "outputs": [
    {
     "ename": "SyntaxError",
     "evalue": "invalid syntax (4294848128.py, line 2)",
     "output_type": "error",
     "traceback": [
      "\u001b[1;36m  Cell \u001b[1;32mIn[125], line 2\u001b[1;36m\u001b[0m\n\u001b[1;33m    c = dict{1:\"a\", 2: \"b\"} + {3: \"c\", 4: \"d\"}\u001b[0m\n\u001b[1;37m            ^\u001b[0m\n\u001b[1;31mSyntaxError\u001b[0m\u001b[1;31m:\u001b[0m invalid syntax\n"
     ]
    }
   ],
   "source": []
  },
  {
   "cell_type": "code",
   "execution_count": null,
   "metadata": {},
   "outputs": [],
   "source": []
  }
 ],
 "metadata": {
  "kernelspec": {
   "display_name": "base",
   "language": "python",
   "name": "python3"
  },
  "language_info": {
   "codemirror_mode": {
    "name": "ipython",
    "version": 3
   },
   "file_extension": ".py",
   "mimetype": "text/x-python",
   "name": "python",
   "nbconvert_exporter": "python",
   "pygments_lexer": "ipython3",
   "version": "3.11.7"
  }
 },
 "nbformat": 4,
 "nbformat_minor": 2
}
