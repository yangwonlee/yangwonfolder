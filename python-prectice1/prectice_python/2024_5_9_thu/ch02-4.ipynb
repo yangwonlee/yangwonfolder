{
 "cells": [
  {
   "cell_type": "code",
   "execution_count": 4,
   "metadata": {},
   "outputs": [],
   "source": [
    "# 튜플 자료형\n",
    "t1 = ()                       # 빈 튜플\n",
    "t2 = (1,)                     # 1원소를 가진 튜플 #\n",
    "t3 = (1,2,3)                  # 1,2,3 원소를 가진 튜플\n",
    "t4 = 1,2,3                    # 1,2,3 원소를 가진 튜플\n",
    "t5 = ('a','b',('ab','cd'))    # 튜플안의 또 다른 튜플을 가진 튜플\n",
    "t6 = tuple([1])               # iterable(반복)이 되는 값을 인수로 가짐\n",
    "t7 = (1)                      # 1개는 숫자 혹은 문자형으로 표시\n",
    "t8 = (\"1\")                    # 1개는 숫자 혹은 문자형으로 표시"
   ]
  },
  {
   "cell_type": "code",
   "execution_count": 6,
   "metadata": {},
   "outputs": [
    {
     "name": "stdout",
     "output_type": "stream",
     "text": [
      "()\n",
      "(1,)\n",
      "(1,)\n",
      "1\n"
     ]
    },
    {
     "ename": "NameError",
     "evalue": "name 't8' is not defined",
     "output_type": "error",
     "traceback": [
      "\u001b[1;31m---------------------------------------------------------------------------\u001b[0m",
      "\u001b[1;31mNameError\u001b[0m                                 Traceback (most recent call last)",
      "Cell \u001b[1;32mIn[6], line 5\u001b[0m\n\u001b[0;32m      3\u001b[0m \u001b[38;5;28mprint\u001b[39m(t6)\n\u001b[0;32m      4\u001b[0m \u001b[38;5;28mprint\u001b[39m(t7)\n\u001b[1;32m----> 5\u001b[0m \u001b[38;5;28mprint\u001b[39m(t8)\n",
      "\u001b[1;31mNameError\u001b[0m: name 't8' is not defined"
     ]
    }
   ],
   "source": [
    "print(t1)\n",
    "print(t2)\n",
    "print(t6)\n",
    "print(t7)\n",
    "print(t8)"
   ]
  },
  {
   "cell_type": "code",
   "execution_count": 8,
   "metadata": {},
   "outputs": [
    {
     "name": "stdout",
     "output_type": "stream",
     "text": [
      "<class 'int'>\n",
      "<class 'str'>\n",
      "<class 'list'>\n",
      "<class 'tuple'>\n",
      "<class 'int'>\n"
     ]
    }
   ],
   "source": [
    "# 변수의 형태를 볼 수 있는 type 함수\n",
    "a = 1                           # int\n",
    "b = \"1\"                         # str \n",
    "c = [1]                         # list\n",
    "d = (1,)                        # tuple   튜플은 1개의 요소만 쓸땐 반드시 ,\n",
    "e = (1)                         # int\n",
    "\n",
    "\n",
    "print(type(a))\n",
    "print(type(b))    \n",
    "print(type(c))\n",
    "print(type(d))\n",
    "print(type(e)) # 콤마, 가 있고 없고의 차이가 큼."
   ]
  },
  {
   "cell_type": "code",
   "execution_count": 9,
   "metadata": {},
   "outputs": [
    {
     "ename": "TypeError",
     "evalue": "'tuple' object doesn't support item deletion",
     "output_type": "error",
     "traceback": [
      "\u001b[1;31m---------------------------------------------------------------------------\u001b[0m",
      "\u001b[1;31mTypeError\u001b[0m                                 Traceback (most recent call last)",
      "Cell \u001b[1;32mIn[9], line 3\u001b[0m\n\u001b[0;32m      1\u001b[0m \u001b[38;5;66;03m# 튜플 요솟값을 삭제하려 할때. 에러가남\u001b[39;00m\n\u001b[0;32m      2\u001b[0m t1\u001b[38;5;241m=\u001b[39m(\u001b[38;5;241m1\u001b[39m,\u001b[38;5;241m2\u001b[39m,\u001b[38;5;124m'\u001b[39m\u001b[38;5;124ma\u001b[39m\u001b[38;5;124m'\u001b[39m,\u001b[38;5;124m'\u001b[39m\u001b[38;5;124mb\u001b[39m\u001b[38;5;124m'\u001b[39m)\n\u001b[1;32m----> 3\u001b[0m \u001b[38;5;28;01mdel\u001b[39;00m t1[\u001b[38;5;241m0\u001b[39m]\n",
      "\u001b[1;31mTypeError\u001b[0m: 'tuple' object doesn't support item deletion"
     ]
    }
   ],
   "source": [
    "# 튜플 요솟값을 삭제하려 할때. 에러가남. 바꾸려면 리스트로 바꿔야 함.변경 코드를 넣어야 함.\n",
    "t1=(1,2,'a','b')\n",
    "del t1[0] # 타입에러에서 알린듯이 튜플은객체를 삭제하는 아이템이 없음"
   ]
  },
  {
   "cell_type": "code",
   "execution_count": 13,
   "metadata": {},
   "outputs": [],
   "source": [
    "t1=[1,2,'a','b']\n",
    "del t1[0]"
   ]
  },
  {
   "cell_type": "code",
   "execution_count": 14,
   "metadata": {},
   "outputs": [
    {
     "data": {
      "text/plain": [
       "1"
      ]
     },
     "execution_count": 14,
     "metadata": {},
     "output_type": "execute_result"
    }
   ],
   "source": [
    "# 튜플 인덱싱 \n",
    "t1 = (1,2,'a','b')\n",
    "t1[0]"
   ]
  },
  {
   "cell_type": "code",
   "execution_count": 15,
   "metadata": {},
   "outputs": [
    {
     "data": {
      "text/plain": [
       "'b'"
      ]
     },
     "execution_count": 15,
     "metadata": {},
     "output_type": "execute_result"
    }
   ],
   "source": [
    "t1[3]"
   ]
  },
  {
   "cell_type": "code",
   "execution_count": 16,
   "metadata": {},
   "outputs": [
    {
     "data": {
      "text/plain": [
       "(2, 'a', 'b')"
      ]
     },
     "execution_count": 16,
     "metadata": {},
     "output_type": "execute_result"
    }
   ],
   "source": [
    "# 튜플 슬라이싱\n",
    "t1 = (1,2,'a','b')\n",
    "t1[1:]"
   ]
  },
  {
   "cell_type": "code",
   "execution_count": 18,
   "metadata": {},
   "outputs": [
    {
     "data": {
      "text/plain": [
       "(1, 2, 'a', 'b', 3, 4)"
      ]
     },
     "execution_count": 18,
     "metadata": {},
     "output_type": "execute_result"
    }
   ],
   "source": [
    "# 튜플 더하기\n",
    "t1 = (1,2,'a','b')\n",
    "t2 = (3,4)\n",
    "t3 = t1 + t2\n",
    "t3"
   ]
  },
  {
   "cell_type": "code",
   "execution_count": 20,
   "metadata": {},
   "outputs": [
    {
     "data": {
      "text/plain": [
       "(3, 4, 3, 4, 3, 4)"
      ]
     },
     "execution_count": 20,
     "metadata": {},
     "output_type": "execute_result"
    }
   ],
   "source": [
    "t2 = (3,4)\n",
    "t3 = t2 * 3\n",
    "t3"
   ]
  },
  {
   "cell_type": "code",
   "execution_count": 21,
   "metadata": {},
   "outputs": [
    {
     "data": {
      "text/plain": [
       "4"
      ]
     },
     "execution_count": 21,
     "metadata": {},
     "output_type": "execute_result"
    }
   ],
   "source": [
    "# 튜플 길이 구하기\n",
    "t1 = (1,2,'a','b')              튜플은 리스트와 수정제외 완전히 같다. 2트\n",
    "len(t1) "
   ]
  },
  {
   "cell_type": "code",
   "execution_count": 23,
   "metadata": {},
   "outputs": [
    {
     "data": {
      "text/plain": [
       "()"
      ]
     },
     "execution_count": 23,
     "metadata": {},
     "output_type": "execute_result"
    }
   ],
   "source": [
    "# 문제1\n",
    "# my_variable 이름의 비어있는 튜플 생성하기\n",
    "t1 = ()\n",
    "t1\n",
    "\n",
    "# 정답\n",
    "\n",
    "# 답\n",
    "# my_variable = ()\n",
    "# my_variable = tuple()"
   ]
  },
  {
   "cell_type": "code",
   "execution_count": 49,
   "metadata": {},
   "outputs": [
    {
     "data": {
      "text/plain": [
       "(10,)"
      ]
     },
     "execution_count": 49,
     "metadata": {},
     "output_type": "execute_result"
    }
   ],
   "source": [
    "# 문제 2\n",
    "t1 = (10)\n",
    "t1\n",
    "\n",
    "# 답\n",
    "t1 = (10,) # 오답. 뒤에 콤마 생략함.\n",
    "t1"
   ]
  },
  {
   "cell_type": "code",
   "execution_count": 50,
   "metadata": {},
   "outputs": [
    {
     "data": {
      "text/plain": [
       "tuple"
      ]
     },
     "execution_count": 50,
     "metadata": {},
     "output_type": "execute_result"
    }
   ],
   "source": [
    "# 문제 3# 1,2,3,4 원소를 가진 튜플\n",
    "\n",
    "# 답\n",
    "type((1,2,3,4)) # 데이터 타입은 튜플."
   ]
  },
  {
   "cell_type": "code",
   "execution_count": 47,
   "metadata": {},
   "outputs": [
    {
     "data": {
      "text/plain": [
       "('A', 'b', 'c')"
      ]
     },
     "execution_count": 47,
     "metadata": {},
     "output_type": "execute_result"
    }
   ],
   "source": [
    "# 문제4\n",
    "t = (\"a\",\"b\",\"c\")\n",
    "t = (\"A\",\"b\",\"c\")\n",
    "t\n",
    "\n",
    "# 정답\n",
    "\n",
    "# 답\n",
    "# t[0] = 'A'로 수정 불가. 오류. 무조건 전체를 덮어씌워야 함"
   ]
  },
  {
   "cell_type": "code",
   "execution_count": 51,
   "metadata": {},
   "outputs": [
    {
     "data": {
      "text/plain": [
       "['삼성전자', 'lg전자', 'sk hynix']"
      ]
     },
     "execution_count": 51,
     "metadata": {},
     "output_type": "execute_result"
    }
   ],
   "source": [
    "# 문제 5 #(list 함수를 사용)\n",
    "# interest = ('삼성전자','lg전자', 'sk hynix')\n",
    "interest = ('삼성전자','lg전자','sk hynix')\n",
    "interest = ['삼성전자','lg전자','sk hynix']\n",
    "interest\n",
    "\n",
    "# 답. 오답노트: 리스트 함수를 썼어야 함\n",
    "interest = ('삼성전자','lg전자','sk hynix')\n",
    "list(interest)"
   ]
  },
  {
   "cell_type": "code",
   "execution_count": 60,
   "metadata": {},
   "outputs": [
    {
     "ename": "SyntaxError",
     "evalue": "unmatched ')' (3712920173.py, line 2)",
     "output_type": "error",
     "traceback": [
      "\u001b[1;36m  Cell \u001b[1;32mIn[60], line 2\u001b[1;36m\u001b[0m\n\u001b[1;33m    print(a[2]))\u001b[0m\n\u001b[1;37m               ^\u001b[0m\n\u001b[1;31mSyntaxError\u001b[0m\u001b[1;31m:\u001b[0m unmatched ')'\n"
     ]
    }
   ],
   "source": [
    "# 문제6 #(tuple 함수 사용a=[1,2,3]\n",
    "print(a[2]))\n",
    "interest = ['삼성전자','lg전자','sk hynix']\n",
    "interest = ('삼성전자','lg전자','sk hynix')\n",
    "interest\n",
    "\n",
    "# 답\n",
    "\n",
    "interest = ['삼성전자','lg전자','sk hynix']\n",
    "tuple(interest)\n"
   ]
  },
  {
   "cell_type": "code",
   "execution_count": 63,
   "metadata": {},
   "outputs": [
    {
     "data": {
      "text/plain": [
       "(2, 3, 3, 4)"
      ]
     },
     "execution_count": 63,
     "metadata": {},
     "output_type": "execute_result"
    }
   ],
   "source": [
    "t1 = (2,3)\n",
    "# t1.append(4)             # 튜플은 추가가 불가능하다 3트\n",
    "# t1. insert(2,1)\n",
    "t2 = (3,4)\n",
    "t1 + t2 "
   ]
  },
  {
   "cell_type": "code",
   "execution_count": null,
   "metadata": {},
   "outputs": [],
   "source": []
  }
 ],
 "metadata": {
  "kernelspec": {
   "display_name": "base",
   "language": "python",
   "name": "python3"
  },
  "language_info": {
   "codemirror_mode": {
    "name": "ipython",
    "version": 3
   },
   "file_extension": ".py",
   "mimetype": "text/x-python",
   "name": "python",
   "nbconvert_exporter": "python",
   "pygments_lexer": "ipython3",
   "version": "3.11.7"
  }
 },
 "nbformat": 4,
 "nbformat_minor": 2
}
