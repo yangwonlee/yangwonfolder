{
 "cells": [
  {
   "cell_type": "code",
   "execution_count": 77,
   "metadata": {},
   "outputs": [],
   "source": [
    "# 리스트 자료형\n",
    "\n",
    "# 리스트(List): 순서 중복 수정 삭제 가능. 즉 자유도가 높음. -> 기호표시 []\n",
    "# 튜플(Tuple): 순서, 중복 가능, but 추가, 수정, 삭제 불가 -> ()\n",
    "# 딕셔너리(dictionary): 순서나 중복 없음. 단지 수정 삭제 가능. ->{}\n",
    "# 집합(set): 순서, 중복 불가능. 추가,삭제 가능 -> set()\n",
    "# 5\n",
    "# 리스트 상세설명 "
   ]
  },
  {
   "cell_type": "code",
   "execution_count": 78,
   "metadata": {},
   "outputs": [
    {
     "data": {
      "text/plain": [
       "[1, 3, 5, 7, 9]"
      ]
     },
     "execution_count": 78,
     "metadata": {},
     "output_type": "execute_result"
    }
   ],
   "source": [
    "odd=[1,3,5,7,9]\n",
    "odd"
   ]
  },
  {
   "cell_type": "code",
   "execution_count": 79,
   "metadata": {},
   "outputs": [
    {
     "ename": "TypeError",
     "evalue": "list expected at most 1 argument, got 3",
     "output_type": "error",
     "traceback": [
      "\u001b[1;31m---------------------------------------------------------------------------\u001b[0m",
      "\u001b[1;31mTypeError\u001b[0m                                 Traceback (most recent call last)",
      "Cell \u001b[1;32mIn[79], line 4\u001b[0m\n\u001b[0;32m      2\u001b[0m a\u001b[38;5;241m=\u001b[39m\u001b[38;5;28mlist\u001b[39m() \u001b[38;5;66;03m# 빈 리스트. 그러나 1번이 철자가 더 적기에 널리 애용\u001b[39;00m\n\u001b[0;32m      3\u001b[0m b\u001b[38;5;241m=\u001b[39m[\u001b[38;5;241m1\u001b[39m,\u001b[38;5;241m2\u001b[39m,\u001b[38;5;241m3\u001b[39m] \u001b[38;5;66;03m# 숫자형만을 가진 리스트\u001b[39;00m\n\u001b[1;32m----> 4\u001b[0m b\u001b[38;5;241m=\u001b[39m\u001b[38;5;28mlist\u001b[39m(\u001b[38;5;241m1\u001b[39m,\u001b[38;5;241m2\u001b[39m,\u001b[38;5;241m3\u001b[39m) \u001b[38;5;66;03m# 숫자형만을 가진 리스트\u001b[39;00m\n\u001b[0;32m      5\u001b[0m c\u001b[38;5;241m=\u001b[39m[\u001b[38;5;124m'\u001b[39m\u001b[38;5;124mlife\u001b[39m\u001b[38;5;124m'\u001b[39m, \u001b[38;5;124m'\u001b[39m\u001b[38;5;124mis\u001b[39m\u001b[38;5;124m'\u001b[39m,\u001b[38;5;124m'\u001b[39m\u001b[38;5;124mtoo\u001b[39m\u001b[38;5;124m'\u001b[39m, \u001b[38;5;124m'\u001b[39m\u001b[38;5;124mshort\u001b[39m\u001b[38;5;124m'\u001b[39m] \u001b[38;5;66;03m# 문자열만을 가진 리스트\u001b[39;00m\n\u001b[0;32m      6\u001b[0m d\u001b[38;5;241m=\u001b[39m[\u001b[38;5;241m1\u001b[39m,\u001b[38;5;241m2\u001b[39m,\u001b[38;5;124m'\u001b[39m\u001b[38;5;124mlife\u001b[39m\u001b[38;5;124m'\u001b[39m,\u001b[38;5;124m'\u001b[39m\u001b[38;5;124mis\u001b[39m\u001b[38;5;124m'\u001b[39m] \u001b[38;5;66;03m# 숫자와 문자열 모두 가진 리스트\u001b[39;00m\n",
      "\u001b[1;31mTypeError\u001b[0m: list expected at most 1 argument, got 3"
     ]
    }
   ],
   "source": [
    "a=[] # 빈 리스트\n",
    "a=list() # 빈 리스트. 그러나 1번이 철자가 더 적기에 널리 애용\n",
    "b=[1,2,3] # 숫자형만을 가진 리스트\n",
    "b=list(1,2,3) # 숫자형만을 가진 리스트\n",
    "c=['life', 'is','too', 'short'] # 문자열만을 가진 리스트\n",
    "d=[1,2,'life','is'] # 숫자와 문자열 모두 가진 리스트\n",
    "e=[1,2,['life','is']] # 리스트 안의 또 다른 리스트를 가진 리스트"
   ]
  },
  {
   "cell_type": "code",
   "execution_count": null,
   "metadata": {},
   "outputs": [
    {
     "data": {
      "text/plain": [
       "[1, 2, 3]"
      ]
     },
     "execution_count": 5,
     "metadata": {},
     "output_type": "execute_result"
    }
   ],
   "source": [
    "# 리스트 인덱싱\n",
    "a=[1,2,3]\n",
    "a"
   ]
  },
  {
   "cell_type": "code",
   "execution_count": null,
   "metadata": {},
   "outputs": [
    {
     "data": {
      "text/plain": [
       "1"
      ]
     },
     "execution_count": 6,
     "metadata": {},
     "output_type": "execute_result"
    }
   ],
   "source": [
    "a[0]"
   ]
  },
  {
   "cell_type": "code",
   "execution_count": null,
   "metadata": {},
   "outputs": [
    {
     "data": {
      "text/plain": [
       "4"
      ]
     },
     "execution_count": 8,
     "metadata": {},
     "output_type": "execute_result"
    }
   ],
   "source": [
    "a[0]+a[2] # a는1,2,3이 있으니 a의 0번 인덱싱은 1. 2번 인덱싱은 3. 즉 1+3=4"
   ]
  },
  {
   "cell_type": "code",
   "execution_count": null,
   "metadata": {},
   "outputs": [
    {
     "data": {
      "text/plain": [
       "3"
      ]
     },
     "execution_count": 9,
     "metadata": {},
     "output_type": "execute_result"
    }
   ],
   "source": [
    "a[-1] # 오른쪽에서부터 세는 것."
   ]
  },
  {
   "cell_type": "code",
   "execution_count": null,
   "metadata": {},
   "outputs": [],
   "source": [
    ">>> a = [1, 2, 3, ['a', 'b', 'c']] # a,b,c는 원소 하나.\n"
   ]
  },
  {
   "cell_type": "code",
   "execution_count": null,
   "metadata": {},
   "outputs": [
    {
     "name": "stdout",
     "output_type": "stream",
     "text": [
      "1\n",
      "['a', 'b', 'c']\n",
      "['a', 'b', 'c']\n"
     ]
    }
   ],
   "source": [
    "print(a[0]) # 1 -> 위의 것을 실행을 해야 함. 그러면 위의것은 덮어 씌워짐.\n",
    "print(a[-1]) # ['a','b','c']\n",
    "print(a[3]) # ['a','b''c'] "
   ]
  },
  {
   "cell_type": "code",
   "execution_count": null,
   "metadata": {},
   "outputs": [
    {
     "data": {
      "text/plain": [
       "'a'"
      ]
     },
     "execution_count": 13,
     "metadata": {},
     "output_type": "execute_result"
    }
   ],
   "source": [
    "a[-1][0] # a. 123[abc] 의 a를 뽑아낼 때."
   ]
  },
  {
   "cell_type": "code",
   "execution_count": null,
   "metadata": {},
   "outputs": [],
   "source": [
    ">>> a = [1, 2, ['a', 'b', ['Life', 'is']]] # 3중 리스트. 대괄호 세개를 사용해서.\n",
    "   #     0   1           2\n",
    "  #              0   1         2               # 인덱싱한 것.\n",
    "#                             0       1      "
   ]
  },
  {
   "cell_type": "code",
   "execution_count": null,
   "metadata": {},
   "outputs": [
    {
     "data": {
      "text/plain": [
       "'is'"
      ]
     },
     "execution_count": 17,
     "metadata": {},
     "output_type": "execute_result"
    }
   ],
   "source": [
    "a[2][2][1] # 3중 리스트. 그러나 3중은 잘 가지 않음. ai에서는 사용하니 그때 보기로."
   ]
  },
  {
   "cell_type": "code",
   "execution_count": null,
   "metadata": {},
   "outputs": [
    {
     "data": {
      "text/plain": [
       "[1, 2]"
      ]
     },
     "execution_count": 2,
     "metadata": {},
     "output_type": "execute_result"
    }
   ],
   "source": [
    "# 리스트의 슬라이싱\n",
    "a=[1,2,3,4,5] # 문자열이 아닌 리스트.\n",
    "a[0:2] # 인덱스 번호가 0~1까지 또 다른 리스트를 가져온다는 것"
   ]
  },
  {
   "cell_type": "code",
   "execution_count": null,
   "metadata": {},
   "outputs": [
    {
     "name": "stdout",
     "output_type": "stream",
     "text": [
      "[1, 2]\n",
      "[3, 4, 5]\n"
     ]
    }
   ],
   "source": [
    "a=[1,2,3,4,5]\n",
    "b=a[:2]\n",
    "c=a[2:]\n",
    "print(b) # b를 출력한다는 뜻. 즉 2까지를.\n",
    "print(c) # c를 출력한다는 뜻. 3,4,5"
   ]
  },
  {
   "cell_type": "code",
   "execution_count": null,
   "metadata": {},
   "outputs": [
    {
     "data": {
      "text/plain": [
       "[3, ['a', 'b', 'c']]"
      ]
     },
     "execution_count": 6,
     "metadata": {},
     "output_type": "execute_result"
    }
   ],
   "source": [
    "# 중첩된 리스트에서 슬라이싱 하기.\n",
    "a=[1,2,3,['a','b','c']]\n",
    "a[2:5]"
   ]
  },
  {
   "cell_type": "code",
   "execution_count": null,
   "metadata": {},
   "outputs": [
    {
     "name": "stdout",
     "output_type": "stream",
     "text": [
      "[3, ['a', 'b', 'c'], 4]\n",
      "['a', 'b']\n"
     ]
    }
   ],
   "source": [
    "# 중첩된 리스트에서 슬라이싱 하기 2\n",
    "a=[1,2,3,['a','b','c'],4,5]\n",
    "print(a[2:5]) # [3,['a','b','c'],4] #a에서 세번째부터 다섯번째까지의 인덱싱을 출력하라. 즉 abc45\n",
    "print(a[3][:2]) #['a','b'] # a함수 3인 abc에서 두번째까지를 출력하라. 즉 a,b"
   ]
  },
  {
   "cell_type": "code",
   "execution_count": null,
   "metadata": {},
   "outputs": [
    {
     "data": {
      "text/plain": [
       "[1, 2, 3, 4, 5, 6]"
      ]
     },
     "execution_count": 8,
     "metadata": {},
     "output_type": "execute_result"
    }
   ],
   "source": [
    "# 리스트 더하기(+)\n",
    "a=[1,2,3]\n",
    "b=[4,5,6] # 문자열의 더함과 똑같음. 인덱싱끼리 더하는것이 아닌 나열.\n",
    "a+b "
   ]
  },
  {
   "cell_type": "code",
   "execution_count": null,
   "metadata": {},
   "outputs": [
    {
     "data": {
      "text/plain": [
       "[2, 3]"
      ]
     },
     "execution_count": 9,
     "metadata": {},
     "output_type": "execute_result"
    }
   ],
   "source": [
    "# 문제 1\n",
    "# a=[1,2,3,4,5] 리스트에서 슬라이싱 기법을 사용해서 리스트 [2,3]을 출력하세요\n",
    "a=[1,2,3,4,5]\n",
    "a[1:3] # 1은 인덱싱 0, 2는 인덱싱 1, 3은 인덱싱 2. 인덱스 번호 1번과 2번을 출력해야하니 첫번째에서부터 3 전까지. 2:3"
   ]
  },
  {
   "cell_type": "code",
   "execution_count": null,
   "metadata": {},
   "outputs": [
    {
     "data": {
      "text/plain": [
       "[1, 2, 3, 1, 2, 3, 1, 2, 3]"
      ]
     },
     "execution_count": 10,
     "metadata": {},
     "output_type": "execute_result"
    }
   ],
   "source": [
    "# 리스트 반복하기(*) 같은것을 제곱하는것과 상동\n",
    "a=[1,2,3,]\n",
    "a*3"
   ]
  },
  {
   "cell_type": "code",
   "execution_count": null,
   "metadata": {},
   "outputs": [
    {
     "data": {
      "text/plain": [
       "3"
      ]
     },
     "execution_count": 13,
     "metadata": {},
     "output_type": "execute_result"
    }
   ],
   "source": [
    "# 리스트 길이 구하기\n",
    "len(a) # 위에 이미 a변수가 있으니 굳이 a=[1,2,3]을 칠 필요가 없다."
   ]
  },
  {
   "cell_type": "code",
   "execution_count": null,
   "metadata": {},
   "outputs": [
    {
     "ename": "TypeError",
     "evalue": "unsupported operand type(s) for +: 'int' and 'str'",
     "output_type": "error",
     "traceback": [
      "\u001b[1;31m---------------------------------------------------------------------------\u001b[0m",
      "\u001b[1;31mTypeError\u001b[0m                                 Traceback (most recent call last)",
      "Cell \u001b[1;32mIn[14], line 2\u001b[0m\n\u001b[0;32m      1\u001b[0m \u001b[38;5;66;03m# 초보자가 범하기 쉬운 리스트 연산 오류. 숫자와 문자는 더할 수 없음. 즉 오류\u001b[39;00m\n\u001b[1;32m----> 2\u001b[0m a[\u001b[38;5;241m2\u001b[39m] \u001b[38;5;241m+\u001b[39m \u001b[38;5;124m\"\u001b[39m\u001b[38;5;124mhi\u001b[39m\u001b[38;5;124m\"\u001b[39m\n",
      "\u001b[1;31mTypeError\u001b[0m: unsupported operand type(s) for +: 'int' and 'str'"
     ]
    }
   ],
   "source": [
    "# 초보자가 범하기 쉬운 리스트 연산 오류. 숫자와 문자는 더할 수 없음. 즉 오류\n",
    "a[2] + \"hi\""
   ]
  },
  {
   "cell_type": "code",
   "execution_count": null,
   "metadata": {},
   "outputs": [
    {
     "data": {
      "text/plain": [
       "'3hi'"
      ]
     },
     "execution_count": 15,
     "metadata": {},
     "output_type": "execute_result"
    }
   ],
   "source": [
    "str(a[2])+\"hi\" # 윗 터미널에서 볼 수 있듯이 str을 추가하면 문자와 숫자의 연산이 가능. \n",
    "# str= 정수나 실수를 문자열로 바꾸어 주는 파이썬의 내장 함수."
   ]
  },
  {
   "cell_type": "code",
   "execution_count": null,
   "metadata": {},
   "outputs": [
    {
     "name": "stdout",
     "output_type": "stream",
     "text": [
      "3\n",
      "4\n"
     ]
    },
    {
     "data": {
      "text/plain": [
       "[1, 2, 4]"
      ]
     },
     "execution_count": 21,
     "metadata": {},
     "output_type": "execute_result"
    }
   ],
   "source": [
    "# 리스트의 값 수정하기.\n",
    "# 문자열은 수정이 불가하지만 리스트는 가능하다.\n",
    "a=[1,2,3]\n",
    "print(a[2]) # a2를 3이 아닌 4로 강제로 수정을 하였음.\n",
    "\n",
    "a # 수정을 하였으니 시프트 엔터를 눌러도 1,2,4가 뜸"
   ]
  },
  {
   "cell_type": "code",
   "execution_count": null,
   "metadata": {},
   "outputs": [
    {
     "data": {
      "text/plain": [
       "[1, 3]"
      ]
     },
     "execution_count": 25,
     "metadata": {},
     "output_type": "execute_result"
    }
   ],
   "source": [
    "# del이라는 함수를 사용해 리스트의 요소 삭제하기\n",
    "a=[1,2,3] #a 변수엔 1,2,3이 있다.\n",
    "del a[1] # a 변수에 1번째 인덱스를 지워라.\n",
    "a # 그 후 a를 출력하라. 즉 1,3"
   ]
  },
  {
   "cell_type": "code",
   "execution_count": null,
   "metadata": {},
   "outputs": [
    {
     "data": {
      "text/plain": [
       "[1, 2]"
      ]
     },
     "execution_count": 26,
     "metadata": {},
     "output_type": "execute_result"
    }
   ],
   "source": [
    "# 객체. 파이선에서 사용되는 모든 자료형을 뜻함.\n",
    "# 추가적으로 슬라이싱 기법을 사용하여 리스트의 요소 여러개를 한번에 삭제도 가능.\n",
    "ㅁ=[1,2,3,4,5]\n",
    "del ㅁ[2:] #del: 객체. del은 파이썬이 자체적으로 가지고 있는 삭제함수.\n",
    "ㅁ"
   ]
  },
  {
   "cell_type": "code",
   "execution_count": null,
   "metadata": {},
   "outputs": [
    {
     "data": {
      "text/plain": [
       "[1, 2, 3, 4]"
      ]
     },
     "execution_count": 32,
     "metadata": {},
     "output_type": "execute_result"
    }
   ],
   "source": [
    "# 리스트 관련 함수\n",
    "# 리스트에 요소 추가하기 -append(덧붙이다, 첨부하다.)\n",
    "a=[1,2,3]\n",
    "a.append(4) # 4를 추가한다.\n",
    "a"
   ]
  },
  {
   "cell_type": "code",
   "execution_count": null,
   "metadata": {},
   "outputs": [
    {
     "data": {
      "text/plain": [
       "[1, 2, 3, 4, [5, 6], [5, 6]]"
      ]
     },
     "execution_count": 34,
     "metadata": {},
     "output_type": "execute_result"
    }
   ],
   "source": [
    "a.append([5,6])\n",
    "a"
   ]
  },
  {
   "cell_type": "code",
   "execution_count": null,
   "metadata": {},
   "outputs": [
    {
     "data": {
      "text/plain": [
       "[1, 2, 3, 4, [5, 6], [5, 6]]"
      ]
     },
     "execution_count": 35,
     "metadata": {},
     "output_type": "execute_result"
    }
   ],
   "source": [
    "a"
   ]
  },
  {
   "cell_type": "code",
   "execution_count": null,
   "metadata": {},
   "outputs": [
    {
     "data": {
      "text/plain": [
       "[1, 2, 3, 4]"
      ]
     },
     "execution_count": 40,
     "metadata": {},
     "output_type": "execute_result"
    }
   ],
   "source": [
    "# 삭제하고 싶을땐 del\n",
    "del a[4]\n",
    "a"
   ]
  },
  {
   "cell_type": "code",
   "execution_count": null,
   "metadata": {},
   "outputs": [
    {
     "data": {
      "text/plain": [
       "[1, 2, 3, 3, 4]"
      ]
     },
     "execution_count": 41,
     "metadata": {},
     "output_type": "execute_result"
    }
   ],
   "source": [
    "#중복도 가능.\n",
    "a=[1,2,3,3,4]\n",
    "a"
   ]
  },
  {
   "cell_type": "code",
   "execution_count": null,
   "metadata": {},
   "outputs": [
    {
     "data": {
      "text/plain": [
       "[1, 2, 3, 3, 4, [5, 6]]"
      ]
     },
     "execution_count": 44,
     "metadata": {},
     "output_type": "execute_result"
    }
   ],
   "source": [
    "a.append([5,6])\n",
    "a"
   ]
  },
  {
   "cell_type": "code",
   "execution_count": null,
   "metadata": {},
   "outputs": [
    {
     "data": {
      "text/plain": [
       "[1, 2, 3, 4]"
      ]
     },
     "execution_count": 45,
     "metadata": {},
     "output_type": "execute_result"
    }
   ],
   "source": [
    "# 리스트 정렬 함수 -sort\n",
    "a=[1,3,4,2]\n",
    "a.sort() # a 변수를 정렬하라.\n",
    "a"
   ]
  },
  {
   "cell_type": "code",
   "execution_count": null,
   "metadata": {},
   "outputs": [
    {
     "data": {
      "text/plain": [
       "['a', 'b', 'c', 'd']"
      ]
     },
     "execution_count": 48,
     "metadata": {},
     "output_type": "execute_result"
    }
   ],
   "source": [
    "# 문자도 정렬 가능 - sort\n",
    "a=['a','b','d','c']\n",
    "a.sort()\n",
    "a"
   ]
  },
  {
   "cell_type": "code",
   "execution_count": null,
   "metadata": {},
   "outputs": [
    {
     "data": {
      "text/plain": [
       "['ad', 'cb', 'da']"
      ]
     },
     "execution_count": 50,
     "metadata": {},
     "output_type": "execute_result"
    }
   ],
   "source": [
    "# 책에 없는 것.\n",
    "a=['cb','ad','da']\n",
    "a.sort()\n",
    "a"
   ]
  },
  {
   "cell_type": "code",
   "execution_count": null,
   "metadata": {},
   "outputs": [
    {
     "data": {
      "text/plain": [
       "['ab', 'ad', 'ca']"
      ]
     },
     "execution_count": 52,
     "metadata": {},
     "output_type": "execute_result"
    }
   ],
   "source": [
    "a=['ab','ad','ca']\n",
    "a.sort() # 제일 왼쪽에 있는 문자열을 기준으로 정렬. 백과사전과 같이. 왼쪽의 문자열이 같다면 다음 문자를 기준으로\n",
    "a"
   ]
  },
  {
   "cell_type": "code",
   "execution_count": null,
   "metadata": {},
   "outputs": [
    {
     "data": {
      "text/plain": [
       "['b', 'c', 'a']"
      ]
     },
     "execution_count": 55,
     "metadata": {},
     "output_type": "execute_result"
    }
   ],
   "source": [
    "# 리스트 뒤집기- reverse\n",
    "a=['a','c','b'] # 정렬이 아닌 뒤집기\n",
    "\n",
    "a.reverse()\n",
    "a"
   ]
  },
  {
   "cell_type": "code",
   "execution_count": null,
   "metadata": {},
   "outputs": [
    {
     "ename": "ValueError",
     "evalue": "0 is not in list",
     "output_type": "error",
     "traceback": [
      "\u001b[1;31m---------------------------------------------------------------------------\u001b[0m",
      "\u001b[1;31mValueError\u001b[0m                                Traceback (most recent call last)",
      "Cell \u001b[1;32mIn[61], line 4\u001b[0m\n\u001b[0;32m      2\u001b[0m a\u001b[38;5;241m=\u001b[39m[\u001b[38;5;241m1\u001b[39m,\u001b[38;5;241m2\u001b[39m,\u001b[38;5;241m3\u001b[39m]\n\u001b[0;32m      3\u001b[0m a\u001b[38;5;241m.\u001b[39mindex(\u001b[38;5;241m3\u001b[39m) \u001b[38;5;66;03m# 값을 기준으로 인덱스가 어디있는지를 알기 위함. 3은 인덱스 2에 있음. 역으로 없는것을 찾으려하면 에러.\u001b[39;00m\n\u001b[1;32m----> 4\u001b[0m a\u001b[38;5;241m.\u001b[39mindex(\u001b[38;5;241m0\u001b[39m)\n",
      "\u001b[1;31mValueError\u001b[0m: 0 is not in list"
     ]
    }
   ],
   "source": [
    "# 인덱스 반환도 가능. - index\n",
    "a=[1,2,3]\n",
    "a.index(3) # 값을 기준으로 인덱스가 어디있는지를 알기 위함. 3은 인덱스 2에 있음. 역으로 없는것을 찾으려하면 에러.\n",
    "a.index(0) # 에러가 뜸. 0은 리스트에 없다면서 밸류 에러가 뜸. 에러 내용을 잘 보고 판단해야 픽스가 쉬움. 힌트임."
   ]
  },
  {
   "cell_type": "code",
   "execution_count": null,
   "metadata": {},
   "outputs": [
    {
     "data": {
      "text/plain": [
       "['d', 'c', 'b', 'a']"
      ]
     },
     "execution_count": 60,
     "metadata": {},
     "output_type": "execute_result"
    }
   ],
   "source": [
    "a=['a','b','d','c']\n",
    "a.sort()\n",
    "a.reverse() # 함수 두개 동시 사용 가능.\n",
    "a"
   ]
  },
  {
   "cell_type": "code",
   "execution_count": null,
   "metadata": {},
   "outputs": [
    {
     "data": {
      "text/plain": [
       "[4, 1, 2, 3]"
      ]
     },
     "execution_count": 64,
     "metadata": {},
     "output_type": "execute_result"
    }
   ],
   "source": [
    "# 리스트에 요소 삽입 -insert. 도중에 값을 넣을 수 있음. 어펜드는 뒤에만 삽입이 가능하고.\n",
    "a=[1,2,3]\n",
    "# insert(인수1,2)-> 인수1:index번호. 인수2:값\n",
    "a.insert(0,4) # 0번째 인덱스에 4값을 넣는다는 뜻. 0과 4를 넣는다는것이 아닌. 즉 인수 1,2,3이 밀려서 4가 앞에 뜸\n",
    "a"
   ]
  },
  {
   "cell_type": "code",
   "execution_count": null,
   "metadata": {},
   "outputs": [
    {
     "data": {
      "text/plain": [
       "[[1, 2], [1, 2], 12, 4, 1, 2, 3]"
      ]
     },
     "execution_count": 68,
     "metadata": {},
     "output_type": "execute_result"
    }
   ],
   "source": [
    "a.insert(0,[1,2]) # 걍 연습. 대괄호를 넣어서도 추가 가능.\n",
    "a"
   ]
  },
  {
   "cell_type": "code",
   "execution_count": null,
   "metadata": {},
   "outputs": [
    {
     "ename": "TypeError",
     "evalue": "insert expected 2 arguments, got 1",
     "output_type": "error",
     "traceback": [
      "\u001b[1;31m---------------------------------------------------------------------------\u001b[0m",
      "\u001b[1;31mTypeError\u001b[0m                                 Traceback (most recent call last)",
      "Cell \u001b[1;32mIn[71], line 2\u001b[0m\n\u001b[0;32m      1\u001b[0m a\u001b[38;5;241m=\u001b[39m[\u001b[38;5;241m1\u001b[39m,\u001b[38;5;241m2\u001b[39m,\u001b[38;5;241m3\u001b[39m]\n\u001b[1;32m----> 2\u001b[0m a\u001b[38;5;241m.\u001b[39minsert([\u001b[38;5;241m1\u001b[39m,\u001b[38;5;241m5\u001b[39m]) \n\u001b[0;32m      3\u001b[0m a\n",
      "\u001b[1;31mTypeError\u001b[0m: insert expected 2 arguments, got 1"
     ]
    }
   ],
   "source": [
    "a=[1,2,3]\n",
    "a.insert([1,5])  # 3번째 인덱스에 5값을 넣음\n",
    "a"
   ]
  },
  {
   "cell_type": "code",
   "execution_count": 87,
   "metadata": {},
   "outputs": [
    {
     "data": {
      "text/plain": [
       "[1, 2, 1, 2, 3]"
      ]
     },
     "execution_count": 87,
     "metadata": {},
     "output_type": "execute_result"
    }
   ],
   "source": [
    "# 리스트 요소 제거- remove 델은 객체를 넣는거고 리무브는 인수 값을 넣음\n",
    "a=[1,2,3,1,2,3] # d위치가 아닌 값 3을 지우겠다는 것. 두번째 인덱스를 지우고싶다면?\n",
    "a.remove(3) # 제일 왼쪽에 있는 3을 지울 수 있음.\n",
    "a\n"
   ]
  },
  {
   "cell_type": "code",
   "execution_count": 88,
   "metadata": {},
   "outputs": [],
   "source": [
    "a.remove(3)"
   ]
  },
  {
   "cell_type": "code",
   "execution_count": 89,
   "metadata": {},
   "outputs": [
    {
     "data": {
      "text/plain": [
       "[1, 2, 1, 2]"
      ]
     },
     "execution_count": 89,
     "metadata": {},
     "output_type": "execute_result"
    }
   ],
   "source": [
    "a # 오류가 뜨면 처음부터 다시 돌려보면 됨"
   ]
  },
  {
   "cell_type": "code",
   "execution_count": 83,
   "metadata": {},
   "outputs": [
    {
     "ename": "ValueError",
     "evalue": "list.remove(x): x not in list",
     "output_type": "error",
     "traceback": [
      "\u001b[1;31m---------------------------------------------------------------------------\u001b[0m",
      "\u001b[1;31mValueError\u001b[0m                                Traceback (most recent call last)",
      "Cell \u001b[1;32mIn[83], line 1\u001b[0m\n\u001b[1;32m----> 1\u001b[0m a\u001b[38;5;241m.\u001b[39mremove(\u001b[38;5;241m4\u001b[39m)\n",
      "\u001b[1;31mValueError\u001b[0m: list.remove(x): x not in list"
     ]
    }
   ],
   "source": [
    "a.remove(4) # 4가 없는데 삭제하라니까 에러가 뜸."
   ]
  },
  {
   "cell_type": "code",
   "execution_count": 90,
   "metadata": {},
   "outputs": [
    {
     "data": {
      "text/plain": [
       "3"
      ]
     },
     "execution_count": 90,
     "metadata": {},
     "output_type": "execute_result"
    }
   ],
   "source": [
    "# 리스트 요소 끄집어내기 -pop\n",
    "a=[1,2,3] # 리스트의 맨 마지막 요소를 리턴하고 그요소는 삭제하는 것.\n",
    "a.pop()"
   ]
  },
  {
   "cell_type": "code",
   "execution_count": 92,
   "metadata": {},
   "outputs": [
    {
     "data": {
      "text/plain": [
       "2"
      ]
     },
     "execution_count": 92,
     "metadata": {},
     "output_type": "execute_result"
    }
   ],
   "source": [
    "# 리스트에 포함된 요소 x의 개수 세기- count. 리스트 안에 지정한 값x가 몇개있나 세는 것\n",
    "a=[1,2,3,1]\n",
    "a.count(1) # 1이 몇개 있나 세라. 2개 있으니 2. 2가 몇개 있나 세라고 count(2)를 하면 1이 나올테지."
   ]
  },
  {
   "cell_type": "code",
   "execution_count": 93,
   "metadata": {},
   "outputs": [
    {
     "data": {
      "text/plain": [
       "[1, 2, 3, 4, 5]"
      ]
     },
     "execution_count": 93,
     "metadata": {},
     "output_type": "execute_result"
    }
   ],
   "source": [
    "# 리스트 확장- expend. 잘 안쓰이긴 함. x에는 리스트만 올 수 있음. 리스트만 받을 경우에 주로 사용.\n",
    "#원래 a리스트에 x리스트를 더하게 됨.\n",
    "a=[1,2,3,]\n",
    "a.extend([4,5])\n",
    "a"
   ]
  },
  {
   "cell_type": "code",
   "execution_count": 95,
   "metadata": {},
   "outputs": [
    {
     "data": {
      "text/plain": [
       "[1, 2, 3, 4, 5, 6, 7, 6, 7]"
      ]
     },
     "execution_count": 95,
     "metadata": {},
     "output_type": "execute_result"
    }
   ],
   "source": [
    "b=[6,7,]\n",
    "a.extend(b)\n",
    "a # "
   ]
  },
  {
   "cell_type": "code",
   "execution_count": 96,
   "metadata": {},
   "outputs": [],
   "source": [
    "a.extend([4,5]) # [1,2,3,4,5,6,7,4,5] -> a+=[4,5] 복합연산자 +=와 동일한 표현식.\n",
    "# "
   ]
  },
  {
   "cell_type": "code",
   "execution_count": 4,
   "metadata": {},
   "outputs": [
    {
     "name": "stdout",
     "output_type": "stream",
     "text": [
      "['아이언맨', '헐크', '스파이더맨']\n",
      "아이언맨\n",
      "헐크\n",
      "스파이더맨\n"
     ]
    }
   ],
   "source": [
    "# 문제2 \n",
    "a=[\"아이언맨\",\"헐크\",\"스파이더맨\"]\n",
    "a\n",
    "\n",
    "# 선생님 답\n",
    "std_list=[\"아이언맨\",\"헐크\",\"스파이더맨\"]\n",
    "print(std_list)\n",
    "\n",
    "print(std_list[0])\n",
    "print(std_list[1]) # 오답노트:따로 따로 적어야 했음을 몰랐음. 프린트 함수 미사용.\n",
    "print(std_list[2])"
   ]
  },
  {
   "cell_type": "code",
   "execution_count": 207,
   "metadata": {},
   "outputs": [
    {
     "ename": "TypeError",
     "evalue": "list.append() takes exactly one argument (2 given)",
     "output_type": "error",
     "traceback": [
      "\u001b[1;31m---------------------------------------------------------------------------\u001b[0m",
      "\u001b[1;31mTypeError\u001b[0m                                 Traceback (most recent call last)",
      "Cell \u001b[1;32mIn[207], line 10\u001b[0m\n\u001b[0;32m      8\u001b[0m \u001b[38;5;66;03m# 선생님 답\u001b[39;00m\n\u001b[0;32m      9\u001b[0m std_list\u001b[38;5;241m=\u001b[39m[\u001b[38;5;124m\"\u001b[39m\u001b[38;5;124m아이언맨\u001b[39m\u001b[38;5;124m\"\u001b[39m,\u001b[38;5;124m\"\u001b[39m\u001b[38;5;124m헐크\u001b[39m\u001b[38;5;124m\"\u001b[39m,\u001b[38;5;124m\"\u001b[39m\u001b[38;5;124m스파이더맨\u001b[39m\u001b[38;5;124m\"\u001b[39m]\n\u001b[1;32m---> 10\u001b[0m std_list\u001b[38;5;241m.\u001b[39mappend(\u001b[38;5;124m\"\u001b[39m\u001b[38;5;124m타노스\u001b[39m\u001b[38;5;124m\"\u001b[39m, \u001b[38;5;124m\"\u001b[39m\u001b[38;5;124m앤트맨\u001b[39m\u001b[38;5;124m\"\u001b[39m)\n\u001b[0;32m     11\u001b[0m std_list\n",
      "\u001b[1;31mTypeError\u001b[0m: list.append() takes exactly one argument (2 given)"
     ]
    }
   ],
   "source": [
    "# 문제 3\n",
    "a=[\"아이언맨\",\"헐크\",\"스파이더맨\"]\n",
    "a.append(\"타노스\")\n",
    "a.append(\"앤트맨\")\n",
    "a\n",
    "\n",
    "\n",
    "# 선생님 답\n",
    "정답"
   ]
  },
  {
   "cell_type": "code",
   "execution_count": 210,
   "metadata": {},
   "outputs": [
    {
     "data": {
      "text/plain": [
       "['아이언맨', '헐크', '스파이더맨', '다노스', '앤트맨']"
      ]
     },
     "execution_count": 210,
     "metadata": {},
     "output_type": "execute_result"
    }
   ],
   "source": [
    "# 문제4\n",
    "a[3]=\"다노스\"\n",
    "a\n",
    "\n",
    "# 오답노트: 다노스에 \"\"를 넣지 않았음."
   ]
  },
  {
   "cell_type": "code",
   "execution_count": 6,
   "metadata": {},
   "outputs": [
    {
     "data": {
      "text/plain": [
       "'헐크'"
      ]
     },
     "execution_count": 6,
     "metadata": {},
     "output_type": "execute_result"
    }
   ],
   "source": [
    "# 문제5\n",
    "a=[\"아이언맨\", \"헐크\", \"스파이더맨\", \"타노스\", \"앤트맨\"]\n",
    "a.remove(\"앤트맨\")\n",
    "a.remove(\"아이언맨\")\n",
    "a.remove(\"스파이더맨\")\n",
    "a.remove(\"타노스\")\n",
    "a\n",
    "\n",
    "#선생님 답 \n",
    "std_list[1] # 지워서 하는것 보다 이렇게 하는것이 더 빠름."
   ]
  },
  {
   "cell_type": "code",
   "execution_count": 211,
   "metadata": {},
   "outputs": [
    {
     "data": {
      "text/plain": [
       "['헐크', '스파이더맨', '다노스']"
      ]
     },
     "execution_count": 211,
     "metadata": {},
     "output_type": "execute_result"
    }
   ],
   "source": [
    "#문제6\n",
    "청소당번=[\"아이언맨\", \"헐크\", \"스파이더맨\", \"타노스\", \"앤트맨\"]\n",
    "청소당번.remove(\"아이언맨\")\n",
    "청소당번.remove(\"앤트맨\")\n",
    "청소당번\n",
    "\n",
    "# 선생님 답 슬라이싱 이용\n",
    "a[1:4] # 인덱스 위치가 1~3번까지 출력. 더 간단"
   ]
  },
  {
   "cell_type": "code",
   "execution_count": 9,
   "metadata": {},
   "outputs": [
    {
     "ename": "TypeError",
     "evalue": "list indices must be integers or slices, not str",
     "output_type": "error",
     "traceback": [
      "\u001b[1;31m---------------------------------------------------------------------------\u001b[0m",
      "\u001b[1;31mTypeError\u001b[0m                                 Traceback (most recent call last)",
      "Cell \u001b[1;32mIn[9], line 9\u001b[0m\n\u001b[0;32m      4\u001b[0m a\n\u001b[0;32m      5\u001b[0m \u001b[38;5;66;03m# 정답\u001b[39;00m\n\u001b[0;32m      6\u001b[0m \n\u001b[0;32m      7\u001b[0m \u001b[38;5;66;03m# 선생님 답. 답 여러가지. del이나 remove\u001b[39;00m\n\u001b[0;32m      8\u001b[0m \u001b[38;5;66;03m# 다른 정답\u001b[39;00m\n\u001b[1;32m----> 9\u001b[0m \u001b[38;5;28;01mdel\u001b[39;00m std_list[\u001b[38;5;124m\"\u001b[39m\u001b[38;5;124m헐크\u001b[39m\u001b[38;5;124m\"\u001b[39m]\n\u001b[0;32m     10\u001b[0m std_list\n",
      "\u001b[1;31mTypeError\u001b[0m: list indices must be integers or slices, not str"
     ]
    }
   ],
   "source": [
    "# 문제7\n",
    "a=[\"아이언맨\", \"헐크\", \"스파이더맨\", \"타노스\", \"앤트맨\"]\n",
    "a.remove(\"헐크\")\n",
    "a\n",
    "# 정답\n",
    "\n",
    "# 선생님 답. 답 여러가지. del이나 remove\n",
    "# 다른 정답\n",
    "del std_list[\"헐크\"]\n",
    "std_list"
   ]
  },
  {
   "cell_type": "code",
   "execution_count": 190,
   "metadata": {},
   "outputs": [
    {
     "data": {
      "text/plain": [
       "['스파이더맨', '아이언맨', '앤트맨', '타노스', '헐크']"
      ]
     },
     "execution_count": 190,
     "metadata": {},
     "output_type": "execute_result"
    }
   ],
   "source": [
    "# 문제8\n",
    "a=[\"아이언맨\", \"헐크\", \"스파이더맨\", \"타노스\", \"앤트맨\"]\n",
    "a.sort() # 한글은 ㄱㄴㄷ순으로 정렬이 됨.\n",
    "a\n",
    "# 정답."
   ]
  },
  {
   "cell_type": "code",
   "execution_count": null,
   "metadata": {},
   "outputs": [],
   "source": []
  }
 ],
 "metadata": {
  "kernelspec": {
   "display_name": "base",
   "language": "python",
   "name": "python3"
  },
  "language_info": {
   "codemirror_mode": {
    "name": "ipython",
    "version": 3
   },
   "file_extension": ".py",
   "mimetype": "text/x-python",
   "name": "python",
   "nbconvert_exporter": "python",
   "pygments_lexer": "ipython3",
   "version": "3.11.7"
  }
 },
 "nbformat": 4,
 "nbformat_minor": 2
}
