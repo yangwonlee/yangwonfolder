{
 "cells": [
  {
   "cell_type": "code",
   "execution_count": 67,
   "metadata": {},
   "outputs": [
    {
     "name": "stdout",
     "output_type": "stream",
     "text": [
      "*\n",
      "**\n",
      "***\n",
      "****\n",
      "*****\n",
      "*\n",
      "**\n",
      "***\n",
      "****\n",
      "*****\n",
      "*\n",
      "**\n",
      "***\n",
      "****\n",
      "*****\n"
     ]
    }
   ],
   "source": [
    "# 문 1 for문 혹은 이주 포문을 이용하여 아래와 같은 별을 만드는 코드를 작성하시오.\n",
    "a = ['*', '**', '***', '****', '*****']\n",
    "for i in a:\n",
    "    if a < ['*****']:\n",
    "\n",
    "        print(i)\n",
    "\n",
    "# 답 1.\n",
    "# for문 하나로 푸는 법\n",
    "a = 5\n",
    "for i in range(5): # 0~4. 인덱스 값만큼 반복한다는것\n",
    "    print(\"*\" * (i + 1))\n",
    "    \n",
    "# 답 2. 포문 이중으로 푸는법\n",
    "for i in range(1,6): # 1~5\n",
    "    for j in range(i):\n",
    "        print(\"*\", end = \"\")  # print(\"*\")만 쓰면 하나씩만 찍힘. 그래서 밑에 라인을 없애기 위해서 end=\"\"\n",
    "    print() # 한 줄 띄우기"
   ]
  },
  {
   "cell_type": "code",
   "execution_count": 69,
   "metadata": {},
   "outputs": [
    {
     "name": "stdout",
     "output_type": "stream",
     "text": [
      "*\n",
      "**\n",
      "***\n",
      "****\n",
      "*****\n",
      "    *\n",
      "   **\n",
      "  ***\n",
      " ****\n",
      "*****\n"
     ]
    }
   ],
   "source": [
    "# 문제 2.for문 혹은 이중 for문을 이용해서 아래와 같은 별을 그리는 코드를 작성하시오\n",
    "a = ['*', '**', '***', '****', '*****']\n",
    "for i in a:\n",
    "    if a < ['*****']:\n",
    "        print(i)\n",
    "\n",
    "# 답\n",
    "for i in range(5):\n",
    "    print(\" \" * (5- (i + 1)), end = \"\")       #print(\"\")를 바로 하게되면 찝을 수가 없음\n",
    "    print(\"*\" * (i + 1))"
   ]
  },
  {
   "cell_type": "code",
   "execution_count": 80,
   "metadata": {},
   "outputs": [
    {
     "name": "stdout",
     "output_type": "stream",
     "text": [
      "***** \n",
      "****  \n",
      "***   \n",
      "**    \n",
      "*     \n",
      "\n",
      "\n",
      "\n",
      "\n",
      "\n"
     ]
    }
   ],
   "source": [
    "# 문제 3\n",
    "#답. 이중포문\n",
    "for i in range(1, 6):   # 1~5까지 돌겠지.\n",
    "    for j in range(6 - i): \n",
    "        print(\"*\", end = \"\")\n",
    "    for j in range(i):  # 처음에 i값에 따라 j가 변함 -> 빈 공백 출력\n",
    "        print(\" \", end = \"\") # 따옴표 안을 띄워주면\n",
    "    print()\n",
    "\n",
    "# 답. 다른 방법\n",
    "for i in range(1, 6):\n",
    "    for j in range(6 , -i):\n",
    "        print(\"*\", end = \"\")        # 이해가 잘 안가면 종이로 연산내용을 적어보기. 손으로. 흐름을 체크해보기.\n",
    "    print()                         #i=1., j ->0~4. *는 5개라는 뜻. i=2 j->0~3.\n"
   ]
  },
  {
   "cell_type": "code",
   "execution_count": 87,
   "metadata": {},
   "outputs": [
    {
     "name": "stdout",
     "output_type": "stream",
     "text": [
      "    *\n",
      "   ***\n",
      "  *****\n",
      " *******\n",
      "*********\n"
     ]
    }
   ],
   "source": [
    "# 문제 4\n",
    "#    *   \n",
    "#   ***\n",
    "#  *****\n",
    "# *******\n",
    "#********* \n",
    "# 문제를 풀기 위해선 절반으로 나눠야 함. 1번과 2번을 합치면 되는 문제.\n",
    "\n",
    "for i in range(1,6):\n",
    "    for j in range(5 - i): # 0부터 3까지 빈 공백(4개)\n",
    "        print(\" \", end = \"\")        # 줄 라인 i에 따라 빈 공백을 출력.\n",
    "    for j in range(2 * i - 1): # 홀수를 맞추기 위해. 홀수 개수만큼 * 출력이라는 뜻.\n",
    "        print(\"*\", end = \"\")\n",
    "    print()"
   ]
  },
  {
   "cell_type": "code",
   "execution_count": 84,
   "metadata": {},
   "outputs": [
    {
     "name": "stdout",
     "output_type": "stream",
     "text": [
      "4가 있습니다\n"
     ]
    }
   ],
   "source": [
    "# 만약 예제를 챗 gpt를 통해 문제를 풀고 싶다면 문제를 만들어달라고 얘기하자. 답을 찾지 말고.\n",
    "\n",
    "# 프롬포트란? 깜빡거리면서 명령을 기다리는 대기 줄.\n",
    "# 이해하기 어렵다면 유튜브로 보충강의가 많으니 보고 어려운거 있으면 잘 찾아보고 물어보기."
   ]
  },
  {
   "cell_type": "code",
   "execution_count": 122,
   "metadata": {},
   "outputs": [
    {
     "name": "stdout",
     "output_type": "stream",
     "text": [
      "41\n"
     ]
    },
    {
     "ename": "KeyboardInterrupt",
     "evalue": "",
     "output_type": "error",
     "traceback": [
      "\u001b[1;31m---------------------------------------------------------------------------\u001b[0m",
      "\u001b[1;31mKeyboardInterrupt\u001b[0m                         Traceback (most recent call last)",
      "Cell \u001b[1;32mIn[122], line 16\u001b[0m\n\u001b[0;32m     14\u001b[0m     a\u001b[38;5;241m.\u001b[39mappend(random\u001b[38;5;241m.\u001b[39mrandint(\u001b[38;5;241m1\u001b[39m,\u001b[38;5;241m45\u001b[39m))  \u001b[38;5;66;03m# 랜덤으로 돌아감. 그러나 문제점이 있다. 바로 중복이 됨. 어쩔땐 되고 안될때도\u001b[39;00m\n\u001b[0;32m     15\u001b[0m                                     \u001b[38;5;66;03m# 있는데, 이것은 안되는 것. 그러니 문제점을 찾아서 되게끔 만들라.    \u001b[39;00m\n\u001b[1;32m---> 16\u001b[0m \u001b[38;5;28;01mwhile\u001b[39;00m (\u001b[38;5;124m\"\u001b[39m\u001b[38;5;124m45 > a > 0\u001b[39m\u001b[38;5;124m\"\u001b[39m):\n\u001b[0;32m     17\u001b[0m     \u001b[38;5;28;01mif\u001b[39;00m a \u001b[38;5;241m!=\u001b[39m a: \u001b[38;5;28;01mcontinue\u001b[39;00m\n\u001b[0;32m     19\u001b[0m \u001b[38;5;28mprint\u001b[39m(a)\n",
      "\u001b[1;31mKeyboardInterrupt\u001b[0m: "
     ]
    }
   ],
   "source": [
    "# 문제 5\n",
    "# 로또번호 생성 프로그램 제작.\n",
    "# (1) 1~45 숫자중 6개의 숫자가 나와야 한다. # 난수를 구해야 한다는 뜻.\n",
    "# (2) 중복된 숫자가 나와서는 안된다/ 4 4 15 1 3 6 불가\n",
    "# 외부 라이브러리를 '수입'할 수 있는 키워드. 기본적으로 제공하는 라이브러리를 한다는 뜻. \n",
    "# random은 외부 라이브러리. 파이썬 불러오기에서 한번 봤었음. import sys를 사용했었지. \n",
    "\n",
    "import random\n",
    "\n",
    "print(random.randint(1,45))  # 이걸 쓰면 1부터 45까지 랜덤으로 출력. 시프트엔터 쓸때마다 랜덤.\n",
    "\n",
    "a = []\n",
    "for i in range(6): # 0~5(6개)   # a는 여섯번을 돌리면서 \n",
    "    a.append(random.randint(1,45))  # 랜덤으로 돌아감. 그러나 문제점이 있다. 바로 중복이 됨. 어쩔땐 되고 안될때도\n",
    "                                    # 있는데, 이것은 안되는 것. 그러니 문제점을 찾아서 되게끔 만들라.    \n",
    "while (\"45 > a > 0\"):\n",
    "    if a != a: continue\n",
    "    \n",
    "print(a)\n",
    "\n"
   ]
  },
  {
   "cell_type": "code",
   "execution_count": 123,
   "metadata": {},
   "outputs": [
    {
     "name": "stdout",
     "output_type": "stream",
     "text": [
      "42\n",
      "[32, 33, 37, 39, 20, 31]\n"
     ]
    }
   ],
   "source": [
    "# 답\n",
    "import random\n",
    "\n",
    "print(random.randint(1,45))  \n",
    "\n",
    "a = []  #a를 초기화 시킨다는 뜻.\n",
    "\n",
    "while 1 == 1: # true값. 무한루프 돌리기.\n",
    "    if len(a) == 6: # 여섯개 가아니면 계속 돌리기.\n",
    "        break\n",
    "    else:\n",
    "        a = [] # a를 초기화시켜줌.\n",
    "        for i in range(6):  # 0~5(6개)\n",
    "            a.append(random.randint(1,45))  \n",
    "        a = list(set(a))  # 중복을 뺀다는 뜻. 돌리다가 중복이 나오면 a로 되돌려서 다시 돌리게 한다는 뜻.\n",
    "    \n",
    "        if len(a) , 6:\n",
    "            print(\"중복된 로또번호의 리스트\", a)\n",
    "print(a)        # 어떤것이 중복되었는지는 알 수 없음. 자바에서 배울 수 있음."
   ]
  },
  {
   "cell_type": "code",
   "execution_count": null,
   "metadata": {},
   "outputs": [],
   "source": []
  },
  {
   "cell_type": "code",
   "execution_count": null,
   "metadata": {},
   "outputs": [],
   "source": []
  }
 ],
 "metadata": {
  "kernelspec": {
   "display_name": "base",
   "language": "python",
   "name": "python3"
  },
  "language_info": {
   "codemirror_mode": {
    "name": "ipython",
    "version": 3
   },
   "file_extension": ".py",
   "mimetype": "text/x-python",
   "name": "python",
   "nbconvert_exporter": "python",
   "pygments_lexer": "ipython3",
   "version": "3.11.7"
  }
 },
 "nbformat": 4,
 "nbformat_minor": 2
}
