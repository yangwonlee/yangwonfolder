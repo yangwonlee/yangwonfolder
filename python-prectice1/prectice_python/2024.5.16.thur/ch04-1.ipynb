{
 "cells": [
  {
   "cell_type": "code",
   "execution_count": 1,
   "metadata": {},
   "outputs": [],
   "source": [
    "# 입출력.\n",
    "# 파이선에서 폴더와 파일을 만들고 입출력을 하는 것. 또한 이것들을 함수와 연관시켜서 만듦.\n",
    "# 폴더란: 파일들을 그룹화시킬 수 있는 것. 폴더입출력은 없고 파일 입출력만 가능.\n",
    "# 하드 디스크 안에 있는 파일을 입력을 해서 파일이 들어 있는 컴퓨터에 인풋을 시킴. 이것을 바깥의 데이터로 남김.\n",
    "# 하드디스크에. 하드디스크는 주로 파일. 폴더에"
   ]
  },
  {
   "cell_type": "code",
   "execution_count": 1,
   "metadata": {},
   "outputs": [],
   "source": [
    "# 함수\n",
    "# 과일 : 입력, 데이터. 믹서기 : 함수. 주스: 출력. 함수를 왜 쓰는가.\n",
    "# 함수란? : f(x)= y. f가 함수. x가 1일때 y=2. 2일때 4. 이는 2x =4. 2의 배수를 만들어주는 함수다. 라는뜻. 수학에서.\n",
    "# 사용하는 이유: 같은 내용을 반복해서 작성하는데, 이떄 사용. 그중에서도 가치 있는 부분을."
   ]
  },
  {
   "cell_type": "code",
   "execution_count": 5,
   "metadata": {},
   "outputs": [
    {
     "name": "stdout",
     "output_type": "stream",
     "text": [
      "hello world\n"
     ]
    }
   ],
   "source": [
    "# 파이선의 함수구조.\n",
    "#def 함수이름(매개변수): # 매개변수는 생략가능. # 리턴값도 생략 가능.\n",
    "#    수행할_문장1\n",
    "#    수행할 문장2\n",
    "#        ...\n",
    "# 함수의 예\n",
    "def test1():        # test 1함수를 정의하라. # 이 변수는 매개변수와 리턴값 모두 생략\n",
    "    print(\"hello world\")    \n",
    "\n",
    "\n",
    "test1()     # print가 아닌 test. test 1 함수를 실행하라"
   ]
  },
  {
   "cell_type": "code",
   "execution_count": 6,
   "metadata": {},
   "outputs": [
    {
     "name": "stdout",
     "output_type": "stream",
     "text": [
      "hello world1\n",
      "hello world2\n"
     ]
    }
   ],
   "source": [
    "def test2():      # 변수는 괄호가 없어도 되지만 함수는 꼭있어야함. test 2함수를 정의하라\n",
    "    print(\"hello world1\")\n",
    "    print(\"hello world2\")       #함수가 끝날때까진 4칸 띄워야 함.\n",
    "\n",
    "test2()         # test2 함수를 실행하라"
   ]
  },
  {
   "cell_type": "code",
   "execution_count": 11,
   "metadata": {},
   "outputs": [
    {
     "name": "stdout",
     "output_type": "stream",
     "text": [
      "3\n",
      "7\n"
     ]
    }
   ],
   "source": [
    "# 간단하지만 많은 것을 설명하는 다음 예.\n",
    "def add(a, b):      # 함수 이름은 가급적 의미 있는 이름으로 지어주는게 좋음.\n",
    "    return a + b        # a랑 b는 인수. 에프엑스는 와이에서 엑스가 a 와이는 b. a와 b값을 받아서 리턴한다 라는뜻.\n",
    "                        # 함수를를 실행할때 리턴을 해 주지 않으면 와이가 없다. 수학은 리턴값 생략이 불가능하지만\n",
    "                        # 여긴 가능. 이 함수의 이름은 add이고 2개의 값을 받으며 리턴값은 2개의 입력값으 더한 값.\n",
    "c = add(1, 2) # 1 + 2 해서 3. 이건 함수에서 사용\n",
    "print(c)\n",
    "\n",
    "a = 3\n",
    "b = 4\n",
    "c = add(a, b)       # add(3,4)의 리턴값을 c에 대입\n",
    "print(c)          #이건 외부에서 사용. 복잡하면 밖에다가 빼서 나중에 대입도 가능"
   ]
  },
  {
   "cell_type": "code",
   "execution_count": null,
   "metadata": {},
   "outputs": [],
   "source": [
    "# 함수에 입력으로 전달된 값을 바든 변수는 매개변수. 인수는 함수를 호출할 때 전달하는 입력값.\n",
    "\n",
    "#같은 의미를 가진 여러 용어에 주의. \n",
    "# 함수(클래스x) = 메소드(클래스o) #자바에서 주로 혼용."
   ]
  },
  {
   "cell_type": "code",
   "execution_count": 13,
   "metadata": {},
   "outputs": [
    {
     "name": "stdout",
     "output_type": "stream",
     "text": [
      "7\n"
     ]
    }
   ],
   "source": [
    "# 일반적인 함수 모양\n",
    "def add(a, b): \n",
    "    result = a + b  # 이 행위로 위에 있는 a+b 함수는 초기화. 이걸로 덧씌워짐/\n",
    "    return result\n",
    "\n",
    "# 번외: camel case. 처음엔 낮았다가 올라갔다가 하는 것.(영어에서만... 대소문자가 있기 때문에.)\n",
    "# 학생_ 선생님 -> studentTeacher. 낙타처럼 의미가 있는 단어에 대문자를 넣어주는 케이스.(자바,c++에서 주로 사용)\n",
    "# ㄴ 물론 강제성은 없음 규칙일 뿐.\n",
    "# 일본어나 중국어는 띄어쓰기가 없음. 없어도 잘 읽음. 한국과 영어, 프랑스, 베트남어는 띄어쓰기가 있지.\n",
    "# snake case: 명령법 중 하나. 함수 하고 언더바로 내려가고 함수하고 언더바로 기어가고. 기어가는게 뱀처럼 생겨서.\n",
    "#리턴값을_받을_변수 = 함수_이름(입력_인수1, 입력_인수 2...). 언더바를 쓰는 이유는 띄어쓰기가 안되서 언더바로 구분.= 스네이크 케이스\n",
    "\n",
    "a = add(3,4)\n",
    "print(a)"
   ]
  },
  {
   "cell_type": "code",
   "execution_count": 14,
   "metadata": {},
   "outputs": [
    {
     "name": "stdout",
     "output_type": "stream",
     "text": [
      "Hi\n",
      "hello world\n",
      "None\n"
     ]
    }
   ],
   "source": [
    "# 입력값이 없는 함수.\n",
    "def say():\n",
    "    return \"Hi\" # 헬로 월드랑 다르게 리턴이 있음. 함수인거지 변수나 문자열이 아니기에 \"\" 사용불가. ()꼭 사용해야함.\n",
    "\n",
    "a = say()   # say 함수를 a라고 했을때 a를 출력한 값. ()의 유무가 중요. 있으면 함수. 없으면 변수. \"\"는 문자열\n",
    "print(a)   \n",
    "\n",
    "b= test1()  #헬로 월드를 실행해서 나온 값\n",
    "print(b)    # none. 리턴값이 없으니.\n"
   ]
  },
  {
   "cell_type": "code",
   "execution_count": 22,
   "metadata": {},
   "outputs": [
    {
     "name": "stdout",
     "output_type": "stream",
     "text": [
      "3, 4의 합은 7 입니다.\n",
      "None\n"
     ]
    }
   ],
   "source": [
    "# 리턴값이 없는 함수\n",
    "def add(a, b):\n",
    "    print(\"%d, %d의 합은 %d 입니다.\" % (a, b, a+b))\n",
    "    \n",
    "c = add(3, 4)\n",
    "print(c)"
   ]
  },
  {
   "cell_type": "code",
   "execution_count": 21,
   "metadata": {},
   "outputs": [
    {
     "name": "stdout",
     "output_type": "stream",
     "text": [
      "hi\n"
     ]
    }
   ],
   "source": [
    "# 입력값도, 리턴값도 없는 함수\n",
    "def say():\n",
    "    print(\"hi\")\n",
    "\n",
    "say()"
   ]
  },
  {
   "cell_type": "code",
   "execution_count": 24,
   "metadata": {},
   "outputs": [
    {
     "name": "stdout",
     "output_type": "stream",
     "text": [
      "4\n",
      "4\n"
     ]
    }
   ],
   "source": [
    "# 매개 변수를 지정하여 호출하기\n",
    "def sub(a, b):\n",
    "    return a - b\n",
    "\n",
    "result = sub(a=7, b=3) # a에 7, b에 3을 전달\n",
    "print(result)       # a랑 b를 거꾸로 전달한다면? 즉 a에 7, b에 3을 전달한다면? 그래도 똑같음\n",
    "\n",
    "result = sub(b=3, a=7)\n",
    "print(result)\n",
    "\n",
    "result = sub(b=5, a=3)  # b에 5, a에 3을 전달\n",
    "print(sesult) # -2"
   ]
  },
  {
   "cell_type": "code",
   "execution_count": 29,
   "metadata": {},
   "outputs": [
    {
     "name": "stdout",
     "output_type": "stream",
     "text": [
      "3\n",
      "6\n",
      "52\n"
     ]
    }
   ],
   "source": [
    "# 입력값이 몇개가 될지 모를 때는?\n",
    "\n",
    "#def 함수_이름(*매개변수) # 매개변수 부분이 * 매개변수로 대체. 아스트릭트가 추가.\n",
    "#    수행할_문장\n",
    "#    ...\n",
    "\n",
    "def add_many(*a):               # a는 중요치 않음 맘대로 써도 되고 *가 중요.\n",
    "    result = 0\n",
    "    for i in a:\n",
    "        result = result + i     # *a에 입력 받은 모든 값을 더한다. 즉 sum 함수.\n",
    "    return result\n",
    "\n",
    "a = add_many(1,2)               # 3\n",
    "print(a)\n",
    "b = add_many(1,2,3)            # 6\n",
    "print(b)\n",
    "c = add_many(1,2,4,5,6,7,8,9,10)    # 55\n",
    "print(c)"
   ]
  },
  {
   "cell_type": "code",
   "execution_count": 31,
   "metadata": {},
   "outputs": [
    {
     "name": "stdout",
     "output_type": "stream",
     "text": [
      "15\n",
      "120\n"
     ]
    }
   ],
   "source": [
    "# 여러개의 입력값을 받는 함수.\n",
    "def add_mul(choice, *args):\n",
    "    if choice == \"add\":\n",
    "        result = 0\n",
    "        for i in args:\n",
    "            result = result + i\n",
    "    elif choice == \"mul\":\n",
    "        result = 1\n",
    "        for i in args:\n",
    "            result = result * i\n",
    "    return result\n",
    "\n",
    "\n",
    "result = add_mul('add', 1,2,3,4,5)   # add\n",
    "print(result)\n",
    "\n",
    "result = add_mul('mul', 1,2,3,4,5)   # mul           #add가 찍히면 if라인을 실행. mul이 찍히면 elif를 실행\n",
    "print(result)                               # *args를 앞에 둘 순 없음. 문법상 오류는 아니지만. 초이스가 가변인데\n",
    "                                # args의 개수가 어디까지 가는지 모르는데 앞에 두면 안되니까. 무조건 뒤에만.\n",
    "\n",
    "\n",
    "# 예시 -> print()\n",
    "print(\"aaa\")\n",
    "print(\"aaa\", \"bbb\")\n",
    "print(\"aaa\", \"bbb\", \"ccc\")"
   ]
  },
  {
   "cell_type": "code",
   "execution_count": 33,
   "metadata": {},
   "outputs": [
    {
     "name": "stdout",
     "output_type": "stream",
     "text": [
      "{'a': 1}\n",
      "{'name': 'foo', 'age': 3}\n"
     ]
    }
   ],
   "source": [
    "# 키워드 매개변수 ,kwargs. 매개가 두개짜리. *이 두개. kwargs(key와 values로 구성된 딕셔너리.)\n",
    "def print_kwargs(**kwargs):\n",
    "    print(kwargs)\n",
    "\n",
    "print_kwargs(a=1)\n",
    "print_kwargs(name='foo', age=3)"
   ]
  },
  {
   "cell_type": "code",
   "execution_count": 36,
   "metadata": {},
   "outputs": [
    {
     "name": "stdout",
     "output_type": "stream",
     "text": [
      "<class 'tuple'>\n",
      "(7, 12)\n",
      "7\n",
      "12\n"
     ]
    }
   ],
   "source": [
    "# 함수의 리턴값은 언제나 1개이다. 튜플, 뭉치일수도. 쨌든 언제나 하나의 자료형(리스트, 숫자형 etc...)이다.\n",
    "def add_and_mul(a,b):\n",
    "    return a+b, a*b # 리턴값은 튜플\n",
    "\n",
    "result = add_and_mul(3, 4)\n",
    "print(type(result))\n",
    "print(result)\n",
    "\n",
    "result1, result2 = add_and_mul(3, 4)\n",
    "print(result1)\n",
    "print(result2)"
   ]
  },
  {
   "cell_type": "code",
   "execution_count": 38,
   "metadata": {},
   "outputs": [
    {
     "name": "stdout",
     "output_type": "stream",
     "text": [
      "(5, 6)\n"
     ]
    }
   ],
   "source": [
    "def ada_and_mul(a,b):\n",
    "    return a+b\n",
    "    return a*b # 실행이 되지 않음. 어두운 화면에서 보면 이번 라인의 리턴은 흐릿하게 보임. 즉 실행되지 않음.\n",
    "\n",
    "result = add_and_mul(2,3)\n",
    "print(result)   #답은 5"
   ]
  },
  {
   "cell_type": "code",
   "execution_count": 41,
   "metadata": {},
   "outputs": [
    {
     "name": "stdout",
     "output_type": "stream",
     "text": [
      "나의 별명은 슈퍼맨입니다.\n",
      "나의 별명은 아이언맨입니다.\n",
      "나의 별명은 앤트맨입니다.\n"
     ]
    }
   ],
   "source": [
    "# reurtn의 또다른 쓰임새\n",
    "def say_nick(nick):\n",
    "    if nick == \"바보\":\n",
    "        return\n",
    "    print(\"나의 별명은 %s입니다.\" %nick)\n",
    "\n",
    "say_nick(\"슈퍼맨\")      #바보를 만나는 순간 리턴이 되어버려서 나오지 않음. \n",
    "say_nick(\"아이언맨\")\n",
    "say_nick(\"바보\")\n",
    "say_nick(\"앤트맨\")"
   ]
  },
  {
   "cell_type": "code",
   "execution_count": 52,
   "metadata": {},
   "outputs": [
    {
     "name": "stdout",
     "output_type": "stream",
     "text": [
      "나의 이름은 박응용 입니다.\n",
      "나이는 27살입니다.\n",
      "남자입니다.\n",
      "국적은 한국입니다.\n",
      "나의 이름은 박응용 입니다.\n",
      "나이는 27살입니다.\n",
      "남자입니다.\n",
      "국적은 한국입니다.\n",
      "나의 이름은 박응용 입니다.\n",
      "나이는 27살입니다.\n",
      "여자입니다.\n",
      "국적은 한국입니다.\n"
     ]
    }
   ],
   "source": [
    "# 매개변수에 초깃값 미리 설정하기\n",
    "# default1.py\n",
    "def say_myself(name, age, man=True, country=\"한국\"):\n",
    "    print(\"나의 이름은 %s 입니다.\"% name)\n",
    "    print(\"나이는 %d살입니다.\" % age)\n",
    "    if man:\n",
    "        print(\"남자입니다.\")\n",
    "    else:\n",
    "        print(\"여자입니다.\")\n",
    "    print(\"국적은 %s입니다.\" %country)\n",
    "\n",
    "say_myself(\"박응용\", 27)\n",
    "say_myself(\"박응용\", 27,True)\n",
    "say_myself(\"박응용\", 27,False)  # 함수를 만들때 age나 컨트리등은 뒤에 넣어야 함. age가 어디의 age인지 판단할수 없어서.\n",
    "                                # 그래서 오류가 남. 초기화 하고 싶은 매개변수는 항상 뒤쪽에 놓아야 함."
   ]
  },
  {
   "cell_type": "code",
   "execution_count": 53,
   "metadata": {},
   "outputs": [
    {
     "name": "stdout",
     "output_type": "stream",
     "text": [
      "1\n"
     ]
    }
   ],
   "source": [
    "# 함수 안에서 선언한 변수의 효력 범위\n",
    "a = 1\n",
    "def vartest(a):\n",
    "    a = a + 1       #1. 함수 안의 변수냐 함수 밖의 변수냐에 따라 효력 범위가 다름. 함수 밖의 변수 =2번라인은\n",
    "                    # 함수 안의 변수 = 5번 라인. 함수 밖은 1. 함수 안은 2. 1이 출력이 됨.\n",
    "vartest(a)          # a에 1이 들어감\n",
    "print(a)            # 함수 밖의 a값이 들어감. 즉 1이 됨\n",
    "# 둘이 같은것이라 생각하지 말기. 런타임 에러가 자주 남."
   ]
  },
  {
   "cell_type": "code",
   "execution_count": 57,
   "metadata": {},
   "outputs": [
    {
     "ename": "NameError",
     "evalue": "name 'z' is not defined",
     "output_type": "error",
     "traceback": [
      "\u001b[1;31m---------------------------------------------------------------------------\u001b[0m",
      "\u001b[1;31mNameError\u001b[0m                                 Traceback (most recent call last)",
      "Cell \u001b[1;32mIn[57], line 5\u001b[0m\n\u001b[0;32m      2\u001b[0m     z \u001b[38;5;241m=\u001b[39m z \u001b[38;5;241m+\u001b[39m \u001b[38;5;241m1\u001b[39m\n\u001b[0;32m      4\u001b[0m vartest(\u001b[38;5;241m3\u001b[39m)  \u001b[38;5;66;03m# 여기까진 에러x. z가 3이면 함수 내부에는 4로 저장.\u001b[39;00m\n\u001b[1;32m----> 5\u001b[0m \u001b[38;5;28mprint\u001b[39m(z)\n",
      "\u001b[1;31mNameError\u001b[0m: name 'z' is not defined"
     ]
    }
   ],
   "source": [
    "def vartest(z):\n",
    "    z = z + 1\n",
    "\n",
    "vartest(3)  # 여기까진 에러x. z가 3이면 함수 내부에는 4로 저장.\n",
    "# 에러. 함수 밖의 제트는 없기 때문에 에러가 남. 에러가 나지 않게 하려면 z = 0등을 함수밖에 넣어줘야 함.\n",
    "# 주피터 노트북의 특징: 한번이라도 저장하면 함수 바깥에 저장이 됨.\n",
    "# 그렇다면 에러가 안나게 하는 법은? 함수 안에서 함수 밖의 변수를 변경하는 방법. 그러나 잘 쓰진 않음. 사수한테 혼난대."
   ]
  },
  {
   "cell_type": "code",
   "execution_count": 59,
   "metadata": {},
   "outputs": [
    {
     "name": "stdout",
     "output_type": "stream",
     "text": [
      "2\n"
     ]
    }
   ],
   "source": [
    "# 함수 안에서 함수 밖의 변수를 변경하는 방법\n",
    "#1. return 사용하기. return을 사용하여 함수 밖의 변수와 안의 변수를 동기화 시킴. 하지만 비추천. 헷갈림.\n",
    "                        # 변수 이름을 같게하면 프로그램 짤 때 헷갈림\n",
    "a= 1    # 함수 밖의 변수 a\n",
    "def vartest(a): # 함수 안의 변수 a. 같은 a지만 범위가 다르다,.\n",
    "    a = a + 1\n",
    "    return a\n",
    "\n",
    "a = vartest(a)      # 1+1=2 2.\n",
    "print(a)            # 이것도 2\n"
   ]
  },
  {
   "cell_type": "code",
   "execution_count": 62,
   "metadata": {},
   "outputs": [
    {
     "ename": "UnboundLocalError",
     "evalue": "cannot access local variable 'z2' where it is not associated with a value",
     "output_type": "error",
     "traceback": [
      "\u001b[1;31m---------------------------------------------------------------------------\u001b[0m",
      "\u001b[1;31mUnboundLocalError\u001b[0m                         Traceback (most recent call last)",
      "Cell \u001b[1;32mIn[62], line 7\u001b[0m\n\u001b[0;32m      4\u001b[0m     \u001b[38;5;28;01mglobal\u001b[39;00m a    \u001b[38;5;66;03m# 꼭 띄워야 함. 글로벌 a는 바깥의 함수밖의 a 변수를 가리킴. 그렇다면 바깥의 변수가 없으면? 에러가남\u001b[39;00m\n\u001b[0;32m      5\u001b[0m     z2 \u001b[38;5;241m=\u001b[39m z2 \u001b[38;5;241m+\u001b[39m \u001b[38;5;241m1\u001b[39m\n\u001b[1;32m----> 7\u001b[0m vartest()\n\u001b[0;32m      8\u001b[0m \u001b[38;5;28mprint\u001b[39m(z2)\n",
      "Cell \u001b[1;32mIn[62], line 5\u001b[0m, in \u001b[0;36mvartest\u001b[1;34m()\u001b[0m\n\u001b[0;32m      3\u001b[0m \u001b[38;5;28;01mdef\u001b[39;00m \u001b[38;5;21mvartest\u001b[39m():\n\u001b[0;32m      4\u001b[0m     \u001b[38;5;28;01mglobal\u001b[39;00m a    \u001b[38;5;66;03m# 꼭 띄워야 함. 글로벌 a는 바깥의 함수밖의 a 변수를 가리킴. 그렇다면 바깥의 변수가 없으면? 에러가남\u001b[39;00m\n\u001b[1;32m----> 5\u001b[0m     z2 \u001b[38;5;241m=\u001b[39m z2 \u001b[38;5;241m+\u001b[39m \u001b[38;5;241m1\u001b[39m\n",
      "\u001b[1;31mUnboundLocalError\u001b[0m: cannot access local variable 'z2' where it is not associated with a value"
     ]
    }
   ],
   "source": [
    "# 2. global 명령어 사용하기. 역시 비추천. \n",
    "z2 = 1\n",
    "def vartest():\n",
    "    global z2    # 꼭 띄워야 함. 글로벌 a는 바깥의 함수밖의 a 변수를 가리킴. 그렇다면 바깥의 변수가 없으면? 에러가남\n",
    "    z2 = z2 + 1\n",
    "\n",
    "vartest()\n",
    "print(z2)       "
   ]
  },
  {
   "cell_type": "code",
   "execution_count": 63,
   "metadata": {},
   "outputs": [],
   "source": [
    "# lambda 예약어. 자바에서 쓰는 람다랑 파이썬에서 쓰는 람다랑 목적이 다름. 여기선 함수를 한줄로 간결히 만드는 용도.\n",
    "#함수_이름 = lambda 매개변수1, 매개변수 2 ... :\n",
    "add = lambda a,b: a+b   # add라는 람다 함수 생성. 람다는 괄호가 없지만 사용할때는 괄호가 필요"
   ]
  },
  {
   "cell_type": "code",
   "execution_count": 96,
   "metadata": {},
   "outputs": [
    {
     "name": "stdout",
     "output_type": "stream",
     "text": [
      "2\n"
     ]
    }
   ],
   "source": [
    "# 문제 1 괄호 안의 인자인 number1, number2를 입력값으로 받아 result=(num1+num2)을 수행하고,\n",
    "# 그의 결괏값 result를 반환한 후 종료하는 이름이 average라는 함수를 정의해보자.\n",
    "num1 = 0\n",
    "num2 = 0\n",
    "def average(num1, num2):        # num1, num2는 매개변수. 함수에 입력으로 전달된 값을 받는 변수\n",
    "    return num1 + num2          \n",
    "\n",
    "    a = average(num1 + num2)\n",
    "print(a)                        # 여기서nun1, num2는 함수를 호출할 때 전달하는 입력값, 인수.\n",
    "\n",
    "# 답\n",
    "# 인자가 2개. 매개변수는 2개. 넘1,넘2\n",
    "def average(num1, num2):\n",
    "    result = num1 + num2        # 이쪽 라인이 모자랐다. 어려워..\n",
    "    return result\n",
    "\n",
    "average(1,2)"
   ]
  },
  {
   "cell_type": "code",
   "execution_count": 76,
   "metadata": {},
   "outputs": [
    {
     "name": "stdout",
     "output_type": "stream",
     "text": [
      "1\n",
      "2\n",
      "3\n"
     ]
    }
   ],
   "source": [
    "# 문2\n",
    "def print_list(num_list):\n",
    "    for n in num_list:\n",
    "        if(n != 0):\n",
    "            print(n)\n",
    "        else:\n",
    "            break\n",
    "\n",
    "print_list([1,2,3,0])   # 0이 아니라면 출력. 0이라면 브레잌. 다음줄로 넘어가. 1,2,3이 나올 것 같다.\n",
    "                        # 0이 만나면 폴스라 브레잌이 되니 1,2,3이 맞음. "
   ]
  },
  {
   "cell_type": "code",
   "execution_count": 110,
   "metadata": {},
   "outputs": [
    {
     "name": "stdout",
     "output_type": "stream",
     "text": [
      "높은 점수: 100\n",
      "높은 점수: 91\n",
      "100\n"
     ]
    }
   ],
   "source": [
    "# 문3\n",
    "def get_max_score(*args):\n",
    "    #print(\"매개 변수 길이:\", lne(args))\n",
    "    #print(\"매개변수1:\", args[0])\n",
    "    #print(\"매개변수2:\", args[1])\n",
    "    \n",
    "    init1 = 0\n",
    "    # for 문 이용\n",
    "    for item in args:\n",
    "        if init1 < item:\n",
    "            init1 = item\n",
    "\n",
    "    return init1    \n",
    "\n",
    "def get_max_score(*args):\n",
    "    return max(args)\n",
    "\n",
    "def get_min_score(*args):\n",
    "    return min(args)    # 맥스라는 함수: 가변을 받았을 때 가장 높은 값을 구하는 함수. 반대는 min.\n",
    "\n",
    "\n",
    "korean, english, mathematics, science = 100, 86, 81, 91 # 근데 여기가 괄호나 따옴표 없이 들어가도 됨?\n",
    "\n",
    "max_score = get_max_score(korean, english, mathematics, science)\n",
    "print('높은 점수:', max_score)  # 높은 점수: 100. 여기 네개중에선 한국어. 100점.\n",
    "\n",
    "max_score = get_max_score(english, science)\n",
    "print('높은 점수:', max_score)  # 높은 점수 91. 여기 영어랑 과학중에선 과학. 91\n",
    "\n",
    "print(get_max_score(100,86,81,91))"
   ]
  },
  {
   "cell_type": "code",
   "execution_count": 95,
   "metadata": {},
   "outputs": [
    {
     "name": "stdout",
     "output_type": "stream",
     "text": [
      "(5, 6)\n"
     ]
    }
   ],
   "source": [
    "# 문 4\n",
    "# 양수 n을 입력하면 1부터 n 까지 곱해주는 factorial 함수를 만들어 보세요.\n",
    "# 출력 예시-> x가 1일때 1, x가 2일떄 2, x가 3일때 6, x가 4일 때 24, ...\n",
    "def factorial(*x):\n",
    "    n > 0\n",
    "    for n in x:\n",
    "        result = result * (result + 1)     # 3팩 = 1* 2* 3\n",
    "    return result\n",
    "print(result)"
   ]
  },
  {
   "cell_type": "code",
   "execution_count": 121,
   "metadata": {},
   "outputs": [
    {
     "name": "stdout",
     "output_type": "stream",
     "text": [
      "120\n",
      "24\n"
     ]
    }
   ],
   "source": [
    "# 문4 답\n",
    "def factorial(x):\n",
    "    result = 1\n",
    "    for i in range(1, x + 1): # 1 ~ x까지.\n",
    "        result = result * i     # x * (x -1) ...*1\n",
    "    \n",
    "    return result\n",
    "\n",
    "print(factorial(5))\n",
    "print(factorial(4))"
   ]
  },
  {
   "cell_type": "code",
   "execution_count": 116,
   "metadata": {},
   "outputs": [
    {
     "ename": "UnboundLocalError",
     "evalue": "cannot access local variable 'init1' where it is not associated with a value",
     "output_type": "error",
     "traceback": [
      "\u001b[1;31m---------------------------------------------------------------------------\u001b[0m",
      "\u001b[1;31mUnboundLocalError\u001b[0m                         Traceback (most recent call last)",
      "Cell \u001b[1;32mIn[116], line 16\u001b[0m\n\u001b[0;32m     11\u001b[0m             init1 \u001b[38;5;241m=\u001b[39m item    \u001b[38;5;66;03m# 작은 값으로 init1값을 대체\u001b[39;00m\n\u001b[0;32m     13\u001b[0m     \u001b[38;5;28;01mreturn\u001b[39;00m init1\n\u001b[1;32m---> 16\u001b[0m min_score \u001b[38;5;241m=\u001b[39m get_min_score(korean, english, mathematics, science)\n\u001b[0;32m     17\u001b[0m \u001b[38;5;28mprint\u001b[39m(\u001b[38;5;124m'\u001b[39m\u001b[38;5;124m낮은 점수:\u001b[39m\u001b[38;5;124m'\u001b[39m, min_score)  \u001b[38;5;66;03m# 높은 점수: 100. 여기 네개중에선 한국어. 100점.\u001b[39;00m\n\u001b[0;32m     18\u001b[0m \u001b[38;5;28mprint\u001b[39m(get_min_score(\u001b[38;5;241m100\u001b[39m,\u001b[38;5;241m86\u001b[39m,\u001b[38;5;241m81\u001b[39m,\u001b[38;5;241m91\u001b[39m))\n",
      "Cell \u001b[1;32mIn[116], line 10\u001b[0m, in \u001b[0;36mget_min_score\u001b[1;34m(*args)\u001b[0m\n\u001b[0;32m      8\u001b[0m init \u001b[38;5;241m=\u001b[39m args[\u001b[38;5;241m0\u001b[39m]\n\u001b[0;32m      9\u001b[0m \u001b[38;5;28;01mfor\u001b[39;00m item \u001b[38;5;129;01min\u001b[39;00m args:\n\u001b[1;32m---> 10\u001b[0m     \u001b[38;5;28;01mif\u001b[39;00m init1 \u001b[38;5;241m>\u001b[39m item:    \u001b[38;5;66;03m# 기존값 보다 item이 작으면\u001b[39;00m\n\u001b[0;32m     11\u001b[0m         init1 \u001b[38;5;241m=\u001b[39m item    \u001b[38;5;66;03m# 작은 값으로 init1값을 대체\u001b[39;00m\n\u001b[0;32m     13\u001b[0m \u001b[38;5;28;01mreturn\u001b[39;00m init1\n",
      "\u001b[1;31mUnboundLocalError\u001b[0m: cannot access local variable 'init1' where it is not associated with a value"
     ]
    }
   ],
   "source": [
    "# 여기서 문제 5.\n",
    "#def get_min_score(*args):\n",
    "#    return min(args) # 를 포문을 이용해서 풀어보세요.\n",
    "\n",
    "korean, english, mathematics, science = 100, 86, 81, 91\n",
    "\n",
    "def get_min_score(*args):\n",
    "    init = args[0]\n",
    "    for item in args:\n",
    "        if init1 > item:    # 기존값 보다 item이 작으면\n",
    "            init1 = item    # 작은 값으로 init1값을 대체\n",
    "    \n",
    "    return init1\n",
    "\n",
    "\n",
    "min_score = get_min_score(korean, english, mathematics, science)\n",
    "print('낮은 점수:', min_score)  # 높은 점수: 100. 여기 네개중에선 한국어. 100점.\n",
    "print(get_min_score(100,86,81,91))\n",
    "\n",
    "# init은 항상 함수 안에서만 사용가능. 효력 범위때문에.\n"
   ]
  },
  {
   "cell_type": "code",
   "execution_count": 24,
   "metadata": {},
   "outputs": [
    {
     "name": "stdout",
     "output_type": "stream",
     "text": [
      "수원 까지의 금액은 2000 입니다.\n"
     ]
    },
    {
     "data": {
      "text/plain": [
       "2000"
      ]
     },
     "execution_count": 24,
     "metadata": {},
     "output_type": "execute_result"
    }
   ],
   "source": [
    "# 문제 6\n",
    "# 서울남부터미널에서 춘천, 부산, 대구, 수원으로 가는 기차표를 예매하는 프로그램을 작성하려 한다.\n",
    "# 각 도시당 5000원, 30000원, 10000원 2000원의 비용이 든다.\n",
    "# 도시 이름을 입력하면 금액을 결정하고 출력해주는 함수를 작성해보자.\n",
    "def cost(city):\n",
    "    dic = {'춘천': 5000, '부산' : 30000, '대구': 10000, '수원': 2000}\n",
    "    # 코드 작성\n",
    "    # if city in dic:\n",
    "    #   return dic.get(city)\n",
    "    print(city, \"까지의 금액은\", dic[city] ,\"입니다.\")  # city -> 수원, dic[city], dic.get(city) - 2000\n",
    "    return dic[city]\n",
    "city = input('춘천(운임 : 5000원) / 부산(운임 : 30000원) / 대구(운임 : 10000원)/ 수원(운임 : 2000원) |n중 한곳을 입력하세요')\n",
    "cost(city)\n",
    "\n"
   ]
  },
  {
   "cell_type": "code",
   "execution_count": 25,
   "metadata": {},
   "outputs": [
    {
     "ename": "SyntaxError",
     "evalue": "invalid syntax (2205155540.py, line 2)",
     "output_type": "error",
     "traceback": [
      "\u001b[1;36m  Cell \u001b[1;32mIn[25], line 2\u001b[1;36m\u001b[0m\n\u001b[1;33m    회사의 한 부서에서 출근 여부를 입력하는 프로그램을 만들려고 한다.\u001b[0m\n\u001b[1;37m        ^\u001b[0m\n\u001b[1;31mSyntaxError\u001b[0m\u001b[1;31m:\u001b[0m invalid syntax\n"
     ]
    }
   ],
   "source": [
    "# 문제 7\n",
    "#회사의 한 부서에서 출근 여부를 입력하는 프로그램을 만들려고 한다.\n",
    "#출근한 사람이 본인의 이름을 입력하면 출근이 완료되었다고 출력해주는 함수를 작성해보자.\n",
    "def check(name):\n",
    "    list = ['suzi', 'jisu', 'jennie', 'rose', 'lisa']\n",
    "    # 코드 작성\n",
    "\n",
    "    if name in list:\n",
    "        print(\"출근이 완료되었습니다.\")\n",
    "    else\n",
    "        print(\"출근이 불가합니다.\")\n",
    "# ㄴ 여기까지 돌리면 무한루프. \n",
    "\n",
    "# 다른방법.\n",
    "\n",
    "    while(True):\n",
    "    name = input('이름을 입력하세요 : ')\n",
    "    if name == \"바이바이\"\n",
    "        break\n",
    "    check(name)\n",
    "\n",
    "#이름을 입력하세요 : suzi\n",
    "#출근 완료되었습니다.\n",
    "\n",
    "#이름을 입력하세요 : jin\n",
    "#출근이 불가합니다.\n"
   ]
  },
  {
   "cell_type": "code",
   "execution_count": null,
   "metadata": {},
   "outputs": [
    {
     "ename": "SyntaxError",
     "evalue": "invalid syntax (4268188803.py, line 1)",
     "output_type": "error",
     "traceback": [
      "\u001b[1;36m  Cell \u001b[1;32mIn[26], line 1\u001b[1;36m\u001b[0m\n\u001b[1;33m    사각형의 둘레를 구하는 함수를 작성해보고, 두변의 길이가 각각 3과 6인 사각형의 둘레를 출력해보자.\u001b[0m\n\u001b[1;37m         ^\u001b[0m\n\u001b[1;31mSyntaxError\u001b[0m\u001b[1;31m:\u001b[0m invalid syntax\n"
     ]
    }
   ],
   "source": [
    "# 사각형의 둘레를 구하는 함수를 작성해보고, 두변의 길이가 각각 3과 6인 사각형의 둘레를 출력해보자.\n",
    "def circle(a,b):\n",
    "    # 코드 작성\n",
    "    return (a + b) * 2\n",
    "\n",
    "print(circle(3,6))\n",
    "\n"
   ]
  },
  {
   "cell_type": "code",
   "execution_count": 8,
   "metadata": {},
   "outputs": [
    {
     "name": "stdout",
     "output_type": "stream",
     "text": [
      "hello world\n"
     ]
    }
   ],
   "source": [
    "# 300제 문제. 1번. print 기초.\n",
    "# 화면에 hello world 문자열을 출력하세요.\n",
    "a =[\"Hello world\"]  # 오답. 출력하라고 했는데 print 안쓰고 소괄호에 안쓰고, 그냥 대괄호에만 썼음.\n",
    "                        # 질문. 왜 소괄호였지? 대괄호 외않됨? 대괄호는 딕셔너리였나? 소괄호는 뭐였지>\n",
    "                        #프린트 이후에 괄호에는 숫자만 와야함. \"\"를 친 이유는? 또 까먹음 ㅋㅋ\n",
    "# 정답\n",
    "print(\"hello world\")"
   ]
  },
  {
   "cell_type": "code",
   "execution_count": 9,
   "metadata": {},
   "outputs": [
    {
     "name": "stdout",
     "output_type": "stream",
     "text": [
      "Mary's cosmetics\n"
     ]
    }
   ],
   "source": [
    "# 300제 문제. 2번. print 기초\n",
    "# 화면에 Mary's cosmetics를 출력하세요.(중간에 '가 있음을 주의하세요)\n",
    "a = (\"Mary's cosmetics\")\n",
    "\n",
    "print(a)\n",
    "\n",
    "# 정답"
   ]
  },
  {
   "cell_type": "code",
   "execution_count": 10,
   "metadata": {},
   "outputs": [
    {
     "name": "stdout",
     "output_type": "stream",
     "text": [
      "신씨가 소리질렀다.\"도둑이야\"\n"
     ]
    }
   ],
   "source": [
    "# 300제 문제. 3번. print 기초\n",
    "# 화면에 아래 문장을 출력하세요.(중간에 \"가 있음에 주의하세요)\n",
    "# 신씨가 소리질렀다.\"도둑이야.\"\n",
    "a = '신씨가 소리질렀다.\"도둑이야\"'\n",
    "\n",
    "print(a)\n",
    "\n",
    "# 정답"
   ]
  },
  {
   "cell_type": "code",
   "execution_count": 15,
   "metadata": {},
   "outputs": [
    {
     "name": "stdout",
     "output_type": "stream",
     "text": [
      "c:|Windows\n",
      "c:\\Windows\n"
     ]
    }
   ],
   "source": [
    "# 300제 문제 4번. print 기초.\n",
    "# 화면에 C:\\Windows를 출력하세요.\n",
    "a = (\"c:|Windows\")\n",
    "\n",
    "print(a)\n",
    "\n",
    "# 오답. 역슬래시 하는법 뭐임?? 엔터 위에 원화를 그냥 누르기. 잘한다 진짜 병신\n",
    "\n",
    "# 답\n",
    "a = (\"c:\\Windows\")\n",
    "print(a)"
   ]
  },
  {
   "cell_type": "code",
   "execution_count": 16,
   "metadata": {},
   "outputs": [],
   "source": [
    "#300제 문제 5번. print 탭과 줄바꿈\n",
    "# 다음 코드를 실행해보고 \\t와 \\n의 역할을 설명해보세요.\n",
    "\n",
    "# print(\"안녕하세요.\\n만나서\\t\\t반갑습니다.\")\n",
    "\n",
    "#\\n은 줄바꿈\n",
    "#t는 몰루.......... \n",
    "# 정답 탭을 의미. 이거들림.\n",
    "\n"
   ]
  },
  {
   "cell_type": "code",
   "execution_count": 17,
   "metadata": {},
   "outputs": [
    {
     "name": "stdout",
     "output_type": "stream",
     "text": [
      "오늘은 일요일\n"
     ]
    }
   ],
   "source": [
    "#300제 문제 6번. print 여러 데이터 출력\n",
    "#print 함수에 두 개의 단어를 입력한 예제입니다. 아래 코드의 출력 결과를 예상해봅시다.\n",
    "\n",
    "#print (\"오늘은\", \"일요일\")\n",
    "# 풀이. 여러 값을 출력하려면 프린트 함수에서 쉼표로 구분해줘야 함. 따라서 오늘은 일요일 로 출력. 난 \"오늘은\"\"일요일\"\n",
    "#로 생각. 따옴표가 벗겨지리란걸 몰랐음.\n",
    "print(\"오늘은\",\"일요일\")"
   ]
  },
  {
   "cell_type": "code",
   "execution_count": 23,
   "metadata": {},
   "outputs": [
    {
     "ename": "SyntaxError",
     "evalue": "invalid syntax (1282600109.py, line 6)",
     "output_type": "error",
     "traceback": [
      "\u001b[1;36m  Cell \u001b[1;32mIn[23], line 6\u001b[1;36m\u001b[0m\n\u001b[1;33m    a(\"naver\", \";\", \"kakao\", \";\", \"sk\", \";\" \"samsung\"). # 오답노트: ;를 출력 할땐 뒤에 sep을 붙였어야 했음. 또까먹음.\u001b[0m\n\u001b[1;37m                                                        ^\u001b[0m\n\u001b[1;31mSyntaxError\u001b[0m\u001b[1;31m:\u001b[0m invalid syntax\n"
     ]
    }
   ],
   "source": [
    "# 300제 문제 7. print 기초\n",
    "#print() 함수를 사용하여 다음과 같이 출력하세요.\n",
    "\n",
    "# naver;kakao;sk;samsung\n",
    "\n",
    "a(\"naver\", \";\", \"kakao\", \";\", \"sk\", \";\" \"samsung\"). # 오답노트: ;를 출력 할땐 뒤에 sep을 붙였어야 했음. 또까먹음.\n",
    "print(a)        # 또한 a = ()를 사용못하고 이꼴표를 날려버림. 아직 이꼴과 그냥 붙여쓰는것이 다름을 확실히 모름.\n",
    "\n",
    "# 풀이 : sep 인자. ;를 입력하려면 출력되는 값들 사이에 한칸의 공백 대신 세미콜론이 출력된대.\n",
    "#답\n",
    "print(\"naver\", \"kakao\", \"sk\", \"samsung\", sep=\";\" )"
   ]
  },
  {
   "cell_type": "code",
   "execution_count": null,
   "metadata": {},
   "outputs": [],
   "source": []
  }
 ],
 "metadata": {
  "kernelspec": {
   "display_name": "base",
   "language": "python",
   "name": "python3"
  },
  "language_info": {
   "codemirror_mode": {
    "name": "ipython",
    "version": 3
   },
   "file_extension": ".py",
   "mimetype": "text/x-python",
   "name": "python",
   "nbconvert_exporter": "python",
   "pygments_lexer": "ipython3",
   "version": "3.11.7"
  }
 },
 "nbformat": 4,
 "nbformat_minor": 2
}
