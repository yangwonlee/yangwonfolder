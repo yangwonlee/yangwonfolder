{
 "cells": [
  {
   "cell_type": "code",
   "execution_count": null,
   "metadata": {},
   "outputs": [],
   "source": [
    "# 파이썬의 함수 및 라이브러리 학습.\n",
    "\n",
    "# 내부(내장) 함수의 예) print input int str len max etc... 내부 라이브러리랑은 다르게 import가 필요치 않음.\n",
    "# ㄴ 내부 라이브러리란? import random 등.모듈임. 내부 표준 라이브러리 모듈.\n",
    "# 내장함수들을 다 같이 해야 우리가 원하는 ai프로그램등을 만들 수 있음. 한번씩 꼭 훑어봐야함. 비전공자는 특히 더.\n",
    "# 책에 있는 8,90퍼센트는 거의 씀.\n",
    "\n",
    "# 내장함수란? 만드려 하기전에 이미 만들어져있을수도 있음. 가성비를 높힐 수 있는 방법. 우리가 직접 만드는것보단 이미 있는걸\n",
    "# 쓰는게 낫지. 그래서 설치가 되면 기본 내장함수를 먼저 확인하면 좋다."
   ]
  }
 ],
 "metadata": {
  "kernelspec": {
   "display_name": "Python 3",
   "language": "python",
   "name": "python3"
  },
  "language_info": {
   "name": "python",
   "version": "3.11.9"
  }
 },
 "nbformat": 4,
 "nbformat_minor": 2
}
