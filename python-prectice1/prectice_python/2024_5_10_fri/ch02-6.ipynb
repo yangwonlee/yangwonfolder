{
 "cells": [
  {
   "cell_type": "code",
   "execution_count": 1,
   "metadata": {},
   "outputs": [],
   "source": [
    "# 집합.\n",
    "# ㄴㄴ집합의 성질\n",
    "# ㄴㄴㄴ 집합에는 같은 숫자를 넣지 않는다. 제외시키는 성질을 갖고 있음. 집합의 연산과 교 합집합을 배워보자. set도."
   ]
  },
  {
   "cell_type": "code",
   "execution_count": 1,
   "metadata": {},
   "outputs": [],
   "source": [
    "#복습\n",
    "\n",
    "#[] = 리스트 자료형\n",
    "#ㄴ 추가, 수정, 삭제 순서 중복가능.\n",
    "#ㄴㄴ 중복 삭제가 가능한 뭐 학급 인원 리스트 등. 동명이인의 경우도o\n",
    "#{} = 딕셔너리\n",
    "#ㄴ 추가, 수정, 삭제 가능. 순서와 지정 불가능. 즉 튜플과 정반대.\n",
    "#() = 튜플\n",
    "#ㄴ 추가, 수정, 삭제 불가능. 순서 지정 가능. 중복은 배우진 않았지만\n",
    "#가능.(set은 불가)\n",
    "#ㄴㄴ 이런 속성을 가진 컨텐츠는 드물어서 잘 안쓰임. 불변이라.\n",
    "#세개를 배웠다. 주로 리스트나 딕셔너리로 충분히 개발 가능.\n"
   ]
  },
  {
   "cell_type": "code",
   "execution_count": 4,
   "metadata": {},
   "outputs": [
    {
     "name": "stdout",
     "output_type": "stream",
     "text": [
      "{1, 2, 3}\n"
     ]
    }
   ],
   "source": [
    "# 집합 자료형(set)\n",
    "# 기호는 특별하게 없고 함수로 사용. 리스트 튜플 딕셔너리는 잘 안쓰고 기호로 사용\n",
    "#했지만.\n",
    "s1 = set([1,2,3])\n",
    "s1                     #중괄호가 쳐져 있지만 집합이다. 소중대괄호 전부 사용 가능.\n",
    "s2 = {1,2,3}\n",
    "print(s2) "
   ]
  },
  {
   "cell_type": "code",
   "execution_count": 6,
   "metadata": {},
   "outputs": [
    {
     "data": {
      "text/plain": [
       "{'e', 'h', 'l', 'o'}"
      ]
     },
     "execution_count": 6,
     "metadata": {},
     "output_type": "execute_result"
    }
   ],
   "source": [
    "# 문자열도 집합으로 사용 가능. 당연히\n",
    "s2 = set(\"hello\")\n",
    "s2      # 집합은 순서가 중요하지 않음. 컴퓨터마다 처리가 달라서 위치도 매번 다름.\n",
    "# l이 빠진것은 확실함. 중복을 허용치 않기 때문. "
   ]
  },
  {
   "cell_type": "code",
   "execution_count": 10,
   "metadata": {},
   "outputs": [
    {
     "data": {
      "text/plain": [
       "(1, 2, 2, 3)"
      ]
     },
     "execution_count": 10,
     "metadata": {},
     "output_type": "execute_result"
    }
   ],
   "source": [
    "s2 = {1,2,2,3}\n",
    "s2 # 숫자 역시 중복 불허.\n",
    "s3 = (1,2,2,3) # 튜플은 중복을 허용하기 떄문에 2가 두개 출력.\n",
    "s3 # 즉 괄호가 의미하는게 굉장히 큼."
   ]
  },
  {
   "cell_type": "code",
   "execution_count": 12,
   "metadata": {},
   "outputs": [
    {
     "data": {
      "text/plain": [
       "1"
      ]
     },
     "execution_count": 12,
     "metadata": {},
     "output_type": "execute_result"
    }
   ],
   "source": [
    "# 집합은 순서가 없기 때문에 인덱싱을 통해 요솟값을 얻을 수 없다.\n",
    "# 인덱싱으로 접근하려면 리스트나 튜플로 변환한 후에 해야한다.\n",
    "s3[0] # 리스트"
   ]
  },
  {
   "cell_type": "code",
   "execution_count": 14,
   "metadata": {},
   "outputs": [
    {
     "ename": "TypeError",
     "evalue": "'set' object is not subscriptable",
     "output_type": "error",
     "traceback": [
      "\u001b[1;31m---------------------------------------------------------------------------\u001b[0m",
      "\u001b[1;31mTypeError\u001b[0m                                 Traceback (most recent call last)",
      "Cell \u001b[1;32mIn[14], line 1\u001b[0m\n\u001b[1;32m----> 1\u001b[0m s2[\u001b[38;5;241m0\u001b[39m]\n",
      "\u001b[1;31mTypeError\u001b[0m: 'set' object is not subscriptable"
     ]
    }
   ],
   "source": [
    "s2[0] # 에러. s2는 집합이었기 때문에."
   ]
  },
  {
   "cell_type": "code",
   "execution_count": 15,
   "metadata": {},
   "outputs": [
    {
     "name": "stdout",
     "output_type": "stream",
     "text": [
      "1\n",
      "[1, 2, 3]\n"
     ]
    }
   ],
   "source": [
    "s2 = {1,2,2,3}    #변수 s2의 인수는 1,2,2,3\n",
    "l2 = list(s2)     #s2를 엘(l)2로 변환. 리스트로 변환\n",
    "\n",
    "print(l2[0])       #l2의 0번째 인덱싱을 뽑겠다.\n",
    "print(l2)          #출력.\n",
    "# 변수는 숫자로 시작할 수 없다. 일이 아닌 엘\n",
    "# 요솟값(인수)을 뽑기 위해선 대괄호 사이에 인덱싱 번호 2트"
   ]
  },
  {
   "cell_type": "code",
   "execution_count": 16,
   "metadata": {},
   "outputs": [],
   "source": [
    ">>> s1 = set([1, 2, 3, 4, 5, 6])\n",
    ">>> s2 = set([4, 5, 6, 7, 8, 9])"
   ]
  },
  {
   "cell_type": "code",
   "execution_count": 17,
   "metadata": {},
   "outputs": [
    {
     "name": "stdout",
     "output_type": "stream",
     "text": [
      "{4, 5, 6}\n"
     ]
    },
    {
     "data": {
      "text/plain": [
       "{4, 5, 6}"
      ]
     },
     "execution_count": 17,
     "metadata": {},
     "output_type": "execute_result"
    }
   ],
   "source": [
    "# 교집합 구하기\n",
    "# &나 intersection함수를 이용\n",
    "print(s1& s2)\n",
    "s1.intersection(s2) # intersection= 단어뜻 그대로 교집."
   ]
  },
  {
   "cell_type": "code",
   "execution_count": 20,
   "metadata": {},
   "outputs": [
    {
     "name": "stdout",
     "output_type": "stream",
     "text": [
      "{1, 2, 3, 4, 5, 6, 7, 8, 9}\n"
     ]
    },
    {
     "data": {
      "text/plain": [
       "{1, 2, 3, 4, 5, 6, 7, 8, 9}"
      ]
     },
     "execution_count": 20,
     "metadata": {},
     "output_type": "execute_result"
    }
   ],
   "source": [
    "#합집합 구하기. 중복값은 1개만 표현\n",
    "print(s1 | s2)  # |는 엔터 위에 버티컬 바. \\를 시프트키를 쳐서 작성가능.\n",
    "s1.union(s2) # 내장 함수는 .앞에 함수 뒤에 바로 괄호. 이후 시프트엔터. 바로발동.2트. "
   ]
  },
  {
   "cell_type": "code",
   "execution_count": 23,
   "metadata": {},
   "outputs": [
    {
     "name": "stdout",
     "output_type": "stream",
     "text": [
      "{1, 2, 3}\n",
      "{8, 9, 7}\n",
      "{1, 2, 3}\n",
      "{8, 9, 7}\n"
     ]
    }
   ],
   "source": [
    "# 차집합 구하기. \n",
    "print(s1 - s2) # s1을 기준으로 s2를 뺀다.\n",
    "print(s2 - s1) # s2를 기준으로 s1을 뺀다.\n",
    "print(s1.difference(s2))\n",
    "print(s2.difference(s1))"
   ]
  },
  {
   "cell_type": "code",
   "execution_count": 24,
   "metadata": {},
   "outputs": [
    {
     "data": {
      "text/plain": [
       "{1, 2, 3, 4}"
      ]
     },
     "execution_count": 24,
     "metadata": {},
     "output_type": "execute_result"
    }
   ],
   "source": [
    "# 집합 자료형 관련 함수\n",
    "#1. add 함수. 값 1개 추가하기. 비슷한 개념=  append, insert 함수. \n",
    "# add는 집합에서만 사용\n",
    "s1 = set([1,2,3])\n",
    "s1.add(4)\n",
    "s1"
   ]
  },
  {
   "cell_type": "code",
   "execution_count": 26,
   "metadata": {},
   "outputs": [
    {
     "data": {
      "text/plain": [
       "{1, 2, 3, 4, 5, 6}"
      ]
     },
     "execution_count": 26,
     "metadata": {},
     "output_type": "execute_result"
    }
   ],
   "source": [
    "#2. update 함수. 값 여러개 추가하기. dict의 업데이트 함수와 비슷\n",
    "s1 = set([1,2,3])\n",
    "s1.update([4,5,6]) # 함수는 . 함수 소괄호가 기본 베이스. 사이에 리스트로 대괄호든 딕셔너리의 중괄호든 자유 2트\n",
    "s1          # 셋은 중복을 불허키 때문에 3을 넣는다고 해도 무시가 됨."
   ]
  },
  {
   "cell_type": "code",
   "execution_count": 33,
   "metadata": {},
   "outputs": [
    {
     "data": {
      "text/plain": [
       "{1, 3}"
      ]
     },
     "execution_count": 33,
     "metadata": {},
     "output_type": "execute_result"
    }
   ],
   "source": [
    "#3. remove - 특정값 제거.\n",
    "s1 = set([1,2,3])\n",
    "s1.remove(2)\n",
    "s1"
   ]
  },
  {
   "cell_type": "code",
   "execution_count": 46,
   "metadata": {},
   "outputs": [
    {
     "name": "stdout",
     "output_type": "stream",
     "text": [
      "True\n"
     ]
    },
    {
     "data": {
      "text/plain": [
       "0"
      ]
     },
     "execution_count": 46,
     "metadata": {},
     "output_type": "execute_result"
    }
   ],
   "source": [
    "# 문제 1. 지금까지 배운것 총동원.\n",
    "# 자연수 13이 홀수인지 짝수인지 판별 할 수 있는 방법에 대해서 적어보시오\n",
    "홀수 = ['1','3','5','7','9','11','13','15']\n",
    "print('13' in 홀수)\n",
    "\n",
    "# 답 퍼센트%로 구하기.\n",
    "a = 13\n",
    "# a % 2 나머지가 0인것은 짝수이고 나머지가 1인것은 홀수\n",
    "a = a % 2\n",
    "a\n",
    "\n",
    "b = 14\n",
    "b = b % 2\n",
    "b"
   ]
  },
  {
   "cell_type": "code",
   "execution_count": 47,
   "metadata": {},
   "outputs": [
    {
     "data": {
      "text/plain": [
       "'1'"
      ]
     },
     "execution_count": 47,
     "metadata": {},
     "output_type": "execute_result"
    }
   ],
   "source": [
    "# 문제 2\n",
    "# 주번 뒷자리 맨 첫번째 숫자가 성별을 나타낸다. ex)960924 \n",
    "# 이때 주번에서 성별을 나타내는 숫자를 출력하시오. \n",
    "# 답 못적음.\n",
    "# 선생님 답\n",
    "a = \"960924-1205019\"\n",
    "a[7] # 인덱싱 가져오기. 인덱스번호 7번. 가져올땐 대괄호안에 인덱스 번호 입력. 3트."
   ]
  },
  {
   "cell_type": "code",
   "execution_count": 51,
   "metadata": {},
   "outputs": [
    {
     "data": {
      "text/plain": [
       "[1, 2, 3, 4, 5]"
      ]
     },
     "execution_count": 51,
     "metadata": {},
     "output_type": "execute_result"
    }
   ],
   "source": [
    "# 문제 3\n",
    "a = [1,1,1,2,2,3,3,3,4,4,5]\n",
    "a = set(a) # a리스트를 집합 자료형으로 변환하는 코드 작성\n",
    "a = list(a) # 집합 자료형을 리스트 자료형으로 다시 변환하는 코드 작성\n",
    "a"
   ]
  },
  {
   "cell_type": "code",
   "execution_count": 61,
   "metadata": {},
   "outputs": [
    {
     "data": {
      "text/plain": [
       "'4'"
      ]
     },
     "execution_count": 61,
     "metadata": {},
     "output_type": "execute_result"
    }
   ],
   "source": [
    " a = [\"1\",\"2\",\"3\",\"4\"]\n",
    " a[3]"
   ]
  },
  {
   "cell_type": "code",
   "execution_count": null,
   "metadata": {},
   "outputs": [],
   "source": []
  }
 ],
 "metadata": {
  "kernelspec": {
   "display_name": "base",
   "language": "python",
   "name": "python3"
  },
  "language_info": {
   "codemirror_mode": {
    "name": "ipython",
    "version": 3
   },
   "file_extension": ".py",
   "mimetype": "text/x-python",
   "name": "python",
   "nbconvert_exporter": "python",
   "pygments_lexer": "ipython3",
   "version": "3.11.7"
  }
 },
 "nbformat": 4,
 "nbformat_minor": 2
}
