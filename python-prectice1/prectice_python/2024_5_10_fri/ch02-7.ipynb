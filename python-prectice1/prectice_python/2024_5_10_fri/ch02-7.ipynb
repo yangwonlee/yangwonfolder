{
 "cells": [
  {
   "cell_type": "code",
   "execution_count": 2,
   "metadata": {},
   "outputs": [
    {
     "name": "stdout",
     "output_type": "stream",
     "text": [
      "True\n",
      "False\n"
     ]
    }
   ],
   "source": [
    "# 불(bool) 자료형\n",
    "# 불 자료형은 참과 거짓을 나타내는 자료형. 불 자료형은 참과 거짓인 True, False값만 가짐. 파이선에선 무조건 첫글자는 대문자.\n",
    "# 동시 사용 불가.\n",
    "\n",
    "a = True # 앞에 문자는 대문자\n",
    "b = False \n",
    "\n",
    "print(a)\n",
    "print(b)"
   ]
  },
  {
   "cell_type": "code",
   "execution_count": 3,
   "metadata": {},
   "outputs": [
    {
     "data": {
      "text/plain": [
       "bool"
      ]
     },
     "execution_count": 3,
     "metadata": {},
     "output_type": "execute_result"
    }
   ],
   "source": [
    "type(a) # 이 셀의 타입은 불."
   ]
  },
  {
   "cell_type": "code",
   "execution_count": 4,
   "metadata": {},
   "outputs": [
    {
     "data": {
      "text/plain": [
       "True"
      ]
     },
     "execution_count": 4,
     "metadata": {},
     "output_type": "execute_result"
    }
   ],
   "source": [
    " 1 == 1 # ==는 리턴값."
   ]
  },
  {
   "cell_type": "code",
   "execution_count": 5,
   "metadata": {},
   "outputs": [
    {
     "data": {
      "text/plain": [
       "bool"
      ]
     },
     "execution_count": 5,
     "metadata": {},
     "output_type": "execute_result"
    }
   ],
   "source": [
    "type(a)"
   ]
  },
  {
   "cell_type": "code",
   "execution_count": 6,
   "metadata": {},
   "outputs": [
    {
     "data": {
      "text/plain": [
       "True"
      ]
     },
     "execution_count": 6,
     "metadata": {},
     "output_type": "execute_result"
    }
   ],
   "source": [
    "2 > 1"
   ]
  },
  {
   "cell_type": "code",
   "execution_count": 7,
   "metadata": {},
   "outputs": [
    {
     "data": {
      "text/plain": [
       "False"
      ]
     },
     "execution_count": 7,
     "metadata": {},
     "output_type": "execute_result"
    }
   ],
   "source": [
    "2 < 1 # "
   ]
  },
  {
   "cell_type": "code",
   "execution_count": 9,
   "metadata": {},
   "outputs": [],
   "source": [
    "# 자료형의 참과 거짓\n",
    "# 자료형에 참과 거짓은 분명히 있다. 매우 중요한 특징이며 자주쓰임.\n",
    "# 값이 비어있으면 거짓. 튜플 딕셔너리 리스트 문자열이 비어있으면 거짓. 0은 모족곤 거짓.\n",
    "# bool (\"python\")\t참\n",
    "# bool (\"\")\t거짓\n",
    "# bool ([1, 2, 3])\t참\n",
    "# bool ([])\t거짓\n",
    "# bool ((1, 2, 3))\t참\n",
    "# bool (())\t거짓\n",
    "# bool ({'a': 1})\t참\n",
    "# bool ({})\t거짓\n",
    "# bool(1)\t참\n",
    "# bool(0)\t거짓\n",
    "# bool (None)\t거짓\n",
    "\n",
    "#부등호의 경우에는 참거짓이 바로 튀어나오지만 이것은 시간이 좀 걸린다. 나중에 if문에서 배우자\n",
    "# 앞에 bool을 써주면 바로 판별 가능.= 이는 불 연산이라고 한다."
   ]
  },
  {
   "cell_type": "code",
   "execution_count": 13,
   "metadata": {},
   "outputs": [
    {
     "name": "stdout",
     "output_type": "stream",
     "text": [
      "참\n"
     ]
    }
   ],
   "source": [
    "if [1,2,3]:\n",
    "    print(\"참\")\n",
    "else:\n",
    "    print(\"거짓\") # 이것들을 소스코드라고 함.\n",
    "\n",
    "# 이 소스코드를 해석하면 만약 1,2,3이 참이면 참이라는 문자를 출력하고 그렇지 않으면 거짓이라는 문자를 출력하라.\n",
    "# 1,2,3은 값이 있기 때문에 참. 0이 아니라서 참."
   ]
  },
  {
   "cell_type": "code",
   "execution_count": null,
   "metadata": {},
   "outputs": [],
   "source": []
  }
 ],
 "metadata": {
  "kernelspec": {
   "display_name": "base",
   "language": "python",
   "name": "python3"
  },
  "language_info": {
   "codemirror_mode": {
    "name": "ipython",
    "version": 3
   },
   "file_extension": ".py",
   "mimetype": "text/x-python",
   "name": "python",
   "nbconvert_exporter": "python",
   "pygments_lexer": "ipython3",
   "version": "3.11.7"
  }
 },
 "nbformat": 4,
 "nbformat_minor": 2
}
