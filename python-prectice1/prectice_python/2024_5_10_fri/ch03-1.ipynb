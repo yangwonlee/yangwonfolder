{
 "cells": [
  {
   "cell_type": "code",
   "execution_count": 1,
   "metadata": {},
   "outputs": [],
   "source": [
    "# 제어문\n",
    "\n",
    "# 이프 와일 포 등의 제어문에 대해서 배운다. 나무 돌 시멘트등의 재료는 자료.\n",
    "\n",
    "# 대표적인 조건문인 if 문. 부터\n",
    "# if 문이 필요 한 이유.\n",
    "# ㄴ ex) 내일배움카드가 있으면 수업을 듣고 없으면 듣지 못한다. 즉 앞에 전제조건이 있으면 쓰임. "
   ]
  },
  {
   "cell_type": "code",
   "execution_count": 4,
   "metadata": {},
   "outputs": [
    {
     "name": "stdout",
     "output_type": "stream",
     "text": [
      "택시를 타고 가라\n"
     ]
    }
   ],
   "source": [
    "# if 제어문.\n",
    "# '돈이 있으면 택시를 타고가고, 돈이 없으면 걸어간다.'\n",
    "money = True # -> 대문자 제발 사용.\n",
    "if money:\n",
    "    print(\"택시를 타고 가라\")\n",
    "else:\n",
    "    print(\"걸어 가라\")   # 무조건 4칸.or tab키."
   ]
  },
  {
   "cell_type": "code",
   "execution_count": 5,
   "metadata": {},
   "outputs": [
    {
     "name": "stdout",
     "output_type": "stream",
     "text": [
      "걸어 가라\n",
      "걸어가면 다리가 아파\n"
     ]
    }
   ],
   "source": [
    "# if문의 기본 구조 indentation(들여쓰기)가 제일 중요함.\n",
    "money = False # -> 대문자 제발 사용.\n",
    "if money:\n",
    "    print(\"택시를 타고 가라\")\n",
    "    print(\"ㅇ\")\n",
    "else:\n",
    "    print(\"걸어 가라\")\n",
    "    print(\"걸어가면 다리가 아파\") #->돈이 없으니 위에 두문장은 생략이됨. 들여쓰지 않으면 에러가 뜬다. 2트"
   ]
  },
  {
   "cell_type": "code",
   "execution_count": 7,
   "metadata": {},
   "outputs": [
    {
     "name": "stdout",
     "output_type": "stream",
     "text": [
      "택시를\n",
      "타고\n",
      "가라\n"
     ]
    }
   ],
   "source": [
    "# 들여쓰기 방법 알아보기\n",
    "# eror 케이스. 들여쓰기를 안하면 그냥 구역이 되버림. 들여쓰기의 반댓말은 내어쓰기\n",
    "# 뒤에 엘스문은 생략도 가능함.\n",
    "\n",
    "money = True\n",
    "if money:\n",
    "    print(\"택시를\")\n",
    "    print(\"타고\")\n",
    "    print(\"가라\")  #-> 들여쓰기를 하나 빼먹은 오류. 들여쓰기가 안되면 구역을 따로 지정해버린셈이기 때문.\n",
    "# 둘다 들이던지 둘다 내어쓰었어야 함. 내어쓰기는 시프트 탭을 누르면 됨. 단축키임. 탭이 두번 들어가도 오류.\n",
    "# 또한 이프문 뒤에 콜론을 꼭 붙여써라\n"
   ]
  },
  {
   "cell_type": "code",
   "execution_count": 12,
   "metadata": {},
   "outputs": [
    {
     "name": "stdout",
     "output_type": "stream",
     "text": [
      "True\n",
      "False\n",
      "True\n"
     ]
    }
   ],
   "source": [
    "# 비교 연산자.\n",
    "# 같다는 =를 두번 써줘야한다 꼭. ==. 같지않다는 !=\n",
    "x = 3 \n",
    "y = 2\n",
    "\n",
    "print( x > y ) # True\n",
    "print( x == y ) # False\n",
    "print( x != y ) #True"
   ]
  },
  {
   "cell_type": "code",
   "execution_count": 10,
   "metadata": {},
   "outputs": [
    {
     "name": "stdout",
     "output_type": "stream",
     "text": [
      " 택시를 타고 가라\n"
     ]
    }
   ],
   "source": [
    "# 만약 3천원 이상의 돈을 가지고 있으면\n",
    "# 택시를 타고 가고, 그렇지 않으면 걸어가라.\n",
    "# 위의 문장을 if문 코드로 작성하라.\n",
    "\n",
    "money = 3000\n",
    "if money >= 3000: # money변수는 돈을 가리킴.\n",
    "    print(\" 택시를 타고 가라\")\n",
    "else:\n",
    "    print(\"걸어가라\")\n"
   ]
  },
  {
   "cell_type": "code",
   "execution_count": 13,
   "metadata": {},
   "outputs": [
    {
     "ename": "SyntaxError",
     "evalue": "invalid syntax (408252295.py, line 5)",
     "output_type": "error",
     "traceback": [
      "\u001b[1;36m  Cell \u001b[1;32mIn[13], line 5\u001b[1;36m\u001b[0m\n\u001b[1;33m    >>> money = 2000\u001b[0m\n\u001b[1;37m    ^\u001b[0m\n\u001b[1;31mSyntaxError\u001b[0m\u001b[1;31m:\u001b[0m invalid syntax\n"
     ]
    }
   ],
   "source": [
    "#논리 연산자(and, or, not)\n",
    "#ㄴ 전자기기 공부한사람은 쉽대.\n",
    "# and 연산자란? 피연산자(x나y등을 의미함) 모두 참일 경우에만 참인 결과를 내주는 논리 연산자\n",
    "# OR 연산자는 하나라도 1이 아니면 \n",
    ">>> money = 2000\n",
    ">>> card = True\n",
    ">>> if money >= 3000 or card:       # or연산자는 피연산자중 하나만 참이어도 참.\n",
    "...     print(\"택시를 타고 가라\")\n",
    "... else:\n",
    "...     print(\"걸어가라\")"
   ]
  },
  {
   "cell_type": "code",
   "execution_count": 14,
   "metadata": {},
   "outputs": [
    {
     "name": "stdout",
     "output_type": "stream",
     "text": [
      "True\n"
     ]
    }
   ],
   "source": [
    "# 문제 1\n",
    "#아래 코드의 결과를 예상하라\n",
    "x = 4\n",
    "print(1 < x < 5) # true. 값 안에 있으니"
   ]
  },
  {
   "cell_type": "code",
   "execution_count": 16,
   "metadata": {},
   "outputs": [
    {
     "name": "stdout",
     "output_type": "stream",
     "text": [
      "True\n"
     ]
    }
   ],
   "source": [
    "# 문제 2\n",
    "# 아래 코드의 결과를 예상하라.\n",
    "print((3 == 3) and (4 != 3)) # 트루지. True and true = true"
   ]
  },
  {
   "cell_type": "code",
   "execution_count": 20,
   "metadata": {},
   "outputs": [
    {
     "name": "stdout",
     "output_type": "stream",
     "text": [
      "False\n"
     ]
    }
   ],
   "source": [
    "# 문제 3\n",
    "print(3= > 4) # -> 에러다. 꺽쇠가 앞에 들어와야 한다. 무조건 등호는 뒤에.\n",
    "\n",
    "\n",
    "print(3 >= 4) # 띄어쓰기를 어디를 하고 어딜 안하는지 익혀야 한다."
   ]
  },
  {
   "cell_type": "code",
   "execution_count": 24,
   "metadata": {},
   "outputs": [
    {
     "name": "stdout",
     "output_type": "stream",
     "text": [
      "1\n",
      "2\n"
     ]
    }
   ],
   "source": [
    "# 문4\n",
    "# 아래 코드의 결과를 예상ㄱ\n",
    "if True:\n",
    "    print(\"1\")\n",
    "    print(\"2\")\n",
    "else:\n",
    "    print(\"3\")\n",
    "print(\"4\")          #->else 인 3은 안나오고 1,2,4만 나옴. 참인 1,2 는 나오고 마지막에 4도 출력하라했으니 나옴.\n",
    "# 막줄에 print4가 들여쓰기가 됐다면 엘스 구역으로 지정되었으니 1,2 만 출력이 될터."
   ]
  },
  {
   "cell_type": "code",
   "execution_count": 26,
   "metadata": {},
   "outputs": [
    {
     "data": {
      "text/plain": [
       "True"
      ]
     },
     "execution_count": 26,
     "metadata": {},
     "output_type": "execute_result"
    }
   ],
   "source": [
    "# in, not in 연산자.\n",
    "# 타 프로그래밍 언어에서 쉽게 볼 수 없는 조건문들.\n",
    "1 in [1,2,3] # 리스트 안에 1이 있나? 라는 뜻. 있으니 참. True\n"
   ]
  },
  {
   "cell_type": "code",
   "execution_count": 27,
   "metadata": {},
   "outputs": [
    {
     "data": {
      "text/plain": [
       "True"
      ]
     },
     "execution_count": 27,
     "metadata": {},
     "output_type": "execute_result"
    }
   ],
   "source": [
    "1 in (1,2,3) # 튜플. 딕셔너리도 가능"
   ]
  },
  {
   "cell_type": "code",
   "execution_count": 28,
   "metadata": {},
   "outputs": [
    {
     "data": {
      "text/plain": [
       "True"
      ]
     },
     "execution_count": 28,
     "metadata": {},
     "output_type": "execute_result"
    }
   ],
   "source": [
    "\"j\" not in \"python\" # 문자열"
   ]
  },
  {
   "cell_type": "code",
   "execution_count": 29,
   "metadata": {},
   "outputs": [
    {
     "name": "stdout",
     "output_type": "stream",
     "text": [
      "택시를 타고 가라\n"
     ]
    }
   ],
   "source": [
    "# 만약 주머니에 돈이 있으면 택시를 타고 가고, 없으면 걸어가라.\n",
    "pocket = [\"paper\", \"cellphone\", \"money\"]\n",
    "if \"money\" in pocket:\n",
    "    print(\"택시를 타고 가라\")\n",
    "else:\n",
    "    print(\"걸어가라\") #-> 주머니에 종이 폰 돈이 있다. 돈이 있으니 택시를 타고 가라는 코드."
   ]
  },
  {
   "cell_type": "code",
   "execution_count": 30,
   "metadata": {},
   "outputs": [],
   "source": [
    "# 조건문에서 아무 일도 하지 않게 설정도 가능. pass를 사용. 파이선에만 있는 키워드 pass. 예약어.\n",
    "# 만약 주머니에 돈이 있으면 가만히 있고, 없으면 카드를 꺼내라.\n",
    "pocket = [\"paper\", \"cellphone\", \"money\"]\n",
    "if \"money\" in pocket:   # 문법상 오류라서 지원하는 개념으로 pass를 만들어 냄. 가만히 있어야되니 노출력.\n",
    "    pass\n",
    "else:\n",
    "    print(\"카드를 꺼내라\")"
   ]
  },
  {
   "cell_type": "code",
   "execution_count": 31,
   "metadata": {},
   "outputs": [],
   "source": [
    "if \"money\" not in pocket:\n",
    "    print(\"카드를 꺼내라\") # 이 코드가 두줄 뿐이라 더 애용."
   ]
  },
  {
   "cell_type": "code",
   "execution_count": 46,
   "metadata": {},
   "outputs": [
    {
     "name": "stdout",
     "output_type": "stream",
     "text": [
      "택시를 타고가라\n"
     ]
    }
   ],
   "source": [
    "# 다양한 조건을 판단하는 elif(;엘이프).\n",
    "# 조건이 많을 때.\n",
    "pocket = ['paper', 'cellphone']\n",
    "card = True\n",
    "if 'money' in pocket:\n",
    "    print(\"택시를 타고가라\")\n",
    "else:\n",
    "    if card:\n",
    "        print(\"택시를 타고가라\") # 중첩 이프문은 들여쓰기를 두 번 해야함.\n",
    "    else:\n",
    "        print(\"걸어가라\")\n"
   ]
  },
  {
   "cell_type": "code",
   "execution_count": 44,
   "metadata": {},
   "outputs": [
    {
     "name": "stdout",
     "output_type": "stream",
     "text": [
      "택시를 타고가라\n"
     ]
    }
   ],
   "source": [
    "if \"money\" in pocket:\n",
    "    print(\"택시를 타고가라\") # if 문까지는 똑같음. 같은 레이어(들여쓰기 레벨단계)로 맞출 수 있음.\n",
    "elif card:   \n",
    "    (\"택시를 타고가라\")           # 엘이프는 여러번 추가 가능. 이프엘스는 한번밖에 안되지만.\n",
    "else:\n",
    "    print(\"걸어가라\")       # 엘이프가 된다면 엘스는 실행하지 않기 때문에 지워도 됨.\n",
    "    # 이 코드는 좋은 코드가 아님. 이유는 문자열이 반복이 되기에."
   ]
  },
  {
   "cell_type": "code",
   "execution_count": 45,
   "metadata": {},
   "outputs": [
    {
     "name": "stdout",
     "output_type": "stream",
     "text": [
      "택시를 타고가라\n"
     ]
    }
   ],
   "source": [
    "if (\"money\" in pocket) or card: # 포켓과 코드를 구분해주기 위해 괄호사용. 안해도됨. 책에는 없는 내용.\n",
    "    print(\"택시를 타고가라\") # if 문까지는 똑같음. 같은 레이어(들여쓰기 레벨단계)로 맞출 수 있음.\n",
    "elif card:   \n",
    "    (\"택시를 타고가라\")             # 반복되는 문구는 지운 깔끔한 코드."
   ]
  },
  {
   "cell_type": "code",
   "execution_count": 50,
   "metadata": {},
   "outputs": [],
   "source": [
    "# if 문을 한 줄로 작성하기. ; 콜론을 이용해서.\n",
    "pocket = [\"paper\", \"money\", \"cellphone\"]\n",
    "if \"money\" in pocket: pass\n",
    "else: print(\"카드를 꺼내라\")    # 탭을 내지 않고 레이어를 맞춘 이유는?\n"
   ]
  },
  {
   "cell_type": "code",
   "execution_count": 54,
   "metadata": {},
   "outputs": [],
   "source": [
    "# 조건부 표현식(변수 = 조건문이_참인_경우의_값 if 조건문 else 조건문이_거짓인_경우의_값)\n",
    "score = 70\n",
    "message = \"success\" if score >= 60 else \"failure\" "
   ]
  },
  {
   "cell_type": "code",
   "execution_count": 55,
   "metadata": {},
   "outputs": [],
   "source": [
    "# 책에 없는 함수\n",
    "# print는 변수나 리턴에 있는 값을 출력하는 함수. 출력이 있다면 입력도 있음.\n",
    "# input: 입력"
   ]
  },
  {
   "cell_type": "code",
   "execution_count": 59,
   "metadata": {},
   "outputs": [
    {
     "name": "stdout",
     "output_type": "stream",
     "text": [
      "입력값 타입 <class 'str'>\n",
      "입력값 d\n"
     ]
    }
   ],
   "source": [
    "# input함수\n",
    "# user_input = input(\"입력값을 작성하세요: \")\n",
    "print(\"입력값 타입\",type(user_input))     #이러면 위에 검색 바가 뜸. 검색하면 됨.d를 누른다면 밑에 입력값이 뜸.\n",
    "# (리턴값은 어떤 타입일까)\n",
    "print(\"입력값\", user_input)"
   ]
  },
  {
   "cell_type": "code",
   "execution_count": 65,
   "metadata": {},
   "outputs": [
    {
     "name": "stdout",
     "output_type": "stream",
     "text": [
      "안녕하세요안녕하세요안녕하세요안녕하세요\n"
     ]
    }
   ],
   "source": [
    "# 문제 5\n",
    "# 사용자로부터 입력받은 문자열을 2번 출력하는 코드를 작성하시오.\n",
    "# ex) 안녕하세요 -> 안녕하세요안녕하세요\n",
    "a = '안녕하세요'*2\n",
    "a\n",
    "\n",
    "#답\n",
    "user_input = input(\"\")\n",
    "print(user_input * 2)"
   ]
  },
  {
   "cell_type": "code",
   "execution_count": 66,
   "metadata": {},
   "outputs": [],
   "source": [
    "# ai와 개발은 뭐가 다른가.\n",
    "# 개발은 develop에 가깝고 ai는 인공지능에 가깝다. 당연한것 같은데.\n",
    "# ai는 로드맵이 다르다. 컴퓨터 로드맵이라는게 있대. roadmap.sh 아이티 직군이 있는데 어떤 테마를 정해서 배워야 할 내용을 안내해주는 것\n",
    "#프론텐드 \n",
    "# 백엔드: 데이터베이스를 다루는 곳. 프론텐드와 백엔드를 합쳐서 앱개발을 함. 둘을 합쳐 풀스택이라고 함. 뎁옵스를 합쳐서 풀스택이라고도 하고.\n",
    "# 일단 파이선은 백엔드. 우리도 백엔드중. 안드로이드는 프론텐드. 앱개발. 보안도 있고 qa도 있고.\n",
    "#머신러닝은 ai에 가깝고. 게임개발과 게임 디벨롭도 있고. 하나만 하기도 벅참. 취업에 도움이 되는걸 골라서 진행해보자.\n",
    "#취업은 풀스택과 프론텐드. 근데 수업과정에 ai가있어서 얇게. 깊게는 백프론텐드.\n",
    "\n",
    "# 로드맵에 프론텐드를 들어가보면, 테일윈드. 테일윈드를 중점으로. css는 변수가 없어서 제공하는 프리프로세스도 배울거고.\n",
    "#하여튼 많음\n"
   ]
  },
  {
   "cell_type": "code",
   "execution_count": 142,
   "metadata": {},
   "outputs": [
    {
     "name": "stdout",
     "output_type": "stream",
     "text": [
      "18\n"
     ]
    }
   ],
   "source": [
    "#문제6\n",
    "a = [8]\n",
    "user_input = input(\"\")\n",
    "print(int(user_input) + (10)) # 함수에 +는 넣지 않아도 플러스 마이너스만 -를 붙이면 된다. 또한 괄호 안에는\n",
    "# 숫자만 들어가야 한다.\n",
    "# user_input은 문자열. 그러니, 괄호 안에는 숫자만 들어가야 하니까 user_input은 문자열이니 숫자로 바꿔주기 위해서\n",
    "# int를 넣어줘야 했다. int는 또한 함수니까 .이나 띄어쓰기가 들어가지 못한다. 앞에 괄호는 붙여줘야하고. 4트\n",
    "\n",
    "# 답\n",
    "user_number = input(\"숫자를 입력하세요:\")\n",
    "int(user_number) + 10"
   ]
  },
  {
   "cell_type": "code",
   "execution_count": 93,
   "metadata": {},
   "outputs": [
    {
     "name": "stdout",
     "output_type": "stream",
     "text": [
      "짝수\n"
     ]
    }
   ],
   "source": [
    "# 문제 7\n",
    "user_input = input(\"\")\n",
    "a = 8\n",
    "if a % 2 == 0: \n",
    "    print(\"짝수\")    # 선생님의 도움. a= a%2 == 0 을 잘못 입력. \n",
    "else:\n",
    "    print(\"홀수\")\n",
    "\n",
    "# 답\n",
    "user_number = input(\"숫자를 입력하세요:\")\n",
    "if int(user_number) % 2 == 0: print(\"짝수\")\n",
    "else: print(\"홀수\")"
   ]
  },
  {
   "cell_type": "code",
   "execution_count": 182,
   "metadata": {},
   "outputs": [
    {
     "name": "stdout",
     "output_type": "stream",
     "text": [
      "131\n"
     ]
    }
   ],
   "source": [
    "# 문제 8\n",
    "user_input = input(\"\")\n",
    "a = int(user_input) + (20)\n",
    "if 0< a < 255:\n",
    "    print(a)\n",
    "\n",
    "else: \n",
    "    print(255)\n",
    "\n",
    "# 답\n",
    "user_number = input(\"숫자를 입력하세요:\")\n",
    "a = int(user_number) + 20\n",
    "if a <= 255 print(a)\n",
    "else: print(255)"
   ]
  },
  {
   "cell_type": "code",
   "execution_count": 184,
   "metadata": {},
   "outputs": [
    {
     "name": "stdout",
     "output_type": "stream",
     "text": [
      "59\n"
     ]
    }
   ],
   "source": [
    "# 문제 9\n",
    "user_input = input(\"\")\n",
    "a = int(user_input) -(20)\n",
    "if a < 0:\n",
    "    print(0)\n",
    "    \n",
    "else:\n",
    "        if a > 255:\n",
    "            print(255)\n",
    "        else:\n",
    "            print(a-20)\n",
    "\n",
    "# 답\n",
    "\n",
    "user_number = input(\"숫자를 입력하세요:\")\n",
    "a = int(user_number) - 20\n",
    "\n",
    "if a >255:print(255)\n",
    "elif a < 0: print(0)\n",
    "else: print(a)"
   ]
  },
  {
   "cell_type": "code",
   "execution_count": 156,
   "metadata": {},
   "outputs": [
    {
     "name": "stdout",
     "output_type": "stream",
     "text": [
      "정각이 아닙니다\n"
     ]
    }
   ],
   "source": [
    "# 문제 10\n",
    "user_input = input(\"\")\n",
    "a = (\"15:40\")\n",
    "if a[3:5] == \"00\":              # 난 인덱싱 2가 0일때라고 했었다. 2는 :니까 이게 00일수가 없었지. 그래서 슬라이싱을 사용해\n",
    "    print(\"정각입니다\")          # 3~4번째 인덱스 넘버를 슬라이싱을 해서 00이라면 정각이라고 표현. \n",
    "else:                           # 슬라이싱을 하기 위해서는 []을 사용했어야 했음. ()를 사용했어서 오류.\n",
    "    print(\"정각이 아닙니다\")\n",
    "\n",
    "#답: 끝이 00이면 정각. 이를 표시키 위해\n",
    "time = input(\"현재시간:\")\n",
    "\n",
    "if time[-2:] == 00 : print(\"정각입니다\")\n",
    "else : print(\"정각이 아닙니다.\")"
   ]
  },
  {
   "cell_type": "code",
   "execution_count": null,
   "metadata": {},
   "outputs": [],
   "source": []
  }
 ],
 "metadata": {
  "kernelspec": {
   "display_name": "base",
   "language": "python",
   "name": "python3"
  },
  "language_info": {
   "codemirror_mode": {
    "name": "ipython",
    "version": 3
   },
   "file_extension": ".py",
   "mimetype": "text/x-python",
   "name": "python",
   "nbconvert_exporter": "python",
   "pygments_lexer": "ipython3",
   "version": "3.11.7"
  }
 },
 "nbformat": 4,
 "nbformat_minor": 2
}
