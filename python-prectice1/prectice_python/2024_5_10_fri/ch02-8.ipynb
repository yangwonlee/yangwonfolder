{
 "cells": [
  {
   "cell_type": "code",
   "execution_count": 3,
   "metadata": {},
   "outputs": [
    {
     "data": {
      "text/plain": [
       "140733170565896"
      ]
     },
     "execution_count": 3,
     "metadata": {},
     "output_type": "execute_result"
    }
   ],
   "source": [
    "# 자료형의 값을 저장하는 공간, 변수. 변수에 대한 모든것을 배울 타이밍\n",
    "# c나 자바는 자료형의 타입을 지정해야하지만 파이선은 스스로 판단함. 더 편리\n",
    "\n",
    "# int a = 0; # c와 java 문법\n",
    "a= 0 # python 문법. 메모리공간에 a는 0으로 저장. 정확히 ram 메모리카드에 저장. 피시 뜯어보면 있음.\n",
    "id(a) # -> 주소값이 출력. 변수 a가 가리키는 0의 리스트의 주소값은 이하 1407~인 것. 컴퓨터 마다 다름.\n",
    "# 그래서 아이디로 주소의 위치값을 끄집어 낼 수 있다."
   ]
  },
  {
   "cell_type": "code",
   "execution_count": 8,
   "metadata": {},
   "outputs": [
    {
     "name": "stdout",
     "output_type": "stream",
     "text": [
      "3173232392768\n",
      "3173232392768\n",
      "[1, 2, 3]\n",
      "[1, 2, 3]\n",
      "True\n"
     ]
    }
   ],
   "source": [
    " # 리스트를 복사코자 할때\n",
    " a = [1,2,3]\n",
    " b = a\n",
    " print(id(a)) # 주소 복사.(call by reference)\n",
    " print(id(b)) # 주소가 같다.\n",
    "\n",
    " print(a)\n",
    " print(b) # 값도 같다.\n",
    "\n",
    " print(a is b) # 주소가 같은지 비교. 같다. "
   ]
  },
  {
   "cell_type": "code",
   "execution_count": 10,
   "metadata": {},
   "outputs": [
    {
     "name": "stdout",
     "output_type": "stream",
     "text": [
      "[1, 4, 3]\n",
      "[1, 4, 3]\n"
     ]
    }
   ],
   "source": [
    "a[1] = 4\n",
    "print(a) # [1,4,3] 으로 바뀜\n",
    "print(b) # b도 같이 변함. a오 b도 같다니까. 실제 비의 1 인덱스의 값도 변함.[1,4,3]\n",
    "# a를 바꿨을 뿐이고 b는 다르게 표현하고 싶은데 이렇게 나올 경우가 농후. 실수가 다분. 따라서 주소복사가 아닌\n",
    "# 값에 의한 복사를 해야 함. 그것이 (call by value)"
   ]
  },
  {
   "cell_type": "code",
   "execution_count": 14,
   "metadata": {},
   "outputs": [
    {
     "name": "stdout",
     "output_type": "stream",
     "text": [
      "[1, 4, 3]\n",
      "[1, 2, 3]\n"
     ]
    }
   ],
   "source": [
    "# 값에 의한 복사(call of value)\n",
    "# 1. [:] 이용하기\n",
    "a = [1,2,3]\n",
    "b = a[:]\n",
    "a[1] = 4\n",
    "print(a)\n",
    "print(b) # a 리스트 값을 바꿔도 b리스트엔 아무런 영향이 없는게 \":\"\n",
    "\n",
    "# 화면 캡쳐 닩추기: 시프트 윈도우 에스\n"
   ]
  },
  {
   "cell_type": "code",
   "execution_count": 16,
   "metadata": {},
   "outputs": [
    {
     "data": {
      "text/plain": [
       "False"
      ]
     },
     "execution_count": 16,
     "metadata": {},
     "output_type": "execute_result"
    }
   ],
   "source": [
    "# 값에 의한 복사 \n",
    "# 2. copy 모듈 이용하기.\n",
    "#두번째 방법은 카피 모듈을 사용하는 것.\n",
    "\n",
    "from copy import copy # -> 이걸 써야 copy가 모듈이 가능. 모듈이란?프로그램 내부를 기능별 단위로 분할한 부분. \n",
    "#또는, 메모리 보드 등의 부품을 간단하게 떼서 교환이 쉽도록 설계되어 있을 때의 그 각 구성 요소. 나중에 배운대.\n",
    "a = [1,2,3]\n",
    "b = copy(a) #b = a[:]와 같다.\n",
    "b = a.copy() # a가 리스트인 경우 사용. b= a[:]와 같다. 같다는것은 대입한다는 뜻. =이 아니고.\n",
    "\n",
    "b is a"
   ]
  },
  {
   "cell_type": "code",
   "execution_count": 19,
   "metadata": {},
   "outputs": [
    {
     "name": "stdout",
     "output_type": "stream",
     "text": [
      "[1, 4, 3]\n"
     ]
    }
   ],
   "source": [
    "# 문제 1\n",
    "# 아래 print(b) 했을 경우 어떤 값이 출력이 되는지 적어보시오. 콜바이 리퍼런스냐 밸류냐를 묻는 것.\n",
    "a = b = [1,2,3]\n",
    "a[1] = 4\n",
    "print(b) # -> 1,4,3이 되겠지 a,b의 1번인덱싱이 4로 변하기 때문에\n"
   ]
  },
  {
   "cell_type": "code",
   "execution_count": 20,
   "metadata": {},
   "outputs": [
    {
     "name": "stdout",
     "output_type": "stream",
     "text": [
      "('python', 'life')\n",
      "('python', 'life')\n",
      "python\n",
      "python\n",
      "5\n",
      "3\n"
     ]
    }
   ],
   "source": [
    "# 변수를 만드는 여러 가지 방법\n",
    "a, b = ('python','life')\n",
    "a = b = 'python', 'life'\n",
    "print(a) # python\n",
    "print(b) # python\n",
    "\n",
    "[a,b] = ['python', 'life']\n",
    "a = b = 'python'\n",
    "print(a) # python\n",
    "print(b) # python\n",
    "\n",
    "a=3\n",
    "b = 5 \n",
    "a, b = b, a # 에이와 비를 바꾸는 것을 swap 스왑 이라함.\n",
    "print(a) # 5\n",
    "print(b) # 3\n",
    "\n",
    "# 처음에 a에 값 3, b에는 값 5가 대입되어 있었지만 a,b=b,a 문장으로 같게 됨."
   ]
  },
  {
   "cell_type": "code",
   "execution_count": null,
   "metadata": {},
   "outputs": [],
   "source": []
  }
 ],
 "metadata": {
  "kernelspec": {
   "display_name": "base",
   "language": "python",
   "name": "python3"
  },
  "language_info": {
   "codemirror_mode": {
    "name": "ipython",
    "version": 3
   },
   "file_extension": ".py",
   "mimetype": "text/x-python",
   "name": "python",
   "nbconvert_exporter": "python",
   "pygments_lexer": "ipython3",
   "version": "3.11.7"
  }
 },
 "nbformat": 4,
 "nbformat_minor": 2
}
