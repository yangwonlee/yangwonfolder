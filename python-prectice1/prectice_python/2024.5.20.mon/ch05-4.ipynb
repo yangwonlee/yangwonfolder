{
 "cells": [
  {
   "cell_type": "code",
   "execution_count": 2,
   "metadata": {},
   "outputs": [
    {
     "ename": "FileNotFoundError",
     "evalue": "[Errno 2] No such file or directory: '나없는파일'",
     "output_type": "error",
     "traceback": [
      "\u001b[1;31m---------------------------------------------------------------------------\u001b[0m",
      "\u001b[1;31mFileNotFoundError\u001b[0m                         Traceback (most recent call last)",
      "Cell \u001b[1;32mIn[2], line 5\u001b[0m\n\u001b[0;32m      1\u001b[0m \u001b[38;5;66;03m# 예외처리. 수도 없이 많이 나오는 오류들을 최대한 없애기 위해 사용되는 파이썬의 배려.\u001b[39;00m\n\u001b[0;32m      2\u001b[0m \n\u001b[0;32m      3\u001b[0m \u001b[38;5;66;03m# 오류는 언제 발생하는가?\u001b[39;00m\n\u001b[1;32m----> 5\u001b[0m f\u001b[38;5;241m=\u001b[39m \u001b[38;5;28;43mopen\u001b[39;49m\u001b[43m(\u001b[49m\u001b[38;5;124;43m\"\u001b[39;49m\u001b[38;5;124;43m나없는파일\u001b[39;49m\u001b[38;5;124;43m\"\u001b[39;49m\u001b[43m,\u001b[49m\u001b[43m \u001b[49m\u001b[38;5;124;43m'\u001b[39;49m\u001b[38;5;124;43mr\u001b[39;49m\u001b[38;5;124;43m'\u001b[39;49m\u001b[43m)\u001b[49m  \u001b[38;5;66;03m# 파일이 없기 때문에\u001b[39;00m\n",
      "File \u001b[1;32m~\\AppData\\Local\\Packages\\PythonSoftwareFoundation.Python.3.11_qbz5n2kfra8p0\\LocalCache\\local-packages\\Python311\\site-packages\\IPython\\core\\interactiveshell.py:324\u001b[0m, in \u001b[0;36m_modified_open\u001b[1;34m(file, *args, **kwargs)\u001b[0m\n\u001b[0;32m    317\u001b[0m \u001b[38;5;28;01mif\u001b[39;00m file \u001b[38;5;129;01min\u001b[39;00m {\u001b[38;5;241m0\u001b[39m, \u001b[38;5;241m1\u001b[39m, \u001b[38;5;241m2\u001b[39m}:\n\u001b[0;32m    318\u001b[0m     \u001b[38;5;28;01mraise\u001b[39;00m \u001b[38;5;167;01mValueError\u001b[39;00m(\n\u001b[0;32m    319\u001b[0m         \u001b[38;5;124mf\u001b[39m\u001b[38;5;124m\"\u001b[39m\u001b[38;5;124mIPython won\u001b[39m\u001b[38;5;124m'\u001b[39m\u001b[38;5;124mt let you open fd=\u001b[39m\u001b[38;5;132;01m{\u001b[39;00mfile\u001b[38;5;132;01m}\u001b[39;00m\u001b[38;5;124m by default \u001b[39m\u001b[38;5;124m\"\u001b[39m\n\u001b[0;32m    320\u001b[0m         \u001b[38;5;124m\"\u001b[39m\u001b[38;5;124mas it is likely to crash IPython. If you know what you are doing, \u001b[39m\u001b[38;5;124m\"\u001b[39m\n\u001b[0;32m    321\u001b[0m         \u001b[38;5;124m\"\u001b[39m\u001b[38;5;124myou can use builtins\u001b[39m\u001b[38;5;124m'\u001b[39m\u001b[38;5;124m open.\u001b[39m\u001b[38;5;124m\"\u001b[39m\n\u001b[0;32m    322\u001b[0m     )\n\u001b[1;32m--> 324\u001b[0m \u001b[38;5;28;01mreturn\u001b[39;00m \u001b[43mio_open\u001b[49m\u001b[43m(\u001b[49m\u001b[43mfile\u001b[49m\u001b[43m,\u001b[49m\u001b[43m \u001b[49m\u001b[38;5;241;43m*\u001b[39;49m\u001b[43margs\u001b[49m\u001b[43m,\u001b[49m\u001b[43m \u001b[49m\u001b[38;5;241;43m*\u001b[39;49m\u001b[38;5;241;43m*\u001b[39;49m\u001b[43mkwargs\u001b[49m\u001b[43m)\u001b[49m\n",
      "\u001b[1;31mFileNotFoundError\u001b[0m: [Errno 2] No such file or directory: '나없는파일'"
     ]
    }
   ],
   "source": [
    "# 예외처리. 수도 없이 많이 나오는 오류들을 최대한 없애기 위해 사용되는 파이썬의 배려.\n",
    "\n",
    "# 오류는 언제 발생하는가?\n",
    "\n",
    "f= open(\"나없는파일\", 'r')  # 파일이 없기 때문에 에러. 에러가 나오는게 정상.\n"
   ]
  },
  {
   "cell_type": "code",
   "execution_count": 4,
   "metadata": {},
   "outputs": [
    {
     "ename": "ZeroDivisionError",
     "evalue": "division by zero",
     "output_type": "error",
     "traceback": [
      "\u001b[1;31m---------------------------------------------------------------------------\u001b[0m",
      "\u001b[1;31mZeroDivisionError\u001b[0m                         Traceback (most recent call last)",
      "Cell \u001b[1;32mIn[4], line 1\u001b[0m\n\u001b[1;32m----> 1\u001b[0m \u001b[38;5;241;43m4\u001b[39;49m\u001b[38;5;241;43m/\u001b[39;49m\u001b[38;5;241;43m0\u001b[39;49m \u001b[38;5;66;03m# ㅇ으로 나눴으니 에러.\u001b[39;00m\n",
      "\u001b[1;31mZeroDivisionError\u001b[0m: division by zero"
     ]
    }
   ],
   "source": [
    "4/0 # ㅇ으로 나눴으니 에러."
   ]
  },
  {
   "cell_type": "code",
   "execution_count": 5,
   "metadata": {},
   "outputs": [
    {
     "ename": "IndexError",
     "evalue": "list index out of range",
     "output_type": "error",
     "traceback": [
      "\u001b[1;31m---------------------------------------------------------------------------\u001b[0m",
      "\u001b[1;31mIndexError\u001b[0m                                Traceback (most recent call last)",
      "Cell \u001b[1;32mIn[5], line 2\u001b[0m\n\u001b[0;32m      1\u001b[0m a \u001b[38;5;241m=\u001b[39m [\u001b[38;5;241m1\u001b[39m,\u001b[38;5;241m2\u001b[39m,\u001b[38;5;241m3\u001b[39m]\n\u001b[1;32m----> 2\u001b[0m \u001b[43ma\u001b[49m\u001b[43m[\u001b[49m\u001b[38;5;241;43m3\u001b[39;49m\u001b[43m]\u001b[49m\n",
      "\u001b[1;31mIndexError\u001b[0m: list index out of range"
     ]
    }
   ],
   "source": [
    "a = [1,2,3]\n",
    "a[3]    #인덱스 3은 없기때문에. a안에서 3은 인덱스 2기때문에. 이외에도 수많은 에러가 있는데 이들을 처리하는 예외처리가있따.\n"
   ]
  },
  {
   "cell_type": "code",
   "execution_count": 8,
   "metadata": {},
   "outputs": [
    {
     "name": "stdout",
     "output_type": "stream",
     "text": [
      "ZeroDivisionError: division by zero\n"
     ]
    }
   ],
   "source": [
    "# 예외처리 기본 구조.\n",
    "\n",
    "#try -except 문\n",
    "#try:\n",
    "#    ... # 트라이와 익셉트 사이에 변수들을 넣을 수 있음.\n",
    "#except [발생오류[as 오류변수]]:    # 발생오류의 예(FileNotFoundError, IndexError etc)\n",
    "#    ...    \n",
    "\n",
    "try:\n",
    "    4/0\n",
    "except ZeroDivisionError as zde:  #박기태선생님의 관례로는 zde로 줄여서 부르기도 함.    # as는 생략가능.\n",
    "    print('ZeroDivisionError:', zde)    # zde는 그냥 의례적으로 이용하는 문구."
   ]
  },
  {
   "cell_type": "code",
   "execution_count": 10,
   "metadata": {},
   "outputs": [],
   "source": [
    "# 예외처리  try-finally문. 예외 발생과 상관없이 항상 마지막에 수행되는 문구.\n",
    "\n",
    "try:\n",
    "    f = open('foo.txt', 'w')\n",
    "    #무언가를 수행한다\n",
    "finally:\n",
    "    f.close()   # 중간에 오류가 발생하든 안하든 무조건 실행한다. 그러나 이 문구를 쓰면 오류때문에 느려지긴 함. 약간.\n"
   ]
  },
  {
   "cell_type": "code",
   "execution_count": 15,
   "metadata": {},
   "outputs": [
    {
     "name": "stdout",
     "output_type": "stream",
     "text": [
      "인덱싱 할 수 없습니다.\n",
      "list index out of range\n",
      "list index out of range\n"
     ]
    }
   ],
   "source": [
    "# 여러개의 오류 처리하기.\n",
    "# try:\n",
    "#     ...\n",
    "# except 발생오류1:\n",
    "#     ...\n",
    "# except 발생오류2:\n",
    "#     ...\n",
    "\n",
    "try:\n",
    "    a= [1,2]\n",
    "    print(a[3])\n",
    "    4/0\n",
    "except ZeroDivisionError:\n",
    "    print(\"0으로 나눌 수 없습니다.\")\n",
    "\n",
    "except IndexError:\n",
    "    print(\"인덱싱 할 수 없습니다.\")     # 4/0의 출력함수가 먼저 와있어도, 게산은 인덱싱 에러가 먼저기 때문에 0으로\n",
    "#나누는 계산보다 먼저 출력이 됨. 제로디비젼 에러는 무시가 됨.\n",
    "\n",
    "try:\n",
    "    a = [1,2]\n",
    "    print(a[3])\n",
    "    4/0\n",
    "except ZeroDivisionError as e:\n",
    "    print(e)\n",
    "except IndexError as e:\n",
    "    print(e)\n",
    "\n",
    "try :\n",
    "    a = [1,2]\n",
    "    print(a[3])\n",
    "    4/0\n",
    "except(ZeroDivisionError,IndexError) as e:\n",
    "    print(e)    # 무조건 하나만 나옴. 앞에것이 먼저 계산이 된다고 2트\n",
    "    "
   ]
  },
  {
   "cell_type": "code",
   "execution_count": 18,
   "metadata": {},
   "outputs": [
    {
     "name": "stdout",
     "output_type": "stream",
     "text": [
      "환영합니다.\n"
     ]
    }
   ],
   "source": [
    "# try-else문. 자바에는 없고 파이썬에만 있는 절. 근데 강사님은 안쓴대.\n",
    "\n",
    "#try:\n",
    "#    ...\n",
    "#except [발생오류[as 오류변수]]:\n",
    "#    ...\n",
    "#else:   # 오류가 없을 경우에만 수행\n",
    "#    ...\n",
    "\n",
    "try:\n",
    "    age = int(input('나이를 입력하세요:'))  #int는 한글을 받을 수 없다.\n",
    "except:     #에러가 특정하지 않아서 모든 에러를 받고 싶을때는 발생오류를 적지 않는다.\n",
    "    print('입력이 정확하지 않습니다.')\n",
    "else:\n",
    "    if age <=18:\n",
    "        print('미성년자는 출입금지입니다.')\n",
    "    else:\n",
    "        print('환영합니다.')"
   ]
  },
  {
   "cell_type": "code",
   "execution_count": 20,
   "metadata": {},
   "outputs": [],
   "source": [
    "# 오류 회피하기(오류 무시하기). 회피하기는 인간의 감정이 들어간 단어같다고 강사님이 표현함. \n",
    "try:\n",
    "    f = open(\"나없는파일\",'r')\n",
    "except FileNotFoundError:\n",
    "    pass    # pass를 이용해서 무시."
   ]
  },
  {
   "cell_type": "code",
   "execution_count": 23,
   "metadata": {},
   "outputs": [
    {
     "ename": "NotImplementedError",
     "evalue": "",
     "output_type": "error",
     "traceback": [
      "\u001b[1;31m---------------------------------------------------------------------------\u001b[0m",
      "\u001b[1;31mNotImplementedError\u001b[0m                       Traceback (most recent call last)",
      "Cell \u001b[1;32mIn[23], line 11\u001b[0m\n\u001b[0;32m      8\u001b[0m     \u001b[38;5;28;01mpass\u001b[39;00m\n\u001b[0;32m     10\u001b[0m eagle \u001b[38;5;241m=\u001b[39m eagle()\n\u001b[1;32m---> 11\u001b[0m \u001b[43meagle\u001b[49m\u001b[38;5;241;43m.\u001b[39;49m\u001b[43mfly\u001b[49m\u001b[43m(\u001b[49m\u001b[43m)\u001b[49m \u001b[38;5;66;03m#not implemnetederror 를 발생시킴\u001b[39;00m\n",
      "Cell \u001b[1;32mIn[23], line 4\u001b[0m, in \u001b[0;36mbird.fly\u001b[1;34m(self)\u001b[0m\n\u001b[0;32m      3\u001b[0m \u001b[38;5;28;01mdef\u001b[39;00m \u001b[38;5;21mfly\u001b[39m(\u001b[38;5;28mself\u001b[39m):\n\u001b[1;32m----> 4\u001b[0m     \u001b[38;5;28;01mraise\u001b[39;00m \u001b[38;5;167;01mNotImplementedError\u001b[39;00m\n",
      "\u001b[1;31mNotImplementedError\u001b[0m: "
     ]
    }
   ],
   "source": [
    "# 반대로 일부러 발생시키기. 다른 일을 수행하려고. 키워드는 raise\n",
    "class bird:\n",
    "    def fly(self):\n",
    "        raise NotImplementedError\n",
    "    \n",
    "# 여기까지만 하면 노에러.\n",
    "class eagle(bird):\n",
    "    pass\n",
    "\n",
    "eagle = eagle()\n",
    "eagle.fly() #not implemnetederror 를 발생시킴"
   ]
  },
  {
   "cell_type": "code",
   "execution_count": 25,
   "metadata": {},
   "outputs": [
    {
     "name": "stdout",
     "output_type": "stream",
     "text": [
      "NotImplementedError가 발생함\n"
     ]
    }
   ],
   "source": [
    "# 위 셀의 오류에 대한 후처리.\n",
    "class bird:\n",
    "    def fly(self):\n",
    "        raise NotImplementedError\n",
    "    \n",
    "class eagle(bird):\n",
    "    pass\n",
    "\n",
    "try:\n",
    "    eagle =eagle()\n",
    "    eagle.fly()\n",
    "\n",
    "except NotImplementedError:\n",
    "    print(\"NotImplementedError가 발생함\")       #분홍색으로 나온 애들은 키워드. 함수로 바꾸면 에러. 파란색도. \n",
    "    #하늘색은 가능. 나중에 색깔들에 대한 것도 물어보자.\n",
    "\n",
    "    "
   ]
  },
  {
   "cell_type": "code",
   "execution_count": 1,
   "metadata": {},
   "outputs": [
    {
     "name": "stdout",
     "output_type": "stream",
     "text": [
      "천사\n"
     ]
    },
    {
     "ename": "MyError",
     "evalue": "",
     "output_type": "error",
     "traceback": [
      "\u001b[1;31m---------------------------------------------------------------------------\u001b[0m",
      "\u001b[1;31mMyError\u001b[0m                                   Traceback (most recent call last)",
      "Cell \u001b[1;32mIn[1], line 12\u001b[0m\n\u001b[0;32m      9\u001b[0m     \u001b[38;5;28mprint\u001b[39m(nick)\n\u001b[0;32m     11\u001b[0m say_nick(\u001b[38;5;124m\"\u001b[39m\u001b[38;5;124m천사\u001b[39m\u001b[38;5;124m\"\u001b[39m)\n\u001b[1;32m---> 12\u001b[0m \u001b[43msay_nick\u001b[49m\u001b[43m(\u001b[49m\u001b[38;5;124;43m\"\u001b[39;49m\u001b[38;5;124;43m바보\u001b[39;49m\u001b[38;5;124;43m\"\u001b[39;49m\u001b[43m)\u001b[49m    \u001b[38;5;66;03m#게임할때 닉네임이 욕등이 들어가지 않게 막는 함수.\u001b[39;00m\n",
      "Cell \u001b[1;32mIn[1], line 8\u001b[0m, in \u001b[0;36msay_nick\u001b[1;34m(nick)\u001b[0m\n\u001b[0;32m      6\u001b[0m \u001b[38;5;28;01mdef\u001b[39;00m \u001b[38;5;21msay_nick\u001b[39m(nick):\n\u001b[0;32m      7\u001b[0m     \u001b[38;5;28;01mif\u001b[39;00m nick \u001b[38;5;241m==\u001b[39m\u001b[38;5;124m\"\u001b[39m\u001b[38;5;124m바보\u001b[39m\u001b[38;5;124m\"\u001b[39m:\n\u001b[1;32m----> 8\u001b[0m         \u001b[38;5;28;01mraise\u001b[39;00m MyError()\n\u001b[0;32m      9\u001b[0m     \u001b[38;5;28mprint\u001b[39m(nick)\n",
      "\u001b[1;31mMyError\u001b[0m: "
     ]
    }
   ],
   "source": [
    "# 파이썬의 사용자 정의 예외 만들기.(클래스) 나만의 예외를 만들 수 있음.\n",
    "class MyError(Exception):   #my error는 내가 만든 임의 클래스.\n",
    "#익셉션을 상속받음. 기본적으로 파이썬에서 제공하는 클래스를 상속받아 사용자정의 예외 클래스 생성\n",
    "    pass    # 패스밖에 들어가지 않은 껍데기긴 하지만 만듦.\n",
    "\n",
    "def say_nick(nick):\n",
    "    if nick ==\"바보\":\n",
    "        raise MyError()\n",
    "    print(nick)\n",
    "\n",
    "say_nick(\"천사\")    # myerror 익셉션이 실행됨.\n",
    "say_nick(\"바보\")    #게임할때 닉네임이 욕등이 들어가지 않게 막는 함수."
   ]
  },
  {
   "cell_type": "code",
   "execution_count": 2,
   "metadata": {},
   "outputs": [
    {
     "name": "stdout",
     "output_type": "stream",
     "text": [
      "천사\n",
      "허용되지 않는 별명입니다.\n"
     ]
    }
   ],
   "source": [
    "try:\n",
    "    say_nick(\"천사\")\n",
    "    say_nick(\"바보\")\n",
    "except  MyError:\n",
    "    print(\"허용되지 않는 별명입니다.\")"
   ]
  },
  {
   "cell_type": "code",
   "execution_count": 8,
   "metadata": {},
   "outputs": [
    {
     "name": "stdout",
     "output_type": "stream",
     "text": [
      "천사\n",
      "-> 허용되지 않는 별명입니다. 바보가 입력됨\n"
     ]
    }
   ],
   "source": [
    "class MyError(Exception):\n",
    "    def __str__(self): # print 메서드를 호출할 때 return으로 출력되는 내부 함수.\n",
    "        return \"허용되지 않는 별명입니다.\"\n",
    "\n",
    "try:\n",
    "    say_nick(\"천사\")    # 내부적으로 파이썬에서는 언더바이닛이나 언더바네임(__name__)같은 인수로 넘길떄 자동으로 넘기는\n",
    "    say_nick(\"바보\")    # 함수가 있음. __str__메서드.\n",
    "except MyError as e:\n",
    "    print(\"->\", e, \"바보가 입력됨\")    #콤마 이 여서 띄어지고. e자체가 리턴으로 나와주고."
   ]
  },
  {
   "cell_type": "code",
   "execution_count": null,
   "metadata": {},
   "outputs": [],
   "source": []
  }
 ],
 "metadata": {
  "kernelspec": {
   "display_name": "Python 3",
   "language": "python",
   "name": "python3"
  },
  "language_info": {
   "codemirror_mode": {
    "name": "ipython",
    "version": 3
   },
   "file_extension": ".py",
   "mimetype": "text/x-python",
   "name": "python",
   "nbconvert_exporter": "python",
   "pygments_lexer": "ipython3",
   "version": "3.11.9"
  }
 },
 "nbformat": 4,
 "nbformat_minor": 2
}
