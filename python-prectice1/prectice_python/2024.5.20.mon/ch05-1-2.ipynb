{
 "cells": [
  {
   "cell_type": "code",
   "execution_count": 1,
   "metadata": {},
   "outputs": [],
   "source": [
    "# 상속(inheritance. 인해리턴스): 물려받다 라는 뜻. 클래스에도 적용할 수 있다. 클래스를 물려받는다는 뜻. \n",
    "# ㄴ 생성자나 함수라는 재산을 상속받는다. 클래스와 클래스끼리 영향을 받을 수 있다는 것. 현실의 제 3자에게도 물려줄 수\n",
    "# 있는것도 상속에 포함. \n",
    "# ㄴ 파이썬이 정해준 이름인 __init__(self.first) 이것은 우리가 건드린것이 아님. 따라서 상속을 받을 때, 셋값이 없으니\n",
    "# 초반에 세팅이 되있던 이것이 기본값이 됨."
   ]
  },
  {
   "cell_type": "code",
   "execution_count": 7,
   "metadata": {},
   "outputs": [],
   "source": [
    "class FourCal():\n",
    "\n",
    "    def __init__(self, first, second):      # 메소드들의 생성순서는, 즉 위치는 상관없음. \n",
    "        self.first = first                   # 하지만 룰로 맨 위에 두는 케이스가 많음.\n",
    "        self.second = second\n",
    "\n",
    "    def setdata(self, first, second):\n",
    "        self.first = first  # 자바스크립트의 this.함수와 비슷. 셀프가 없으면 에러가 남. 뭘 쳐야할 지 몰라서.\n",
    "        self.second = second    # 저장한다는 뜻.\n",
    "\n",
    "    def add(self):\n",
    "        result = self.first + self.second       # self는 a를 뜻함.\n",
    "        return result\n",
    "    \n",
    "    def sub(self):\n",
    "        result = self.first - self.second       # self는 a를 뜻함.\n",
    "        return result\n",
    "\n",
    "    def mul(self):\n",
    "        result = self.first * self.second       # self는 a를 뜻함.\n",
    "        return result\n",
    "\n",
    "    def div(self):\n",
    "        result = self.first / self.second       # self는 a를 뜻함.\n",
    "        return result\n",
    "\n",
    "class MoreFourCal(FourCal):     # 괄호 안에 포칼을 넣음으로써 포칼을 상속받음.\n",
    "    pass"
   ]
  },
  {
   "cell_type": "code",
   "execution_count": 8,
   "metadata": {},
   "outputs": [
    {
     "name": "stdout",
     "output_type": "stream",
     "text": [
      "6\n",
      "8\n",
      "2\n",
      "2.0\n"
     ]
    }
   ],
   "source": [
    "a = MoreFourCal(4, 2)       # 여기의 4,2는 포칼의 셋째라인 init에서 적용이 됨. 포칼 클래스의 기능을 모두 사용가능.\n",
    "                            # 4는 first에, 2는 second에 적용.\n",
    "print(a.add())  # 4+2 =6\n",
    "print(a.mul())  # 4*2 = 8\n",
    "print(a.sub())  # 4-2 = 2\n",
    "print(a.div())  # 4/2 =2.0\n",
    "# 사용하는 이유는? 기존 클래스가 라이브러리형태(불변의 형태)나 수정이 허용되지 않는 상황이라면 상속을 사용해야함. \n",
    "#ㄱ 거듭제곱도 주로 상속을 사용\n"
   ]
  },
  {
   "cell_type": "code",
   "execution_count": 12,
   "metadata": {},
   "outputs": [
    {
     "name": "stdout",
     "output_type": "stream",
     "text": [
      "64\n",
      "7\n"
     ]
    }
   ],
   "source": [
    "# 상속한 클래스의 함수 생성하기\n",
    "class MoreFourCal(FourCal):     # 괄호 안에 포칼을 넣음으로써 포칼을 상속받음.\n",
    "    def pow(self):\n",
    "        result = self.first ** self.second\n",
    "        return result\n",
    "a = MoreFourCal(4,3)\n",
    "print(a.pow())  # 4의 3제곱 64\n",
    "print(a.add())  # 4+3 = 7\n",
    "\n",
    "# 모 포 칼이라는 클레스에는 함수가 7개가 있다. def들만 센 셈. pow까지 합쳐서.    "
   ]
  },
  {
   "cell_type": "code",
   "execution_count": 15,
   "metadata": {},
   "outputs": [
    {
     "data": {
      "text/plain": [
       "4.0"
      ]
     },
     "execution_count": 15,
     "metadata": {},
     "output_type": "execute_result"
    }
   ],
   "source": [
    "# 클래스 안의 메서드 오버라이딩 # 메서드와 함수의 차이는? 클래스 안에 있으면 메서드. 밖이면 함수\n",
    "# ㄴ 오버라이드: 오버라이트는 덮어 쓰다. 오버라이드는 덮어서 타버리다 라는 뜻. 형태가 바뀌어버리는 뜻. 메서드의 형태가.\n",
    "a = FourCal(4, 1)\n",
    "a.div() # 4 / 0 불가. 0으로 나눌 수 없음. 오류. 이것을 좀더 보충을 해서 새로운 메서드로 만드는것. 0을 1로 바꾼다든지.\n",
    "# 이를 새로운 클래스에서 고칠 수가 있음.\n",
    "# 자바할때 가르쳐주신대.\n"
   ]
  },
  {
   "cell_type": "code",
   "execution_count": 19,
   "metadata": {},
   "outputs": [
    {
     "data": {
      "text/plain": [
       "0"
      ]
     },
     "execution_count": 19,
     "metadata": {},
     "output_type": "execute_result"
    }
   ],
   "source": [
    "class SafeFourCal(FourCal):     # 상속.\n",
    "    def div(self):  # fourcal에 있는 div 메소드가 없어지고 현재 만들어진 div메소드로 세팅이됨.\n",
    "        if self.second ==0: # 나누는값이 0인 경우 0을 리턴하라고 함,\n",
    "            return 0\n",
    "        else:\n",
    "            return self.first / self.second\n",
    "\n",
    "a = SafeFourCal(4, 0)\n",
    "a.div()     # 자바에도 똑같은게 있음."
   ]
  },
  {
   "cell_type": "code",
   "execution_count": 20,
   "metadata": {},
   "outputs": [
    {
     "data": {
      "text/plain": [
       "'김'"
      ]
     },
     "execution_count": 20,
     "metadata": {},
     "output_type": "execute_result"
    }
   ],
   "source": [
    "# 클래스 변수(속성(proterty.프로펄티))\n",
    "class Family:\n",
    "    lastname = \"김\" # 안에 괄호도 없고 def도 없고. 라스트네임은 클래스 안의 속성 즉 변수. 변수는 명사형. 함수는 동사형\n",
    "\n",
    "Family.lastname # 클래스 변수는 위 예와 같이 클래스_이름.클래스변수 로 사용이 가능.\n",
    "\n",
    "a = Family()\n",
    "b = Family()"
   ]
  },
  {
   "cell_type": "code",
   "execution_count": 22,
   "metadata": {},
   "outputs": [
    {
     "name": "stdout",
     "output_type": "stream",
     "text": [
      "김\n",
      "김\n",
      "김\n"
     ]
    }
   ],
   "source": [
    "print(Family.lastname)\n",
    "a = Family()\n",
    "b = Family()\n",
    "\n",
    "print(a.lastname)\n",
    "print(b.lastname)       # 이렇게도 가능."
   ]
  },
  {
   "cell_type": "code",
   "execution_count": 23,
   "metadata": {},
   "outputs": [
    {
     "name": "stdout",
     "output_type": "stream",
     "text": [
      "박\n",
      "박\n",
      "박\n"
     ]
    }
   ],
   "source": [
    "Family.lastname = \"박\"  # 클래스 변수의 값을 변경.\n",
    "print(Family.lastname)\n",
    "print(a.lastname)\n",
    "print(b.lastname)       # 클래스로 만든것들은 아래 객체변수들이 다 바뀜. 부모가 바뀌면 다 바뀌니."
   ]
  },
  {
   "cell_type": "code",
   "execution_count": 26,
   "metadata": {},
   "outputs": [
    {
     "name": "stdout",
     "output_type": "stream",
     "text": [
      "최\n",
      "박\n"
     ]
    }
   ],
   "source": [
    "# 객체 변수\n",
    "a.lastname = \"최\"   # 객체 변수의 값을 변경\n",
    "print(a.lastname)   # 객체 변수의 값을 출력\n",
    "print(Family.lastname)  # 클래스 변수의 값을 출력. 부모가 바뀌면 자식이 바뀌지만 역은 성립 불가.\n",
    "\n",
    "\n",
    "# 파이썬에서의 클래스는 70퍼센트정도밖에 지원이 되지 않음. 생성자도 하나밖에 없음. 자바는 여러갠데."
   ]
  },
  {
   "cell_type": "code",
   "execution_count": null,
   "metadata": {},
   "outputs": [],
   "source": []
  }
 ],
 "metadata": {
  "kernelspec": {
   "display_name": "Python 3",
   "language": "python",
   "name": "python3"
  },
  "language_info": {
   "codemirror_mode": {
    "name": "ipython",
    "version": 3
   },
   "file_extension": ".py",
   "mimetype": "text/x-python",
   "name": "python",
   "nbconvert_exporter": "python",
   "pygments_lexer": "ipython3",
   "version": "3.11.9"
  }
 },
 "nbformat": 4,
 "nbformat_minor": 2
}
