{
 "cells": [
  {
   "cell_type": "code",
   "execution_count": 1,
   "metadata": {},
   "outputs": [
    {
     "name": "stdout",
     "output_type": "stream",
     "text": [
      "7\n",
      "2\n"
     ]
    }
   ],
   "source": [
    "# 파이썬의 모듈.\n",
    "# 함수, 변수, 생성자, 클래스를 모아놓은 파이썬 파일. import random, import sys등.\n",
    "import mod1 # 파일이름이 같고 같은 위치에 있어야 함. 같은 디렉토리의 mod1.py이라는 파일이 있어야 함. 확장자도 뺴줘야함.\n",
    "\n",
    "print(mod1.add(3, 4))   # 모드 파이 1을 불러오는 것. pycache 파일도 생성이 됨.\n",
    "print(mod1.sub(4, 2))"
   ]
  },
  {
   "cell_type": "code",
   "execution_count": 9,
   "metadata": {},
   "outputs": [
    {
     "name": "stdout",
     "output_type": "stream",
     "text": [
      "7\n"
     ]
    },
    {
     "ename": "NameError",
     "evalue": "name 'sub' is not defined",
     "output_type": "error",
     "traceback": [
      "\u001b[1;31m---------------------------------------------------------------------------\u001b[0m",
      "\u001b[1;31mNameError\u001b[0m                                 Traceback (most recent call last)",
      "Cell \u001b[1;32mIn[9], line 5\u001b[0m\n\u001b[0;32m      2\u001b[0m \u001b[38;5;28;01mfrom\u001b[39;00m \u001b[38;5;21;01mmod1\u001b[39;00m \u001b[38;5;28;01mimport\u001b[39;00m add \u001b[38;5;66;03m# 모드 1에 있는 애드. 프롬으로 가져오는 경우.\u001b[39;00m\n\u001b[0;32m      4\u001b[0m \u001b[38;5;28mprint\u001b[39m(add(\u001b[38;5;241m3\u001b[39m, \u001b[38;5;241m4\u001b[39m))    \u001b[38;5;66;03m# 3+4 =7\u001b[39;00m\n\u001b[1;32m----> 5\u001b[0m \u001b[38;5;28mprint\u001b[39m(\u001b[43msub\u001b[49m(\u001b[38;5;241m3\u001b[39m, \u001b[38;5;241m4\u001b[39m))    \u001b[38;5;66;03m# 3-4 =-1\u001b[39;00m\n",
      "\u001b[1;31mNameError\u001b[0m: name 'sub' is not defined"
     ]
    }
   ],
   "source": [
    "# 함수는 자식. from모듈이름은 부모\n",
    "from mod1 import add # 모드 1에 있는 애드. 프롬으로 가져오는 경우.\n",
    "\n",
    "print(add(3, 4))    # 3+4 =7\n",
    "print(sub(3, 4))    # 3-4 =-1"
   ]
  },
  {
   "cell_type": "code",
   "execution_count": 10,
   "metadata": {},
   "outputs": [],
   "source": [
    "from mod1 import *  # mod1.py에 있는 모든 함수를 가져오기."
   ]
  },
  {
   "cell_type": "code",
   "execution_count": 15,
   "metadata": {},
   "outputs": [
    {
     "name": "stdout",
     "output_type": "stream",
     "text": [
      "3.141592\n",
      "12.566368\n",
      "7.5415920000000005\n"
     ]
    }
   ],
   "source": [
    "import mod2\n",
    "print(mod2.PI)  #모드2는 .을 붙임. 대신 괄호가 없음. 변수기 떄문에. 변수는 괄호가 없다. 변수 호출\n",
    "a = mod2.Math() # 클래스 호출\n",
    "print(a.solv(2))\n",
    "\n",
    "print(mod2.add(mod2.PI, 4.4))   #함수 호출\n"
   ]
  },
  {
   "cell_type": "code",
   "execution_count": 21,
   "metadata": {},
   "outputs": [
    {
     "ename": "SyntaxError",
     "evalue": "invalid syntax (2504122411.py, line 4)",
     "output_type": "error",
     "traceback": [
      "\u001b[1;36m  Cell \u001b[1;32mIn[21], line 4\u001b[1;36m\u001b[0m\n\u001b[1;33m    sys.path.append(D:|python-prectice1\\prectice_python\\2024.5.20.mon) # 클래스가 있나없나 뜸.\u001b[0m\n\u001b[1;37m                     ^\u001b[0m\n\u001b[1;31mSyntaxError\u001b[0m\u001b[1;31m:\u001b[0m invalid syntax\n"
     ]
    }
   ],
   "source": [
    "# 다른 파일에서 모듈 불러오기.(디렉토리가 다른 모듈을 불러오기.)\n",
    "import sys\n",
    "\n",
    "sys.path.append(D:\\python-prectice1\\prectice_python\\2024.5.20.mon) # 클래스가 있나없나 뜸.\n",
    "sys.path\n",
    "\n",
    "import mode(3, 4)"
   ]
  },
  {
   "cell_type": "code",
   "execution_count": 19,
   "metadata": {},
   "outputs": [
    {
     "name": "stdout",
     "output_type": "stream",
     "text": [
      "7\n"
     ]
    }
   ],
   "source": [
    "import mod2\n",
    "print(mod2.add(3,4 ))"
   ]
  },
  {
   "cell_type": "code",
   "execution_count": null,
   "metadata": {},
   "outputs": [],
   "source": []
  }
 ],
 "metadata": {
  "kernelspec": {
   "display_name": "Python 3",
   "language": "python",
   "name": "python3"
  },
  "language_info": {
   "codemirror_mode": {
    "name": "ipython",
    "version": 3
   },
   "file_extension": ".py",
   "mimetype": "text/x-python",
   "name": "python",
   "nbconvert_exporter": "python",
   "pygments_lexer": "ipython3",
   "version": "3.11.9"
  }
 },
 "nbformat": 4,
 "nbformat_minor": 2
}
