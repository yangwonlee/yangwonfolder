{
 "cells": [
  {
   "cell_type": "code",
   "execution_count": 11,
   "metadata": {},
   "outputs": [
    {
     "ename": "FileNotFoundError",
     "evalue": "[WinError 3] 지정된 경로를 찾을 수 없습니다: 'd:\\\\240507-edu1\\\\python-data-analysis1\\\\test1'",
     "output_type": "error",
     "traceback": [
      "\u001b[1;31m---------------------------------------------------------------------------\u001b[0m",
      "\u001b[1;31mFileNotFoundError\u001b[0m                         Traceback (most recent call last)",
      "Cell \u001b[1;32mIn[11], line 8\u001b[0m\n\u001b[0;32m      5\u001b[0m os\u001b[38;5;241m.\u001b[39mgetcwd()\n\u001b[0;32m      7\u001b[0m \u001b[38;5;66;03m# 디렉토리 폴더 이동하기\u001b[39;00m\n\u001b[1;32m----> 8\u001b[0m \u001b[43mos\u001b[49m\u001b[38;5;241;43m.\u001b[39;49m\u001b[43mchdir\u001b[49m\u001b[43m(\u001b[49m\u001b[38;5;124;43m\"\u001b[39;49m\u001b[38;5;124;43md:\u001b[39;49m\u001b[38;5;130;43;01m\\\\\u001b[39;49;00m\u001b[38;5;124;43m240507-edu1\u001b[39;49m\u001b[38;5;130;43;01m\\\\\u001b[39;49;00m\u001b[38;5;124;43mpython-data-analysis1\u001b[39;49m\u001b[38;5;130;43;01m\\\\\u001b[39;49;00m\u001b[38;5;124;43mtest1\u001b[39;49m\u001b[38;5;124;43m\"\u001b[39;49m\u001b[43m)\u001b[49m\n\u001b[0;32m     10\u001b[0m os\u001b[38;5;241m.\u001b[39mgetcwd()\n",
      "\u001b[1;31mFileNotFoundError\u001b[0m: [WinError 3] 지정된 경로를 찾을 수 없습니다: 'd:\\\\240507-edu1\\\\python-data-analysis1\\\\test1'"
     ]
    }
   ],
   "source": [
    "# 현재 위치 설정하기\n",
    "import os\n",
    "\n",
    "# 현재 디렉토리 위치 확인하기\n",
    "os.getcwd()\n",
    "\n",
    "# 디렉토리 폴더 이동하기\n",
    "os.chdir(\"d:\\\\240507-edu1\\\\python-data-analysis1\\\\test1\")\n",
    "\n",
    "os.getcwd()"
   ]
  },
  {
   "cell_type": "code",
   "execution_count": null,
   "metadata": {},
   "outputs": [
    {
     "name": "stdout",
     "output_type": "stream",
     "text": [
      "<class 'list'>\n",
      "['a.py', 'chapter3.ipynb']\n"
     ]
    }
   ],
   "source": [
    "# 디렉토리 폴더 안의 파일 확인하기\n",
    "os.listdir()\n",
    "\n",
    "os.chdir(\"d:\\\\240507-edu1\\\\python-data-analysis1\\\\20240625\")\n",
    "\n",
    "folerFile = os.listdir()\n",
    "print(type(folerFile))\n",
    "print(folerFile)"
   ]
  },
  {
   "cell_type": "code",
   "execution_count": null,
   "metadata": {},
   "outputs": [
    {
     "data": {
      "text/plain": [
       "3"
      ]
     },
     "execution_count": 9,
     "metadata": {},
     "output_type": "execute_result"
    }
   ],
   "source": [
    "# 파일 열고 닫기\n",
    "\n",
    "# 파일 열기 -> open('파일 이름', 파일 열기모드(r,w,a))\n",
    "# 파일 열고 내용쓰기 -> open('파일 이름', 파일 열기모드(r,w,a)).write(내용)\n",
    "# 파일 닫기 -> close()\n",
    "\n",
    "open('a.txt' ,'w').write('abc')"
   ]
  },
  {
   "cell_type": "code",
   "execution_count": null,
   "metadata": {},
   "outputs": [
    {
     "data": {
      "text/plain": [
       "['이동민, 2019', '최재영, 2019', 'Lion, 2018']"
      ]
     },
     "execution_count": 10,
     "metadata": {},
     "output_type": "execute_result"
    }
   ],
   "source": [
    "# ['이동민,2019', '최재영,2019', 'Lion,2018']\n",
    "import re\n",
    "# 정규표현식 모듈 re를 호출\n",
    "example = '이동민 교수님은 다음과 같이 설명했습니다.(이동민, 2019). 그런데 다른 교수님은 이 문제에 대해서 다른 견해를 가지고 있었습니다.(최재영, 2019). 또 다른 견해도 있었습니다(Lion, 2018)'\n",
    "\n",
    "result = re.findall(r'\\((.+?)\\)', example)\n",
    "result"
   ]
  },
  {
   "cell_type": "code",
   "execution_count": null,
   "metadata": {},
   "outputs": [
    {
     "name": "stdout",
     "output_type": "stream",
     "text": [
      "<re.Match object; span=(0, 4), match='life'>\n",
      "None\n"
     ]
    }
   ],
   "source": [
    "# 문자열 안에서 패턴 찾기 -> re.match(패턴, 문자열)\n",
    "pattern = 'life'\n",
    "script = 'life'\n",
    "print(re.match(pattern, script))   # script안에서 pattern을 찾기\n",
    "re.match(pattern, script).group()  # group()메소드를 통해서 일치하는 내용을 반환\n",
    "\n",
    "script = 'animal'\n",
    "print(re.match(pattern, script))        # animal에서 life를 찾을 수 없을 경우 None을 반환"
   ]
  },
  {
   "cell_type": "code",
   "execution_count": null,
   "metadata": {},
   "outputs": [],
   "source": [
    "def refinder(pattern, script):\n",
    "    if re.match(pattern, script):\n",
    "        print('Match!')\n",
    "    else:\n",
    "        print('Not a match!')"
   ]
  },
  {
   "cell_type": "code",
   "execution_count": null,
   "metadata": {},
   "outputs": [
    {
     "name": "stdout",
     "output_type": "stream",
     "text": [
      "Match!\n"
     ]
    }
   ],
   "source": [
    "pattern = 'Life'   # 대문자\n",
    "script = 'Life is so cool'\n",
    "refinder(pattern, script)   # Match"
   ]
  },
  {
   "cell_type": "code",
   "execution_count": null,
   "metadata": {},
   "outputs": [
    {
     "name": "stdout",
     "output_type": "stream",
     "text": [
      "Not a match!\n"
     ]
    }
   ],
   "source": [
    "pattern = 'life'   # 소문자\n",
    "script = 'Life is so cool'\n",
    "refinder(pattern, script)   # Not Match"
   ]
  },
  {
   "cell_type": "code",
   "execution_count": null,
   "metadata": {},
   "outputs": [
    {
     "name": "stdout",
     "output_type": "stream",
     "text": [
      "Not a match!\n"
     ]
    },
    {
     "data": {
      "text/plain": [
       "'is'"
      ]
     },
     "execution_count": 24,
     "metadata": {},
     "output_type": "execute_result"
    }
   ],
   "source": [
    "pattern = 'is'   # 소문자\n",
    "script = 'Life is so cool'\n",
    "refinder(pattern, script)   # Not Match  -> 문자열 시작부터 매칭되는 경우에 한함\n",
    "re.search(pattern, script).group()  # 문자열 전체에서 패턴을 찾기"
   ]
  },
  {
   "cell_type": "code",
   "execution_count": null,
   "metadata": {},
   "outputs": [
    {
     "data": {
      "text/plain": [
       "'cool'"
      ]
     },
     "execution_count": 25,
     "metadata": {},
     "output_type": "execute_result"
    }
   ],
   "source": [
    "pattern = 'cool'\n",
    "script = 'Life is so cool'\n",
    "re.search(pattern, script).group()  # 문자열 전체에서 패턴을 찾기"
   ]
  },
  {
   "cell_type": "code",
   "execution_count": 12,
   "metadata": {},
   "outputs": [
    {
     "data": {
      "text/plain": [
       "'My number is 511223-1?????? and yours is 521012-2??????'"
      ]
     },
     "execution_count": 12,
     "metadata": {},
     "output_type": "execute_result"
    }
   ],
   "source": [
    "# 패턴을 모두 찾아 리스트로 반환 -> findall\n",
    "number = 'My number is 511223-1****** and yours is 521012-2******'\n",
    "re.findall(r'\\d{6}', number)\n",
    "\n",
    "number.replace('*', '?')"
   ]
  },
  {
   "cell_type": "code",
   "execution_count": null,
   "metadata": {},
   "outputs": [
    {
     "name": "stdout",
     "output_type": "stream",
     "text": [
      "['91년에 태어났습니다. 97년에는 IMF가 있었습니다. 지금은 2020년']\n",
      "['91년', '97년', '2020년']\n",
      "['91년', '97년', '2020년']\n"
     ]
    }
   ],
   "source": [
    "# 정규표현식에서의 마침표(.)와 물음표(?)는 탐욕을 뜻함\n",
    "# 마침표는 모든 문자를 뜻함(ex(0-9a-zA-Zㄱ-ㅎ))\n",
    "example1 = '저는 91년에 태어났습니다. 97년에는 IMF가 있었습니다. 지금은 2020년입니다.'\n",
    "\n",
    "print(re.findall(r'\\d.+년', example1)) # (\\d)는 숫자, (.)은 아무 문자, (+)반복\n",
    "print(re.findall(r'\\d.+?년', example1)) # (\\d)는 숫자, (.)은 아무 문자, (?)번 혹은 0번 문자 반복\n",
    "print(re.findall('\\d+년', example1))    #(\\d)는 숫자, (+) 반복"
   ]
  },
  {
   "cell_type": "code",
   "execution_count": null,
   "metadata": {},
   "outputs": [
    {
     "name": "stdout",
     "output_type": "stream",
     "text": [
      "['I have dog', ' really', ' I am not telling', ' What a pretty', ' I love this dog', '']\n",
      "['I have dog, really', ' I am not telling', ' What a pretty! I love this dog', '']\n",
      "['a', '3']\n",
      "['b', '4']\n",
      "['c', '5']\n"
     ]
    }
   ],
   "source": [
    "# 문장 나누는 패턴 만들기 -> re.split(패턴, 문자열)\n",
    "sentence = 'I have dog, really. I am not telling. What a pretty! I love this dog.'\n",
    "print(re.split(r'[.?!,]', sentence))\n",
    "print(re.split(r'[.]', sentence))\n",
    "\n",
    "data = 'a:3; b:4; c:5'  # ;는 문장의 끝을 의미한다. 자바마냥.\n",
    "\n",
    "for i in re.split(r'; ', data):\n",
    "    print(re.split(r':', i))"
   ]
  },
  {
   "cell_type": "code",
   "execution_count": null,
   "metadata": {},
   "outputs": [
    {
     "name": "stdout",
     "output_type": "stream",
     "text": [
      "I have cat, really. I am not telling. What a pretty! I love this cat.\n",
      "I am home now.Iam with my cat.\n"
     ]
    }
   ],
   "source": [
    "# 문자열 대치하기(substitute)\n",
    "sentence = 'I have dog, really. I am not telling. What a pretty! I love this dog.'\n",
    "print(re.sub('dog', 'cat', sentence))\n",
    "words = 'I am home now.\\n\\n\\nIam with my cat.\\n\\n'\n",
    "print(re.sub(r'\\n', '', words))"
   ]
  },
  {
   "cell_type": "code",
   "execution_count": null,
   "metadata": {},
   "outputs": [
    {
     "data": {
      "text/plain": [
       "['lovely', 'really']"
      ]
     },
     "execution_count": 39,
     "metadata": {},
     "output_type": "execute_result"
    }
   ],
   "source": [
    "# 문제 1: 아래 문장에서 'LY'로 끝나는 단어만 추출하기\n",
    "sentence = 'I have a lovely dog, really, I am not telling a lie'\n",
    "re.findall(r'\\w+ly', sentence)"
   ]
  },
  {
   "cell_type": "code",
   "execution_count": null,
   "metadata": {},
   "outputs": [
    {
     "name": "stdout",
     "output_type": "stream",
     "text": [
      "apple\n",
      "arise\n",
      "above\n"
     ]
    }
   ],
   "source": [
    "# Q1 -> r'a\\D+' -> 'a'로 시작하고 숫자가 아닌 문자들이 반복되는 것들.\n",
    "words = ['apple', 'cat', 'brave', 'drama', 'arise', 'blow', 'coat', 'above']\n",
    "for i in words:\n",
    "    m = re.match(r'a\\D+', i)\n",
    "    if m:\n",
    "        print(i)"
   ]
  },
  {
   "cell_type": "code",
   "execution_count": null,
   "metadata": {},
   "outputs": [
    {
     "data": {
      "text/plain": [
       "['greatking@naver.com', 'travel@daum.net', 'apple@gmail.com', 'life@abc.co.kr']"
      ]
     },
     "execution_count": 64,
     "metadata": {},
     "output_type": "execute_result"
    }
   ],
   "source": [
    "a = '''제 이메일 주소는 greatking@naver.com입니다. 오늘 저는 travel@daum.net라는 주소로 메일을 보내려고 합니다. \n",
    "저는 apple@gmail.com, life@abc.co.kr라는 메일도 사용하고 있습니다.'''\n",
    "b = re.findall(r'[a-z]+@[]a-z.]+',a)\n",
    "b"
   ]
  },
  {
   "cell_type": "code",
   "execution_count": 20,
   "metadata": {},
   "outputs": [
    {
     "data": {
      "text/plain": [
       "['92년', '88년', '2020년']"
      ]
     },
     "execution_count": 20,
     "metadata": {},
     "output_type": "execute_result"
    }
   ],
   "source": [
    "exam = '저는 92년에 태어났습니다. 88년에는 올림픽이 있었습니다. 지금은 2020년입니다.'\n",
    "re.findall('\\d+년', exam)   # 년 까지. 라는 뜻"
   ]
  },
  {
   "cell_type": "code",
   "execution_count": null,
   "metadata": {},
   "outputs": [],
   "source": []
  }
 ],
 "metadata": {
  "kernelspec": {
   "display_name": "base",
   "language": "python",
   "name": "python3"
  },
  "language_info": {
   "codemirror_mode": {
    "name": "ipython",
    "version": 3
   },
   "file_extension": ".py",
   "mimetype": "text/x-python",
   "name": "python",
   "nbconvert_exporter": "python",
   "pygments_lexer": "ipython3",
   "version": "3.11.9"
  }
 },
 "nbformat": 4,
 "nbformat_minor": 2
}
