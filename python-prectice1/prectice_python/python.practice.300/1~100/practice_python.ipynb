{
 "cells": [
  {
   "cell_type": "code",
   "execution_count": 5,
   "metadata": {},
   "outputs": [
    {
     "ename": "SyntaxError",
     "evalue": "invalid syntax. Perhaps you forgot a comma? (3873820013.py, line 2)",
     "output_type": "error",
     "traceback": [
      "\u001b[1;36m  Cell \u001b[1;32mIn[5], line 2\u001b[1;36m\u001b[0m\n\u001b[1;33m    print((\"first\"), print(\"second\") end = \";\")\u001b[0m\n\u001b[1;37m                     ^\u001b[0m\n\u001b[1;31mSyntaxError\u001b[0m\u001b[1;31m:\u001b[0m invalid syntax. Perhaps you forgot a comma?\n"
     ]
    }
   ],
   "source": [
    "# 300제 파이썬. 문제 9 print 줄바꿈.\n",
    "print((\"first\"), print(\"second\") end = \";\") # 틀린 이유: 감도 못잡았음.\n"
   ]
  },
  {
   "cell_type": "code",
   "execution_count": 6,
   "metadata": {},
   "outputs": [
    {
     "name": "stdout",
     "output_type": "stream",
     "text": [
      "firstsecond\n"
     ]
    }
   ],
   "source": [
    "# 문제 9 정답.\n",
    "print(\"first\", end=\"\"); print(\"second\") # 세미콜론 (;)은 한줄에 여러 개의 명령을 작성하기 위해 사용."
   ]
  },
  {
   "cell_type": "code",
   "execution_count": 8,
   "metadata": {},
   "outputs": [
    {
     "name": "stdout",
     "output_type": "stream",
     "text": [
      "1.6666666666666667\n"
     ]
    }
   ],
   "source": [
    "# 300제 파이썬. 문제 10. 연산 결과 출력\n",
    "print(5/3)\n",
    "    # 정답."
   ]
  },
  {
   "cell_type": "code",
   "execution_count": 11,
   "metadata": {},
   "outputs": [
    {
     "name": "stdout",
     "output_type": "stream",
     "text": [
      "Hello world\n"
     ]
    }
   ],
   "source": [
    "# 1번부터 다시 시작하기. 1. 프린트 기초.\n",
    "print('Hello world')\n",
    "# 정답 "
   ]
  },
  {
   "cell_type": "code",
   "execution_count": 10,
   "metadata": {},
   "outputs": [
    {
     "name": "stdout",
     "output_type": "stream",
     "text": [
      "Mary's cosmetic\n"
     ]
    }
   ],
   "source": [
    "# 300제 파이썬 문제 2. 프린트 기초\n",
    "print(\"Mary's cosmetic\")\n",
    "# 정답"
   ]
  },
  {
   "cell_type": "code",
   "execution_count": 13,
   "metadata": {},
   "outputs": [
    {
     "name": "stdout",
     "output_type": "stream",
     "text": [
      "신씨고 소리질렀다.\"도둑이야\"\n"
     ]
    }
   ],
   "source": [
    "# 300제 문제 3번. 프린트 기초.\n",
    "print('신씨고 소리질렀다.\"도둑이야\"')\n",
    "# 정답"
   ]
  },
  {
   "cell_type": "code",
   "execution_count": 1,
   "metadata": {},
   "outputs": [
    {
     "name": "stdout",
     "output_type": "stream",
     "text": [
      "c:\\Windows\n"
     ]
    }
   ],
   "source": [
    "# 300제 문제 4번. 프린트 기초.\n",
    "print(\"c:\\Windows\")\n",
    "# 정답"
   ]
  },
  {
   "cell_type": "code",
   "execution_count": 2,
   "metadata": {},
   "outputs": [
    {
     "name": "stdout",
     "output_type": "stream",
     "text": [
      "안녕하세요.\n",
      "만나서\t\t반갑습니다.\n"
     ]
    }
   ],
   "source": [
    "# 300제 문제 5번. 프린트 탭과 줄바꿈.\n",
    "print(\"안녕하세요.\\n만나서\\t\\t반갑습니다.\") # 네. 줄바꿈, 탭입니다\n",
    "\n",
    "# 정답"
   ]
  },
  {
   "cell_type": "code",
   "execution_count": 3,
   "metadata": {},
   "outputs": [
    {
     "name": "stdout",
     "output_type": "stream",
     "text": [
      "오늘은 일요일\n"
     ]
    }
   ],
   "source": [
    "# 문제 6\n",
    "print(\"오늘은\",\"일요일\") # 붙여서 이어서 나올듯. 틀림. 답은 오늘은 다음에 공백임. 쉼표는 구분해주는 것"
   ]
  },
  {
   "cell_type": "code",
   "execution_count": 7,
   "metadata": {},
   "outputs": [
    {
     "name": "stdout",
     "output_type": "stream",
     "text": [
      "naver;kakao;sk;samsung\n"
     ]
    }
   ],
   "source": [
    "# 문제 7 \n",
    "print(\"naver\",\"kakao\",\"sk\",\"samsung\",sep=\";\")\n",
    "# 정답. 다시금 말하지만 sep인자로 \";\"를 입력하면 출력되는 값들 사이에 한칸의 공백대신 세미콜론이 출력. 빈칸 만들려면\" \"\n",
    " "
   ]
  },
  {
   "cell_type": "code",
   "execution_count": 17,
   "metadata": {},
   "outputs": [
    {
     "ename": "SyntaxError",
     "evalue": "invalid syntax. Perhaps you forgot a comma? (1546302967.py, line 2)",
     "output_type": "error",
     "traceback": [
      "\u001b[1;36m  Cell \u001b[1;32mIn[17], line 2\u001b[1;36m\u001b[0m\n\u001b[1;33m    print(\"naver\",\"kakao\",\"sk\",\"samsung\" sep=\"/\")\u001b[0m\n\u001b[1;37m                               ^\u001b[0m\n\u001b[1;31mSyntaxError\u001b[0m\u001b[1;31m:\u001b[0m invalid syntax. Perhaps you forgot a comma?\n"
     ]
    }
   ],
   "source": [
    "# 문제 8.\n",
    "print(\"naver\",\"kakao\",\"sk\",\"samsung\" sep=\"/\") # 오답"
   ]
  },
  {
   "cell_type": "code",
   "execution_count": 18,
   "metadata": {},
   "outputs": [
    {
     "name": "stdout",
     "output_type": "stream",
     "text": [
      "naver/kakao/samsung\n"
     ]
    }
   ],
   "source": [
    "# 문제 8 정답.\n",
    "print(\"naver\", \"kakao\", \"sk\", \"samsung\", sep=\"/\") # 셉 앞에 콤마가 빠짐."
   ]
  },
  {
   "cell_type": "code",
   "execution_count": 21,
   "metadata": {},
   "outputs": [
    {
     "ename": "SyntaxError",
     "evalue": "positional argument follows keyword argument (397880622.py, line 2)",
     "output_type": "error",
     "traceback": [
      "\u001b[1;36m  Cell \u001b[1;32mIn[21], line 2\u001b[1;36m\u001b[0m\n\u001b[1;33m    print(\"first\", end=\";\", print(\"second\"))\u001b[0m\n\u001b[1;37m                                           ^\u001b[0m\n\u001b[1;31mSyntaxError\u001b[0m\u001b[1;31m:\u001b[0m positional argument follows keyword argument\n"
     ]
    }
   ],
   "source": [
    "# 문제 9\n",
    "print(\"first\", end=\";\", print(\"second\"))    #오답"
   ]
  },
  {
   "cell_type": "code",
   "execution_count": 24,
   "metadata": {},
   "outputs": [
    {
     "name": "stdout",
     "output_type": "stream",
     "text": [
      "first\n",
      "second\n"
     ]
    }
   ],
   "source": [
    "# 문제9 정답\n",
    "print(\"first\"); print(\"second\")\n",
    "# 세미콜론이 빠지면 오류가 남.\n",
    "# end=\"\"가 빠지면 줄바꿈처리가 됨.\n",
    "# first\n",
    "# second 로. 즉 end=\"\"는 줄바꿈을 막아주는 것. 끝에 띄어쓰기를 하지 말라는 뜻 같다.\n",
    "# 다시 또 봐야함. 9번 특히 다시 계속 풀어보자. 엔드랑 셒이 헷갈림."
   ]
  },
  {
   "cell_type": "code",
   "execution_count": 26,
   "metadata": {},
   "outputs": [
    {
     "name": "stdout",
     "output_type": "stream",
     "text": [
      "1.6666666666666667\n"
     ]
    }
   ],
   "source": [
    "# 문제 10.\n",
    "print(5/3)  #정답"
   ]
  },
  {
   "cell_type": "code",
   "execution_count": 35,
   "metadata": {},
   "outputs": [
    {
     "ename": "SyntaxError",
     "evalue": "invalid syntax (3074896837.py, line 2)",
     "output_type": "error",
     "traceback": [
      "\u001b[1;36m  Cell \u001b[1;32mIn[35], line 2\u001b[1;36m\u001b[0m\n\u001b[1;33m    삼성전자= (\"주식\":50,000, \"개수\": 10)\u001b[0m\n\u001b[1;37m               ^\u001b[0m\n\u001b[1;31mSyntaxError\u001b[0m\u001b[1;31m:\u001b[0m invalid syntax\n"
     ]
    }
   ],
   "source": [
    "# 문제 11. 변수사용하기.\n",
    "삼성전자= (\"주식\":50,000, \"개수\": 10)\n",
    "print(삼성전자) # 오답."
   ]
  },
  {
   "cell_type": "code",
   "execution_count": 39,
   "metadata": {},
   "outputs": [
    {
     "name": "stdout",
     "output_type": "stream",
     "text": [
      "500000\n"
     ]
    }
   ],
   "source": [
    "#11번 답\n",
    "삼성전자 = 50000\n",
    "총평가금액= 삼성전자 * 10\n",
    "print(총평가금액)   # 띄어쓰기 하지 말고. 바인딩의 뜻은 어떤 코드에서 함수를 호출할 때 \n",
    "#그 해당 함수가 위치한 메모리 주소로 연결해주는 것을 의미. 50000원을 바인딩하라는건 삼전에 50000을 넣으라는 뜻.\n",
    "#바인딩의 뜻도 정확히 몰랐고. 어떻게 하라는지도 몰랐음. 계속 풀어보자."
   ]
  },
  {
   "cell_type": "code",
   "execution_count": 40,
   "metadata": {},
   "outputs": [],
   "source": [
    "# 12번 변수사용하기.\n",
    "시가총액 = 298\n",
    "현재가 = 50000\n",
    "PER = 15.79"
   ]
  },
  {
   "cell_type": "code",
   "execution_count": 41,
   "metadata": {},
   "outputs": [
    {
     "name": "stdout",
     "output_type": "stream",
     "text": [
      "298000000000000 <class 'int'>\n",
      "50000 <class 'int'>\n",
      "15.79 <class 'float'>\n"
     ]
    }
   ],
   "source": [
    "# 12번 답.\n",
    "시가총액 = 298000000000000\n",
    "현재가 = 50000\n",
    "PER = 15.79\n",
    "print(시가총액, type(시가총액))\n",
    "print(현재가, type(현재가))\n",
    "print(PER, type(PER))       # 298조 라니까 0을 끝까지 붙였어야 했고, 뒤에 타입은 왜붙였는지 모르겠다."
   ]
  },
  {
   "cell_type": "code",
   "execution_count": 49,
   "metadata": {},
   "outputs": [
    {
     "name": "stdout",
     "output_type": "stream",
     "text": [
      "hello! python\n"
     ]
    }
   ],
   "source": [
    "# 문제 13. 문자열 출력\n",
    "s = \"hello!\"\n",
    "t = \"python\"\n",
    "\n",
    "print(s , t)\n",
    "\n",
    "# 오답 hello를 건드리지 말았어야 함. 또한 쉼표는 띄어쓰기를 담당하는 것이니, +를 통해서 느낌표를 더했어야 했음.\n",
    "# 추가적으로 느낌표에도 \"\"가 가능."
   ]
  },
  {
   "cell_type": "code",
   "execution_count": 50,
   "metadata": {},
   "outputs": [
    {
     "name": "stdout",
     "output_type": "stream",
     "text": [
      "hello! python\n"
     ]
    }
   ],
   "source": [
    "# 문제 13 답. \n",
    "s = \"hello\"\n",
    "t = \"python\"\n",
    "print(s+\"!\", t)"
   ]
  },
  {
   "cell_type": "code",
   "execution_count": 51,
   "metadata": {},
   "outputs": [
    {
     "data": {
      "text/plain": [
       "8"
      ]
     },
     "execution_count": 51,
     "metadata": {},
     "output_type": "execute_result"
    }
   ],
   "source": [
    "# 문제 14. 파이썬을 이용한 값 계산\n",
    "2 + 2 * 3 # 의 결과는 8 정답."
   ]
  },
  {
   "cell_type": "code",
   "execution_count": 54,
   "metadata": {},
   "outputs": [
    {
     "name": "stdout",
     "output_type": "stream",
     "text": [
      "<class 'int'>\n"
     ]
    }
   ],
   "source": [
    "# 문제 15.\n",
    "a = 128\n",
    "print (type(a))"
   ]
  },
  {
   "cell_type": "code",
   "execution_count": 55,
   "metadata": {},
   "outputs": [
    {
     "name": "stdout",
     "output_type": "stream",
     "text": [
      "<class 'str'>\n"
     ]
    }
   ],
   "source": [
    "a = \"132\"\n",
    "print (type(a)) # 문자열 타입. str"
   ]
  },
  {
   "cell_type": "code",
   "execution_count": 3,
   "metadata": {},
   "outputs": [
    {
     "name": "stdout",
     "output_type": "stream",
     "text": [
      "720\n"
     ]
    }
   ],
   "source": [
    "# 문제 16. 문자열을 정수로 변환.\n",
    "# 문자열 '720'을 정수형으로 변환해보시오\n",
    "num_str = int(\"720\")\n",
    "print(num_str)      # 답은 맞았지만 풀이는 틀림"
   ]
  },
  {
   "cell_type": "code",
   "execution_count": 5,
   "metadata": {},
   "outputs": [
    {
     "name": "stdout",
     "output_type": "stream",
     "text": [
      "721 <class 'int'>\n"
     ]
    }
   ],
   "source": [
    "# 문제 16. 답\n",
    "num_str = \"720\"\n",
    "num_int = int(num_str)\n",
    "print(num_int+1, type(num_int)) \n",
    "# 오답노트: 형을 변화시켜야 하니 type가 나오는게 맞음. 또 문자열 720이랬으니 먼저 정하는게맞고."
   ]
  },
  {
   "cell_type": "code",
   "execution_count": 15,
   "metadata": {},
   "outputs": [
    {
     "name": "stdout",
     "output_type": "stream",
     "text": [
      "<class 'type'>\n"
     ]
    }
   ],
   "source": [
    "# 문제 17. 정수를 문자열 100으로 변환\n",
    "num = 100\n",
    "str(100)\n",
    "print(type(str))\n",
    "#오답"
   ]
  },
  {
   "cell_type": "code",
   "execution_count": 18,
   "metadata": {},
   "outputs": [
    {
     "name": "stdout",
     "output_type": "stream",
     "text": [
      "100 <class 'str'>\n"
     ]
    }
   ],
   "source": [
    "# 문제 17 답.\n",
    "num = 100\n",
    "result = str(num)\n",
    "print(result, type(result))\n",
    "# 오답노트. result값이 처음 등장. result는? 호출자에게 값을 반환한다는 뜻."
   ]
  },
  {
   "cell_type": "code",
   "execution_count": 21,
   "metadata": {},
   "outputs": [
    {
     "name": "stdout",
     "output_type": "stream",
     "text": [
      "<class 'float'>\n"
     ]
    }
   ],
   "source": [
    "# 문제 18. 문자열을 실수로 변환\n",
    "# 문자열 \"15.79\"를 실수 타입으로 변환하시오\n",
    "a = \"15.79\"\n",
    "result = float(a)\n",
    "print(type(float (a)))"
   ]
  },
  {
   "cell_type": "code",
   "execution_count": 23,
   "metadata": {},
   "outputs": [
    {
     "name": "stdout",
     "output_type": "stream",
     "text": [
      "15.79 <class 'float'>\n"
     ]
    }
   ],
   "source": [
    "# 문제 18. 답\n",
    "data = \"15.79\"\n",
    "data = float(data)\n",
    "print(data, type(data))\n",
    "# 오답노트. data의 뜻은? 저장되는 데이터 종류에는 여러 타입이 있는데 이를 자료형타입이라 함. 정수형실수형문자열리스트등.\n",
    "# 그중 data는? 수치화 시킬 수 있는 모든 것. 데이터를 프린트하고, 데이터의 타입을 치시오. 라는 뜻. \n",
    "# 이는 a로바꿔도됨. 그냥 함수이름이 데이터인것임."
   ]
  },
  {
   "cell_type": "code",
   "execution_count": 33,
   "metadata": {},
   "outputs": [
    {
     "name": "stdout",
     "output_type": "stream",
     "text": [
      "2020 <class 'int'>\n",
      "2019\n",
      "2018\n",
      "2017\n"
     ]
    }
   ],
   "source": [
    "# 문제 19. 문자열을 정수로 변환\n",
    "year = \"2020\"\n",
    "year = int(year)\n",
    "print(year, type(year)) # 아직 형 변환을 자유자재로 못함. 아직도 위에걸 보고 해야함. 잘한다 병신년아\n",
    "\n",
    "print(year -1)\n",
    "print(year -2)\n",
    "print(year -3)"
   ]
  },
  {
   "cell_type": "code",
   "execution_count": 34,
   "metadata": {},
   "outputs": [
    {
     "name": "stdout",
     "output_type": "stream",
     "text": [
      "2017\n",
      "2018\n",
      "2019\n"
     ]
    }
   ],
   "source": [
    "#문제 19 답\n",
    "year = \"2020\"\n",
    "print(int(year)-3)  # 대충 답이 비슷한데?? 부분 정답 처리해줄게. 50점\n",
    "print(int(year)-2)\n",
    "print(int(year)-1)"
   ]
  },
  {
   "cell_type": "code",
   "execution_count": 35,
   "metadata": {},
   "outputs": [
    {
     "data": {
      "text/plain": [
       "1749024"
      ]
     },
     "execution_count": 35,
     "metadata": {},
     "output_type": "execute_result"
    }
   ],
   "source": [
    "# 문제 20. 파이썬 계산\n",
    "ac = 48584\n",
    "ac * 36"
   ]
  },
  {
   "cell_type": "code",
   "execution_count": 1,
   "metadata": {},
   "outputs": [
    {
     "name": "stdout",
     "output_type": "stream",
     "text": [
      "1749024\n"
     ]
    }
   ],
   "source": [
    "# 문제 20 답\n",
    "월 = 48584\n",
    "총금액 = 월* 36\n",
    "print(총금액)       # 프린트를 하지 않아도 되지 않았을까?? 총금액등 함수이름을 적진 않았지만 괜찮은듯?? 50점."
   ]
  },
  {
   "cell_type": "code",
   "execution_count": 6,
   "metadata": {},
   "outputs": [
    {
     "name": "stdout",
     "output_type": "stream",
     "text": [
      "p\n",
      "t\n"
     ]
    }
   ],
   "source": [
    "# 문제 21. 문자열 인덱싱\n",
    "# letters가 바인딩하는 문자열에서 첫번째와 세번째 문자를 출력하시오\n",
    "letters = 'python'\n",
    "print(letters[0])\n",
    "print(letters[2])"
   ]
  },
  {
   "cell_type": "code",
   "execution_count": 7,
   "metadata": {},
   "outputs": [
    {
     "name": "stdout",
     "output_type": "stream",
     "text": [
      "p t\n"
     ]
    }
   ],
   "source": [
    "# 문제 21 정답\n",
    "lang = 'python'\n",
    "print(lang[0], lang[2]) #맞은듯"
   ]
  },
  {
   "cell_type": "code",
   "execution_count": 10,
   "metadata": {},
   "outputs": [
    {
     "data": {
      "text/plain": [
       "'2210'"
      ]
     },
     "execution_count": 10,
     "metadata": {},
     "output_type": "execute_result"
    }
   ],
   "source": [
    "# 문제 22. 문자열 슬라이싱\n",
    "# 자동차 번호가 다음과 같을 때 뒤에 4자리만 출력하세요\n",
    "license_plate = \"24가 2210\"\n",
    "\n",
    "license_plate [4:]"
   ]
  },
  {
   "cell_type": "code",
   "execution_count": 11,
   "metadata": {},
   "outputs": [
    {
     "name": "stdout",
     "output_type": "stream",
     "text": [
      "2210\n"
     ]
    }
   ],
   "source": [
    "# 문제 22. 답\n",
    "license_plate = \"24가 2210\"\n",
    "print(license_plate[-4:])   # 프린트를 입력하지 않았음. "
   ]
  },
  {
   "cell_type": "code",
   "execution_count": 25,
   "metadata": {},
   "outputs": [
    {
     "name": "stdout",
     "output_type": "stream",
     "text": [
      "홀홀홀\n"
     ]
    }
   ],
   "source": [
    "# 문제 23. 문자열 인덱싱\n",
    "# 아래의 문자열에서 '홀'만 출력하세요\n",
    "string =\"홀짝홀짝홀짝\"\n",
    "print(string[0],string[2],string[4], sep =\"\")"
   ]
  },
  {
   "cell_type": "code",
   "execution_count": 26,
   "metadata": {},
   "outputs": [
    {
     "name": "stdout",
     "output_type": "stream",
     "text": [
      "홀홀홀\n"
     ]
    }
   ],
   "source": [
    "# 문제 23. 정답\n",
    "string = \"홀짝홀짝홀짝\"\n",
    "print(string[::2])  # 슬라이싱 할 때 '시작인덱스:끝인덱스:오프셋'을 지정할 수 있음.\n",
    "# 더 신식인듯."
   ]
  },
  {
   "cell_type": "code",
   "execution_count": 1,
   "metadata": {},
   "outputs": [
    {
     "name": "stdout",
     "output_type": "stream",
     "text": [
      "NOHTYP\n"
     ]
    }
   ],
   "source": [
    "# 문제 24. 문자열 슬라이싱\n",
    "# 문자열을 거꾸로 뒤집어 출력하세요.\n",
    "string = \"PYTHON\"\n",
    "\n",
    "# 아예 몰랐음.\n",
    "string = \"PYTHON\"\n",
    "print(string[::-1])     #왜?? 설명도 못함. 책보고 다시오기."
   ]
  },
  {
   "cell_type": "code",
   "execution_count": 6,
   "metadata": {},
   "outputs": [
    {
     "ename": "SyntaxError",
     "evalue": "invalid syntax (1127994348.py, line 4)",
     "output_type": "error",
     "traceback": [
      "\u001b[1;36m  Cell \u001b[1;32mIn[6], line 4\u001b[1;36m\u001b[0m\n\u001b[1;33m    print(phone_number, sep\"-\")\u001b[0m\n\u001b[1;37m                           ^\u001b[0m\n\u001b[1;31mSyntaxError\u001b[0m\u001b[1;31m:\u001b[0m invalid syntax\n"
     ]
    }
   ],
   "source": [
    "#문제 25. 문자열 치환\n",
    "#아래의 전화번호에서 하이푼('-')을 제거하고 출력하시오\n",
    "phone_number = \"010-1111-2222\"\n",
    "# 배운건 기억나는데 아예 모름."
   ]
  },
  {
   "cell_type": "code",
   "execution_count": 7,
   "metadata": {},
   "outputs": [
    {
     "name": "stdout",
     "output_type": "stream",
     "text": [
      "010 1111 2222\n"
     ]
    }
   ],
   "source": [
    "# 문제 25. 답\n",
    "phone_number = \"010-1111-2222\"\n",
    "phone_number1 = phone_number.replace(\"-\", \" \")  # 리플레이스 배웠었지만 리플레이스의 존재 자체를 까먹음.\n",
    "print(phone_number1)"
   ]
  },
  {
   "cell_type": "code",
   "execution_count": 9,
   "metadata": {},
   "outputs": [
    {
     "name": "stdout",
     "output_type": "stream",
     "text": [
      "01011112222\n"
     ]
    }
   ],
   "source": [
    "# 문제 26. 25번 문제의 전번을 모두 붙여서 출력하라\n",
    "phone_number = \"010-1111-2222\"\n",
    "phone_number1 = phone_number.replace(\"-\", \"\")\n",
    "print(phone_number1)\n",
    "# 정답. 풀이까지 정답."
   ]
  },
  {
   "cell_type": "code",
   "execution_count": 10,
   "metadata": {},
   "outputs": [
    {
     "name": "stdout",
     "output_type": "stream",
     "text": [
      "http://sharebook.kr\n"
     ]
    }
   ],
   "source": [
    "# 문제 27. 문자열다루기\n",
    "# url에 저장된 웹 페이지 주소에서 도메인을 출력하시오\n",
    "url = \"http://sharebook.kr\"\n",
    "print(url)"
   ]
  },
  {
   "cell_type": "code",
   "execution_count": 11,
   "metadata": {},
   "outputs": [
    {
     "name": "stdout",
     "output_type": "stream",
     "text": [
      "kr\n"
     ]
    }
   ],
   "source": [
    "#문제 27 답\n",
    "\n",
    "url = \"http://sharebook.kr\"\n",
    "url_split = url.split('.')  # 도메인이 뭔지도 몰랐음. 도메인은 kr인거구나. split도 잊고있었음.\n",
    "print(url_split[-1])"
   ]
  },
  {
   "cell_type": "code",
   "execution_count": 12,
   "metadata": {},
   "outputs": [
    {
     "ename": "TypeError",
     "evalue": "'str' object does not support item assignment",
     "output_type": "error",
     "traceback": [
      "\u001b[1;31m---------------------------------------------------------------------------\u001b[0m",
      "\u001b[1;31mTypeError\u001b[0m                                 Traceback (most recent call last)",
      "Cell \u001b[1;32mIn[12], line 5\u001b[0m\n\u001b[0;32m      1\u001b[0m \u001b[38;5;66;03m# 문제 28. 문자열은 immutable.\u001b[39;00m\n\u001b[0;32m      2\u001b[0m \u001b[38;5;66;03m# 아래코드의 실행결과를 예상하라\u001b[39;00m\n\u001b[0;32m      4\u001b[0m lang \u001b[38;5;241m=\u001b[39m \u001b[38;5;124m'\u001b[39m\u001b[38;5;124mpython\u001b[39m\u001b[38;5;124m'\u001b[39m\n\u001b[1;32m----> 5\u001b[0m \u001b[43mlang\u001b[49m\u001b[43m[\u001b[49m\u001b[38;5;241;43m0\u001b[39;49m\u001b[43m]\u001b[49m \u001b[38;5;241m=\u001b[39m \u001b[38;5;124m'\u001b[39m\u001b[38;5;124mP\u001b[39m\u001b[38;5;124m'\u001b[39m\n\u001b[0;32m      6\u001b[0m \u001b[38;5;28mprint\u001b[39m(lang)\n\u001b[0;32m      7\u001b[0m \u001b[38;5;66;03m# 안바낌\u001b[39;00m\n",
      "\u001b[1;31mTypeError\u001b[0m: 'str' object does not support item assignment"
     ]
    }
   ],
   "source": [
    "# 문제 28. 문자열은 immutable.\n",
    "# 아래코드의 실행결과를 예상하라\n",
    "\n",
    "lang = 'python'\n",
    "lang[0] = 'P'\n",
    "print(lang)\n",
    "# 안바낌. 이유는 문자열은 바뀌지 않기 떄문. \n",
    "# 정답\n",
    "#  'str' object does not support item assignment= 문자열이 할당 메서드를 지원하지 않음. 이라는 뜻. 안바꿔준대 돌아가자"
   ]
  },
  {
   "cell_type": "code",
   "execution_count": 16,
   "metadata": {},
   "outputs": [
    {
     "name": "stdout",
     "output_type": "stream",
     "text": [
      "abcdfe2a354a32a\n"
     ]
    }
   ],
   "source": [
    "# 문제 29. replace 메서드\n",
    "# 아래 문자열에서 소문자 'a'를 대문자 'A'로 변경하라\n",
    "string = 'abcdfe2a354a32a'\n",
    "string.replace('a', 'A')\n",
    "print(string)"
   ]
  },
  {
   "cell_type": "code",
   "execution_count": 17,
   "metadata": {},
   "outputs": [
    {
     "name": "stdout",
     "output_type": "stream",
     "text": [
      "Abcdfe2A354A32A\n"
     ]
    }
   ],
   "source": [
    "# 문제 29. 답\n",
    "string = 'abcdfe2a354a32a'\n",
    "string = string.replace('a', 'A')\n",
    "print(string)   #문자열은 변경이 불가능하다. 근데 알면서도 방법을 모르니 걍 찔러봤음.\n",
    "#이상황에선 함수(정확힌 메소드) 전체에서 바꿔줘야 함."
   ]
  },
  {
   "cell_type": "code",
   "execution_count": 18,
   "metadata": {},
   "outputs": [
    {
     "name": "stdout",
     "output_type": "stream",
     "text": [
      "abcd\n"
     ]
    }
   ],
   "source": [
    "# 문제 30. replace 메서드\n",
    "# 아래 코드의 실행결과를 예상해보시오\n",
    "\n",
    "string = 'abcd'\n",
    "string.replace('b', 'B')\n",
    "print(string)       #안바뀔거같다. 맞음"
   ]
  },
  {
   "cell_type": "code",
   "execution_count": 1,
   "metadata": {},
   "outputs": [
    {
     "name": "stdout",
     "output_type": "stream",
     "text": [
      "34\n"
     ]
    }
   ],
   "source": [
    "# 문제 31. 문자열 합치기\n",
    "# 아래 코드의 실행결과를 예상하시오\n",
    "a = \"3\"\n",
    "b = \"4\"\n",
    "print(a + b) #7아님? 아님 ㅋㅋ \"\" 사이에있으면 문자열이니, 문자열을 더해주는것이니 문자열의 연결을 의미 34임. \n",
    "#개병신이양원\n"
   ]
  },
  {
   "cell_type": "code",
   "execution_count": 2,
   "metadata": {},
   "outputs": [
    {
     "name": "stdout",
     "output_type": "stream",
     "text": [
      "HiHiHi\n"
     ]
    }
   ],
   "source": [
    "#문제 32. 문자열 곱하기.\n",
    "# 예상 ㄱ\n",
    "print(\"Hi\" * 3) # HiHiHi    정답. 문자열에 대한 곱셈은 문자열의 반복을 의미."
   ]
  },
  {
   "cell_type": "code",
   "execution_count": 4,
   "metadata": {},
   "outputs": [
    {
     "ename": "SyntaxError",
     "evalue": "invalid syntax (4035066127.py, line 3)",
     "output_type": "error",
     "traceback": [
      "\u001b[1;36m  Cell \u001b[1;32mIn[4], line 3\u001b[1;36m\u001b[0m\n\u001b[1;33m    print(- * 80)     # -가 없으면 어떻게될까\u001b[0m\n\u001b[1;37m            ^\u001b[0m\n\u001b[1;31mSyntaxError\u001b[0m\u001b[1;31m:\u001b[0m invalid syntax\n"
     ]
    }
   ],
   "source": [
    "# 문제 33. 문자열 곱하기.\n",
    "#화면에 -를 80개를 출력하시오.\n",
    "print(\"-\" * 80)     # \"가 없으면 어떻게될까. 그냥 문법오류가 뜸."
   ]
  },
  {
   "cell_type": "code",
   "execution_count": 32,
   "metadata": {},
   "outputs": [
    {
     "name": "stdout",
     "output_type": "stream",
     "text": [
      "python java python java python java python java \n"
     ]
    }
   ],
   "source": [
    "# 문 34. 문자열 곱하기\n",
    "# 변수에 문자열더하기와 곱하기를 사용해서 아래와 같이 출력 ㄱ\n",
    "# python java python java python java python java\n",
    "a = \"python\"\n",
    "b =\"java\"\n",
    "print(((a + \" \") + (b + \" \")) * 4)"
   ]
  },
  {
   "cell_type": "code",
   "execution_count": 33,
   "metadata": {},
   "outputs": [
    {
     "name": "stdout",
     "output_type": "stream",
     "text": [
      "python java python java python java python java \n"
     ]
    }
   ],
   "source": [
    "# 문 34. 답. 답은 맞았지만 ㅜㄹ이가 더 간단히 할 수 있었음.\n",
    "a = \"python\"\n",
    "b = \"java\"\n",
    "c = a + \" \" + b + \" \"   # 이 라인을 추가했더라면 더 좋았을 것. 70점\n",
    "print(c * 4)"
   ]
  },
  {
   "cell_type": "code",
   "execution_count": 35,
   "metadata": {},
   "outputs": [
    {
     "ename": "SyntaxError",
     "evalue": "invalid syntax (854503609.py, line 15)",
     "output_type": "error",
     "traceback": [
      "\u001b[1;36m  Cell \u001b[1;32mIn[35], line 15\u001b[1;36m\u001b[0m\n\u001b[1;33m    print(%sname1, %dage1 %name,age1)\u001b[0m\n\u001b[1;37m          ^\u001b[0m\n\u001b[1;31mSyntaxError\u001b[0m\u001b[1;31m:\u001b[0m invalid syntax\n"
     ]
    }
   ],
   "source": [
    "# 문 35. 문자열 출력.\n",
    "# 변수에 다음과 같이 문자열과 정수가 바인딩되어 있을 때 % foramtting을 사용하여 다음과 같이 출력하시오\n",
    "#name1 = \"김민수\"\n",
    "#age1 = 10\n",
    "#name2 = \"이철희\"\n",
    "#age2 = 13\n",
    "#이름: 김민수 나이: 10\n",
    "#이름: 이철희 나이: 13\n",
    "\n",
    "name1 = \"김민수\" \n",
    "age1 = 10\n",
    "name2 = \"이철희\"\n",
    "age2 = 13\n",
    "\n",
    "print(%sname1, %dage1, %name age1)  # 대충 이따구로 답함."
   ]
  },
  {
   "cell_type": "code",
   "execution_count": 37,
   "metadata": {},
   "outputs": [
    {
     "name": "stdout",
     "output_type": "stream",
     "text": [
      "이름: 김민수 나이: 10\n",
      "이름: 이철희 나이: 13\n"
     ]
    }
   ],
   "source": [
    "# 문제35. 답\n",
    "name1 = \"김민수\" \n",
    "age1 = 10\n",
    "name2 = \"이철희\"\n",
    "age2 = 13\n",
    "print(\"이름: %s 나이: %d\" % (name1, age1))\n",
    "print(\"이름: %s 나이: %d\" % (name2, age2)) \n",
    "# print 포맷팅에서 %s는 문자열 데이터 타입의 값을, %d는 정수형 데이터 타입값의 출력을 의미.\n",
    "#형식은 위와 같음. 이름, 나이 가 들어가야 하니 프린트 함수 안에 문자가 들어가선 안되니 \"\"를 이용하여 정수화를 시켜주고,\n",
    "#포맷 함수를 이용하여 %s,d를 이용함. % 뒤에 ()를 이용하는것도 잊지말자. 실은 잊었고 떠올리지도 못했다."
   ]
  },
  {
   "cell_type": "code",
   "execution_count": 65,
   "metadata": {},
   "outputs": [
    {
     "ename": "SyntaxError",
     "evalue": "invalid syntax. Perhaps you forgot a comma? (1886369281.py, line 7)",
     "output_type": "error",
     "traceback": [
      "\u001b[1;36m  Cell \u001b[1;32mIn[65], line 7\u001b[1;36m\u001b[0m\n\u001b[1;33m    print(format(\"이름: %s 나이: %d\" format(name1, age1)))\u001b[0m\n\u001b[1;37m                 ^\u001b[0m\n\u001b[1;31mSyntaxError\u001b[0m\u001b[1;31m:\u001b[0m invalid syntax. Perhaps you forgot a comma?\n"
     ]
    }
   ],
   "source": [
    "# 문제 36. 문자열출력\n",
    "#문자열의 format()메서드를 사용하여 35번 문제를 다시 풀어보세요.\n",
    "name1 = \"김민수\" \n",
    "age1 = 10\n",
    "name2 = \"이철희\"\n",
    "age2 = 13\n",
    "print(format(\"이름: %s 나이: %d\" format(name1, age1)))  #print(format(a)) 이게 공식\n"
   ]
  },
  {
   "cell_type": "code",
   "execution_count": 70,
   "metadata": {},
   "outputs": [
    {
     "name": "stdout",
     "output_type": "stream",
     "text": [
      "이름: [] 나이: []\n",
      "이름: 이철희 나이: 13\n"
     ]
    }
   ],
   "source": [
    "# 문제 36 답\n",
    "name1 = \"김민수\"    # 문자열의 포맷 메서드는 타입과 상관없이 값이 출력될 위치에 무조건 {}를 적어줘야 한다.\n",
    "age1 = 10\n",
    "name2 = \"이철희\"\n",
    "age2 = 13\n",
    "print(\"이름: {} 나이: {}\".format(name1, age1))\n",
    "print(\"이름: {} 나이: {}\".format(name2, age2))  "
   ]
  },
  {
   "cell_type": "code",
   "execution_count": 75,
   "metadata": {},
   "outputs": [
    {
     "name": "stdout",
     "output_type": "stream",
     "text": [
      "이름: 김민수 나이: 10\n",
      "이름: 이철희 나이: 13\n"
     ]
    }
   ],
   "source": [
    "# 문제 37. 문자열 출력 \n",
    "name1 = \"김민수\" \n",
    "age1 = 10\n",
    "name2 = \"이철희\"\n",
    "age2 = 13   # f스트랑은 문자열 앞에 f가 붙은 형태. f-string을 사용하면 \"{변수}\"와 같은 형태로 문자열 사이에 타입과 상관\n",
    "#없이 값을 출력가능.\n",
    "print(f\"이름: {name1} 나이: {age1}\")   \n",
    "print(f\"이름: {name2} 나이: {age2}\")"
   ]
  },
  {
   "cell_type": "code",
   "execution_count": 91,
   "metadata": {},
   "outputs": [
    {
     "name": "stdout",
     "output_type": "stream",
     "text": [
      "<class 'type'> 5969782550\n"
     ]
    }
   ],
   "source": [
    "# 문제 38 컴마 제거하기\n",
    "# 삼성전자의 상장주식수가 다음과 같다. 컴마를 제거한 후 이를 정수타입으로 변환하라\n",
    "상장주식수 = \"5,969,782,550\"\n",
    "상장주식수1 = 상장주식수.replace(\",\" , \"\")\n",
    "print(type,int(상장주식수1))"
   ]
  },
  {
   "cell_type": "code",
   "execution_count": 93,
   "metadata": {},
   "outputs": [
    {
     "name": "stdout",
     "output_type": "stream",
     "text": [
      "5969782550 <class 'int'>\n"
     ]
    }
   ],
   "source": [
    "# 문제 38. 답\n",
    "상장주식수 = \"5,969,782,550\"\n",
    "컴마제거 = 상장주식수.replace(\",\",\"\")\n",
    "타입변환 = int(컴마제거)\n",
    "print(타입변환, type(타입변환)) #맞는거같은데?? 95점. 맞다고 해주자."
   ]
  },
  {
   "cell_type": "code",
   "execution_count": 99,
   "metadata": {},
   "outputs": [
    {
     "name": "stdout",
     "output_type": "stream",
     "text": [
      "2020/03\n"
     ]
    }
   ],
   "source": [
    "# 문제 39. 문자열 슬라이싱\n",
    "# 다음과 같은 문자열에서 '2020/03'만 출력하세요\n",
    "\n",
    "분기 = \"2020/03(E) (IFRS연결)\"\n",
    "\n",
    "print(분기[:7]) # 정답. 문자열에서 슬라이싱을 사용하면 여러 글자를 접근할 수 있습니다. 프린트 함수에 인수값을 넣고,[]\n",
    "# 함수 사용. 그 사이에는 :를 이용해서 슬라이스하자. 추가적으로 7이라면 6번째까지 잘라낸다는것으로 7은 미포함. 즉7미만"
   ]
  },
  {
   "cell_type": "code",
   "execution_count": 111,
   "metadata": {},
   "outputs": [
    {
     "name": "stdout",
     "output_type": "stream",
     "text": [
      "    삼성전자    \n"
     ]
    },
    {
     "ename": "AttributeError",
     "evalue": "'NoneType' object has no attribute 'strip'",
     "output_type": "error",
     "traceback": [
      "\u001b[1;31m---------------------------------------------------------------------------\u001b[0m",
      "\u001b[1;31mAttributeError\u001b[0m                            Traceback (most recent call last)",
      "Cell \u001b[1;32mIn[111], line 5\u001b[0m\n\u001b[0;32m      1\u001b[0m \u001b[38;5;66;03m# 문제 40 strip 메서드\u001b[39;00m\n\u001b[0;32m      2\u001b[0m \u001b[38;5;66;03m# 문자열의 좌우의 공백이 있을때 이를 제거해보시오\u001b[39;00m\n\u001b[0;32m      4\u001b[0m data \u001b[38;5;241m=\u001b[39m \u001b[38;5;124m\"\u001b[39m\u001b[38;5;124m    삼성전자    \u001b[39m\u001b[38;5;124m\"\u001b[39m\n\u001b[1;32m----> 5\u001b[0m \u001b[38;5;28;43mprint\u001b[39;49m\u001b[43m(\u001b[49m\u001b[43mdata\u001b[49m\u001b[43m)\u001b[49m\u001b[38;5;241;43m.\u001b[39;49m\u001b[43mstrip\u001b[49m\n",
      "\u001b[1;31mAttributeError\u001b[0m: 'NoneType' object has no attribute 'strip'"
     ]
    }
   ],
   "source": [
    "# 문제 40 strip 메서드\n",
    "# 문자열의 좌우의 공백이 있을때 이를 제거해보시오\n",
    "\n",
    "data = \"    삼성전자    \"\n",
    "print(data).strip"
   ]
  },
  {
   "cell_type": "code",
   "execution_count": 110,
   "metadata": {},
   "outputs": [
    {
     "name": "stdout",
     "output_type": "stream",
     "text": [
      "삼성전자\n"
     ]
    }
   ],
   "source": [
    "data = \"    삼성전자    \"\n",
    "data1 = data.strip()    # 문자열에서 strip()메서드를 사용하면 좌우의 공백을 제거할 수 있음. 이때 원본 문자열은 그대로\n",
    "print(data1)    # 유지되고 공백이 제거된 새로운 문자열이 반환. 아예 새로지었어야 했네."
   ]
  },
  {
   "cell_type": "code",
   "execution_count": 128,
   "metadata": {},
   "outputs": [
    {
     "name": "stdout",
     "output_type": "stream",
     "text": [
      "<built-in method upper of str object at 0x000001CE0C55FD30>\n"
     ]
    }
   ],
   "source": [
    "# 문제 41. upper 메서드\n",
    "#다음과 같은 문자열이 있을 때, 이를 대문자로 변경하세요\n",
    "ticker = \"btc_krw\"\n",
    "ticker1 = str(ticker)\n",
    "print(ticker1.upper)"
   ]
  },
  {
   "cell_type": "code",
   "execution_count": 129,
   "metadata": {},
   "outputs": [
    {
     "name": "stdout",
     "output_type": "stream",
     "text": [
      "BTC_KRW\n"
     ]
    }
   ],
   "source": [
    "# 문제 41.답\n",
    "ticker = \"btc_krw\"  # upper 메서드를 호출하면 문자열을 대문자로 만들 수 있음. 다만 이경우에도 원본 문자열은 유지. \n",
    "ticker1 = ticker.upper()   # 대문자로 변경된 새로운 문자열 객체가 반환. 반환된 새로운 객체를 새로운변수로 바인딩한 후\n",
    "print(ticker1)  # 이를 print함수로 출력하면 된다.\n",
    "# upper뒤에 ()가 붙어있어야 한다네. ()를 잊어버렸음."
   ]
  },
  {
   "cell_type": "code",
   "execution_count": 131,
   "metadata": {},
   "outputs": [
    {
     "name": "stdout",
     "output_type": "stream",
     "text": [
      "btc_krw\n"
     ]
    }
   ],
   "source": [
    "#문제 42. lower메서드\n",
    "# 다음과 같은 문자열이 있을 때 이를 소문자로 변경 ㄱ\n",
    "\n",
    "ticker = \"BTC_KRW\"\n",
    "ticker1 = ticker.lower()\n",
    "print(ticker1)\n",
    "# 티커에 로우어 함수를 쓴다."
   ]
  },
  {
   "cell_type": "code",
   "execution_count": 133,
   "metadata": {},
   "outputs": [
    {
     "name": "stdout",
     "output_type": "stream",
     "text": [
      "Hello\n"
     ]
    }
   ],
   "source": [
    "# 문제 43. capitalize 메서드\n",
    "a = 'hello'\n",
    "a1 = a.capitalize() # 정답이긴 한데, 위에거 보고함. 이거 다 풀고 책 읽고 다음번 풀때 또 풀수 있어야함.\n",
    "print(a1)"
   ]
  },
  {
   "cell_type": "code",
   "execution_count": 135,
   "metadata": {},
   "outputs": [
    {
     "data": {
      "text/plain": [
       "True"
      ]
     },
     "execution_count": 135,
     "metadata": {},
     "output_type": "execute_result"
    }
   ],
   "source": [
    "# 문제 44. endswith메서드. 본적도 없음.\n",
    "\n",
    "# 파일 이름이 문자열로 저장되어 있을 때 endswith 메서드를 사용해서 파일 이름이 'xlsx'로 끝나는지 확인해보세요.\n",
    "\n",
    "file_name = \"보고서.xlsx\"\n",
    "file_name.endswith(\"xlsx\")"
   ]
  },
  {
   "cell_type": "code",
   "execution_count": 136,
   "metadata": {},
   "outputs": [
    {
     "data": {
      "text/plain": [
       "True"
      ]
     },
     "execution_count": 136,
     "metadata": {},
     "output_type": "execute_result"
    }
   ],
   "source": [
    "# 문제 45. 엔즈스위스 메서드. 똑같이 본적 없음. 스킵하자 걍.\n"
   ]
  },
  {
   "cell_type": "code",
   "execution_count": 137,
   "metadata": {},
   "outputs": [],
   "source": [
    "# 문제 46. startswith 메서드. 역시 스킵"
   ]
  },
  {
   "cell_type": "code",
   "execution_count": 150,
   "metadata": {},
   "outputs": [
    {
     "ename": "NameError",
     "evalue": "name 'split' is not defined",
     "output_type": "error",
     "traceback": [
      "\u001b[1;31m---------------------------------------------------------------------------\u001b[0m",
      "\u001b[1;31mNameError\u001b[0m                                 Traceback (most recent call last)",
      "Cell \u001b[1;32mIn[150], line 5\u001b[0m\n\u001b[0;32m      1\u001b[0m \u001b[38;5;66;03m# 문제 47. split 메서드\u001b[39;00m\n\u001b[0;32m      2\u001b[0m \u001b[38;5;66;03m#다음과 같은 문자열이 있을 때 공백을 기준으로 문자열을 나눠보세요.\u001b[39;00m\n\u001b[0;32m      3\u001b[0m a \u001b[38;5;241m=\u001b[39m \u001b[38;5;124m\"\u001b[39m\u001b[38;5;124mhello world\u001b[39m\u001b[38;5;124m\"\u001b[39m\n\u001b[1;32m----> 5\u001b[0m \u001b[43msplit\u001b[49m(a[:\u001b[38;5;241m5\u001b[39m])\n",
      "\u001b[1;31mNameError\u001b[0m: name 'split' is not defined"
     ]
    }
   ],
   "source": [
    "# 문제 47. split 메서드\n",
    "#다음과 같은 문자열이 있을 때 공백을 기준으로 문자열을 나눠보세요.\n",
    "a = \"hello world\"\n",
    "\n",
    "split(a[:5])"
   ]
  },
  {
   "cell_type": "code",
   "execution_count": 151,
   "metadata": {},
   "outputs": [
    {
     "data": {
      "text/plain": [
       "['hello', 'world']"
      ]
     },
     "execution_count": 151,
     "metadata": {},
     "output_type": "execute_result"
    }
   ],
   "source": [
    "# 문제 47. 답\n",
    "a = \"hello world\"\n",
    "a.split()   # 문자열의 split() 메서드를 사용하면 문자열에서 공백을 기준으로 분리. a.split인지 split(a)인지 헷갈림.\n",
    "# 이것에 대해 기준을 바로세우자.\n"
   ]
  },
  {
   "cell_type": "code",
   "execution_count": 155,
   "metadata": {},
   "outputs": [
    {
     "data": {
      "text/plain": [
       "['btc', 'krw']"
      ]
     },
     "execution_count": 155,
     "metadata": {},
     "output_type": "execute_result"
    }
   ],
   "source": [
    "# 문제 48. split 메서드\n",
    "# 다음과 같이 문자열이 있을때 btc와 krw로 나눠보세요\n",
    "ticker = \"btc_krw\"\n",
    "ticker.split(\"_\")   # 정답. 문자열에서 어떤 값을 넘겨주면, 그 값을 기준으로 문자열을 분리해줌. 여기선 _. \"\"사이에 넣기"
   ]
  },
  {
   "cell_type": "code",
   "execution_count": 156,
   "metadata": {},
   "outputs": [
    {
     "data": {
      "text/plain": [
       "['2020', '05', '01']"
      ]
     },
     "execution_count": 156,
     "metadata": {},
     "output_type": "execute_result"
    }
   ],
   "source": [
    "# 문제 49. split 메서드\n",
    "#다음과 같이 날짜를 표현하는 문자열이 있을 때 연도, 월, 일로 나눠보세요.\n",
    "date = \"2020-05-01\"\n",
    "date.split(\"-\") # 그 값을 기준으로 분리해주는데, 하나뿐만 아니라 여러문장도 나눌 수 있음\n",
    "# 정답"
   ]
  },
  {
   "cell_type": "code",
   "execution_count": 158,
   "metadata": {},
   "outputs": [
    {
     "data": {
      "text/plain": [
       "'039490'"
      ]
     },
     "execution_count": 158,
     "metadata": {},
     "output_type": "execute_result"
    }
   ],
   "source": [
    "#문제 50. rstrip 메서드\n",
    "# 문자열의 오른쪽에 공백이 있을때 이를 제거해보세요.\n",
    "data = \"039490  \"\n",
    "data.rstrip()\n",
    "# 정답. 풀이도"
   ]
  },
  {
   "cell_type": "code",
   "execution_count": 162,
   "metadata": {},
   "outputs": [
    {
     "name": "stdout",
     "output_type": "stream",
     "text": [
      "['닥터 스트레인지', ['스플릿'], ['럭키']]\n"
     ]
    }
   ],
   "source": [
    "# 문제 51. 리스트생성\n",
    "# 2016년 11월 영화 예매 순위 기준 탑3은 다음과 같습니다. 영화제목을 movie-rank 이름의 리스트에 저장해보세요.\n",
    "#순위 정보는 저장하지 않습니다.\n",
    "\n",
    "movie_rank=[\"닥터 스트레인지\", [\"스플릿\"], [\"럭키\"]]\n",
    "print(movie_rank)   # 정답. 저장만 하랬지 출력하라곤 안했음으로 사족. 그래도 정답."
   ]
  },
  {
   "cell_type": "code",
   "execution_count": 163,
   "metadata": {},
   "outputs": [
    {
     "data": {
      "text/plain": [
       "['닥터 스트레인지', ['스플릿'], ['럭키'], '배트맨']"
      ]
     },
     "execution_count": 163,
     "metadata": {},
     "output_type": "execute_result"
    }
   ],
   "source": [
    "# 문제 52. 리스트에 원소추가.\n",
    "# 51번의 무비랭크 리스트에 배트맨을 추가하라.\n",
    "movie_rank + [\"배트맨\"]"
   ]
  },
  {
   "cell_type": "code",
   "execution_count": 165,
   "metadata": {},
   "outputs": [
    {
     "name": "stdout",
     "output_type": "stream",
     "text": [
      "['닥터 스트레인지', '스플릿', '럭키', '배트맨']\n"
     ]
    }
   ],
   "source": [
    "# 문제 52. 답\n",
    "movie_rank = [\"닥터 스트레인지\", \"스플릿\", \"럭키\"]\n",
    "movie_rank.append(\"배트맨\")\n",
    "print(movie_rank)   # 답은 맞았는데 어펜드 함수를 추가하는것을 몰랐음. 어펜드는 함수니까 .어펜드()."
   ]
  },
  {
   "cell_type": "code",
   "execution_count": 176,
   "metadata": {},
   "outputs": [
    {
     "name": "stdout",
     "output_type": "stream",
     "text": [
      "['닥터 스트레인지', '스플릿', '럭키', '배트맨', '슈퍼맨']\n"
     ]
    }
   ],
   "source": [
    "#문제 53. 무비랭크 리스트에는 아래와 같이 네개의 영화제목이 바인딩되어 있다. \"슈퍼맨\"을 \"닥스\",\"스플릿\"사이에 추가 ㄱ\n",
    "\n",
    "movie_rank = ['닥터 스트레인지', '스플릿', '럭키', '배트맨']\n",
    "\n",
    "movie_rank.append(\"슈퍼맨\")\n",
    "print(movie_rank)   # 어펜드는 마지막에만 끼워넣기 가능. 인설트는 사이에 가능."
   ]
  },
  {
   "cell_type": "code",
   "execution_count": 177,
   "metadata": {},
   "outputs": [
    {
     "name": "stdout",
     "output_type": "stream",
     "text": [
      "['닥터 스트레인지', '슈퍼맨', '스플릿', '럭키', '배트맨']\n"
     ]
    }
   ],
   "source": [
    "#문제 53. 답\n",
    "movie_rank = ['닥터 스트레인지', '스플릿', '럭키', '배트맨']\n",
    "movie_rank.insert(1, \"슈퍼맨\")  # 어펜드와는 다르게 인설트는 insert(인덱스,원소) 메서드를 사용해서 특정위치에 값 끼워넣기\n",
    "print(movie_rank)       #가능"
   ]
  },
  {
   "cell_type": "code",
   "execution_count": 183,
   "metadata": {},
   "outputs": [
    {
     "ename": "SyntaxError",
     "evalue": "invalid syntax (1567105289.py, line 4)",
     "output_type": "error",
     "traceback": [
      "\u001b[1;36m  Cell \u001b[1;32mIn[183], line 4\u001b[1;36m\u001b[0m\n\u001b[1;33m    movie_rank.del[3]\u001b[0m\n\u001b[1;37m               ^\u001b[0m\n\u001b[1;31mSyntaxError\u001b[0m\u001b[1;31m:\u001b[0m invalid syntax\n"
     ]
    }
   ],
   "source": [
    "# 문제 54. \n",
    "# 무비랭크 리스트에서 럭키를 삭제하라.\n",
    "movie_rank = ['닥터 스트레인지', '슈퍼맨', '스플릿', '럭키', '배트맨']\n",
    "movie_rank.del[3]   # 개병신. del은 맨 앞에 와야함. ㅋㅋ\n",
    "print(movie_rank)"
   ]
  },
  {
   "cell_type": "code",
   "execution_count": 184,
   "metadata": {},
   "outputs": [
    {
     "name": "stdout",
     "output_type": "stream",
     "text": [
      "['닥터 스트레인지', '슈퍼맨', '스플릿', '배트맨']\n"
     ]
    }
   ],
   "source": [
    "#문제 54.답\n",
    "movie_rank = ['닥터 스트레인지', '슈퍼맨', '스플릿', '럭키', '배트맨']\n",
    "del movie_rank[3]\n",
    "print(movie_rank)"
   ]
  },
  {
   "cell_type": "code",
   "execution_count": 188,
   "metadata": {},
   "outputs": [
    {
     "name": "stdout",
     "output_type": "stream",
     "text": [
      "['닥터 스트레인지', '슈퍼맨', '스플릿']\n"
     ]
    }
   ],
   "source": [
    "# 문제 55. 리스트에서 스플릿과 배트맨을 삭제하라\n",
    "movie_rank = ['닥터 스트레인지', '슈퍼맨', '스플릿', '배트맨']\n",
    "del movie_rank[2:4]\n",
    "print(movie_rank)"
   ]
  },
  {
   "cell_type": "code",
   "execution_count": 189,
   "metadata": {},
   "outputs": [
    {
     "name": "stdout",
     "output_type": "stream",
     "text": [
      "['닥터 스트레인지', '슈퍼맨']\n"
     ]
    }
   ],
   "source": [
    "# 문제 55. 답\n",
    "movie_rank = ['닥터 스트레인지', '슈퍼맨', '스플릿', '배트맨']\n",
    "del movie_rank[2]   # 리스트에서 어떤 값을 삭제하면 남은 값들은 새로 인덱싱됨. 따라서 여러 값을 삭제할 떄는 어떤 값이\n",
    "del movie_rank[2]   #먼저 삭제된 후 남은 원소들에 대해서 순서를 새로 고려한 후 삭제해야 함.\n",
    "print(movie_rank)   # 근데 위아래 다른점 뭐임? 내가적은대로 해도되는거야?? 물어보기."
   ]
  },
  {
   "cell_type": "code",
   "execution_count": 192,
   "metadata": {},
   "outputs": [
    {
     "name": "stdout",
     "output_type": "stream",
     "text": [
      "['C', 'C++', 'JAVA', 'python', 'go', 'c#']\n"
     ]
    }
   ],
   "source": [
    "# 문제 56. lang1과 lang2 리스트가 있을 때 랭1과 랭2의 원소를 모두 갖고 있는 랭즈 리스트를 만들어라.\n",
    "\n",
    "lang1 = [\"C\", \"C++\", \"JAVA\"]\n",
    "lang2 = [\"python\", \"go\", \"c#\" ]\n",
    "\n",
    "langs = lang1+lang2\n",
    "print(langs)    # 정답. 풀이까지 정답."
   ]
  },
  {
   "cell_type": "code",
   "execution_count": 205,
   "metadata": {},
   "outputs": [
    {
     "name": "stdout",
     "output_type": "stream",
     "text": [
      "min: 1\n",
      "max: 7\n"
     ]
    }
   ],
   "source": [
    "# 문제 57. 다음 리스트에서 최댓값과 최솟값을 출력하라.(힌트 min()과 max()함수 사용)\n",
    "\n",
    "nums = [1,2,3,4,5,6,7]\n",
    "\n",
    "print(\"min:\", min(nums))\n",
    "print(\"max:\", max(nums))    # 정답. 드디어 출력값에 문자:숫자 를 넣는것을 성공했다. 아조~바람직하다."
   ]
  },
  {
   "cell_type": "code",
   "execution_count": 206,
   "metadata": {},
   "outputs": [
    {
     "name": "stdout",
     "output_type": "stream",
     "text": [
      "15\n"
     ]
    }
   ],
   "source": [
    "# 문제 58. 다음 리스트의 합을 출력하라.\n",
    "nums = [1, 2, 3, 4, 5]  # sum 함수. 생각도 못하고있었음. 바로 답 적기.\n",
    "print(sum(nums))\n"
   ]
  },
  {
   "cell_type": "code",
   "execution_count": 207,
   "metadata": {},
   "outputs": [
    {
     "name": "stdout",
     "output_type": "stream",
     "text": [
      "12\n"
     ]
    }
   ],
   "source": [
    "# 문제 59. 다음 리스트에 저장된 데이터의 개수를 화면에 구하여라.\n",
    "cook = [\"피자\", \"김밥\", \"만두\", \"양념치킨\", \"족발\", \"피자\", \"김치만두\", \"쫄면\", \"소시지\", \"라면\", \"팥빙수\", \"김치전\"]\n",
    "print(len(cook))    #len 함수. lenth의 약자. 랜 함수를 잊고있었음. ㅋㅋ 섬함수 랜함수 이양원이 기억이나 하겠냐.\n"
   ]
  },
  {
   "cell_type": "code",
   "execution_count": 212,
   "metadata": {},
   "outputs": [
    {
     "ename": "AttributeError",
     "evalue": "'list' object has no attribute 'avg'",
     "output_type": "error",
     "traceback": [
      "\u001b[1;31m---------------------------------------------------------------------------\u001b[0m",
      "\u001b[1;31mAttributeError\u001b[0m                            Traceback (most recent call last)",
      "Cell \u001b[1;32mIn[212], line 3\u001b[0m\n\u001b[0;32m      1\u001b[0m \u001b[38;5;66;03m# 문제 60. 다음 리스트의 평균을 출력하라.\u001b[39;00m\n\u001b[0;32m      2\u001b[0m nums \u001b[38;5;241m=\u001b[39m [\u001b[38;5;241m1\u001b[39m, \u001b[38;5;241m2\u001b[39m, \u001b[38;5;241m3\u001b[39m, \u001b[38;5;241m4\u001b[39m, \u001b[38;5;241m5\u001b[39m]\n\u001b[1;32m----> 3\u001b[0m avg\u001b[38;5;241m=\u001b[39m \u001b[43mnums\u001b[49m\u001b[38;5;241;43m.\u001b[39;49m\u001b[43mavg\u001b[49m()\n",
      "\u001b[1;31mAttributeError\u001b[0m: 'list' object has no attribute 'avg'"
     ]
    }
   ],
   "source": [
    "# 문제 60. 다음 리스트의 평균을 출력하라.\n",
    "nums = [1, 2, 3, 4, 5]\n",
    "avg= nums.avg()"
   ]
  },
  {
   "cell_type": "code",
   "execution_count": 213,
   "metadata": {},
   "outputs": [
    {
     "name": "stdout",
     "output_type": "stream",
     "text": [
      "3.0\n"
     ]
    }
   ],
   "source": [
    "# 문제 60. 답\n",
    "nums = [1, 2, 3, 4, 5]\n",
    "average = sum(nums)/ len(nums)\n",
    "print(average)  # 이 경우에는 평균을 구하는 함수는 없음. 총합값과 총수를 나눠주는 함수들을 같이 쓰는 수 밖에."
   ]
  },
  {
   "cell_type": "code",
   "execution_count": 220,
   "metadata": {},
   "outputs": [
    {
     "data": {
      "text/plain": [
       "slice(None, [100, 130, 140, 150, 160, 170], None)"
      ]
     },
     "execution_count": 220,
     "metadata": {},
     "output_type": "execute_result"
    }
   ],
   "source": [
    "# 문제 61. price 변수에는 날짜와 종가 정보가 저장되어 있따. 날짜정보를 제외하고 가격정보만을 출력하라.(힌트 슬라이싱)\n",
    "price = ['20180728', 100, 130, 140, 150, 160, 170]\n",
    "slice(price[1:7])"
   ]
  },
  {
   "cell_type": "code",
   "execution_count": 221,
   "metadata": {},
   "outputs": [
    {
     "name": "stdout",
     "output_type": "stream",
     "text": [
      "[100, 130, 140, 150, 160, 170]\n"
     ]
    }
   ],
   "source": [
    "# 문제 61.답.\n",
    "price = ['20180728', 100, 130, 140, 150, 160, 170]\n",
    "print(price[1:])    # slice 함수를 사용하지 않아도 됐었네.이런 ㅠㅠ"
   ]
  },
  {
   "cell_type": "code",
   "execution_count": 7,
   "metadata": {},
   "outputs": [
    {
     "name": "stdout",
     "output_type": "stream",
     "text": [
      "[1, 3, 5, 7, 9]\n"
     ]
    }
   ],
   "source": [
    "#문제 62. 슬라이싱을 사용해서 홀수만 출력하라.\n",
    "nums = [1, 2, 3, 4, 5, 6, 7, 8, 9, 10]  # 모르겠음.\n",
    "print(nums[::2])"
   ]
  },
  {
   "cell_type": "code",
   "execution_count": 28,
   "metadata": {},
   "outputs": [
    {
     "name": "stdout",
     "output_type": "stream",
     "text": [
      "[1, 6]\n"
     ]
    }
   ],
   "source": [
    "# 문제 63. 슬라이싱을 사용해서 짝수만 출력하라.\n",
    "nums = [1, 2, 3, 4, 5, 6, 7, 8, 9, 10]\n",
    "print(nums[:8:5])   # 정답. 근데 왠지 모름.\n",
    "# 슬라이싱의 세번쨰 파라미터는 증감 폭을 결정함. 시작과 끝 인덱스를 생략했기 때문에 리스트 전체 데이터에서, 2개씩 건너\n",
    "# 뛰며 데이터를 가져옴.\n",
    "# [2::3]은 인덱스 2부터(3) 끝까지 3을 띄워서 세라는 뜻\n",
    "# [:2:3]은 앞에 빈칸은 0으로 치나봄. 012 중에 셋을 증가시켜서 세라는 뜻.\n",
    "#[1::2]는 그래서 인덱스 1부터 요소 끝까지 2의 증가치를 갖는 요소들을 나열하라는 뜻. 즉 짝수"
   ]
  },
  {
   "cell_type": "code",
   "execution_count": 29,
   "metadata": {},
   "outputs": [
    {
     "name": "stdout",
     "output_type": "stream",
     "text": [
      "[5, 4, 3, 2, 1]\n"
     ]
    }
   ],
   "source": [
    "# 문제 64. 슬라이싱을 사용해서 리스트의 숫자를 역방향으로 출력하라.\n",
    "nums = [1, 2, 3, 4, 5]  # 거꾸로? 기억도 안남.\n",
    "print(nums[::-1])   #그대로 가되, 거꾸로 가라는 뜻. 뒤에서부터."
   ]
  },
  {
   "cell_type": "code",
   "execution_count": 35,
   "metadata": {},
   "outputs": [
    {
     "name": "stdout",
     "output_type": "stream",
     "text": [
      "['삼성전자', 'Naver']\n"
     ]
    }
   ],
   "source": [
    "# 문제 65. interest 리스트에는 아래의 데이터가 바인딩되어 있다.\n",
    "interest = ['삼성전자', 'LG전자', 'Naver']\n",
    "print(interest[0::2])"
   ]
  },
  {
   "cell_type": "code",
   "execution_count": 37,
   "metadata": {},
   "outputs": [
    {
     "name": "stdout",
     "output_type": "stream",
     "text": [
      "삼성전자 Naver\n"
     ]
    }
   ],
   "source": [
    "# 문제 65 답.\n",
    "interest = ['삼성전자', 'LG전자', 'Naver']\n",
    "print(interest[0], interest[2]) # 뻥안치고 맞았음 처음에. 슬라이스를 쓰라는 말이 없었음으로 이게 맞았지.\n",
    "# 상술한 내 답은 []랑 ''가 있어서 실패. "
   ]
  },
  {
   "cell_type": "code",
   "execution_count": 43,
   "metadata": {},
   "outputs": [
    {
     "name": "stdout",
     "output_type": "stream",
     "text": [
      "삼성전자 LG전자 Naver SK하이닉스 미래에셋대우\n"
     ]
    }
   ],
   "source": [
    "# 문제 66. join 메서드\n",
    "# interest 리스트에는 아래의 데이터가 바인딩되어 있따.\n",
    "interest = ['삼성전자', 'LG전자', 'Naver', 'SK하이닉스', '미래에셋대우']\n",
    "\n",
    "# interest 리스트를 사용하여 아래와 같이 화면에 출력하라.\n",
    "print(interest[0], interest[1], interest[2], interest[3], interest[4])"
   ]
  },
  {
   "cell_type": "code",
   "execution_count": 51,
   "metadata": {},
   "outputs": [
    {
     "name": "stdout",
     "output_type": "stream",
     "text": [
      "삼성전자 LG전자 Naver SK하이닉스 미래에셋대우\n"
     ]
    }
   ],
   "source": [
    "# 66.답 \n",
    "interest = ['삼성전자', 'LG전자', 'Naver', 'SK하이닉스', '미래에셋대우']\n",
    "print(\" \".join(interest))\n",
    "# join 함수는 문자열의 각각의 문자 사이에 join 함수의 요소를 사입함. 리스트와 튜플에도 적용 가능. 이번엔 \"\"를 삽입.\n",
    "# \"\"를 삽입해서 \"\"를 떼어냄."
   ]
  },
  {
   "cell_type": "code",
   "execution_count": 1,
   "metadata": {},
   "outputs": [
    {
     "name": "stdout",
     "output_type": "stream",
     "text": [
      "삼성전자/LG전자/Naver/SK하이닉스/미래에셋대우\n"
     ]
    }
   ],
   "source": [
    "# 문제 67. join 메서드\n",
    "# interest 리스트에는 아래의 데이터가 바인딩되어 있다.\n",
    "interest = ['삼성전자', 'LG전자', 'Naver', 'SK하이닉스', '미래에셋대우']\n",
    "# interest 리스트를 사용하여 아래와 같이 화면에 출력하라.\n",
    "\n",
    "print(\"/\".join(interest))   #위에거 보고 했기때문에 다시 봐야함."
   ]
  },
  {
   "cell_type": "code",
   "execution_count": 15,
   "metadata": {},
   "outputs": [
    {
     "name": "stdout",
     "output_type": "stream",
     "text": [
      "삼성전자\n",
      "LG전자\n",
      "Naver\n",
      "SK하이닉스\n",
      "미래에셋대우\n"
     ]
    }
   ],
   "source": [
    "# 문제 68. 조인메서드\n",
    "# 인터레스트 리스트에는 아래의 데이터가 바인딩되어 있다.\n",
    "interest = ['삼성전자', 'LG전자', 'Naver', 'SK하이닉스', '미래에셋대우']\n",
    "\n",
    "print(\"\\n\".join(interest))  # \\n은 줄바꿈 이스케이프 문자. 까먹었음. 줄바꿈을 뭐로해야하는지."
   ]
  },
  {
   "cell_type": "code",
   "execution_count": 29,
   "metadata": {},
   "outputs": [
    {
     "ename": "TypeError",
     "evalue": "'str' object cannot be interpreted as an integer",
     "output_type": "error",
     "traceback": [
      "\u001b[1;31m---------------------------------------------------------------------------\u001b[0m",
      "\u001b[1;31mTypeError\u001b[0m                                 Traceback (most recent call last)",
      "Cell \u001b[1;32mIn[29], line 5\u001b[0m\n\u001b[0;32m      1\u001b[0m \u001b[38;5;66;03m# 문제 69. 문자열 split 메서드\u001b[39;00m\n\u001b[0;32m      2\u001b[0m \u001b[38;5;66;03m# 회사 이름이 슬래시('/')로 구분되어 하나의 문자열로 저장되어 있다. 이를 인터레스트 이름의 리스트로 분리저장하라.\u001b[39;00m\n\u001b[0;32m      3\u001b[0m string \u001b[38;5;241m=\u001b[39m \u001b[38;5;124m\"\u001b[39m\u001b[38;5;124m삼성전자/LG전자/Naver\u001b[39m\u001b[38;5;124m\"\u001b[39m\n\u001b[1;32m----> 5\u001b[0m \u001b[38;5;28mprint\u001b[39m(\u001b[43mstring\u001b[49m\u001b[38;5;241;43m.\u001b[39;49m\u001b[43msplit\u001b[49m\u001b[43m(\u001b[49m\u001b[38;5;124;43m\"\u001b[39;49m\u001b[38;5;124;43m/\u001b[39;49m\u001b[38;5;124;43m\"\u001b[39;49m\u001b[43m \u001b[49m\u001b[43m,\u001b[49m\u001b[43m \u001b[49m\u001b[38;5;124;43m\"\u001b[39;49m\u001b[38;5;124;43m ,\u001b[39;49m\u001b[38;5;124;43m\"\u001b[39;49m\u001b[43m)\u001b[49m)\n",
      "\u001b[1;31mTypeError\u001b[0m: 'str' object cannot be interpreted as an integer"
     ]
    }
   ],
   "source": [
    "# 문제 69. 문자열 split 메서드\n",
    "# 회사 이름이 슬래시('/')로 구분되어 하나의 문자열로 저장되어 있다. 이를 인터레스트 이름의 리스트로 분리저장하라.\n",
    "string = \"삼성전자/LG전자/Naver\"\n",
    "\n",
    "print(string.split(\"/\" , \" ,\"))"
   ]
  },
  {
   "cell_type": "code",
   "execution_count": 30,
   "metadata": {},
   "outputs": [
    {
     "name": "stdout",
     "output_type": "stream",
     "text": [
      "['삼성전자', 'LG전자', 'Naver']\n"
     ]
    }
   ],
   "source": [
    "# 문제 69 답. \n",
    "string = \"삼성전자/LG전자/Naver\"\n",
    "interest = string.split(\"/\")    # 괄호안의 / 를 기준으로 문자열을 나누어줌. 아무것도 없으면 공백을 기준으로. \n",
    "print(interest)     #나눈 값을 리스트에 하나씩 들어간다고."
   ]
  },
  {
   "cell_type": "code",
   "execution_count": 31,
   "metadata": {},
   "outputs": [
    {
     "name": "stdout",
     "output_type": "stream",
     "text": [
      "[1, 2, 3, 4, 5, 9, 10]\n"
     ]
    }
   ],
   "source": [
    "# 문제 70. 리스트정렬\n",
    "# 리스트에 있는 값을 오름차순으로 정렬 ㄱ\n",
    "data = [2, 4, 3, 1, 5, 10, 9]   # 정렬하는거 몰라. 까먹었음.\n",
    "data.sort()\n",
    "print(data)     # 정렬하는 함수 = sort."
   ]
  },
  {
   "cell_type": "code",
   "execution_count": 37,
   "metadata": {},
   "outputs": [
    {
     "ename": "SyntaxError",
     "evalue": "invalid syntax (3174714468.py, line 2)",
     "output_type": "error",
     "traceback": [
      "\u001b[1;36m  Cell \u001b[1;32mIn[37], line 2\u001b[1;36m\u001b[0m\n\u001b[1;33m    my_variable{}\u001b[0m\n\u001b[1;37m               ^\u001b[0m\n\u001b[1;31mSyntaxError\u001b[0m\u001b[1;31m:\u001b[0m invalid syntax\n"
     ]
    }
   ],
   "source": [
    "#문제 71. my_variable 이름의 비어있는 튜플을 만들라.\n",
    "my_variable = {}\n",
    "\n",
    "    # 튜플은 ()입니다. 소괄호라고요."
   ]
  },
  {
   "cell_type": "code",
   "execution_count": 2,
   "metadata": {},
   "outputs": [
    {
     "data": {
      "text/plain": [
       "('닥터 스트레인지', '스플릿', '럭키')"
      ]
     },
     "execution_count": 2,
     "metadata": {},
     "output_type": "execute_result"
    }
   ],
   "source": [
    "# 문제 72. \n",
    "# 2016년 11월 영화예매 순위 기준 탑쓰리는 아까 그것처럼 닥스 스플릿 럭키. 무비랭크이름의 튜플에 저장 ㄱ\n",
    "(\"닥터 스트레인지\", \"스플릿\", \"럭키\")\n",
    "\n",
    "# 앞에 함수이름 movie_rank를 붙이면 더 좋을듯. 80점."
   ]
  },
  {
   "cell_type": "code",
   "execution_count": 4,
   "metadata": {},
   "outputs": [
    {
     "name": "stdout",
     "output_type": "stream",
     "text": [
      "1\n"
     ]
    }
   ],
   "source": [
    "# 문제 73. 숫자 1이 저장된 튜플을 생성하라.\n",
    "nums = (1)\n",
    "print(nums)"
   ]
  },
  {
   "cell_type": "code",
   "execution_count": 5,
   "metadata": {},
   "outputs": [],
   "source": [
    "# 문제 73 답. 튜플에 괄호와 함꼐 하나의 정숫값을 저장하려면 끝에 ,를 붙여야 한다.\n",
    "nums = (1, ) # 답 적으니까 기억나네."
   ]
  },
  {
   "cell_type": "code",
   "execution_count": 6,
   "metadata": {},
   "outputs": [
    {
     "ename": "SyntaxError",
     "evalue": "invalid syntax. Perhaps you forgot a comma? (1104623940.py, line 4)",
     "output_type": "error",
     "traceback": [
      "\u001b[1;36m  Cell \u001b[1;32mIn[6], line 4\u001b[1;36m\u001b[0m\n\u001b[1;33m    Traceback (most recent call alst):\u001b[0m\n\u001b[1;37m               ^\u001b[0m\n\u001b[1;31mSyntaxError\u001b[0m\u001b[1;31m:\u001b[0m invalid syntax. Perhaps you forgot a comma?\n"
     ]
    }
   ],
   "source": [
    "# 문제 74 코드를 실행해보고 오류발생의 원인을 설명ㄱ \n",
    "t = (1, 2, 3)\n",
    "t[0] = 'a'\n",
    "Traceback (most recent call alst):\n",
    "    File \"<pyshell#46>\", line 1, in <module>\n",
    "        t[0] = 'a'\n",
    "\n",
    "TypeError: 'tuple' object does not support item assignment    \n",
    "    # 튜플은 수정이 불가능한 문자열이라서?? 굿굿 원소의 값을 변경할 수 없음. 하벽."
   ]
  },
  {
   "cell_type": "code",
   "execution_count": 8,
   "metadata": {},
   "outputs": [
    {
     "data": {
      "text/plain": [
       "tuple"
      ]
     },
     "execution_count": 8,
     "metadata": {},
     "output_type": "execute_result"
    }
   ],
   "source": [
    "# 문제 75. 아래와 같이 t에는 1, 2, 3, 4 데이터가 바인딩 되어 있는데 t가 바인딩하는 데이터 타입은?\n",
    "\n",
    "t = 1, 2, 3, \n",
    "type(t)\n",
    "\n",
    "# 원칙적으로 튜플은 괄호와 함께 데이터를 정의해야 하지만, 편의를 위해 괄호없이도 동작. 나는 type 함수까지 써서 잘\n",
    "# 표현해 냈다. 아주 바람직하다 리양원이."
   ]
  },
  {
   "cell_type": "code",
   "execution_count": 19,
   "metadata": {},
   "outputs": [
    {
     "ename": "TypeError",
     "evalue": "can only concatenate tuple (not \"str\") to tuple",
     "output_type": "error",
     "traceback": [
      "\u001b[1;31m---------------------------------------------------------------------------\u001b[0m",
      "\u001b[1;31mTypeError\u001b[0m                                 Traceback (most recent call last)",
      "Cell \u001b[1;32mIn[19], line 7\u001b[0m\n\u001b[0;32m      5\u001b[0m t1 \u001b[38;5;241m=\u001b[39m t[\u001b[38;5;241m1\u001b[39m:]\n\u001b[0;32m      6\u001b[0m t2 \u001b[38;5;241m=\u001b[39m \u001b[38;5;28mstr\u001b[39m(\u001b[38;5;124m\"\u001b[39m\u001b[38;5;124mA\u001b[39m\u001b[38;5;124m\"\u001b[39m)\n\u001b[1;32m----> 7\u001b[0m \u001b[38;5;28mprint\u001b[39m(\u001b[43mt1\u001b[49m\u001b[38;5;241;43m+\u001b[39;49m\u001b[43mt2\u001b[49m) \n",
      "\u001b[1;31mTypeError\u001b[0m: can only concatenate tuple (not \"str\") to tuple"
     ]
    }
   ],
   "source": [
    "# 문제 76. 변수 t에는 아래와 같은 값이 저장되어 있다. 변수 t가 ('A','b','c') 튜플을 가리키도록 수정하라.\n",
    "\n",
    "t = ('a', 'b', 'c')\n",
    "\n",
    "t1 = t[1:]\n",
    "t2 = str(\"A\")\n",
    "print(t1+t2) "
   ]
  },
  {
   "cell_type": "code",
   "execution_count": 20,
   "metadata": {},
   "outputs": [],
   "source": [
    "# 문제 76. 답.\n",
    "t = ('A', 'b', 'c')\n",
    "#새로운 튜플을 만들고 t라는 변수를 업데이트해야함. 이전의소문자들은 자동으로 삭제시키고 ㅋㅋ알고있었는데 아 ㅋㅋ"
   ]
  },
  {
   "cell_type": "code",
   "execution_count": 24,
   "metadata": {},
   "outputs": [
    {
     "data": {
      "text/plain": [
       "['삼성전자', 'LG전자', 'SK Hynix']"
      ]
     },
     "execution_count": 24,
     "metadata": {},
     "output_type": "execute_result"
    }
   ],
   "source": [
    "# 문제 77. 다음 튜플을 리스트로 변환하라.\n",
    "interest = ('삼성전자', 'LG전자', 'SK Hynix')\n",
    "list(interest)\n",
    "\n",
    "# 맞았다고 쳐주자.\n",
    "#정답.\n",
    "# data = list(interest) 함수화를 하진 않았지만 부분정답임. 암튼 맞음."
   ]
  },
  {
   "cell_type": "code",
   "execution_count": 26,
   "metadata": {},
   "outputs": [
    {
     "name": "stdout",
     "output_type": "stream",
     "text": [
      "('삼성전자', 'LG전자', 'SK Hynix')\n"
     ]
    }
   ],
   "source": [
    "# 문제 78. 다음 리스트를 튜플로 변경하라.\n",
    "\n",
    "interest = ['삼성전자', 'LG전자', 'SK Hynix']\n",
    "data = tuple(interest)\n",
    "print(data) # 명답."
   ]
  },
  {
   "cell_type": "code",
   "execution_count": 27,
   "metadata": {},
   "outputs": [
    {
     "name": "stdout",
     "output_type": "stream",
     "text": [
      "apple banana cake\n"
     ]
    }
   ],
   "source": [
    "# 문제 79. 튜플 언팩킹. 다음 코드의 실행 결과를 예상하라.\n",
    "temp = ('apple', 'banana', 'cake')\n",
    "a, b, c = temp\n",
    "print(a, b, c)  # 뭐 당연한거같다."
   ]
  },
  {
   "cell_type": "code",
   "execution_count": 28,
   "metadata": {},
   "outputs": [
    {
     "ename": "SyntaxError",
     "evalue": "invalid syntax (3824934810.py, line 3)",
     "output_type": "error",
     "traceback": [
      "\u001b[1;36m  Cell \u001b[1;32mIn[28], line 3\u001b[1;36m\u001b[0m\n\u001b[1;33m    (2,4,6,8,10,12...98)\u001b[0m\n\u001b[1;37m                    ^\u001b[0m\n\u001b[1;31mSyntaxError\u001b[0m\u001b[1;31m:\u001b[0m invalid syntax\n"
     ]
    }
   ],
   "source": [
    "# 문제 80. range 함수. 1부터 99까지의 정수중 짝수만 저장된 튜플을 생성하라.\n",
    "\n",
    "(2,4,6,8,10,12...98)\n",
    "range(1::2)"
   ]
  },
  {
   "cell_type": "code",
   "execution_count": 30,
   "metadata": {},
   "outputs": [
    {
     "name": "stdout",
     "output_type": "stream",
     "text": [
      "(2, 4, 6, 8, 10, 12, 14, 16, 18, 20, 22, 24, 26, 28, 30, 32, 34, 36, 38, 40, 42, 44, 46, 48, 50, 52, 54, 56, 58, 60, 62, 64, 66, 68, 70, 72, 74, 76, 78, 80, 82, 84, 86, 88, 90, 92, 94, 96, 98)\n"
     ]
    }
   ],
   "source": [
    "# 문제 80 답.\n",
    "data = tuple(range(2, 100, 2))\n",
    "print(data)\n",
    "    # 이거는 나중에 해보자."
   ]
  },
  {
   "cell_type": "code",
   "execution_count": null,
   "metadata": {},
   "outputs": [],
   "source": []
  }
 ],
 "metadata": {
  "kernelspec": {
   "display_name": "Python 3",
   "language": "python",
   "name": "python3"
  },
  "language_info": {
   "codemirror_mode": {
    "name": "ipython",
    "version": 3
   },
   "file_extension": ".py",
   "mimetype": "text/x-python",
   "name": "python",
   "nbconvert_exporter": "python",
   "pygments_lexer": "ipython3",
   "version": "3.11.9"
  }
 },
 "nbformat": 4,
 "nbformat_minor": 2
}
